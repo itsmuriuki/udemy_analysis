{
 "cells": [
  {
   "cell_type": "code",
   "execution_count": 1,
   "id": "004ad998",
   "metadata": {},
   "outputs": [],
   "source": [
    "import pandas as pd\n",
    "import seaborn as sns\n",
    "import numpy as np\n",
    "\n",
    "import matplotlib.pyplot as plt\n",
    "import plotly.express as px"
   ]
  },
  {
   "cell_type": "code",
   "execution_count": 2,
   "id": "754060ac",
   "metadata": {},
   "outputs": [],
   "source": [
    "df = pd.read_csv(\"udemy_courses.csv\", parse_dates=['published_timestamp'])"
   ]
  },
  {
   "cell_type": "code",
   "execution_count": 3,
   "id": "120fe5b4",
   "metadata": {},
   "outputs": [
    {
     "data": {
      "text/html": [
       "<div>\n",
       "<style scoped>\n",
       "    .dataframe tbody tr th:only-of-type {\n",
       "        vertical-align: middle;\n",
       "    }\n",
       "\n",
       "    .dataframe tbody tr th {\n",
       "        vertical-align: top;\n",
       "    }\n",
       "\n",
       "    .dataframe thead th {\n",
       "        text-align: right;\n",
       "    }\n",
       "</style>\n",
       "<table border=\"1\" class=\"dataframe\">\n",
       "  <thead>\n",
       "    <tr style=\"text-align: right;\">\n",
       "      <th></th>\n",
       "      <th>course_id</th>\n",
       "      <th>course_title</th>\n",
       "      <th>url</th>\n",
       "      <th>is_paid</th>\n",
       "      <th>price</th>\n",
       "      <th>num_subscribers</th>\n",
       "      <th>num_reviews</th>\n",
       "      <th>num_lectures</th>\n",
       "      <th>level</th>\n",
       "      <th>content_duration</th>\n",
       "      <th>published_timestamp</th>\n",
       "      <th>subject</th>\n",
       "    </tr>\n",
       "  </thead>\n",
       "  <tbody>\n",
       "    <tr>\n",
       "      <th>0</th>\n",
       "      <td>1070968</td>\n",
       "      <td>Ultimate Investment Banking Course</td>\n",
       "      <td>https://www.udemy.com/ultimate-investment-bank...</td>\n",
       "      <td>True</td>\n",
       "      <td>200</td>\n",
       "      <td>2147</td>\n",
       "      <td>23</td>\n",
       "      <td>51</td>\n",
       "      <td>All Levels</td>\n",
       "      <td>1.5</td>\n",
       "      <td>2017-01-18 20:58:58+00:00</td>\n",
       "      <td>Business Finance</td>\n",
       "    </tr>\n",
       "    <tr>\n",
       "      <th>1</th>\n",
       "      <td>1113822</td>\n",
       "      <td>Complete GST Course &amp; Certification - Grow You...</td>\n",
       "      <td>https://www.udemy.com/goods-and-services-tax/</td>\n",
       "      <td>True</td>\n",
       "      <td>75</td>\n",
       "      <td>2792</td>\n",
       "      <td>923</td>\n",
       "      <td>274</td>\n",
       "      <td>All Levels</td>\n",
       "      <td>39.0</td>\n",
       "      <td>2017-03-09 16:34:20+00:00</td>\n",
       "      <td>Business Finance</td>\n",
       "    </tr>\n",
       "    <tr>\n",
       "      <th>2</th>\n",
       "      <td>1006314</td>\n",
       "      <td>Financial Modeling for Business Analysts and C...</td>\n",
       "      <td>https://www.udemy.com/financial-modeling-for-b...</td>\n",
       "      <td>True</td>\n",
       "      <td>45</td>\n",
       "      <td>2174</td>\n",
       "      <td>74</td>\n",
       "      <td>51</td>\n",
       "      <td>Intermediate Level</td>\n",
       "      <td>2.5</td>\n",
       "      <td>2016-12-19 19:26:30+00:00</td>\n",
       "      <td>Business Finance</td>\n",
       "    </tr>\n",
       "    <tr>\n",
       "      <th>3</th>\n",
       "      <td>1210588</td>\n",
       "      <td>Beginner to Pro - Financial Analysis in Excel ...</td>\n",
       "      <td>https://www.udemy.com/complete-excel-finance-c...</td>\n",
       "      <td>True</td>\n",
       "      <td>95</td>\n",
       "      <td>2451</td>\n",
       "      <td>11</td>\n",
       "      <td>36</td>\n",
       "      <td>All Levels</td>\n",
       "      <td>3.0</td>\n",
       "      <td>2017-05-30 20:07:24+00:00</td>\n",
       "      <td>Business Finance</td>\n",
       "    </tr>\n",
       "    <tr>\n",
       "      <th>4</th>\n",
       "      <td>1011058</td>\n",
       "      <td>How To Maximize Your Profits Trading Options</td>\n",
       "      <td>https://www.udemy.com/how-to-maximize-your-pro...</td>\n",
       "      <td>True</td>\n",
       "      <td>200</td>\n",
       "      <td>1276</td>\n",
       "      <td>45</td>\n",
       "      <td>26</td>\n",
       "      <td>Intermediate Level</td>\n",
       "      <td>2.0</td>\n",
       "      <td>2016-12-13 14:57:18+00:00</td>\n",
       "      <td>Business Finance</td>\n",
       "    </tr>\n",
       "  </tbody>\n",
       "</table>\n",
       "</div>"
      ],
      "text/plain": [
       "   course_id                                       course_title  \\\n",
       "0    1070968                 Ultimate Investment Banking Course   \n",
       "1    1113822  Complete GST Course & Certification - Grow You...   \n",
       "2    1006314  Financial Modeling for Business Analysts and C...   \n",
       "3    1210588  Beginner to Pro - Financial Analysis in Excel ...   \n",
       "4    1011058       How To Maximize Your Profits Trading Options   \n",
       "\n",
       "                                                 url  is_paid  price  \\\n",
       "0  https://www.udemy.com/ultimate-investment-bank...     True    200   \n",
       "1      https://www.udemy.com/goods-and-services-tax/     True     75   \n",
       "2  https://www.udemy.com/financial-modeling-for-b...     True     45   \n",
       "3  https://www.udemy.com/complete-excel-finance-c...     True     95   \n",
       "4  https://www.udemy.com/how-to-maximize-your-pro...     True    200   \n",
       "\n",
       "   num_subscribers  num_reviews  num_lectures               level  \\\n",
       "0             2147           23            51          All Levels   \n",
       "1             2792          923           274          All Levels   \n",
       "2             2174           74            51  Intermediate Level   \n",
       "3             2451           11            36          All Levels   \n",
       "4             1276           45            26  Intermediate Level   \n",
       "\n",
       "   content_duration       published_timestamp           subject  \n",
       "0               1.5 2017-01-18 20:58:58+00:00  Business Finance  \n",
       "1              39.0 2017-03-09 16:34:20+00:00  Business Finance  \n",
       "2               2.5 2016-12-19 19:26:30+00:00  Business Finance  \n",
       "3               3.0 2017-05-30 20:07:24+00:00  Business Finance  \n",
       "4               2.0 2016-12-13 14:57:18+00:00  Business Finance  "
      ]
     },
     "execution_count": 3,
     "metadata": {},
     "output_type": "execute_result"
    }
   ],
   "source": [
    "df.head()"
   ]
  },
  {
   "cell_type": "code",
   "execution_count": 4,
   "id": "b0e709ce",
   "metadata": {},
   "outputs": [
    {
     "data": {
      "text/html": [
       "<div>\n",
       "<style scoped>\n",
       "    .dataframe tbody tr th:only-of-type {\n",
       "        vertical-align: middle;\n",
       "    }\n",
       "\n",
       "    .dataframe tbody tr th {\n",
       "        vertical-align: top;\n",
       "    }\n",
       "\n",
       "    .dataframe thead th {\n",
       "        text-align: right;\n",
       "    }\n",
       "</style>\n",
       "<table border=\"1\" class=\"dataframe\">\n",
       "  <thead>\n",
       "    <tr style=\"text-align: right;\">\n",
       "      <th></th>\n",
       "      <th>course_id</th>\n",
       "      <th>price</th>\n",
       "      <th>num_subscribers</th>\n",
       "      <th>num_reviews</th>\n",
       "      <th>num_lectures</th>\n",
       "      <th>content_duration</th>\n",
       "    </tr>\n",
       "  </thead>\n",
       "  <tbody>\n",
       "    <tr>\n",
       "      <th>count</th>\n",
       "      <td>3.678000e+03</td>\n",
       "      <td>3678.000000</td>\n",
       "      <td>3678.000000</td>\n",
       "      <td>3678.000000</td>\n",
       "      <td>3678.000000</td>\n",
       "      <td>3678.000000</td>\n",
       "    </tr>\n",
       "    <tr>\n",
       "      <th>mean</th>\n",
       "      <td>6.759720e+05</td>\n",
       "      <td>66.049483</td>\n",
       "      <td>3197.150625</td>\n",
       "      <td>156.259108</td>\n",
       "      <td>40.108755</td>\n",
       "      <td>4.094517</td>\n",
       "    </tr>\n",
       "    <tr>\n",
       "      <th>std</th>\n",
       "      <td>3.432732e+05</td>\n",
       "      <td>61.005755</td>\n",
       "      <td>9504.117010</td>\n",
       "      <td>935.452044</td>\n",
       "      <td>50.383346</td>\n",
       "      <td>6.053840</td>\n",
       "    </tr>\n",
       "    <tr>\n",
       "      <th>min</th>\n",
       "      <td>8.324000e+03</td>\n",
       "      <td>0.000000</td>\n",
       "      <td>0.000000</td>\n",
       "      <td>0.000000</td>\n",
       "      <td>0.000000</td>\n",
       "      <td>0.000000</td>\n",
       "    </tr>\n",
       "    <tr>\n",
       "      <th>25%</th>\n",
       "      <td>4.076925e+05</td>\n",
       "      <td>20.000000</td>\n",
       "      <td>111.000000</td>\n",
       "      <td>4.000000</td>\n",
       "      <td>15.000000</td>\n",
       "      <td>1.000000</td>\n",
       "    </tr>\n",
       "    <tr>\n",
       "      <th>50%</th>\n",
       "      <td>6.879170e+05</td>\n",
       "      <td>45.000000</td>\n",
       "      <td>911.500000</td>\n",
       "      <td>18.000000</td>\n",
       "      <td>25.000000</td>\n",
       "      <td>2.000000</td>\n",
       "    </tr>\n",
       "    <tr>\n",
       "      <th>75%</th>\n",
       "      <td>9.613555e+05</td>\n",
       "      <td>95.000000</td>\n",
       "      <td>2546.000000</td>\n",
       "      <td>67.000000</td>\n",
       "      <td>45.750000</td>\n",
       "      <td>4.500000</td>\n",
       "    </tr>\n",
       "    <tr>\n",
       "      <th>max</th>\n",
       "      <td>1.282064e+06</td>\n",
       "      <td>200.000000</td>\n",
       "      <td>268923.000000</td>\n",
       "      <td>27445.000000</td>\n",
       "      <td>779.000000</td>\n",
       "      <td>78.500000</td>\n",
       "    </tr>\n",
       "  </tbody>\n",
       "</table>\n",
       "</div>"
      ],
      "text/plain": [
       "          course_id        price  num_subscribers   num_reviews  num_lectures  \\\n",
       "count  3.678000e+03  3678.000000      3678.000000   3678.000000   3678.000000   \n",
       "mean   6.759720e+05    66.049483      3197.150625    156.259108     40.108755   \n",
       "std    3.432732e+05    61.005755      9504.117010    935.452044     50.383346   \n",
       "min    8.324000e+03     0.000000         0.000000      0.000000      0.000000   \n",
       "25%    4.076925e+05    20.000000       111.000000      4.000000     15.000000   \n",
       "50%    6.879170e+05    45.000000       911.500000     18.000000     25.000000   \n",
       "75%    9.613555e+05    95.000000      2546.000000     67.000000     45.750000   \n",
       "max    1.282064e+06   200.000000    268923.000000  27445.000000    779.000000   \n",
       "\n",
       "       content_duration  \n",
       "count       3678.000000  \n",
       "mean           4.094517  \n",
       "std            6.053840  \n",
       "min            0.000000  \n",
       "25%            1.000000  \n",
       "50%            2.000000  \n",
       "75%            4.500000  \n",
       "max           78.500000  "
      ]
     },
     "execution_count": 4,
     "metadata": {},
     "output_type": "execute_result"
    }
   ],
   "source": [
    "df.describe()"
   ]
  },
  {
   "cell_type": "markdown",
   "id": "b1a02e31",
   "metadata": {},
   "source": [
    "# Missing Values "
   ]
  },
  {
   "cell_type": "code",
   "execution_count": 24,
   "id": "26aaebcb",
   "metadata": {},
   "outputs": [
    {
     "data": {
      "text/html": [
       "<div>\n",
       "<style scoped>\n",
       "    .dataframe tbody tr th:only-of-type {\n",
       "        vertical-align: middle;\n",
       "    }\n",
       "\n",
       "    .dataframe tbody tr th {\n",
       "        vertical-align: top;\n",
       "    }\n",
       "\n",
       "    .dataframe thead th {\n",
       "        text-align: right;\n",
       "    }\n",
       "</style>\n",
       "<table border=\"1\" class=\"dataframe\">\n",
       "  <thead>\n",
       "    <tr style=\"text-align: right;\">\n",
       "      <th></th>\n",
       "      <th>column_name</th>\n",
       "      <th>percent_missing</th>\n",
       "    </tr>\n",
       "  </thead>\n",
       "  <tbody>\n",
       "    <tr>\n",
       "      <th>course_id</th>\n",
       "      <td>course_id</td>\n",
       "      <td>0.0</td>\n",
       "    </tr>\n",
       "    <tr>\n",
       "      <th>course_title</th>\n",
       "      <td>course_title</td>\n",
       "      <td>0.0</td>\n",
       "    </tr>\n",
       "    <tr>\n",
       "      <th>url</th>\n",
       "      <td>url</td>\n",
       "      <td>0.0</td>\n",
       "    </tr>\n",
       "    <tr>\n",
       "      <th>is_paid</th>\n",
       "      <td>is_paid</td>\n",
       "      <td>0.0</td>\n",
       "    </tr>\n",
       "    <tr>\n",
       "      <th>price</th>\n",
       "      <td>price</td>\n",
       "      <td>0.0</td>\n",
       "    </tr>\n",
       "    <tr>\n",
       "      <th>num_subscribers</th>\n",
       "      <td>num_subscribers</td>\n",
       "      <td>0.0</td>\n",
       "    </tr>\n",
       "    <tr>\n",
       "      <th>num_reviews</th>\n",
       "      <td>num_reviews</td>\n",
       "      <td>0.0</td>\n",
       "    </tr>\n",
       "    <tr>\n",
       "      <th>num_lectures</th>\n",
       "      <td>num_lectures</td>\n",
       "      <td>0.0</td>\n",
       "    </tr>\n",
       "    <tr>\n",
       "      <th>level</th>\n",
       "      <td>level</td>\n",
       "      <td>0.0</td>\n",
       "    </tr>\n",
       "    <tr>\n",
       "      <th>content_duration</th>\n",
       "      <td>content_duration</td>\n",
       "      <td>0.0</td>\n",
       "    </tr>\n",
       "    <tr>\n",
       "      <th>published_timestamp</th>\n",
       "      <td>published_timestamp</td>\n",
       "      <td>0.0</td>\n",
       "    </tr>\n",
       "    <tr>\n",
       "      <th>subject</th>\n",
       "      <td>subject</td>\n",
       "      <td>0.0</td>\n",
       "    </tr>\n",
       "    <tr>\n",
       "      <th>year</th>\n",
       "      <td>year</td>\n",
       "      <td>0.0</td>\n",
       "    </tr>\n",
       "    <tr>\n",
       "      <th>month</th>\n",
       "      <td>month</td>\n",
       "      <td>0.0</td>\n",
       "    </tr>\n",
       "    <tr>\n",
       "      <th>date</th>\n",
       "      <td>date</td>\n",
       "      <td>0.0</td>\n",
       "    </tr>\n",
       "  </tbody>\n",
       "</table>\n",
       "</div>"
      ],
      "text/plain": [
       "                             column_name  percent_missing\n",
       "course_id                      course_id              0.0\n",
       "course_title                course_title              0.0\n",
       "url                                  url              0.0\n",
       "is_paid                          is_paid              0.0\n",
       "price                              price              0.0\n",
       "num_subscribers          num_subscribers              0.0\n",
       "num_reviews                  num_reviews              0.0\n",
       "num_lectures                num_lectures              0.0\n",
       "level                              level              0.0\n",
       "content_duration        content_duration              0.0\n",
       "published_timestamp  published_timestamp              0.0\n",
       "subject                          subject              0.0\n",
       "year                                year              0.0\n",
       "month                              month              0.0\n",
       "date                                date              0.0"
      ]
     },
     "execution_count": 24,
     "metadata": {},
     "output_type": "execute_result"
    }
   ],
   "source": [
    "\n",
    "percent_missing = df.isnull().sum() * 100 / len(df)\n",
    "missing_value_df = pd.DataFrame({'column_name': df.columns,\n",
    "                                 'percent_missing': percent_missing})\n",
    "missing_value_df.sort_values('percent_missing', inplace=True)\n",
    "missing_value_df"
   ]
  },
  {
   "cell_type": "markdown",
   "id": "c8d9b47f",
   "metadata": {},
   "source": [
    "# EDA"
   ]
  },
  {
   "cell_type": "code",
   "execution_count": 5,
   "id": "8ed5888d",
   "metadata": {},
   "outputs": [
    {
     "data": {
      "text/plain": [
       "20     830\n",
       "50     468\n",
       "0      310\n",
       "200    295\n",
       "40     217\n",
       "30     166\n",
       "25     154\n",
       "95     152\n",
       "100    133\n",
       "195    127\n",
       "Name: price, dtype: int64"
      ]
     },
     "execution_count": 5,
     "metadata": {},
     "output_type": "execute_result"
    }
   ],
   "source": [
    "df.price.value_counts()[:10]"
   ]
  },
  {
   "cell_type": "code",
   "execution_count": 6,
   "id": "8af6c38f",
   "metadata": {},
   "outputs": [
    {
     "data": {
      "text/plain": [
       "<AxesSubplot:ylabel='is_paid'>"
      ]
     },
     "execution_count": 6,
     "metadata": {},
     "output_type": "execute_result"
    },
    {
     "data": {
      "image/png": "[encoded data removed]",
      "text/plain": [
       "<Figure size 432x288 with 1 Axes>"
      ]
     },
     "metadata": {
      "needs_background": "light"
     },
     "output_type": "display_data"
    }
   ],
   "source": [
    "df.groupby(['is_paid'])['content_duration'].sum().plot(kind=\"barh\")"
   ]
  },
  {
   "cell_type": "code",
   "execution_count": 7,
   "id": "444ff955",
   "metadata": {},
   "outputs": [
    {
     "data": {
      "text/plain": [
       "<AxesSubplot:xlabel='price'>"
      ]
     },
     "execution_count": 7,
     "metadata": {},
     "output_type": "execute_result"
    },
    {
     "data": {
      "image/png": "[encoded data removed]",
      "text/plain": [
       "<Figure size 432x288 with 1 Axes>"
      ]
     },
     "metadata": {
      "needs_background": "light"
     },
     "output_type": "display_data"
    }
   ],
   "source": [
    "df.groupby(['price'])['content_duration'].sum()[:10].plot(kind=\"bar\")"
   ]
  },
  {
   "cell_type": "code",
   "execution_count": 8,
   "id": "aedc9391",
   "metadata": {},
   "outputs": [
    {
     "data": {
      "text/plain": [
       "(-1.1171241863074404,\n",
       " 1.1088073548996615,\n",
       " -1.1097707916507145,\n",
       " 1.1161607495563874)"
      ]
     },
     "execution_count": 8,
     "metadata": {},
     "output_type": "execute_result"
    },
    {
     "data": {
      "image/png": "[encoded data removed]",
      "text/plain": [
       "<Figure size 432x288 with 1 Axes>"
      ]
     },
     "metadata": {},
     "output_type": "display_data"
    }
   ],
   "source": [
    "import matplotlib. pyplot as plt\n",
    "\n",
    "sorted_counts = df['level'].value_counts()\n",
    "plt.pie(sorted_counts, labels = sorted_counts.index, startangle = 90,\n",
    "        counterclock = False,autopct='%1.0f%%', pctdistance=1.1, labeldistance=1.2);\n",
    "plt.axis('square')"
   ]
  },
  {
   "cell_type": "code",
   "execution_count": 9,
   "id": "867d176d",
   "metadata": {},
   "outputs": [
    {
     "data": {
      "text/plain": [
       "<matplotlib.collections.PathCollection at 0x13d8757c0>"
      ]
     },
     "execution_count": 9,
     "metadata": {},
     "output_type": "execute_result"
    },
    {
     "data": {
      "image/png": "[encoded data removed]",
      "text/plain": [
       "<Figure size 432x288 with 1 Axes>"
      ]
     },
     "metadata": {
      "needs_background": "light"
     },
     "output_type": "display_data"
    }
   ],
   "source": [
    "plt.scatter(data = df, x = 'content_duration', y = 'level')"
   ]
  },
  {
   "cell_type": "code",
   "execution_count": 10,
   "id": "3decc4b1",
   "metadata": {},
   "outputs": [
    {
     "data": {
      "text/plain": [
       "<AxesSubplot:>"
      ]
     },
     "execution_count": 10,
     "metadata": {},
     "output_type": "execute_result"
    },
    {
     "data": {
      "image/png": "[encoded data removed]",
      "text/plain": [
       "<Figure size 432x288 with 2 Axes>"
      ]
     },
     "metadata": {
      "needs_background": "light"
     },
     "output_type": "display_data"
    }
   ],
   "source": [
    "sns.heatmap(df.corr(), annot = True, fmt = '.2f', cmap = 'vlag_r', center = 0)"
   ]
  },
  {
   "cell_type": "code",
   "execution_count": 11,
   "id": "d46296f6",
   "metadata": {},
   "outputs": [
    {
     "data": {
      "text/plain": [
       "<AxesSubplot:xlabel='num_subscribers', ylabel='num_reviews'>"
      ]
     },
     "execution_count": 11,
     "metadata": {},
     "output_type": "execute_result"
    },
    {
     "data": {
      "image/png": "[encoded data removed]",
      "text/plain": [
       "<Figure size 432x288 with 1 Axes>"
      ]
     },
     "metadata": {
      "needs_background": "light"
     },
     "output_type": "display_data"
    }
   ],
   "source": [
    "sns.regplot(data = df, x = 'num_subscribers', y = 'num_reviews', fit_reg = False,\n",
    "           x_jitter = 0.2, y_jitter = 0.2, scatter_kws = {'alpha' : 1/3})"
   ]
  },
  {
   "cell_type": "code",
   "execution_count": 12,
   "id": "d1bd48de",
   "metadata": {},
   "outputs": [],
   "source": [
    "df['year'] = pd.DatetimeIndex(df['published_timestamp']).year"
   ]
  },
  {
   "cell_type": "code",
   "execution_count": 13,
   "id": "e2457d9b",
   "metadata": {},
   "outputs": [
    {
     "name": "stderr",
     "output_type": "stream",
     "text": [
      "/Users/itsmuriuki/anaconda3/lib/python3.9/site-packages/seaborn/distributions.py:2619: FutureWarning: `distplot` is a deprecated function and will be removed in a future version. Please adapt your code to use either `displot` (a figure-level function with similar flexibility) or `histplot` (an axes-level function for histograms).\n",
      "  warnings.warn(msg, FutureWarning)\n"
     ]
    },
    {
     "data": {
      "text/plain": [
       "<AxesSubplot:xlabel='year', ylabel='Density'>"
      ]
     },
     "execution_count": 13,
     "metadata": {},
     "output_type": "execute_result"
    },
    {
     "data": {
      "image/png": "[encoded data removed]",
      "text/plain": [
       "<Figure size 432x288 with 1 Axes>"
      ]
     },
     "metadata": {
      "needs_background": "light"
     },
     "output_type": "display_data"
    }
   ],
   "source": [
    "sns.distplot(df['year'])"
   ]
  },
  {
   "cell_type": "code",
   "execution_count": 14,
   "id": "d8b3630c",
   "metadata": {},
   "outputs": [
    {
     "data": {
      "text/plain": [
       "<AxesSubplot:xlabel='year', ylabel='num_subscribers'>"
      ]
     },
     "execution_count": 14,
     "metadata": {},
     "output_type": "execute_result"
    },
    {
     "data": {
      "image/png": "[encoded data removed]",
      "text/plain": [
       "<Figure size 432x288 with 1 Axes>"
      ]
     },
     "metadata": {
      "needs_background": "light"
     },
     "output_type": "display_data"
    }
   ],
   "source": [
    "base_color = sns.color_palette()[0]\n",
    "sns.barplot(data = df, x = 'year', y = 'num_subscribers', color = base_color)"
   ]
  },
  {
   "cell_type": "code",
   "execution_count": 15,
   "id": "114b80aa",
   "metadata": {},
   "outputs": [
    {
     "data": {
      "text/plain": [
       "<AxesSubplot:xlabel='count', ylabel='subject'>"
      ]
     },
     "execution_count": 15,
     "metadata": {},
     "output_type": "execute_result"
    },
    {
     "data": {
      "image/png": "[encoded data removed]",
      "text/plain": [
       "<Figure size 432x288 with 1 Axes>"
      ]
     },
     "metadata": {
      "needs_background": "light"
     },
     "output_type": "display_data"
    }
   ],
   "source": [
    "sns.countplot(data = df, y = 'subject', hue = 'is_paid')"
   ]
  },
  {
   "cell_type": "code",
   "execution_count": 16,
   "id": "76b77611",
   "metadata": {},
   "outputs": [
    {
     "data": {
      "text/html": [
       "<div>\n",
       "<style scoped>\n",
       "    .dataframe tbody tr th:only-of-type {\n",
       "        vertical-align: middle;\n",
       "    }\n",
       "\n",
       "    .dataframe tbody tr th {\n",
       "        vertical-align: top;\n",
       "    }\n",
       "\n",
       "    .dataframe thead th {\n",
       "        text-align: right;\n",
       "    }\n",
       "</style>\n",
       "<table border=\"1\" class=\"dataframe\">\n",
       "  <thead>\n",
       "    <tr style=\"text-align: right;\">\n",
       "      <th></th>\n",
       "      <th>year</th>\n",
       "      <th>level count</th>\n",
       "    </tr>\n",
       "    <tr>\n",
       "      <th>level</th>\n",
       "      <th></th>\n",
       "      <th></th>\n",
       "    </tr>\n",
       "  </thead>\n",
       "  <tbody>\n",
       "    <tr>\n",
       "      <th>All Levels</th>\n",
       "      <td>2011</td>\n",
       "      <td>5</td>\n",
       "    </tr>\n",
       "    <tr>\n",
       "      <th>All Levels</th>\n",
       "      <td>2012</td>\n",
       "      <td>33</td>\n",
       "    </tr>\n",
       "    <tr>\n",
       "      <th>Beginner Level</th>\n",
       "      <td>2012</td>\n",
       "      <td>9</td>\n",
       "    </tr>\n",
       "    <tr>\n",
       "      <th>Intermediate Level</th>\n",
       "      <td>2012</td>\n",
       "      <td>3</td>\n",
       "    </tr>\n",
       "    <tr>\n",
       "      <th>All Levels</th>\n",
       "      <td>2013</td>\n",
       "      <td>102</td>\n",
       "    </tr>\n",
       "    <tr>\n",
       "      <th>Beginner Level</th>\n",
       "      <td>2013</td>\n",
       "      <td>73</td>\n",
       "    </tr>\n",
       "    <tr>\n",
       "      <th>Intermediate Level</th>\n",
       "      <td>2013</td>\n",
       "      <td>18</td>\n",
       "    </tr>\n",
       "    <tr>\n",
       "      <th>Expert Level</th>\n",
       "      <td>2013</td>\n",
       "      <td>9</td>\n",
       "    </tr>\n",
       "    <tr>\n",
       "      <th>All Levels</th>\n",
       "      <td>2014</td>\n",
       "      <td>272</td>\n",
       "    </tr>\n",
       "    <tr>\n",
       "      <th>Beginner Level</th>\n",
       "      <td>2014</td>\n",
       "      <td>155</td>\n",
       "    </tr>\n",
       "    <tr>\n",
       "      <th>Intermediate Level</th>\n",
       "      <td>2014</td>\n",
       "      <td>60</td>\n",
       "    </tr>\n",
       "    <tr>\n",
       "      <th>Expert Level</th>\n",
       "      <td>2014</td>\n",
       "      <td>4</td>\n",
       "    </tr>\n",
       "    <tr>\n",
       "      <th>All Levels</th>\n",
       "      <td>2015</td>\n",
       "      <td>587</td>\n",
       "    </tr>\n",
       "    <tr>\n",
       "      <th>Beginner Level</th>\n",
       "      <td>2015</td>\n",
       "      <td>332</td>\n",
       "    </tr>\n",
       "    <tr>\n",
       "      <th>Intermediate Level</th>\n",
       "      <td>2015</td>\n",
       "      <td>80</td>\n",
       "    </tr>\n",
       "    <tr>\n",
       "      <th>Expert Level</th>\n",
       "      <td>2015</td>\n",
       "      <td>15</td>\n",
       "    </tr>\n",
       "    <tr>\n",
       "      <th>All Levels</th>\n",
       "      <td>2016</td>\n",
       "      <td>627</td>\n",
       "    </tr>\n",
       "    <tr>\n",
       "      <th>Beginner Level</th>\n",
       "      <td>2016</td>\n",
       "      <td>405</td>\n",
       "    </tr>\n",
       "    <tr>\n",
       "      <th>Intermediate Level</th>\n",
       "      <td>2016</td>\n",
       "      <td>163</td>\n",
       "    </tr>\n",
       "    <tr>\n",
       "      <th>Expert Level</th>\n",
       "      <td>2016</td>\n",
       "      <td>11</td>\n",
       "    </tr>\n",
       "    <tr>\n",
       "      <th>All Levels</th>\n",
       "      <td>2017</td>\n",
       "      <td>303</td>\n",
       "    </tr>\n",
       "    <tr>\n",
       "      <th>Beginner Level</th>\n",
       "      <td>2017</td>\n",
       "      <td>296</td>\n",
       "    </tr>\n",
       "    <tr>\n",
       "      <th>Intermediate Level</th>\n",
       "      <td>2017</td>\n",
       "      <td>97</td>\n",
       "    </tr>\n",
       "    <tr>\n",
       "      <th>Expert Level</th>\n",
       "      <td>2017</td>\n",
       "      <td>19</td>\n",
       "    </tr>\n",
       "  </tbody>\n",
       "</table>\n",
       "</div>"
      ],
      "text/plain": [
       "                    year  level count\n",
       "level                                \n",
       "All Levels          2011            5\n",
       "All Levels          2012           33\n",
       "Beginner Level      2012            9\n",
       "Intermediate Level  2012            3\n",
       "All Levels          2013          102\n",
       "Beginner Level      2013           73\n",
       "Intermediate Level  2013           18\n",
       "Expert Level        2013            9\n",
       "All Levels          2014          272\n",
       "Beginner Level      2014          155\n",
       "Intermediate Level  2014           60\n",
       "Expert Level        2014            4\n",
       "All Levels          2015          587\n",
       "Beginner Level      2015          332\n",
       "Intermediate Level  2015           80\n",
       "Expert Level        2015           15\n",
       "All Levels          2016          627\n",
       "Beginner Level      2016          405\n",
       "Intermediate Level  2016          163\n",
       "Expert Level        2016           11\n",
       "All Levels          2017          303\n",
       "Beginner Level      2017          296\n",
       "Intermediate Level  2017           97\n",
       "Expert Level        2017           19"
      ]
     },
     "execution_count": 16,
     "metadata": {},
     "output_type": "execute_result"
    }
   ],
   "source": [
    "level_by_year=df.groupby('year')['level'].value_counts().reset_index(level=0).rename(columns={'level':'level count'}, index={'index':'Level_of_Courses'})\n",
    "level_by_year"
   ]
  },
  {
   "cell_type": "code",
   "execution_count": 26,
   "id": "1840ae46",
   "metadata": {},
   "outputs": [
    {
     "data": {
      "application/vnd.plotly.v1+json": {
       "config": {
        "plotlyServerURL": "https://plot.ly"
       },
       "data": [
        {
         "hovertemplate": "level=All Levels<br>year=%{x}<br>level count=%{y}<extra></extra>",
         "legendgroup": "All Levels",
         "line": {
          "color": "#636efa",
          "dash": "solid"
         },
         "marker": {
          "symbol": "circle"
         },
         "mode": "lines",
         "name": "All Levels",
         "orientation": "v",
         "showlegend": true,
         "type": "scatter",
         "x": [
          2011,
          2012,
          2013,
          2014,
          2015,
          2016,
          2017
         ],
         "xaxis": "x",
         "y": [
          5,
          33,
          102,
          272,
          587,
          627,
          303
         ],
         "yaxis": "y"
        },
        {
         "hovertemplate": "level=Beginner Level<br>year=%{x}<br>level count=%{y}<extra></extra>",
         "legendgroup": "Beginner Level",
         "line": {
          "color": "#EF553B",
          "dash": "solid"
         },
         "marker": {
          "symbol": "circle"
         },
         "mode": "lines",
         "name": "Beginner Level",
         "orientation": "v",
         "showlegend": true,
         "type": "scatter",
         "x": [
          2012,
          2013,
          2014,
          2015,
          2016,
          2017
         ],
         "xaxis": "x",
         "y": [
          9,
          73,
          155,
          332,
          405,
          296
         ],
         "yaxis": "y"
        },
        {
         "hovertemplate": "level=Intermediate Level<br>year=%{x}<br>level count=%{y}<extra></extra>",
         "legendgroup": "Intermediate Level",
         "line": {
          "color": "#00cc96",
          "dash": "solid"
         },
         "marker": {
          "symbol": "circle"
         },
         "mode": "lines",
         "name": "Intermediate Level",
         "orientation": "v",
         "showlegend": true,
         "type": "scatter",
         "x": [
          2012,
          2013,
          2014,
          2015,
          2016,
          2017
         ],
         "xaxis": "x",
         "y": [
          3,
          18,
          60,
          80,
          163,
          97
         ],
         "yaxis": "y"
        },
        {
         "hovertemplate": "level=Expert Level<br>year=%{x}<br>level count=%{y}<extra></extra>",
         "legendgroup": "Expert Level",
         "line": {
          "color": "#ab63fa",
          "dash": "solid"
         },
         "marker": {
          "symbol": "circle"
         },
         "mode": "lines",
         "name": "Expert Level",
         "orientation": "v",
         "showlegend": true,
         "type": "scatter",
         "x": [
          2013,
          2014,
          2015,
          2016,
          2017
         ],
         "xaxis": "x",
         "y": [
          9,
          4,
          15,
          11,
          19
         ],
         "yaxis": "y"
        }
       ],
       "layout": {
        "legend": {
         "title": {
          "text": "level"
         },
         "tracegroupgap": 0
        },
        "template": {
         "data": {
          "bar": [
           {
            "error_x": {
             "color": "#2a3f5f"
            },
            "error_y": {
             "color": "#2a3f5f"
            },
            "marker": {
             "line": {
              "color": "#E5ECF6",
              "width": 0.5
             },
             "pattern": {
              "fillmode": "overlay",
              "size": 10,
              "solidity": 0.2
             }
            },
            "type": "bar"
           }
          ],
          "barpolar": [
           {
            "marker": {
             "line": {
              "color": "#E5ECF6",
              "width": 0.5
             },
             "pattern": {
              "fillmode": "overlay",
              "size": 10,
              "solidity": 0.2
             }
            },
            "type": "barpolar"
           }
          ],
          "carpet": [
           {
            "aaxis": {
             "endlinecolor": "#2a3f5f",
             "gridcolor": "white",
             "linecolor": "white",
             "minorgridcolor": "white",
             "startlinecolor": "#2a3f5f"
            },
            "baxis": {
             "endlinecolor": "#2a3f5f",
             "gridcolor": "white",
             "linecolor": "white",
             "minorgridcolor": "white",
             "startlinecolor": "#2a3f5f"
            },
            "type": "carpet"
           }
          ],
          "choropleth": [
           {
            "colorbar": {
             "outlinewidth": 0,
             "ticks": ""
            },
            "type": "choropleth"
           }
          ],
          "contour": [
           {
            "colorbar": {
             "outlinewidth": 0,
             "ticks": ""
            },
            "colorscale": [
             [
              0,
              "#0d0887"
             ],
             [
              0.1111111111111111,
              "#46039f"
             ],
             [
              0.2222222222222222,
              "#7201a8"
             ],
             [
              0.3333333333333333,
              "#9c179e"
             ],
             [
              0.4444444444444444,
              "#bd3786"
             ],
             [
              0.5555555555555556,
              "#d8576b"
             ],
             [
              0.6666666666666666,
              "#ed7953"
             ],
             [
              0.7777777777777778,
              "#fb9f3a"
             ],
             [
              0.8888888888888888,
              "#fdca26"
             ],
             [
              1,
              "#f0f921"
             ]
            ],
            "type": "contour"
           }
          ],
          "contourcarpet": [
           {
            "colorbar": {
             "outlinewidth": 0,
             "ticks": ""
            },
            "type": "contourcarpet"
           }
          ],
          "heatmap": [
           {
            "colorbar": {
             "outlinewidth": 0,
             "ticks": ""
            },
            "colorscale": [
             [
              0,
              "#0d0887"
             ],
             [
              0.1111111111111111,
              "#46039f"
             ],
             [
              0.2222222222222222,
              "#7201a8"
             ],
             [
              0.3333333333333333,
              "#9c179e"
             ],
             [
              0.4444444444444444,
              "#bd3786"
             ],
             [
              0.5555555555555556,
              "#d8576b"
             ],
             [
              0.6666666666666666,
              "#ed7953"
             ],
             [
              0.7777777777777778,
              "#fb9f3a"
             ],
             [
              0.8888888888888888,
              "#fdca26"
             ],
             [
              1,
              "#f0f921"
             ]
            ],
            "type": "heatmap"
           }
          ],
          "heatmapgl": [
           {
            "colorbar": {
             "outlinewidth": 0,
             "ticks": ""
            },
            "colorscale": [
             [
              0,
              "#0d0887"
             ],
             [
              0.1111111111111111,
              "#46039f"
             ],
             [
              0.2222222222222222,
              "#7201a8"
             ],
             [
              0.3333333333333333,
              "#9c179e"
             ],
             [
              0.4444444444444444,
              "#bd3786"
             ],
             [
              0.5555555555555556,
              "#d8576b"
             ],
             [
              0.6666666666666666,
              "#ed7953"
             ],
             [
              0.7777777777777778,
              "#fb9f3a"
             ],
             [
              0.8888888888888888,
              "#fdca26"
             ],
             [
              1,
              "#f0f921"
             ]
            ],
            "type": "heatmapgl"
           }
          ],
          "histogram": [
           {
            "marker": {
             "pattern": {
              "fillmode": "overlay",
              "size": 10,
              "solidity": 0.2
             }
            },
            "type": "histogram"
           }
          ],
          "histogram2d": [
           {
            "colorbar": {
             "outlinewidth": 0,
             "ticks": ""
            },
            "colorscale": [
             [
              0,
              "#0d0887"
             ],
             [
              0.1111111111111111,
              "#46039f"
             ],
             [
              0.2222222222222222,
              "#7201a8"
             ],
             [
              0.3333333333333333,
              "#9c179e"
             ],
             [
              0.4444444444444444,
              "#bd3786"
             ],
             [
              0.5555555555555556,
              "#d8576b"
             ],
             [
              0.6666666666666666,
              "#ed7953"
             ],
             [
              0.7777777777777778,
              "#fb9f3a"
             ],
             [
              0.8888888888888888,
              "#fdca26"
             ],
             [
              1,
              "#f0f921"
             ]
            ],
            "type": "histogram2d"
           }
          ],
          "histogram2dcontour": [
           {
            "colorbar": {
             "outlinewidth": 0,
             "ticks": ""
            },
            "colorscale": [
             [
              0,
              "#0d0887"
             ],
             [
              0.1111111111111111,
              "#46039f"
             ],
             [
              0.2222222222222222,
              "#7201a8"
             ],
             [
              0.3333333333333333,
              "#9c179e"
             ],
             [
              0.4444444444444444,
              "#bd3786"
             ],
             [
              0.5555555555555556,
              "#d8576b"
             ],
             [
              0.6666666666666666,
              "#ed7953"
             ],
             [
              0.7777777777777778,
              "#fb9f3a"
             ],
             [
              0.8888888888888888,
              "#fdca26"
             ],
             [
              1,
              "#f0f921"
             ]
            ],
            "type": "histogram2dcontour"
           }
          ],
          "mesh3d": [
           {
            "colorbar": {
             "outlinewidth": 0,
             "ticks": ""
            },
            "type": "mesh3d"
           }
          ],
          "parcoords": [
           {
            "line": {
             "colorbar": {
              "outlinewidth": 0,
              "ticks": ""
             }
            },
            "type": "parcoords"
           }
          ],
          "pie": [
           {
            "automargin": true,
            "type": "pie"
           }
          ],
          "scatter": [
           {
            "fillpattern": {
             "fillmode": "overlay",
             "size": 10,
             "solidity": 0.2
            },
            "type": "scatter"
           }
          ],
          "scatter3d": [
           {
            "line": {
             "colorbar": {
              "outlinewidth": 0,
              "ticks": ""
             }
            },
            "marker": {
             "colorbar": {
              "outlinewidth": 0,
              "ticks": ""
             }
            },
            "type": "scatter3d"
           }
          ],
          "scattercarpet": [
           {
            "marker": {
             "colorbar": {
              "outlinewidth": 0,
              "ticks": ""
             }
            },
            "type": "scattercarpet"
           }
          ],
          "scattergeo": [
           {
            "marker": {
             "colorbar": {
              "outlinewidth": 0,
              "ticks": ""
             }
            },
            "type": "scattergeo"
           }
          ],
          "scattergl": [
           {
            "marker": {
             "colorbar": {
              "outlinewidth": 0,
              "ticks": ""
             }
            },
            "type": "scattergl"
           }
          ],
          "scattermapbox": [
           {
            "marker": {
             "colorbar": {
              "outlinewidth": 0,
              "ticks": ""
             }
            },
            "type": "scattermapbox"
           }
          ],
          "scatterpolar": [
           {
            "marker": {
             "colorbar": {
              "outlinewidth": 0,
              "ticks": ""
             }
            },
            "type": "scatterpolar"
           }
          ],
          "scatterpolargl": [
           {
            "marker": {
             "colorbar": {
              "outlinewidth": 0,
              "ticks": ""
             }
            },
            "type": "scatterpolargl"
           }
          ],
          "scatterternary": [
           {
            "marker": {
             "colorbar": {
              "outlinewidth": 0,
              "ticks": ""
             }
            },
            "type": "scatterternary"
           }
          ],
          "surface": [
           {
            "colorbar": {
             "outlinewidth": 0,
             "ticks": ""
            },
            "colorscale": [
             [
              0,
              "#0d0887"
             ],
             [
              0.1111111111111111,
              "#46039f"
             ],
             [
              0.2222222222222222,
              "#7201a8"
             ],
             [
              0.3333333333333333,
              "#9c179e"
             ],
             [
              0.4444444444444444,
              "#bd3786"
             ],
             [
              0.5555555555555556,
              "#d8576b"
             ],
             [
              0.6666666666666666,
              "#ed7953"
             ],
             [
              0.7777777777777778,
              "#fb9f3a"
             ],
             [
              0.8888888888888888,
              "#fdca26"
             ],
             [
              1,
              "#f0f921"
             ]
            ],
            "type": "surface"
           }
          ],
          "table": [
           {
            "cells": {
             "fill": {
              "color": "#EBF0F8"
             },
             "line": {
              "color": "white"
             }
            },
            "header": {
             "fill": {
              "color": "#C8D4E3"
             },
             "line": {
              "color": "white"
             }
            },
            "type": "table"
           }
          ]
         },
         "layout": {
          "annotationdefaults": {
           "arrowcolor": "#2a3f5f",
           "arrowhead": 0,
           "arrowwidth": 1
          },
          "autotypenumbers": "strict",
          "coloraxis": {
           "colorbar": {
            "outlinewidth": 0,
            "ticks": ""
           }
          },
          "colorscale": {
           "diverging": [
            [
             0,
             "#8e0152"
            ],
            [
             0.1,
             "#c51b7d"
            ],
            [
             0.2,
             "#de77ae"
            ],
            [
             0.3,
             "#f1b6da"
            ],
            [
             0.4,
             "#fde0ef"
            ],
            [
             0.5,
             "#f7f7f7"
            ],
            [
             0.6,
             "#e6f5d0"
            ],
            [
             0.7,
             "#b8e186"
            ],
            [
             0.8,
             "#7fbc41"
            ],
            [
             0.9,
             "#4d9221"
            ],
            [
             1,
             "#276419"
            ]
           ],
           "sequential": [
            [
             0,
             "#0d0887"
            ],
            [
             0.1111111111111111,
             "#46039f"
            ],
            [
             0.2222222222222222,
             "#7201a8"
            ],
            [
             0.3333333333333333,
             "#9c179e"
            ],
            [
             0.4444444444444444,
             "#bd3786"
            ],
            [
             0.5555555555555556,
             "#d8576b"
            ],
            [
             0.6666666666666666,
             "#ed7953"
            ],
            [
             0.7777777777777778,
             "#fb9f3a"
            ],
            [
             0.8888888888888888,
             "#fdca26"
            ],
            [
             1,
             "#f0f921"
            ]
           ],
           "sequentialminus": [
            [
             0,
             "#0d0887"
            ],
            [
             0.1111111111111111,
             "#46039f"
            ],
            [
             0.2222222222222222,
             "#7201a8"
            ],
            [
             0.3333333333333333,
             "#9c179e"
            ],
            [
             0.4444444444444444,
             "#bd3786"
            ],
            [
             0.5555555555555556,
             "#d8576b"
            ],
            [
             0.6666666666666666,
             "#ed7953"
            ],
            [
             0.7777777777777778,
             "#fb9f3a"
            ],
            [
             0.8888888888888888,
             "#fdca26"
            ],
            [
             1,
             "#f0f921"
            ]
           ]
          },
          "colorway": [
           "#636efa",
           "#EF553B",
           "#00cc96",
           "#ab63fa",
           "#FFA15A",
           "#19d3f3",
           "#FF6692",
           "#B6E880",
           "#FF97FF",
           "#FECB52"
          ],
          "font": {
           "color": "#2a3f5f"
          },
          "geo": {
           "bgcolor": "white",
           "lakecolor": "white",
           "landcolor": "#E5ECF6",
           "showlakes": true,
           "showland": true,
           "subunitcolor": "white"
          },
          "hoverlabel": {
           "align": "left"
          },
          "hovermode": "closest",
          "mapbox": {
           "style": "light"
          },
          "paper_bgcolor": "white",
          "plot_bgcolor": "#E5ECF6",
          "polar": {
           "angularaxis": {
            "gridcolor": "white",
            "linecolor": "white",
            "ticks": ""
           },
           "bgcolor": "#E5ECF6",
           "radialaxis": {
            "gridcolor": "white",
            "linecolor": "white",
            "ticks": ""
           }
          },
          "scene": {
           "xaxis": {
            "backgroundcolor": "#E5ECF6",
            "gridcolor": "white",
            "gridwidth": 2,
            "linecolor": "white",
            "showbackground": true,
            "ticks": "",
            "zerolinecolor": "white"
           },
           "yaxis": {
            "backgroundcolor": "#E5ECF6",
            "gridcolor": "white",
            "gridwidth": 2,
            "linecolor": "white",
            "showbackground": true,
            "ticks": "",
            "zerolinecolor": "white"
           },
           "zaxis": {
            "backgroundcolor": "#E5ECF6",
            "gridcolor": "white",
            "gridwidth": 2,
            "linecolor": "white",
            "showbackground": true,
            "ticks": "",
            "zerolinecolor": "white"
           }
          },
          "shapedefaults": {
           "line": {
            "color": "#2a3f5f"
           }
          },
          "ternary": {
           "aaxis": {
            "gridcolor": "white",
            "linecolor": "white",
            "ticks": ""
           },
           "baxis": {
            "gridcolor": "white",
            "linecolor": "white",
            "ticks": ""
           },
           "bgcolor": "#E5ECF6",
           "caxis": {
            "gridcolor": "white",
            "linecolor": "white",
            "ticks": ""
           }
          },
          "title": {
           "x": 0.05
          },
          "xaxis": {
           "automargin": true,
           "gridcolor": "white",
           "linecolor": "white",
           "ticks": "",
           "title": {
            "standoff": 15
           },
           "zerolinecolor": "white",
           "zerolinewidth": 2
          },
          "yaxis": {
           "automargin": true,
           "gridcolor": "white",
           "linecolor": "white",
           "ticks": "",
           "title": {
            "standoff": 15
           },
           "zerolinecolor": "white",
           "zerolinewidth": 2
          }
         }
        },
        "title": {
         "text": "Udemy Courses by level in each year"
        },
        "xaxis": {
         "anchor": "y",
         "domain": [
          0,
          1
         ],
         "title": {
          "text": "year"
         }
        },
        "yaxis": {
         "anchor": "x",
         "domain": [
          0,
          1
         ],
         "title": {
          "text": "level count"
         }
        }
       }
      },
      "text/html": [
       "<div>                            <div id=\"ad33fb86-824e-40ab-83d7-271d0ad980ac\" class=\"plotly-graph-div\" style=\"height:525px; width:100%;\"></div>            <script type=\"text/javascript\">                require([\"plotly\"], function(Plotly) {                    window.PLOTLYENV=window.PLOTLYENV || {};                                    if (document.getElementById(\"ad33fb86-824e-40ab-83d7-271d0ad980ac\")) {                    Plotly.newPlot(                        \"ad33fb86-824e-40ab-83d7-271d0ad980ac\",                        [{\"hovertemplate\":\"level=All Levels<br>year=%{x}<br>level count=%{y}<extra></extra>\",\"legendgroup\":\"All Levels\",\"line\":{\"color\":\"#636efa\",\"dash\":\"solid\"},\"marker\":{\"symbol\":\"circle\"},\"mode\":\"lines\",\"name\":\"All Levels\",\"orientation\":\"v\",\"showlegend\":true,\"x\":[2011,2012,2013,2014,2015,2016,2017],\"xaxis\":\"x\",\"y\":[5,33,102,272,587,627,303],\"yaxis\":\"y\",\"type\":\"scatter\"},{\"hovertemplate\":\"level=Beginner Level<br>year=%{x}<br>level count=%{y}<extra></extra>\",\"legendgroup\":\"Beginner Level\",\"line\":{\"color\":\"#EF553B\",\"dash\":\"solid\"},\"marker\":{\"symbol\":\"circle\"},\"mode\":\"lines\",\"name\":\"Beginner Level\",\"orientation\":\"v\",\"showlegend\":true,\"x\":[2012,2013,2014,2015,2016,2017],\"xaxis\":\"x\",\"y\":[9,73,155,332,405,296],\"yaxis\":\"y\",\"type\":\"scatter\"},{\"hovertemplate\":\"level=Intermediate Level<br>year=%{x}<br>level count=%{y}<extra></extra>\",\"legendgroup\":\"Intermediate Level\",\"line\":{\"color\":\"#00cc96\",\"dash\":\"solid\"},\"marker\":{\"symbol\":\"circle\"},\"mode\":\"lines\",\"name\":\"Intermediate Level\",\"orientation\":\"v\",\"showlegend\":true,\"x\":[2012,2013,2014,2015,2016,2017],\"xaxis\":\"x\",\"y\":[3,18,60,80,163,97],\"yaxis\":\"y\",\"type\":\"scatter\"},{\"hovertemplate\":\"level=Expert Level<br>year=%{x}<br>level count=%{y}<extra></extra>\",\"legendgroup\":\"Expert Level\",\"line\":{\"color\":\"#ab63fa\",\"dash\":\"solid\"},\"marker\":{\"symbol\":\"circle\"},\"mode\":\"lines\",\"name\":\"Expert Level\",\"orientation\":\"v\",\"showlegend\":true,\"x\":[2013,2014,2015,2016,2017],\"xaxis\":\"x\",\"y\":[9,4,15,11,19],\"yaxis\":\"y\",\"type\":\"scatter\"}],                        {\"template\":{\"data\":{\"histogram2dcontour\":[{\"type\":\"histogram2dcontour\",\"colorbar\":{\"outlinewidth\":0,\"ticks\":\"\"},\"colorscale\":[[0.0,\"#0d0887\"],[0.1111111111111111,\"#46039f\"],[0.2222222222222222,\"#7201a8\"],[0.3333333333333333,\"#9c179e\"],[0.4444444444444444,\"#bd3786\"],[0.5555555555555556,\"#d8576b\"],[0.6666666666666666,\"#ed7953\"],[0.7777777777777778,\"#fb9f3a\"],[0.8888888888888888,\"#fdca26\"],[1.0,\"#f0f921\"]]}],\"choropleth\":[{\"type\":\"choropleth\",\"colorbar\":{\"outlinewidth\":0,\"ticks\":\"\"}}],\"histogram2d\":[{\"type\":\"histogram2d\",\"colorbar\":{\"outlinewidth\":0,\"ticks\":\"\"},\"colorscale\":[[0.0,\"#0d0887\"],[0.1111111111111111,\"#46039f\"],[0.2222222222222222,\"#7201a8\"],[0.3333333333333333,\"#9c179e\"],[0.4444444444444444,\"#bd3786\"],[0.5555555555555556,\"#d8576b\"],[0.6666666666666666,\"#ed7953\"],[0.7777777777777778,\"#fb9f3a\"],[0.8888888888888888,\"#fdca26\"],[1.0,\"#f0f921\"]]}],\"heatmap\":[{\"type\":\"heatmap\",\"colorbar\":{\"outlinewidth\":0,\"ticks\":\"\"},\"colorscale\":[[0.0,\"#0d0887\"],[0.1111111111111111,\"#46039f\"],[0.2222222222222222,\"#7201a8\"],[0.3333333333333333,\"#9c179e\"],[0.4444444444444444,\"#bd3786\"],[0.5555555555555556,\"#d8576b\"],[0.6666666666666666,\"#ed7953\"],[0.7777777777777778,\"#fb9f3a\"],[0.8888888888888888,\"#fdca26\"],[1.0,\"#f0f921\"]]}],\"heatmapgl\":[{\"type\":\"heatmapgl\",\"colorbar\":{\"outlinewidth\":0,\"ticks\":\"\"},\"colorscale\":[[0.0,\"#0d0887\"],[0.1111111111111111,\"#46039f\"],[0.2222222222222222,\"#7201a8\"],[0.3333333333333333,\"#9c179e\"],[0.4444444444444444,\"#bd3786\"],[0.5555555555555556,\"#d8576b\"],[0.6666666666666666,\"#ed7953\"],[0.7777777777777778,\"#fb9f3a\"],[0.8888888888888888,\"#fdca26\"],[1.0,\"#f0f921\"]]}],\"contourcarpet\":[{\"type\":\"contourcarpet\",\"colorbar\":{\"outlinewidth\":0,\"ticks\":\"\"}}],\"contour\":[{\"type\":\"contour\",\"colorbar\":{\"outlinewidth\":0,\"ticks\":\"\"},\"colorscale\":[[0.0,\"#0d0887\"],[0.1111111111111111,\"#46039f\"],[0.2222222222222222,\"#7201a8\"],[0.3333333333333333,\"#9c179e\"],[0.4444444444444444,\"#bd3786\"],[0.5555555555555556,\"#d8576b\"],[0.6666666666666666,\"#ed7953\"],[0.7777777777777778,\"#fb9f3a\"],[0.8888888888888888,\"#fdca26\"],[1.0,\"#f0f921\"]]}],\"surface\":[{\"type\":\"surface\",\"colorbar\":{\"outlinewidth\":0,\"ticks\":\"\"},\"colorscale\":[[0.0,\"#0d0887\"],[0.1111111111111111,\"#46039f\"],[0.2222222222222222,\"#7201a8\"],[0.3333333333333333,\"#9c179e\"],[0.4444444444444444,\"#bd3786\"],[0.5555555555555556,\"#d8576b\"],[0.6666666666666666,\"#ed7953\"],[0.7777777777777778,\"#fb9f3a\"],[0.8888888888888888,\"#fdca26\"],[1.0,\"#f0f921\"]]}],\"mesh3d\":[{\"type\":\"mesh3d\",\"colorbar\":{\"outlinewidth\":0,\"ticks\":\"\"}}],\"scatter\":[{\"fillpattern\":{\"fillmode\":\"overlay\",\"size\":10,\"solidity\":0.2},\"type\":\"scatter\"}],\"parcoords\":[{\"type\":\"parcoords\",\"line\":{\"colorbar\":{\"outlinewidth\":0,\"ticks\":\"\"}}}],\"scatterpolargl\":[{\"type\":\"scatterpolargl\",\"marker\":{\"colorbar\":{\"outlinewidth\":0,\"ticks\":\"\"}}}],\"bar\":[{\"error_x\":{\"color\":\"#2a3f5f\"},\"error_y\":{\"color\":\"#2a3f5f\"},\"marker\":{\"line\":{\"color\":\"#E5ECF6\",\"width\":0.5},\"pattern\":{\"fillmode\":\"overlay\",\"size\":10,\"solidity\":0.2}},\"type\":\"bar\"}],\"scattergeo\":[{\"type\":\"scattergeo\",\"marker\":{\"colorbar\":{\"outlinewidth\":0,\"ticks\":\"\"}}}],\"scatterpolar\":[{\"type\":\"scatterpolar\",\"marker\":{\"colorbar\":{\"outlinewidth\":0,\"ticks\":\"\"}}}],\"histogram\":[{\"marker\":{\"pattern\":{\"fillmode\":\"overlay\",\"size\":10,\"solidity\":0.2}},\"type\":\"histogram\"}],\"scattergl\":[{\"type\":\"scattergl\",\"marker\":{\"colorbar\":{\"outlinewidth\":0,\"ticks\":\"\"}}}],\"scatter3d\":[{\"type\":\"scatter3d\",\"line\":{\"colorbar\":{\"outlinewidth\":0,\"ticks\":\"\"}},\"marker\":{\"colorbar\":{\"outlinewidth\":0,\"ticks\":\"\"}}}],\"scattermapbox\":[{\"type\":\"scattermapbox\",\"marker\":{\"colorbar\":{\"outlinewidth\":0,\"ticks\":\"\"}}}],\"scatterternary\":[{\"type\":\"scatterternary\",\"marker\":{\"colorbar\":{\"outlinewidth\":0,\"ticks\":\"\"}}}],\"scattercarpet\":[{\"type\":\"scattercarpet\",\"marker\":{\"colorbar\":{\"outlinewidth\":0,\"ticks\":\"\"}}}],\"carpet\":[{\"aaxis\":{\"endlinecolor\":\"#2a3f5f\",\"gridcolor\":\"white\",\"linecolor\":\"white\",\"minorgridcolor\":\"white\",\"startlinecolor\":\"#2a3f5f\"},\"baxis\":{\"endlinecolor\":\"#2a3f5f\",\"gridcolor\":\"white\",\"linecolor\":\"white\",\"minorgridcolor\":\"white\",\"startlinecolor\":\"#2a3f5f\"},\"type\":\"carpet\"}],\"table\":[{\"cells\":{\"fill\":{\"color\":\"#EBF0F8\"},\"line\":{\"color\":\"white\"}},\"header\":{\"fill\":{\"color\":\"#C8D4E3\"},\"line\":{\"color\":\"white\"}},\"type\":\"table\"}],\"barpolar\":[{\"marker\":{\"line\":{\"color\":\"#E5ECF6\",\"width\":0.5},\"pattern\":{\"fillmode\":\"overlay\",\"size\":10,\"solidity\":0.2}},\"type\":\"barpolar\"}],\"pie\":[{\"automargin\":true,\"type\":\"pie\"}]},\"layout\":{\"autotypenumbers\":\"strict\",\"colorway\":[\"#636efa\",\"#EF553B\",\"#00cc96\",\"#ab63fa\",\"#FFA15A\",\"#19d3f3\",\"#FF6692\",\"#B6E880\",\"#FF97FF\",\"#FECB52\"],\"font\":{\"color\":\"#2a3f5f\"},\"hovermode\":\"closest\",\"hoverlabel\":{\"align\":\"left\"},\"paper_bgcolor\":\"white\",\"plot_bgcolor\":\"#E5ECF6\",\"polar\":{\"bgcolor\":\"#E5ECF6\",\"angularaxis\":{\"gridcolor\":\"white\",\"linecolor\":\"white\",\"ticks\":\"\"},\"radialaxis\":{\"gridcolor\":\"white\",\"linecolor\":\"white\",\"ticks\":\"\"}},\"ternary\":{\"bgcolor\":\"#E5ECF6\",\"aaxis\":{\"gridcolor\":\"white\",\"linecolor\":\"white\",\"ticks\":\"\"},\"baxis\":{\"gridcolor\":\"white\",\"linecolor\":\"white\",\"ticks\":\"\"},\"caxis\":{\"gridcolor\":\"white\",\"linecolor\":\"white\",\"ticks\":\"\"}},\"coloraxis\":{\"colorbar\":{\"outlinewidth\":0,\"ticks\":\"\"}},\"colorscale\":{\"sequential\":[[0.0,\"#0d0887\"],[0.1111111111111111,\"#46039f\"],[0.2222222222222222,\"#7201a8\"],[0.3333333333333333,\"#9c179e\"],[0.4444444444444444,\"#bd3786\"],[0.5555555555555556,\"#d8576b\"],[0.6666666666666666,\"#ed7953\"],[0.7777777777777778,\"#fb9f3a\"],[0.8888888888888888,\"#fdca26\"],[1.0,\"#f0f921\"]],\"sequentialminus\":[[0.0,\"#0d0887\"],[0.1111111111111111,\"#46039f\"],[0.2222222222222222,\"#7201a8\"],[0.3333333333333333,\"#9c179e\"],[0.4444444444444444,\"#bd3786\"],[0.5555555555555556,\"#d8576b\"],[0.6666666666666666,\"#ed7953\"],[0.7777777777777778,\"#fb9f3a\"],[0.8888888888888888,\"#fdca26\"],[1.0,\"#f0f921\"]],\"diverging\":[[0,\"#8e0152\"],[0.1,\"#c51b7d\"],[0.2,\"#de77ae\"],[0.3,\"#f1b6da\"],[0.4,\"#fde0ef\"],[0.5,\"#f7f7f7\"],[0.6,\"#e6f5d0\"],[0.7,\"#b8e186\"],[0.8,\"#7fbc41\"],[0.9,\"#4d9221\"],[1,\"#276419\"]]},\"xaxis\":{\"gridcolor\":\"white\",\"linecolor\":\"white\",\"ticks\":\"\",\"title\":{\"standoff\":15},\"zerolinecolor\":\"white\",\"automargin\":true,\"zerolinewidth\":2},\"yaxis\":{\"gridcolor\":\"white\",\"linecolor\":\"white\",\"ticks\":\"\",\"title\":{\"standoff\":15},\"zerolinecolor\":\"white\",\"automargin\":true,\"zerolinewidth\":2},\"scene\":{\"xaxis\":{\"backgroundcolor\":\"#E5ECF6\",\"gridcolor\":\"white\",\"linecolor\":\"white\",\"showbackground\":true,\"ticks\":\"\",\"zerolinecolor\":\"white\",\"gridwidth\":2},\"yaxis\":{\"backgroundcolor\":\"#E5ECF6\",\"gridcolor\":\"white\",\"linecolor\":\"white\",\"showbackground\":true,\"ticks\":\"\",\"zerolinecolor\":\"white\",\"gridwidth\":2},\"zaxis\":{\"backgroundcolor\":\"#E5ECF6\",\"gridcolor\":\"white\",\"linecolor\":\"white\",\"showbackground\":true,\"ticks\":\"\",\"zerolinecolor\":\"white\",\"gridwidth\":2}},\"shapedefaults\":{\"line\":{\"color\":\"#2a3f5f\"}},\"annotationdefaults\":{\"arrowcolor\":\"#2a3f5f\",\"arrowhead\":0,\"arrowwidth\":1},\"geo\":{\"bgcolor\":\"white\",\"landcolor\":\"#E5ECF6\",\"subunitcolor\":\"white\",\"showland\":true,\"showlakes\":true,\"lakecolor\":\"white\"},\"title\":{\"x\":0.05},\"mapbox\":{\"style\":\"light\"}}},\"xaxis\":{\"anchor\":\"y\",\"domain\":[0.0,1.0],\"title\":{\"text\":\"year\"}},\"yaxis\":{\"anchor\":\"x\",\"domain\":[0.0,1.0],\"title\":{\"text\":\"level count\"}},\"legend\":{\"title\":{\"text\":\"level\"},\"tracegroupgap\":0},\"title\":{\"text\":\"Udemy Courses by level in each year\"}},                        {\"responsive\": true}                    ).then(function(){\n",
       "                            \n",
       "var gd = document.getElementById('ad33fb86-824e-40ab-83d7-271d0ad980ac');\n",
       "var x = new MutationObserver(function (mutations, observer) {{\n",
       "        var display = window.getComputedStyle(gd).display;\n",
       "        if (!display || display === 'none') {{\n",
       "            console.log([gd, 'removed!']);\n",
       "            Plotly.purge(gd);\n",
       "            observer.disconnect();\n",
       "        }}\n",
       "}});\n",
       "\n",
       "// Listen for the removal of the full notebook cells\n",
       "var notebookContainer = gd.closest('#notebook-container');\n",
       "if (notebookContainer) {{\n",
       "    x.observe(notebookContainer, {childList: true});\n",
       "}}\n",
       "\n",
       "// Listen for the clearing of the current output cell\n",
       "var outputEl = gd.closest('.output');\n",
       "if (outputEl) {{\n",
       "    x.observe(outputEl, {childList: true});\n",
       "}}\n",
       "\n",
       "                        })                };                });            </script>        </div>"
      ]
     },
     "metadata": {},
     "output_type": "display_data"
    }
   ],
   "source": [
    "fig=px.line(level_by_year, x='year', y='level count', color=level_by_year.index, title='Udemy Courses by level in each year')\n",
    "fig.show()"
   ]
  },
  {
   "cell_type": "code",
   "execution_count": 30,
   "id": "483d98eb",
   "metadata": {},
   "outputs": [
    {
     "data": {
      "application/vnd.plotly.v1+json": {
       "config": {
        "plotlyServerURL": "https://plot.ly"
       },
       "data": [
        {
         "customdata": [
          [
           "Ultimate Investment Banking Course"
          ],
          [
           "Complete GST Course & Certification - Grow Your CA Practice"
          ],
          [
           "Financial Modeling for Business Analysts and Consultants"
          ],
          [
           "Beginner to Pro - Financial Analysis in Excel 2017"
          ],
          [
           "How To Maximize Your Profits Trading Options"
          ],
          [
           "Trading Penny Stocks: A Guide for All Levels In 2017"
          ],
          [
           "Investing And Trading For Beginners: Mastering Price Charts"
          ],
          [
           "Trading Stock Chart Patterns For Immediate, Explosive Gains"
          ],
          [
           "Options Trading 3 : Advanced Stock Profit and Success Method"
          ],
          [
           "The Only Investment Strategy You Need For Your Retirement"
          ],
          [
           "Forex Trading Secrets of the Pros With Amazon's AWS"
          ],
          [
           "Trading Options With Money Flow"
          ],
          [
           "Financial Management Risk and Return For Securities"
          ],
          [
           "Forex Trading Course: Work Smarter Not Harder Proven Results"
          ],
          [
           "Python Algo Trading: Sentiment Trading with News"
          ],
          [
           "Short Selling: Learn To Sell Stocks Before The Fall"
          ],
          [
           "Basic Technical Analysis: Learn the structure of the market"
          ],
          [
           "The Complete Chart Pattern Trading Course: A Proven Approach"
          ],
          [
           "7 Deadly Mistakes of Investing that Will Slash Your Profits!"
          ],
          [
           "Financial Statements Made Easy"
          ],
          [
           "Winning Forex Trading with Live Forex Trading Examples"
          ],
          [
           "Forex Traders - Create Your First Trading Robot. No Coding!"
          ],
          [
           "Create A Business From Home Trading Stocks Today In 2017"
          ],
          [
           "Introduction to Accounting : Mastering Financial Statements"
          ],
          [
           "The Complete Ethereum Course: Get .01 Ether In Your Wallet"
          ],
          [
           "Beginner to Pro in PowerPoint: Complete PowerPoint Training"
          ],
          [
           "Investing 101: The Complete Online Investing Course"
          ],
          [
           "Create Your Own Hedge Fund: Trade Stocks Like A Fund Manager"
          ],
          [
           "Learn MQL5: Build an 8-Currency Hedging Robot (MetaTrader 5)"
          ],
          [
           "Forex Trading: Your Complete Guide to Get Started Like a Pro"
          ],
          [
           "Python Algo Stock Trading: Automate Your Trading!"
          ],
          [
           "THE Forex Robot: Incredible ROI (Robot Included)"
          ],
          [
           "The Complete Bitcoin Course: Get .001 Bitcoin In Your Wallet"
          ],
          [
           "Mastering High Probability Iron Condor Options Trading"
          ],
          [
           "The Complete Short Course on Ethereum"
          ],
          [
           "Options Trading Stocks: Proven Toolbox For Financial Success"
          ],
          [
           "Forex Trading A-Z™ - With LIVE Examples of Forex Trading"
          ],
          [
           "Introduction to Finance, Accounting, Modeling and Valuation"
          ],
          [
           "Beginner to Pro in Excel: Financial Modeling and Valuation"
          ],
          [
           "The Complete Investment Banking Course 2017"
          ],
          [
           "The Complete Financial Analyst Course 2017"
          ],
          [
           "Python for Finance: Investment Fundamentals & Data Analytics"
          ],
          [
           "Financial Modeling for Startups & Small Businesses"
          ],
          [
           "Options Trading - How to Win with Weekly Options"
          ],
          [
           "Black Algo Trading: Build Your Trading Robot"
          ],
          [
           "Accounting & Financial Statement Analysis: Complete Training"
          ],
          [
           "Cryptocurrency Trading: Complete Guide To Trading Altcoins"
          ],
          [
           "Forex Robots: Expect To Earn 175% P.A. Forex Robot Included!"
          ],
          [
           "Three Steps Trading - Live Trading - Real Account"
          ],
          [
           "Option Trading for Rookies:  Understand Options Completely"
          ],
          [
           "How I Learned Stock Trading (and How You Can Too)"
          ],
          [
           "Learn to Trade for Profit: Find and Trade Winning Stocks"
          ],
          [
           "Trading Inside Bars - Master 1 Easy Pattern To Be Successful"
          ],
          [
           "Four Fundamentals of Financial Planning"
          ],
          [
           "Options Trading - Calendar Spread Course for Every Trader"
          ],
          [
           "Dividend Investing: Build Your Portfolio for a Better Future"
          ],
          [
           "Learn Accounting. Understand Business."
          ],
          [
           "How to Consistently Win Trading Stocks in 30 Days or Less"
          ],
          [
           "A Beginner's Guide to Quantopian Futures API"
          ],
          [
           "How to Buy Cheap Options - Options Trading Pricing Model"
          ],
          [
           "Excel Crash Course: Master Excel for Financial Analysis"
          ],
          [
           "Comprehensive Guide to Financial Markets, Investing &Trading"
          ],
          [
           "Stock Trading Ninja: Complete System For Trading Success"
          ],
          [
           "Hedge and Mutual Fund Careers: The Complete Guide"
          ],
          [
           "Algorithmic Trading In Forex: Create Your First Forex Robot!"
          ],
          [
           "The Power Modeling Bootcamp: Advanced Excel in 10 Days"
          ],
          [
           "Options Trading Basics (3-Course Bundle)"
          ],
          [
           "How to Win 97% of Your Options Trades"
          ],
          [
           "How I Make Consistent Returns Trading Options"
          ],
          [
           "Forex Strategies: Kelly Criterion, Larry Williams and more!"
          ],
          [
           "Elite Trend Trader: Learn To Trade Stocks, Options & Forex"
          ],
          [
           "Options Trading Introduction: Day Trade Stock Options"
          ],
          [
           "The Almost Perfect Options Trading Strategy System - Unique"
          ],
          [
           "Forex Trading -  Learn to Trade Forex Like the Banks"
          ],
          [
           "Learn to Trade for Profit:Trading with Japanese Candlesticks"
          ],
          [
           "The Most Powerful Options Spread Trading Front Ratio Spread"
          ],
          [
           "What Finance Job is for You? Explanation of 14 Finance Roles"
          ],
          [
           "The Blueprint for Successful Stock Trading"
          ],
          [
           "Trading for Beginners - Intermediate Level"
          ],
          [
           "Start Trading Stocks Using Technical Analysis!"
          ],
          [
           "Learn How to Set Up an Incubator Hedge Fund - Step-by-Step"
          ],
          [
           "VPS for Forex Trading - Protect Your Forex Robots"
          ],
          [
           "Introduction to Accounting: The Language of Business"
          ],
          [
           "Basic Excel for Basic Bookkeeping and Accounting"
          ],
          [
           "Using 'The Greeks To Understand Options\""
          ],
          [
           "Trading Options For Consistent Returns: Calendar Spreads"
          ],
          [
           "How to Create Your Personal Budget"
          ],
          [
           "The Complete Value Investing Course: A Proven Approach"
          ],
          [
           "FOREX Trading with Price Action"
          ],
          [
           "Emini ES Futures - Advanced Non Directional Options Trading"
          ],
          [
           "Forex Trading - Advanced Fundamental Analysis"
          ],
          [
           "How To Invest With Tiny Capital In Stocks ?"
          ],
          [
           "Learn How To Successfully Trade Stocks: In 5 Simple Steps"
          ],
          [
           "Forex MetaTrader 4: Master MT4 Like A Pro Forex Trader"
          ],
          [
           "Intermediate Options trading concepts for Stocks and Options"
          ],
          [
           "Options Trading 101: The Basics"
          ],
          [
           "Practical Accounts APP Overview"
          ],
          [
           "Bitcoin Profits for Beginners"
          ],
          [
           "Trend Traders Club: How To Find And Trade Fast Moving Trends"
          ],
          [
           "Financial Statements Basics"
          ],
          [
           "High performance Stock Trading using key Options techniques"
          ],
          [
           "Introduction to Financial Statement Analysis"
          ],
          [
           "Basics of Economics (College Level)"
          ],
          [
           "Stock Market Investing for Beginners"
          ],
          [
           "Accounting for Beginners : Learn Basics in under 1 Hour"
          ],
          [
           "Straddle Options Trading - Profit in Any Market Direction"
          ],
          [
           "Fundamentals of Forex Trading"
          ],
          [
           "Binary Options: Trading Strategies, 90% Accuracy and Signals"
          ],
          [
           "Website Investing 101 - Buying & Selling Online Businesses"
          ],
          [
           "Practical Accounts & Bookkeeping Automated Overview "
          ],
          [
           "Live Account - ETF Trading System - Hacking The Stock Market"
          ],
          [
           "Stock Market Leverage: How to Start Trading Options Wisely"
          ],
          [
           "Stock Market Foundations"
          ],
          [
           "Crash Course on Working Capital Management"
          ],
          [
           "Advanced Accounting A Complete Study for CA / CMA / CFA / CS"
          ],
          [
           "61% Profit In 1 Month - Crush Your Forex Trading Paradigm"
          ],
          [
           "How to create a routine Trading"
          ],
          [
           "Forex Trading Secrets |MT4 Robot (EA) inside, no coding"
          ],
          [
           "Forex SOS Course: Trading Tweaks And Working Forex Strategy"
          ],
          [
           "Introduction to Financial Modeling"
          ],
          [
           "Quantitative Aptitude for Banking & Competitive Examinations"
          ],
          [
           "Option Spreads and Credit Spreads Bundle"
          ],
          [
           "B Com Accountancy I (Paper ECO 02 IGNOU)"
          ],
          [
           "FOREX TRADING - Learn in a quick + profitable way + support"
          ],
          [
           "Auditing Basics (Professional Course Level)"
          ],
          [
           "Stock market Investing Encyclopedia: How to invest in stocks"
          ],
          [
           "Learn the basics of preparing accounting statements"
          ],
          [
           "Elliott Wave -Forex Trading With The Elliott Wave Theory"
          ],
          [
           "Corporate Finance - A Brief Introduction"
          ],
          [
           "Excel functions to analyze and visualize data"
          ],
          [
           "Building Financial Statements in Excel"
          ],
          [
           "Transfer Pricing A Complete Analysis"
          ],
          [
           "Accounting: Get Hired Without Work Experience"
          ],
          [
           "Forex Trading for Beginners - Basics"
          ],
          [
           "Basic Bookkeeping Hacks"
          ],
          [
           "Complete Trading Plan Course for Stocks & Forex (10 Hours)"
          ],
          [
           "Forex Trading with Fixed 'Risk through Options Trading\""
          ],
          [
           "Intro to Investment Banking, M&A, IPO, Modeling + Free Book"
          ],
          [
           "How to Pick The Right Penny Stocks To Invest In 2017"
          ],
          [
           "Top 10 Trading Ideas in the Equities Market"
          ],
          [
           "Intro to Financial Modeling"
          ],
          [
           "Shark Accounting - Building a Business by the Numbers!"
          ],
          [
           "Forex Trading MAKE YOUR FIRST TRADE TODAY!"
          ],
          [
           "Accounting in 60 Minutes - A Brief Introduction"
          ],
          [
           "SAP FICO For Beginners - A Guide to SAP Financial Accounts"
          ],
          [
           "Learn how to double your Forex Trading Account in one trade"
          ],
          [
           "Accounting Superpowers: Learn Accounts, Understand Business!"
          ],
          [
           "Python Algo Trading: FX Trading with Oanda"
          ],
          [
           "Save on Your Taxes"
          ],
          [
           "Financial Model Basics: Build a model from start to finish"
          ],
          [
           "Option Trading for Rookies: The Covered Call Option Strategy"
          ],
          [
           "EFT for Stock Options Trading Success & Making Better Trades"
          ],
          [
           "Learn to Trade the Stock Market without Blowing Your Profits"
          ],
          [
           "Get a Credit Repair Publication On Amazon and Live LIFE.."
          ],
          [
           "Fundamentals of Accounting"
          ],
          [
           "RSI, Options Trading & Technical Analysis (3 Course Bundle)"
          ],
          [
           "Basics of Mutual Funds for CA / CMA / CS / CFA Exams"
          ],
          [
           "Accounting 101: How to read an Accounting Balance Sheet"
          ],
          [
           "Stock Options Day Trading Mindset for Success"
          ],
          [
           "Introduction to bookkeeping and Accounting"
          ],
          [
           "Learn to Trade The News"
          ],
          [
           "Value Investing, Taught by Six Superinvestors"
          ],
          [
           "Trading for everyone - The Independent Investor Course I"
          ],
          [
           "Get Acquired: Learn From The Head Of Acquisitions For eBay"
          ],
          [
           "Stock Market investment: Practical Accounting"
          ],
          [
           "How to remove 'Risk from Penny Stocks - Options Trading\""
          ],
          [
           "Accounting Basics in 66 Minutes (absolutely for beginners)"
          ],
          [
           "Tax Accounting: Difficult Topic, Made Easy to Understand"
          ],
          [
           "Analysis of Company Financial Statements"
          ],
          [
           "Forex Trading Like Banks – Step by Step with Live Examples"
          ],
          [
           "Fundamentals of Investing!"
          ],
          [
           "Bank Financial Management A Comprehensive Study"
          ],
          [
           "Learn to Trade Forex and Stocks: From Beginner to Advanced"
          ],
          [
           "Master 'Technical Analysis and Chart reading skills Bundle\""
          ],
          [
           "Naked Put Options Trade Covered Call & Poor Man Covered Call"
          ],
          [
           "The Ultimate Guide to Dividend & Dividend Growth Investing"
          ],
          [
           "Charting for Beginners 101: Technical Analysis Demystified"
          ],
          [
           "Build a DCF Valuation Model"
          ],
          [
           "Introductory Financial Accounting"
          ],
          [
           "Introduction to Cryptocurrencies and Blockchain"
          ],
          [
           "Trade Pullback Candlestick Strategy - Make Consistent Pips"
          ],
          [
           "Accounting Standards Basics (Professional Course Level)"
          ],
          [
           "Use the Magic Multiple Moving Average Forex Trading system"
          ],
          [
           "QuickBooks 2015 Training for Newbies"
          ],
          [
           "TRADING PSYCHOLOGY: Trading Mindset Mastery"
          ],
          [
           "Option Trading: How to Adjust Delta-Neutral Strangles!"
          ],
          [
           "Profitable binary option trading strategy"
          ],
          [
           "Tax Strategy: Financial Planning for Beginners"
          ],
          [
           "Accounting 2 Simplified for You"
          ],
          [
           "Project Funding Modelling (for Professionals)"
          ],
          [
           "Investing: How I Consistently Beat The Stock Market"
          ],
          [
           "Bookkeeping Basics:  Understand the Fundamentals"
          ],
          [
           "Leasing - A Comprehensive Study (Professional Course Level)"
          ],
          [
           "Trading Options For Consistent Returns: Options Basics"
          ],
          [
           "TechniTrader Leading Hybrid Indicator Trading"
          ],
          [
           "Financial modeling: Build a DCF equity valuation model"
          ],
          [
           "CryptoArbitrager: Bitcoin Trading Robot (no mining)"
          ],
          [
           "Accounting Is Easy (for Beginners)"
          ],
          [
           "Non Directional Weekly Options Trading System - ETF & Emini"
          ],
          [
           "The Complete Position Trading Course: Position Trading Stock"
          ],
          [
           "Master Iron Condors - Double the credit for half the risk"
          ],
          [
           "Basics of investing in Mutual Funds"
          ],
          [
           "A Value Investing Approach to the Stock Market"
          ],
          [
           "Learn how to INVEST for huge profits or make it big trading!"
          ],
          [
           "How to Fund your Million Dollar Idea: Equity, Debt, Unfund"
          ],
          [
           "Mastering Candlestick Charting : High Probability Trading"
          ],
          [
           "Binary Options Course - Level 2"
          ],
          [
           "Stock Technical Analysis with R"
          ],
          [
           "Get to know the VIX Index (aka 'The Fear Index)\""
          ],
          [
           "Apply finance concepts for smart project management"
          ],
          [
           "Introduction to Futures Trading and Live Trade Demonstration"
          ],
          [
           "Crowdfunding to Win"
          ],
          [
           "Comprehensive Forex Mastery Program"
          ],
          [
           "Preparation of Consolidated Financial Statements (Basic)"
          ],
          [
           "Succeed in Bonds Even if You Don't Know Where to Start"
          ],
          [
           "Learn to Trade for Profit: Ten Most Profitable Trading Rules"
          ],
          [
           "Succeed in Lotto Even if You Don't Know Where to Start!"
          ],
          [
           "CFA Corporate Finance Level 2"
          ],
          [
           "Pin Bars: The Most Powerful Forex Trading Signal"
          ],
          [
           "Stock Options Trades Using Interactive Brokers"
          ],
          [
           "Introduction to Options - Strategies For Consistent Profits"
          ],
          [
           "Risk in Forex Transactions - for CA / CS / CFA exams"
          ],
          [
           "Basics of Business Statistics (College Level)"
          ],
          [
           "Trading Seasonal Price Patterns in Stocks, Futures, & Forex!"
          ],
          [
           "Interpreting Financial Statements"
          ],
          [
           "Introduction to Bookkeeping (Accounting)"
          ],
          [
           "CREDIT SPREAD SURGERY - Bear Call and Bull Put Mastery "
          ],
          [
           "Investment Banking: How to Land a Job on Wall Street"
          ],
          [
           "Learn To Invest In Index Funds and ETFs In 7 Easy Steps"
          ],
          [
           "Financial modeling: Build a multiples valuation model"
          ],
          [
           "Trade Recap I - A Real Look at Futures Options Markets"
          ],
          [
           "Advanced Stock Options for Serious Equity Investors!"
          ],
          [
           "Trading Binary Options for Fun and Profit"
          ],
          [
           "CFA: Fast Track your career in Finance"
          ],
          [
           "How to be a Profitable Forex Trader"
          ],
          [
           "Excel Dashboard - Interactive Excel Dashboard and Charts"
          ],
          [
           "Accounting 101: Learn Business Finance Forecasting in 60mins"
          ],
          [
           "The Securities Trade Lifecycle"
          ],
          [
           "Double your Forex Account using the MAGIC MA trading robot"
          ],
          [
           "Technical Analysis 101: How to Profit During Market Crashes"
          ],
          [
           "Advanced Accounting for Investment Banking"
          ],
          [
           "Investing In Stocks With 10 Simple Rules"
          ],
          [
           "Venture Capital. What is it and Why it Matters to You!"
          ],
          [
           "Cash Flow Valuation: Develop Your Financial Literacy"
          ],
          [
           "Direction-Independ Trading - Elite Forex Traders  Strategy"
          ],
          [
           "How to Become a Financial Analyst from Scratch!"
          ],
          [
           "First Steps to Trading the Forexmarkets : Technical Analysis"
          ],
          [
           "Financial analysis: Compare performance of companies"
          ],
          [
           "Forex for Beginners: Easy Forex Trading for Beginners"
          ],
          [
           "Investment Crowdfunding 101 (a.k.a Equity Crowdfunding)"
          ],
          [
           "Read financial statements like a pro"
          ],
          [
           "10 Numbers Every Business Owner Should Know"
          ],
          [
           "Learn How To Trade Gold In 2017"
          ],
          [
           "IAS 18 - Revenue"
          ],
          [
           "Forex Trading: The High ROI Forex Trading End of Day Course"
          ],
          [
           "Fundraise the Simplified Way: A Crowdfunding Blueprint"
          ],
          [
           "Fundamentals of Accounting for Business Owners"
          ],
          [
           "Practical Financial Statement Analysis"
          ],
          [
           "Forex Management - Detailed Study for CA / CS / CFA Exams"
          ],
          [
           "Financial Statement Review 101:  How to Find Errors"
          ],
          [
           "Professional Risk Manager (PRM) Certification: Level 1"
          ],
          [
           "International Tax  - Tax Beyond boundaries"
          ],
          [
           "The Complete Financial Statement Analysis Course"
          ],
          [
           "Advanced Excel functions"
          ],
          [
           "Penny Stocks Value & Chart Pattern Trading (2 Course Bundle)"
          ],
          [
           "Candlestick Analysis For Professional Traders"
          ],
          [
           "Build A Career In Forex Trading- Learn Fundamental Analysis"
          ],
          [
           "Financial Modeling: Build a Complete DCF Valuation Model"
          ],
          [
           "Hands-on Financial Modeling (With 6 Excel Templates)"
          ],
          [
           "CAIIB Advanced Bank Management (Part I)"
          ],
          [
           "Stock Market investment:Non financial fundamental analysis"
          ],
          [
           "Learn How to Play CashFlow Game"
          ],
          [
           "Basics of Business Finance"
          ],
          [
           "Accounting Made Easy 2"
          ],
          [
           "Bitcoin: el futuro del dinero, hoy"
          ],
          [
           "Aprende a invertir practicando"
          ],
          [
           "Trading con retrocesos de Fibonacci"
          ],
          [
           "Mit Finanzwissen zu besserem Unternehmertum"
          ],
          [
           "Como hacer empresa en 10 sesiones prácticas"
          ],
          [
           "المحاسبة للإداريين و غير المحاسبين"
          ],
          [
           "株式投資で本当のファンダメンタル分析ができるようになる"
          ],
          [
           "Curso de Trading práctico basado en casos reales"
          ],
          [
           "Curso Avanzado de Trading"
          ],
          [
           "สอนเทรดไบนารี่ อ๊อฟชั่นอย่างง่าย"
          ],
          [
           "MQL4 Tutorial Golden Goose"
          ],
          [
           "Análise de Concessão de Crédito"
          ],
          [
           "Technical Analysis Using Elliott Wave Theory"
          ],
          [
           "The Basics Of Volume Analysis"
          ],
          [
           "Crash Course on Cost of Capital and Capital Structuring"
          ],
          [
           "Business Accounting Made Easy"
          ],
          [
           "Build a DCF Model from Scratch"
          ],
          [
           "Multiply your returns using 'Value Investing\",https://www.udemy.com/multiply-your-returns-using-value-investing/,true,20,1942,19,63,All Levels,4.5 hours,2015-07-23T00:08:33Z\n874284,Weekly Forex Analysis by Baraq FX\""
          ],
          [
           "Technical Analysis - A practical approach for trade entry"
          ],
          [
           "Mastering Technical Analysis : Maximizing Trading Profits"
          ],
          [
           "The Complete Guide to Professional Trading with Elliott Wave"
          ],
          [
           "A Complete Guide to Becoming a Trader on the Forex Market"
          ],
          [
           "Stock Market for Beginners - Complete Starter Toolkit"
          ],
          [
           "Beginners Binary Options Course"
          ],
          [
           "Technical Analysis 101: Secrets of Trading Revealed"
          ],
          [
           "Forex: What's a Trend and When it is Strong and Reliable"
          ],
          [
           "Volatility Trading Analysis with R"
          ],
          [
           "How To Profit From Stock Market Volatility"
          ],
          [
           "Awaken the Accountant in You | Master the Accounting Basics"
          ],
          [
           "WE WILL PAY YOU TO TRADE WITH US"
          ],
          [
           "Situational Trading: Proven Option Strategy for any Scenario"
          ],
          [
           "Portfolio Management for CA / CS / CFA exams"
          ],
          [
           "Algorithmic Trading in MATLAB: WFAToolbox App GUI (Finance)"
          ],
          [
           "Finding an Unlimited Amount of Investors"
          ],
          [
           "Bookkeeping Made Easy"
          ],
          [
           "BITCOIN VISUALLY. Part I."
          ],
          [
           "Learn and Master the Basics of Finance"
          ],
          [
           "FOREX : LearnTo Trade the Improved ( Advanced ) Patterns"
          ],
          [
           "Mastering the Market : (Technical Analysis + Candlestick)"
          ],
          [
           "Mastering Countertrend Trading : High Profit Trading Pattern"
          ],
          [
           "Exam 1 Review - Managerial Accounting (U of H)"
          ],
          [
           "* An Integrated Approach to the Fundamentals of Accounting"
          ],
          [
           "Get to grips with the CFA calculator"
          ],
          [
           "Financial Model Fundamentals-Learn the Essential Skills"
          ],
          [
           "Forex: Economic News Trading"
          ],
          [
           "Analyze Real Estate Investments | Financial Modeling"
          ],
          [
           "Forex For Beginners - A Guide To Currency Trading"
          ],
          [
           "Raise Your Credit Score to 800 Or More...."
          ],
          [
           "Financial Management Budgeting Techniques"
          ],
          [
           "Forex Killing Divergence - How to trade with precision"
          ],
          [
           "Working Capital Management for CA / CFA / CPA Exams"
          ],
          [
           "Risk Analysis - Capital Budgeting for CA / CS / CFA exams"
          ],
          [
           "Corporate Finance 101: Financial Statement Analysis & Ratios"
          ],
          [
           "Mastering Futures Options for Beginners - Your Top 5 Plays!"
          ],
          [
           "Professional Options Trading, Simplified"
          ],
          [
           "Advanced Options Concepts - Probability, Greeks, Simulation"
          ],
          [
           "Accounting Basics - A Complete Study"
          ],
          [
           "Case Studies in Macro Economics"
          ],
          [
           "My Forex Strategy that win consistently over and over"
          ],
          [
           "Understand Banks & Financial Markets "
          ],
          [
           "Stock Technical Analysis with Python"
          ],
          [
           "How to Become an Accountant from scratch!"
          ],
          [
           "How to invest in Gold"
          ],
          [
           "Automate Your Finances"
          ],
          [
           "MBA Accounting and Finance for Managers(Paper MS04 of IGNOU)"
          ],
          [
           "Accounting Made Easy: A Quick Guide to Financial Accounting"
          ],
          [
           "Futures/Commodity Training (Basics)"
          ],
          [
           "Cost Accounting Marginal Costing Theory and Practice"
          ],
          [
           "The Big Volatility Short: The Best Trade On Wall Street!"
          ],
          [
           "Master Finance in Three Hours"
          ],
          [
           "Learn Options on Futures for Hedging Options and Stocks"
          ],
          [
           "Option selling trading as income source. Beginners friendly"
          ],
          [
           "Introduction to Value Growth Investing"
          ],
          [
           "Become A Forex Trader - Forex trading like a professional"
          ],
          [
           "Hedge Fund Trading System"
          ],
          [
           "Bulletproof Personal Finance: Expert Asset Allocation"
          ],
          [
           "Financial Accounting: The Complete Introductory Crash Course"
          ],
          [
           "Learn About Trading Options from a real wallstreet trader"
          ],
          [
           "Forex Rate -Why it fluctuates -for CA / CMA / CS / CFA Exams"
          ],
          [
           "How to Build a Massive Stock Portfolio from Zero!"
          ],
          [
           "Introductory Forex Trading Course"
          ],
          [
           "Budgeting Hacks to Build Wealth!"
          ],
          [
           "Accounting and Finance for Bankers - A Comprehensive Study"
          ],
          [
           "Forex Prep Academy for Beginners-Real trades!"
          ],
          [
           "Accounting for Deferred Taxes (Professional Course Level)"
          ],
          [
           "TRADING TRUTHS"
          ],
          [
           "The Binary Institute - Introductory Course in Binary Options"
          ],
          [
           "Forex Trading vs Option Trading"
          ],
          [
           "How to Invest in Stocks + Billionaire Investing Tips"
          ],
          [
           "Value Investing For Beginners"
          ],
          [
           "TRADING TACTICS"
          ],
          [
           "MQL4 Tutorial Bootcamp - Trading Robot Coding in Metatrader4"
          ],
          [
           "Ultimate Retirement: Build Your Own Dynamic Retirement Plan"
          ],
          [
           "build a solid foundation for trading options"
          ],
          [
           "Forex Scam: Avoid the scam today"
          ],
          [
           "Cost Accounting Crash Course"
          ],
          [
           "Option Trading for Rookies: Basic Option Strategies"
          ],
          [
           "Business Analysis:  Working with Use Cases"
          ],
          [
           "Learn to Raise the Funds You Need via Crowdfunding"
          ],
          [
           "Business finances"
          ],
          [
           "Financial Accounting - A Brief Introduction"
          ],
          [
           "Trading Economic Indicators - Complete Trading System"
          ],
          [
           "Foundation of Options Trading and Investing"
          ],
          [
           "Option Trading - How To Earn If You Can't Predict The Market"
          ],
          [
           "The Financial Analyst Skills Training (FAST) course 2017"
          ],
          [
           "Covered Calls - Powerful Income Strategy for Stock Traders"
          ],
          [
           "Accounting 1 Simplified for You"
          ],
          [
           "[Value Investing] Where White People Keep Their Money"
          ],
          [
           "How to Start Investing: Made Simple and Easy"
          ],
          [
           "Basics of Commerce A Complete Study"
          ],
          [
           "The Passive Investing Blueprint - Build Wealth Passively"
          ],
          [
           "7 Steps: Your Introduction to Trading"
          ],
          [
           "Forex - Elliott Wave Theory with Fibonacci. "
          ],
          [
           "The Actuarial Profession: Basic Sciences and Principles"
          ],
          [
           "Investing in stocks: Avoid stock market loss"
          ],
          [
           "QuickBooks Online: Complete Guide & Certification tips"
          ],
          [
           "Build Financial Models & Value Companies The Easy Way"
          ],
          [
           "Adventure Capital: How to pay off debt "
          ],
          [
           "Chart Patterns Trading Demystified"
          ],
          [
           "Financial Planning & Analysis: Building a Company's Budget"
          ],
          [
           "Simple things you must know before start FOREX (OFFER)"
          ],
          [
           "Practical Finance"
          ],
          [
           "Forex Trading: Comprehensive & Concise Forex Trading Course"
          ],
          [
           "Leaps Options Trading System - Diagonal Leaps Options Spread"
          ],
          [
           "Finance - Ratios Analysis & Interpretations"
          ],
          [
           "Forex Trading -  Learn to Trade From Scratch!"
          ],
          [
           "Technical Analysis tools for Stocks and Options trading"
          ],
          [
           "Quantitative Trading Analysis with R"
          ],
          [
           "Penny Stocks King: How 2 really Trade Penny Stocks (6 Hours)"
          ],
          [
           "Get Started With Penny Stocks -Step by Step Guide to Trading"
          ],
          [
           "CPA 101: How To Master Affiliate Marketing In No Time"
          ],
          [
           "Corporate Internal Controls and Fraud Controls"
          ],
          [
           "Forex trading tactics, that work!"
          ],
          [
           "Professional Risk Manager (PRM) Certification: Level 2"
          ],
          [
           "Trading Options Basics"
          ],
          [
           "Practical Trading on Financial Futures & Options Markets"
          ],
          [
           "Bookkeeping made simple"
          ],
          [
           "The Visual Learning Basic Accounting Course"
          ],
          [
           "ChalkTalk: Financial Accounting"
          ],
          [
           "The 7 fundamentals to Successful Cashflow Management"
          ],
          [
           "How to trade options"
          ],
          [
           "Coaching Course:Investment Analysis for your clients"
          ],
          [
           "Harnessing the Power of Growth Stocks"
          ],
          [
           "The Investment Banking Recruitment Series"
          ],
          [
           "Business Banking 101"
          ],
          [
           "CFA Level I Workshop 2: Financial Reporting & Analysis I "
          ],
          [
           "Breakout Patterns Workshop by Pattern Trader"
          ],
          [
           "Asset Protection Using Offshore Companies"
          ],
          [
           "Get Credit for Your EIN That's Not Linked to Your SSN"
          ],
          [
           "Financial Translation"
          ],
          [
           "How to Pick Stocks"
          ],
          [
           "Binary Beginners Mastery Strategy."
          ],
          [
           "Accounting 101-Master Class for Understanding Business"
          ],
          [
           "High-Frequency Trading & Dark Pools"
          ],
          [
           "How To Crowdfund"
          ],
          [
           "Financial Statement Fundamentals for Small Biz & Investors"
          ],
          [
           "Master The Stock Market with practice"
          ],
          [
           "Introduction to Trade Theory (Technical Analysis) For Stocks"
          ],
          [
           "Forex Trading For Beginners: Technical Trading"
          ],
          [
           "IAS 12 - Accounting for Income Taxes (Basics)"
          ],
          [
           "Surpassing Your Kickstarter Goals"
          ],
          [
           "Simple Linear Regression Analysis ( A Complete Course )"
          ],
          [
           "Forex: Learn to Trade Forex and FX Consistently"
          ],
          [
           "Trading: High-ROI Trading"
          ],
          [
           "Fundraising 101"
          ],
          [
           "Professional Bookkeeping & Accounting 2 - Bank Daybook"
          ],
          [
           "Filing with Companies House UK"
          ],
          [
           "Build, Grow, and Protect Your Assets: A Step-by-Step Guide"
          ],
          [
           "The Advantages of ETF Options and Index Options Trading"
          ],
          [
           "Learn to Trade Forex - from Beginner to Professional"
          ],
          [
           "Investing In Stocks For Big Gains, Fundamental Investing"
          ],
          [
           "Introduction to Equity Markets"
          ],
          [
           "Beginners Guide To Ichimoku Trading"
          ],
          [
           "Financial Management - Ratio Analysis"
          ],
          [
           "ALGOTECH Hedge Fund Method for Stock Market Trading"
          ],
          [
           "Futures/Commodity Trading"
          ],
          [
           "Complete Claritas Investment Certificate"
          ],
          [
           "Introduction to the economics of public services regulation"
          ],
          [
           "Accounting Standard 3 - An Analysis"
          ],
          [
           "Essentials of money value: Get a financial Life !"
          ],
          [
           "Introduction to Forex Trading Business For Beginners"
          ],
          [
           "Cryptocurrency (BTC & ETH) Investment & Trading Course 2017"
          ],
          [
           "Introduction to Project Management for Finance and Acct'g"
          ],
          [
           "Best Practices in Corporate Budgeting"
          ],
          [
           "Financial Statement Auditing Cycles"
          ],
          [
           "Case studies on credit appraisal for bankers"
          ],
          [
           "Building a Balanced Scorecard"
          ],
          [
           "Options Trading Foundation: Your journey to competency..."
          ],
          [
           "Forex how traders beat the markest with little experience"
          ],
          [
           "CFA Level 2- Quantitative Methods"
          ],
          [
           "Foundations of Investing"
          ],
          [
           "Capital Market Road Map"
          ],
          [
           "TRADING: 5K CHALLENGE"
          ],
          [
           "CurrencyFair - Avoid Bank Charges when converting currencies"
          ],
          [
           "Bitcoin - A Comprehensive Guide"
          ],
          [
           "Forex Trading"
          ],
          [
           "The True ' Secret Sauce  For Stock Market Success\""
          ],
          [
           "Bookkeeping to Command Senior Bookkeeping Wages"
          ],
          [
           "Take Your Career to the Next Level with MBA Finance"
          ],
          [
           "How to Read Financial Statements:  Build Financial Literacy."
          ],
          [
           "Accounting Books of Accounts (College Level)"
          ],
          [
           "Forex Trading Profitably"
          ],
          [
           "Learn How to Trade Pump and Dumps. 5 Setups Well Explained."
          ],
          [
           "Bitcoin Trading 101"
          ],
          [
           "Visualizing Data"
          ],
          [
           "IFRS Financial Reporting"
          ],
          [
           "Forex Trading System: Correlation EUR/GBP vs GBP/USD"
          ],
          [
           "SAP Crystal Reports:Master-Detail,Cross-Tab,Sub-Reports"
          ],
          [
           "Learn Financial Accounting Different"
          ],
          [
           "CFA Level I Workshop 4: Fixed Income and Equity"
          ],
          [
           "IAS37 - Provisions, Contingents Liabilities & Assets"
          ],
          [
           "What You Should Know to Become a Trader"
          ],
          [
           "Financial Reporting A Comprehensive Study"
          ],
          [
           "An Abundance Mindset: How to Craft Yours"
          ],
          [
           "Forex Trading Profit 183%p.a : Trend is Our Friend-ALGOTREND"
          ],
          [
           "How to Build a Massive Retirement Plan from Scratch!"
          ],
          [
           "Financial modeling: Build a forward looking financial model"
          ],
          [
           "Trading for Beginners - Entry Level"
          ],
          [
           "Bitcoin or How I Learned to Stop Worrying and Love Crypto"
          ],
          [
           "Trend Following Stocks: A Complete Trading System"
          ],
          [
           "Forex Basics"
          ],
          [
           "Accounting Bank Reconciliation Statement (College Level)"
          ],
          [
           "Bitcoin - Ethereum: Trading -Watch me manage my own account!"
          ],
          [
           "FOREX : Learn Technical Analysis"
          ],
          [
           "FastTrack to Stock Trading Strategies"
          ],
          [
           "Algorithmic futures trading - Investing with no experience"
          ],
          [
           "Succeed in Forex Even if You Don't Know Where to Start!"
          ],
          [
           "Hedge Fund Accounting and Valuation"
          ],
          [
           "Binary, Forex, Stock and Bitcoin Trading Strategy"
          ],
          [
           "2 Easy Steps To Investment And Avoiding Traps"
          ],
          [
           "Ethereum Course for Investors"
          ],
          [
           "Using Xero for your bookkeeping needs  do beautiful business"
          ],
          [
           "Capital Market Immersion"
          ],
          [
           "Forex Trading :RSI Indicator-A Secret Weapon"
          ],
          [
           "Trading Mindset, and Three Steps To Profitable Trading"
          ],
          [
           "Professional Bookkeeping & Accounting 4:Trial Balance & More"
          ],
          [
           "Internal Controls - Design, Implementation and Monitoring"
          ],
          [
           "Forex online live trading system (Special Offer)"
          ],
          [
           "Winning Options Trading System"
          ],
          [
           "Learn The ABC's Of Investing And Understanding True Financial Value"
          ],
          [
           "How to invest in Russian equity market"
          ],
          [
           "Handle difficult questions the bank manager will ask you"
          ],
          [
           "Credit Control Procedures"
          ],
          [
           "FMT: Forex Market Trader Certificate"
          ],
          [
           "Six Stage Negotiation"
          ],
          [
           "Financial Reporting - Fundamentals/Basics"
          ],
          [
           "Decide whether to Invest in a Business "
          ],
          [
           "UK Tax Returns with HMRC"
          ],
          [
           "Financial Market Environment & Investment Strategies"
          ],
          [
           "How to Obtain a Business Loan"
          ],
          [
           "Evolution and Features of ETFs"
          ],
          [
           "Cost Accounting Operating Costing(Professional Course Level)"
          ],
          [
           "Trade RSI Breakout Strategy: Great Risk/Reward Ratio (Forex)"
          ],
          [
           "Day trading strategy for all level, with 72% success rate"
          ],
          [
           "Accounting, Finance and Banking - A Comprehensive Study"
          ],
          [
           "Advanced Technical Analysis PART1!"
          ],
          [
           "Advanced Financial Management for CA / CS / CFA /CPA Exams"
          ],
          [
           "Learn the Foundations of Stocks and Options"
          ],
          [
           "Forex Trading Masterclass - Learn To Trade Better"
          ],
          [
           "Introduction to Accounting - Analyzing Financial Statements"
          ],
          [
           "Credit Risk Analysis"
          ],
          [
           "Fund Flow Analysis for CA / CFA / CPA Exams"
          ],
          [
           "Python for Trading & Investing"
          ],
          [
           "Stocks For Beginners - A Guide To Investing"
          ],
          [
           "Intro to Impact Investing"
          ],
          [
           "Stock Market - Swing Trading Strategies for Wall Street"
          ],
          [
           "Essential Options: Strategies for Mastering the Stock Market"
          ],
          [
           "The Day Trader: Learn to Trade The Stock Market and Forex"
          ],
          [
           "Introduction To The World Of Equity Finance"
          ],
          [
           "Stock Technical Analysis with Excel"
          ],
          [
           "Beginners Forex strategy"
          ],
          [
           "Mortgage Backed Securities"
          ],
          [
           "The Complete Financial Model Builder Course-Build 7 Models"
          ],
          [
           "Fundamental Financial Math"
          ],
          [
           "Equity Swaps"
          ],
          [
           "Proven Methods In Trading Candlestick Patterns"
          ],
          [
           "Read financial statements as a stock investor"
          ],
          [
           "Investing: How to Fix Hidden Flaws Inside Your Portfolio"
          ],
          [
           "Certificate Program in Financial Accounting"
          ],
          [
           "Trading Biotech Stocks - Understanding the Healthcare Sector"
          ],
          [
           "Indian Contract Act 1872: Must for all Finance Professionals"
          ],
          [
           "Fundraising Success: The Art & Science of Major Gifts"
          ],
          [
           "Smart Trading Techniques for Safe & Consistent Weekly Result"
          ],
          [
           "Technical Trading and Investing Made Easy"
          ],
          [
           "Budgeting for Business"
          ],
          [
           "Complete Guide to Business Loans"
          ],
          [
           "Hot Trading Investing Strategy: ETF and Futures"
          ],
          [
           "Financial Management - A Complete Study"
          ],
          [
           "MQL4 Programming for Traders: Build Robust Trading Robots!"
          ],
          [
           "Ultimate Stock Market Investing: Learn How to Value Stocks"
          ],
          [
           "Collection of Advanced Options concepts for Options traders"
          ],
          [
           "No Bull Investing: Investing 101 For Financial Freedom"
          ],
          [
           "Financial Modeling - Build Your Own 3 Statement Projection"
          ],
          [
           "Small Business Owners: Drive a Productive Business and Grow"
          ],
          [
           "Successful Day Trading with Fibonacci"
          ],
          [
           "Short Straddles - Exploit Earnings Option Volatility Crush"
          ],
          [
           "Bitcoin For Beginners: Your Quick Start Guide To Bitcoin"
          ],
          [
           "Technical Analysis 101: Ten Primary Candlestick Reversals"
          ],
          [
           "Financial Analysis:  A Recipe for Success"
          ],
          [
           "Basics of Fixed Income Valuation, CFA Level I 2017 Prep"
          ],
          [
           "Intro to Financial Statement Audits"
          ],
          [
           "How to Get Growing, Passive Income from the Fortune 500!"
          ],
          [
           "Managing Budgets in the Public and Non Profit Sector"
          ],
          [
           "System of Asset Management for Professionals (SAMP)"
          ],
          [
           "How to invest in Forex Trading & add an additional income"
          ],
          [
           "Tax made simple for Limited Company Owners and Contractors"
          ],
          [
           "Introduction to the 8 Pillars for Accountants"
          ],
          [
           "FX Trading for Beginners"
          ],
          [
           "Write a Successful Business Grant Proposal"
          ],
          [
           "A Guide To Trade Binary Options Like An Expert"
          ],
          [
           "Ratio analysis for bankers and credit analysts"
          ],
          [
           "Numbers for the  Business Plan"
          ],
          [
           "Dash Crypto Currency Technical and Trading Overview Bootcamp"
          ],
          [
           "1 - Concepts of Statistics For Beginners Step by Step"
          ],
          [
           "4. Ordinary Simple Annuities: The Basics"
          ],
          [
           "الدروس التعليمية لسوق الفوركس والأسواق المالية الأخرى"
          ],
          [
           "Financial Risk Manager (FRM) Certification: Level II"
          ],
          [
           "Level 1 2014 CFA® Program – Corporate Finance"
          ],
          [
           "3. Compound Interest "
          ],
          [
           "8. Amortization Schedules"
          ],
          [
           "Finance Fundamentals for Non Finance Leaders"
          ],
          [
           "Strategy layout and Backtesting"
          ],
          [
           "Easy Forex and Futures Trading"
          ],
          [
           "Finanzas y Análisis Financiero: Manejo Seguro de Negocios"
          ],
          [
           "Aprende a hacer paper trading (simulación) con Ninja Trader"
          ],
          [
           "Trading mit kleinen Konten - Grundlagen die du kennen musst"
          ],
          [
           "entiende la contabilidad y consigue un aumento de salario"
          ],
          [
           "Trade for Profit: Find-Trade Stocks Successfully Arabic عربي"
          ],
          [
           "Trading Forex  - L'analyse des volumes"
          ],
          [
           "Disminuye deudas en tu hogar en menos de 30 días"
          ],
          [
           "CPA 10 COMPLETO"
          ],
          [
           "Trading Intradiario basado en Precio y Volumen"
          ],
          [
           "Aprenda Cálculo Financeiro de Forma Simples"
          ],
          [
           "Wie funktionieren Bitcoin? Ein Einführungskurs."
          ],
          [
           "Estruturação Financeira"
          ],
          [
           "Five steps to becoming a winner in stock investing"
          ],
          [
           "Financial Accounting Plus Excel and SAP Crash Course."
          ],
          [
           "Introduction to Financial Consolidation under IFRS"
          ],
          [
           "How to read a Profit & Loss Account and Balance Sheet"
          ],
          [
           "Learn Bookkeeping From Scratch"
          ],
          [
           "ACCA MA1 Management Information"
          ],
          [
           "Introduction to Bitcoin for Beginners"
          ],
          [
           "Stock Trading: Ultimate Guide to swing trading stocks"
          ],
          [
           "Bookkeeping Systems"
          ],
          [
           "Precious Metal Equities"
          ],
          [
           "Start Now: A Rescue Plan for Retirement Late Savers"
          ],
          [
           "Eu Funding: Module 2 - Introduction to Horizon 2020"
          ],
          [
           "How I Make Money Writing About Stocks Online"
          ],
          [
           "Tradeonomics - Four Steps to Mastering Economic Indicators"
          ],
          [
           "Improve Your Financial Literacy"
          ],
          [
           "Forex Trading : Power Of Moving Averages"
          ],
          [
           "Demystifying Your Personal Tax Return"
          ],
          [
           "Samuel and Co Trading - Stock & Forex Trading"
          ],
          [
           "Accounting Department's Tips & Tricks - Beginner to Advanced"
          ],
          [
           "Certificate Program In Management Accounting"
          ],
          [
           "How I Trade Forex Successfully"
          ],
          [
           "Professional Trading With Institutional Supply & Demand"
          ],
          [
           "Master Calendar Spreads with this live trade on Gold (GLD)"
          ],
          [
           "Accounting 101: Guide to Business Accounting"
          ],
          [
           "An Introduction to Financial Markets on Wall Street"
          ],
          [
           "Win 90% of Trades; Quantitative Investments Models in Excel"
          ],
          [
           "The Forex Pivot Points Trading Strategy"
          ],
          [
           "Your Business by the Numbers"
          ],
          [
           "Forex - Trade Gartley with Precision - Complete Strategy"
          ],
          [
           "Bitcoin & Ethereum Course (2 Course Bundle)"
          ],
          [
           "Create Trading Robot Without Coding Skills!"
          ],
          [
           "Accounting and the Triple Bottom Line"
          ],
          [
           "MQL5 - Beginner To Expert"
          ],
          [
           "How to be A High Performance Insurance Broker Part 2"
          ],
          [
           "CFA Level I Workshop 5: Corp Finance, Quants II & Derivative"
          ],
          [
           "Xero Bookkeeping Course & Certification by Accounting Firm"
          ],
          [
           "Trading News Using Binary Options"
          ],
          [
           "Trading Trends in ANY Market"
          ],
          [
           "Financial Statements Analysis: Learn to Invest Like a Pro!"
          ],
          [
           "Contango VXX - ETF Options Trading - Double Your Investment"
          ],
          [
           "Mergers and Acquisitions M&A Essentials You Need to Know"
          ],
          [
           "TRADING MARKET MAP"
          ],
          [
           "How To Confidently Join The Bitcoin Revolution"
          ],
          [
           "High Probability Trading Across Any Market: Stocks & Forex"
          ],
          [
           "Option Trading for Rookies: Make & Manage Profitable Trades"
          ],
          [
           "Your First Successful Forex Trades - With Case Studies"
          ],
          [
           "MCA Accountancy and Financial Management -Paper MCS 35 IGNOU"
          ],
          [
           "High-Frequency Trading #1: Basics, History & Strategies"
          ],
          [
           "Financial Accounting - The Ultimate Beginner Course"
          ],
          [
           "Level 1 2014 CFA® Program – Derivatives"
          ],
          [
           "The Complete Investing Guide: How to Beat Wall Street"
          ],
          [
           "Bitcoins - Past, Present, Future"
          ],
          [
           "Learn Accounting by Specific Examples - Part 1"
          ],
          [
           "Forex: Presentation and  Analysis (Fundamental & Technical)"
          ],
          [
           "Year-end QuickBooks Procedures"
          ],
          [
           "Price Action Gap Trading Strategies"
          ],
          [
           "How to start a successful career in finance?"
          ],
          [
           "Level 1 2014 CFA® Program – Equity Investments"
          ],
          [
           "Wealth Management"
          ],
          [
           "Basics of Private Equity"
          ],
          [
           "Curso Completo del Mercado FOREX"
          ],
          [
           "Como Investir em Ações para Iniciantes"
          ],
          [
           "Robots de Forex: espere ganar 175%p.a! Incluye Robot de Fx! "
          ],
          [
           "６時間でインターバンク市場を攻略！最短距離でトレード基礎力"
          ],
          [
           "Matemática Financeira de um jeito fácil"
          ],
          [
           "ビットコイン生態系｜既存通貨が主役をやめる日"
          ],
          [
           "Trading Forex - Trader avec les figures harmoniques"
          ],
          [
           "Введение в Финансовую Инженерию"
          ],
          [
           "Aprenda a Investir no Tesouro Direto Passo a Passo"
          ],
          [
           "資産運用の基礎を学ぶファイナンス入門"
          ],
          [
           "Aprende a invertir y deja que tu dinero trabaje para ti"
          ],
          [
           "Buchführung lernen leicht gemacht"
          ],
          [
           "Day Trading: High ROI Day Trading "
          ],
          [
           "Flow Management and Forecasting"
          ],
          [
           "An Introduction to Management of Portfolios (MoP)"
          ],
          [
           "CFA Level I Workshop 1: Ethics and Quantitative Methods"
          ],
          [
           "Accounting Basics 101 for Understanding Business"
          ],
          [
           "Mortgage Acceleration"
          ],
          [
           "Stock Market for Beginners. Learn to trade"
          ],
          [
           "CFA Corporate Finance Level 1 (Part 1)"
          ],
          [
           "Trading Tips from Hedge Fund Manager"
          ],
          [
           "Effective Debt Collection Strategies"
          ],
          [
           "IAS 1-Presentation of Financial Statements "
          ],
          [
           "Stock Trading Strategies Using a D.A.R.T."
          ],
          [
           "Capital Structuring Techiques for CA / CFA / CPA Exams"
          ],
          [
           "The Complete Guide to Forex Trading"
          ],
          [
           "Learn How to Trade Binary Options Professionally"
          ],
          [
           "Learn How to Start Small and Make It Big In Small-Cap Stocks"
          ],
          [
           "Trading strategies with common sense technical analysis"
          ],
          [
           "Startup Business: How To Raise Seed Capital"
          ],
          [
           "Business Economics - Basics (College Level)"
          ],
          [
           "Technical Analysis 101: Master the Basics of Trading"
          ],
          [
           "Investing in Stocks? Master The Art of Covered Calls Selling"
          ],
          [
           "How to Trade Binary Options Effectively – All Levels"
          ],
          [
           "Stock Market: The Zero Risk Way of Investing"
          ],
          [
           "Forex Trading using professional indicators by TOP traders"
          ],
          [
           "Corporate Finance 101: Equity Valuation"
          ],
          [
           "Trading Strategies: Find The Trading Strategy That Fits You"
          ],
          [
           "Forex Trading - Learn An Effective Forex Trading Strategy"
          ],
          [
           "Navigate the 10-K and Other Financial Reports"
          ],
          [
           "From 0 to 1: Investments and Portfolio Theory"
          ],
          [
           "Bitcoin - The Complete Guide"
          ],
          [
           "Professional Trader's Mindset - Complete Forex Course"
          ],
          [
           "Bitcoin Peer Investing: How To Generate Double Digit Returns"
          ],
          [
           "Forex Breakout Profits: The Definitive Guide"
          ],
          [
           "Learn to Trade With Fibonacci Tools"
          ],
          [
           "Investing Internationally into Real Estate, Stocks and Bonds"
          ],
          [
           "From 0 to 1: Bond Theory and Valuation"
          ],
          [
           "Stock Market Mastery"
          ],
          [
           "UK Self Assessment Tax Return Filing Online"
          ],
          [
           "Introduction to Financial Statements"
          ],
          [
           "IAS 8-Accounting Policies ,Changes in Accounting Estimates"
          ],
          [
           "CFA® Level 1 2014 – Financial Reporting and Analysis"
          ],
          [
           "Investment Banking Operations : Securities Trade Life Cycle"
          ],
          [
           "CFA Level I Foundation Course: Introduction to Quants"
          ],
          [
           "Financial Risk Manager (FRM) Certification: Level I"
          ],
          [
           "IAS 10 - Events After Reporting Date"
          ],
          [
           "Investment Portfolio Analysis with Excel"
          ],
          [
           "Introduction to the CFA Program"
          ],
          [
           "Chartered Financial Analyst (CFA) - Level 1 - FRA"
          ],
          [
           "Excel 4 Accounting & Bookkeeping - Master Lookup Functions"
          ],
          [
           "Cashflow Management for Small Businesses: A How To Guide"
          ],
          [
           "Forex Basics (Professional Course Level)"
          ],
          [
           "Advanced Butterfly Spreads for Options Income Strategies"
          ],
          [
           "The Holy Grail of Auto Trading Forex Futures Stocks Revealed"
          ],
          [
           "IPO Fundamentals"
          ],
          [
           "Finance for Non-Finance: Learn Quick and Easy"
          ],
          [
           "Advanced Options Trading Course"
          ],
          [
           "Statistics - Measures of Dispersion for CA / CS / CFA exams"
          ],
          [
           "Work From Home Online (Part/Full) : Trade Forex 4 Beginners"
          ],
          [
           "Financial Ratios Using Excel"
          ],
          [
           "How To Start Trading Penny Stocks In 10 Easy Steps 2017"
          ],
          [
           "How to Copy the Best Traders on Etoro"
          ],
          [
           "How To Set Up A Limited Company In The UK"
          ],
          [
           "Forex trading made simple"
          ],
          [
           "Financial and Business Simulation with Microsoft Excel"
          ],
          [
           "10.  Bonds and Bond Pricing"
          ],
          [
           "Professional Risk Manager (PRM) Certification: Level 3"
          ],
          [
           "Stocks: Quick Method to get started Investing"
          ],
          [
           "The Fundamentals Of Finance For Non-Finance Professionals"
          ],
          [
           "Forex - Top Equity Management Strategy"
          ],
          [
           "The Truths about (in)secure Retirement"
          ],
          [
           "Learn How to File Taxes for Uber and Lyft Drivers"
          ],
          [
           "Learn the Basics of the Wave Principle:"
          ],
          [
           "MasterClass-Japanese &  Heiken Ashi CandleStick Patterns"
          ],
          [
           "Start Trading Stocks Using Technical Analysis! Part 2"
          ],
          [
           "Introduction to Corporate Finance (Mergers & Acquisitions)"
          ],
          [
           "Forex & Financial Market Trading Tutorial- Online Strategies"
          ],
          [
           "Learn to trade Candlestick Patterns"
          ],
          [
           "High-Frequency Trading #2: Market Structure & Instruments"
          ],
          [
           "The Art Of Financial Valuation With Certificate"
          ],
          [
           "Sensitivity & Scenario Analysis for CA / CFA / CPA Exams"
          ],
          [
           "Economics:   Competition, Elasticity, a little Game Theory"
          ],
          [
           "Quantitative Trading Analysis with Python"
          ],
          [
           "Invest Like a Pro!"
          ],
          [
           "Options Trading Essentials: The ULTIMATE Guides"
          ],
          [
           "ACCA FA1 Recording Financial Transactions"
          ],
          [
           "CFA® Level 1 2014 – Portfolio Management"
          ],
          [
           "Essentials Of Swing Trading Stocks"
          ],
          [
           "Small Business and Managerial Accounting Training Tutorial"
          ],
          [
           "Use Crowdfunding Effectively With Indiegogo and Kickstarter"
          ],
          [
           "The Complete Litecoin Crypto Currency Bootcamp"
          ],
          [
           "Bank Reconciliation & VAT on Excel"
          ],
          [
           "Commodity Futures Day Trading Strategies"
          ],
          [
           "Learn to invest in the Stock Market"
          ],
          [
           "FX Commodity Chart Trading Patterns for Success"
          ],
          [
           "Forex Elite Trading"
          ],
          [
           "How to Invest in Startups - Expert Reveals Winning Secrets."
          ],
          [
           "Kickstarter success in 5 easy steps"
          ],
          [
           "Understanding Financial Statements"
          ],
          [
           "Planning and Executing a Financial Statement Audit"
          ],
          [
           "The Latest Updates 2016 Financial Accounting Standards Board"
          ],
          [
           "How to achieve personal transformation"
          ],
          [
           "Basic Bookkeeping"
          ],
          [
           "Credit concepts and checklist for bankers, credit analyst"
          ],
          [
           "Practical Film Financing: Finding & Pitching Investors"
          ],
          [
           "Ratio Analysis for Financial Statements"
          ],
          [
           "60 Minutes to Fundamental Accounting Skills"
          ],
          [
           "Essentials of money value: Get a financial Life !"
          ],
          [
           "Introduction to Forex Trading Business For Beginners"
          ],
          [
           "Backspreads, Diagonals and Butterflies - Advanced Strategies"
          ],
          [
           "Trade Forex 13 Patterns - Golden Ratios Secret Revealed"
          ],
          [
           "Crystal ball trading - foresee price with seasonal patterns"
          ],
          [
           "Weekly Options and study of Options expiration dynamics"
          ],
          [
           "Cost Accounting Basics (Professional Course Level)"
          ],
          [
           "Learn to Reliably Invest In The Stock Market"
          ],
          [
           "Hedge Fund Trading Systems Part Two - Stocks & ETFs"
          ],
          [
           "Stock Market Option Trading: How Sell Options For Premium"
          ],
          [
           "Straddles and Strangles - Volatility moves in any direction"
          ],
          [
           "Debt Collection Management: Get Paid On Time EVERY TIME!"
          ],
          [
           "Learn about it"
          ],
          [
           "Trading: Basics of Trading for Beginners"
          ],
          [
           "Options Spreads Bundle-  the heart of Options Trading"
          ],
          [
           "Trade the News in Forex: EA Robot Included"
          ],
          [
           "Investment Portfolio Analysis with R"
          ],
          [
           "Basics of Economics For Beginners A to Z - A Complete Course"
          ],
          [
           "Seeing the Big Picture: Understanding Financial Statements"
          ],
          [
           "Financial Modeling for Professionals in 1 Day!"
          ],
          [
           "Create Your Own Automated Stock Trading Robot In EXCEL!"
          ],
          [
           "FOREX: From Zero To Hero"
          ],
          [
           "Learn Call Options and Put Options - Introduction to Options"
          ],
          [
           "1. Principles of Simple Interest "
          ],
          [
           "Double Entry Bookkeeping"
          ],
          [
           "MQL5 Tutorial Bootcamp"
          ],
          [
           "Succeed at Options Even If You Don't Know Where to Start"
          ],
          [
           "Buying, Selling, and Storing Precious Metal"
          ],
          [
           "Accounting Skills for Managers"
          ],
          [
           "Analysis and Evaluation of Economic Feasibility of Projects"
          ],
          [
           "Technical Analysis: Understanding Price Action"
          ],
          [
           "Bitcoin For Beginners"
          ],
          [
           "IAS 16-Property,Plant and Equipment "
          ],
          [
           "Basel II"
          ],
          [
           "Forex Trading Plan"
          ],
          [
           "Financial Modeling 101"
          ],
          [
           "Learn Financial Modeling from Scratch - Part1"
          ],
          [
           "Introduction to Small Business Accounting Training Tutorial"
          ],
          [
           "Learn Basic Concepts of Economics Step by Step - Complete"
          ],
          [
           "Introduction to Digital Payments "
          ],
          [
           "The Beginner's Guide to the Futures and Options Trading"
          ],
          [
           "Bitcoin Investing: The Complete Buy & Hold Strategy"
          ],
          [
           "Financial Modeling in Excel for Startups"
          ],
          [
           "Learn to Trade Forex Naked Price Action Big Shadow Trade"
          ],
          [
           "Forex Trading For Beginners "
          ],
          [
           "Build a Trading Comps Valuation Model"
          ],
          [
           "The Advanced Forex Course for Smart Traders"
          ],
          [
           "Cost Accounting Overheads (Professional Course Level)"
          ],
          [
           "Beginners Guide to Stock Market Investing"
          ],
          [
           "Financial Management Capital Market Instruments"
          ],
          [
           "NPV and IRR Techniques for CA / CFA / CPA Exams"
          ],
          [
           "Commercial Credit Analysis"
          ],
          [
           "Essential Finance For Managers"
          ],
          [
           "Bitcoin for Accountants"
          ],
          [
           "ProTrader -  Advanced Technical Analysis"
          ],
          [
           "Binary Options Masterclass"
          ],
          [
           "188% Profit in 1Year - Forex ALGO Robot Trading no indicator"
          ],
          [
           "Financial Accounting, its Cycle, Statements & Analysis"
          ],
          [
           "Yield Curve Dynamics"
          ],
          [
           "Value Investing and Stock Market Fundamentals"
          ],
          [
           "Media Training for Financial Service Professionals"
          ],
          [
           "Learn the Forex Naked Price Action Pogo Trade"
          ],
          [
           "Forex - Price action Reversal Strategy"
          ],
          [
           "Budget preparation for an EU project proposal"
          ],
          [
           "Corporate Finance and Alternative Investment for CFA L1"
          ],
          [
           "Don't Let Your Customers Run Your Business"
          ],
          [
           "Stock Trading: Insider Tips For Determining Market Direction"
          ],
          [
           "TopTrader Academy - Complete Options Course"
          ],
          [
           "Working Capital Management for Entrepreneurs"
          ],
          [
           "Learn Quickbooks to maintain books properly"
          ],
          [
           "CFA Level I Foundation: Introduction to Financial Reporting"
          ],
          [
           "Fixed Income Valuation and Analysis, CFA L2"
          ],
          [
           "Corporation Tax Returns UK"
          ],
          [
           "Trading For Busy People"
          ],
          [
           "Basics of Trading"
          ],
          [
           "CFP - Introduction to Financial Planning"
          ],
          [
           "Investment Portfolio Analysis with Python"
          ],
          [
           "Day Trading Market Structure Signals"
          ],
          [
           "Professional Bookkeeping and Accounting 3: Double Entry "
          ],
          [
           "Accounting Basics by Hector Garcia, CPA"
          ],
          [
           "Stock Markets: How I Became Rich By Changing How I Trade"
          ],
          [
           "Learn About Bitcoin and Bitcoin Mining"
          ],
          [
           "Take Control By Learning The Stock Market Now"
          ],
          [
           "Cost Accounting and Financial Management - A Complete Study"
          ],
          [
           "Learn Global Macro Trading & Investing for Retail Investor"
          ],
          [
           "Energiespar-Formel // Mehr Geld durch Wasser sparen Zuhause"
          ],
          [
           "high swing - كورس لتعليم جميع مراحل احتراف تداول الفوركس"
          ],
          [
           "TRADER BOT: Introdução à Linguagem MQL5"
          ],
          [
           "财务分析与估值建模入门"
          ],
          [
           "Aprende desde cero a operar el mercado de divisas FOREX"
          ],
          [
           "Cómo usar Metatrader 4 para hacer trading?"
          ],
          [
           "Zoho Books Gestion Financière d'Entreprise pas à pas"
          ],
          [
           "Aprende a llevar la contabilidad de forma informatizada"
          ],
          [
           "Psicología del trading"
          ],
          [
           "La costruzione del budget di una proposta comunitaria"
          ],
          [
           "Erfolgreich als Signalgeber/in, per Social- und Copytrading"
          ],
          [
           "Aprenda  a Investir"
          ],
          [
           "Teeter-Totter Accounting"
          ],
          [
           "beginning accounting"
          ],
          [
           "Stop Creditors from Harassing you and Avoid Bankruptcy"
          ],
          [
           "Learn to trade using technical analysis"
          ],
          [
           "How to Invest Using ETFs from Former Wall Street Trader"
          ],
          [
           "Workshop on Banking Credit Analysis Process"
          ],
          [
           "The Cuckoo Strategy to get European Funding"
          ],
          [
           "Accounting - The 6 most important rules you must learn"
          ],
          [
           "Mutual Funds for Investors in Retirement Accounts"
          ],
          [
           "Free Ways to Create Passive Income Online"
          ],
          [
           "Understanding Financial Statements"
          ],
          [
           "The Cash Flow Statement - An Introduction"
          ],
          [
           "Options Foundation - Time Decay, Implied Volatility, Greeks"
          ],
          [
           "Buying Call and Put Options - Options beginner strategies"
          ],
          [
           "How To Trade RSI Pullback Strategy: Entry To Exit (Forex)"
          ],
          [
           "Valuation of Goodwill for CA / CFA / CMA Exams"
          ],
          [
           "Forex - Catch the Big Market Moves in Forex"
          ],
          [
           "SEASON 2 MQL4 Tutorial Bootcamp - Metatrader4 Trading Robots"
          ],
          [
           "Intermediate Accounting 1: Easy. Fast. Simple!"
          ],
          [
           "Global Macro Investing - Take Control Of The World's Markets"
          ],
          [
           "How to Read a Balance Sheet"
          ],
          [
           "Credit Repair from a Financial Institution"
          ],
          [
           "The Binary Institute -  Binary Options Trading Course"
          ],
          [
           "Mental Models For Wall Street - Become A Better Trader"
          ],
          [
           "株式投資に向く性格に変えるための心理学を学ぶ"
          ],
          [
           "Matemática Financeira com HP12C e MS Excel"
          ],
          [
           "¡Triunfar en La Bolsa de Valores No Requiere de Experiencia!"
          ],
          [
           "Cómo Crear Políticas Contables bajo NIIF para PYMES"
          ],
          [
           "Finanzas Personales para Vivir Libre de Deudas"
          ],
          [
           "Finanzas personales: Logrando la Libertad Financiera"
          ],
          [
           "株式投資で本当のテクニカル分析ができるようになる"
          ],
          [
           "Aktiver Vermögensaufbau mit ETF"
          ],
          [
           "Socorro! Preciso Organizar as Minhas Finanças!"
          ],
          [
           "Curso Completo de Opciones Binarias: Estrategias 90% Acierto"
          ],
          [
           "Le basi del Trading"
          ],
          [
           "【個人事業主向け】青色申告の記帳を自力で行うための複式簿記の基本"
          ],
          [
           "Profit and Loss Account for bankers and credit analysts"
          ],
          [
           "Business Accounts For Managers"
          ],
          [
           "Black Scholes Option Pricing Model"
          ],
          [
           "Chief Wealth Officer"
          ],
          [
           "Practical Accounts Training A"
          ],
          [
           "International Trade and New Geographic Economy"
          ],
          [
           "2. Principles of Simple Interest - advanced problems"
          ],
          [
           "School of Raising Capital: Agile Financial Modeling"
          ],
          [
           "How to Read Financial Statements"
          ],
          [
           "Intro. to Asset-Backed Securities, CFA Level I,  2017 Prep"
          ],
          [
           "Reach Your Personal Financial Goals the Easy Way (2017 UK)"
          ],
          [
           "Bitesize Bookkeeping for busy people"
          ],
          [
           "Do Your Own Accounts"
          ],
          [
           "CFA Level 1 - Derivatives"
          ],
          [
           "Accounting for everyone! "
          ],
          [
           "Stock Fundamental Analysis with Excel"
          ],
          [
           "Financial Accounting For Beginners"
          ],
          [
           "Trading: How Transformative Learning Drives Expertise"
          ],
          [
           "Manual Bookkeeping"
          ],
          [
           "Numeracy skills in business and everyday life:Think and Deal"
          ],
          [
           "Financial Modelling in Excel Step by Step"
          ],
          [
           "Straight From Business School: Create Financial Statements"
          ],
          [
           "How To Pay Less Tax (UK version)"
          ],
          [
           "Interpreting financial statements"
          ],
          [
           "Forex trading with binary options"
          ],
          [
           "Triple P Trading Course"
          ],
          [
           "Cost Accounting - A Comprehensive Study"
          ],
          [
           "How to become a successful day trader"
          ],
          [
           "Essentials of Finance and Investment in 2 hours"
          ],
          [
           "Public Speaking: You Can Give Great Financial Presentations"
          ],
          [
           "Professional Trading - Consistent Profits with Low Risk!"
          ],
          [
           "Trading for winning"
          ],
          [
           "Succeed in Stocks Even if you Don't Know Where to Start"
          ],
          [
           "Options Basics & Trading With Small Capital! - Level 1"
          ],
          [
           "Forex trading Basic to advance Professional Level course"
          ],
          [
           "Day Trading in Stocks: Strategies for Beginner Investors"
          ],
          [
           "Learn to Trade Forex Big U-Turn Trade"
          ],
          [
           "Technical Analysis Primer for trading Stocks, Bonds & Forex"
          ],
          [
           "DIY: Reduce Unpaid Federal Tax thru  IRS Offer in Compromise"
          ],
          [
           "Stock Trading with this Strategy"
          ],
          [
           "The Psychology of Trading"
          ],
          [
           "Professional Forex Strategy+2 weeks for FREE trading alerts"
          ],
          [
           "Stock Trading Essentials for Day Traders"
          ],
          [
           "Basics of Finance and Budgeting"
          ],
          [
           "Portfolio Management CFA L1 2016"
          ],
          [
           "Trade Stocks, Forex & Financial Markets like a Professional"
          ],
          [
           "The Tax Advantaged Investor: A Guide to Legal Tax Reduction!"
          ],
          [
           "The Smart Option Trader"
          ],
          [
           "Beginners Chart Patterns Trading for Penny Stocks"
          ],
          [
           "Financial Statements: Learn Accounting. Unlock the Numbers."
          ],
          [
           "CFA® Level 1 2014 – Alternative Investments"
          ],
          [
           "Interest Rate Swaps"
          ],
          [
           "Financial Modelling for entrepreneurs"
          ],
          [
           "Economics - CFA Level 1 - 2014"
          ],
          [
           "Bookkeeping Made Simple"
          ],
          [
           "What is Bitcoin"
          ],
          [
           "Accounting for CA CPT Exams Part I"
          ],
          [
           "Raising Capital for Your Business"
          ],
          [
           "Silver, Gold, and Inflation"
          ],
          [
           "Accounting Concepts For Technocrats"
          ],
          [
           "Beginner Financial Analysis: Invest Like Warren Buffett"
          ],
          [
           "Advance Technical Analysis"
          ],
          [
           "The Everyday Investor: Building Wealth with Venture Capital"
          ],
          [
           "QuickBooks Online : Inventory Management For Non-Finance"
          ],
          [
           "Law Matters"
          ],
          [
           "Learn to Trade for Profit: Finding Winning Stocks - Chinese"
          ],
          [
           "Financial Accounting Part 2 - Passing The Class"
          ],
          [
           "Simple Options Trading System"
          ],
          [
           "Investments and Financial Markets"
          ],
          [
           "Legal Accounting"
          ],
          [
           "Term Loan Appraisal for bankers, credit analysts"
          ],
          [
           "Small Biz Doers' Guide to Small Biz Accounting + Bookkeeping"
          ],
          [
           "Trade Show Samurai"
          ],
          [
           "Forex Harmonic Trading- With Multiple Forex Chart Examples"
          ],
          [
           "The Cost of Capital: The Key To Attract Venture Capitalists"
          ],
          [
           "Accounting for School Students"
          ],
          [
           "Learn To Trade The Forex Naked Price Action Acapulco Trade"
          ],
          [
           "Certificate in MYOB AccountRight Premier 2017 Course"
          ],
          [
           "Master The Psychology of Forex & Binary Options Trading"
          ],
          [
           "Learn to Pick the Right Stock Broker Account"
          ],
          [
           "Profit During Crashing Markets: A Step-by-Step Guide"
          ],
          [
           "Introduction to Futures & Options"
          ],
          [
           "Learn To Invest In 7 Steps"
          ],
          [
           "Sell like a Pro: Insider Secrets of Successful Selling!"
          ],
          [
           "3 Little Pigs: A Multiple Timeframe Forex Trading Strategy"
          ],
          [
           "6. Annuities Due and Deferred"
          ],
          [
           "CFA® Level 1 2014 – Quantitative Methods"
          ],
          [
           "IFRIC 13-Customer Loyalty Programmes (Revenue)"
          ],
          [
           "FOREX Currency Trading For Beginners"
          ],
          [
           "Basic Technical Analysis"
          ],
          [
           "Forex:Trade Management & Psychology"
          ],
          [
           "Working Capital assessment for bankers, credit analysts"
          ],
          [
           "CFA Level I Workshop 6: Alternatives, PM and Economics "
          ],
          [
           "CFA Level I Workshop 3: Financial Reporting & Analysis II"
          ],
          [
           "How to trade in the Forex market"
          ],
          [
           "Bookkeeping Practicals with Software"
          ],
          [
           "8 Steps To Achieve Financial Freedom And Escape Debt"
          ],
          [
           "Trading Basics in 30 minutes"
          ],
          [
           "Technical Charting"
          ],
          [
           "Profits Turbo"
          ],
          [
           "Nest Egg Investing"
          ],
          [
           "Economics for beginners - Various Concepts"
          ],
          [
           "Investing in Stocks & Shares"
          ],
          [
           "Learn Financial Modeling from Scratch - Part 2"
          ],
          [
           "Learn Financial Modeling from Scratch - Part 3"
          ],
          [
           "A Practical Guide to Wealth Creation"
          ],
          [
           "'Geometry Of Chance strategy of defeating the roulette.\""
          ],
          [
           "Trading Algorítmico en Forex: Crea tu primer Robot de Forex!"
          ],
          [
           "MQL4 Bootcamp Tutorial- Trading Robot Coding in Metatrader4"
          ],
          [
           "Introducción a la contabilidad"
          ],
          [
           "Einnahmen aus Udemy-Kursen als Dozent korrekt versteuern"
          ],
          [
           "Contabilidad Gubernamental en México"
          ],
          [
           "株式投資に必要なスキルの学習手順を学ぶ"
          ],
          [
           "Formação de preços em serviços"
          ],
          [
           "Geld verdienen mit dem Ticken der Uhr, wie Warren Buffett!"
          ],
          [
           "Торговля дельта-нейтральными стренглами"
          ],
          [
           "Guía práctica para comprar acciones en la Bolsa de USA"
          ],
          [
           "Contabilidad Financiera: Conoce el Lenguaje de los Negocios."
          ],
          [
           "Curso de Day Trader para Iniciantes"
          ],
          [
           "Curso de Iniciación al Trading"
          ],
          [
           "Complete GST Course For Small and Medium Enterprises"
          ],
          [
           "3 documentos clave para administrar tu empresa con éxito"
          ],
          [
           "Forex/Opciones Binarias para Principiantes"
          ],
          [
           "15 Mandamientos para ganar dinero en Bolsa"
          ],
          [
           "Le bitcoin et la blockchain"
          ],
          [
           "Contabilità Generale"
          ],
          [
           "Торговля опционами: Как заработать на волатильности"
          ],
          [
           "Estrategias de Inversión aplicadas al mundo del trading"
          ],
          [
           "バイナリーオプション取引"
          ],
          [
           "Caza los Enormes Movimientos del Mercado"
          ],
          [
           "Le basi del trading online"
          ],
          [
           "自分に合った投資信託を見つけよう！"
          ],
          [
           "Monatlich Geld anlegen für später!"
          ],
          [
           "Invierte en la Bolsa Mexicana y de USA"
          ],
          [
           "Gestão Financeira Para Pequenas e Médias Empresas"
          ],
          [
           "Curso Completo de Bitcoin - Ganhe 0.00005 Bitcoin"
          ],
          [
           "Tudo sobre Investimentos em Renda Fixa"
          ],
          [
           "Aprende a invertir sin capital"
          ],
          [
           "Apprendre à trader sur le marché du Forex - guide complet"
          ],
          [
           "Introducción a las Finanzas"
          ],
          [
           "Finanzielle Unabhängigkeit-1: Erste Schritte zur Million"
          ],
          [
           "Forex para Principiantes-Ejemplos en VIVO de Trading Real"
          ],
          [
           "Finanzielle Unabhängigkeit-3 Millionär werden mit Immobilien"
          ],
          [
           "Introduction to Health Financing"
          ],
          [
           "Accounting Cycle: Learn the concepts in 60 minutes"
          ],
          [
           "Optimize! Make Best Decisions with Microsoft Excel"
          ],
          [
           "Understanding The Stock Market: For Beginners"
          ],
          [
           "CFA® Level 1 2014 – FI"
          ],
          [
           "9. Sinking Funds"
          ],
          [
           "Managerial Accounting - The Ultimate Beginner Course!"
          ],
          [
           "Forex Trading for Beginners Vol 1:A Forex Course Made Simple"
          ],
          [
           "Accounting - Basic Costing "
          ],
          [
           "Double Your Salary With Free, Local, Job Training Courses"
          ],
          [
           "Financial Modeling - Facebook Case Study"
          ],
          [
           "Understanding Financial Derivatives"
          ],
          [
           "Forex Basics: Learn how to read and analyze Forex charts"
          ],
          [
           "Forex - Help I cant Trade"
          ],
          [
           "Start-up financial modeling for non-finance professionals"
          ],
          [
           "The Fast Route to a Faster Financial Close"
          ],
          [
           "Easy Finance For Startups"
          ],
          [
           "Excel 4 Accounting & Bookkeeping - Master Date,Time & Text"
          ],
          [
           "Depreciation, Amortization and Depletion"
          ],
          [
           "Breakeven Analysis and Pricing"
          ],
          [
           "Tally ERP Complete Training in Urdu / Hindi"
          ],
          [
           "Accounting Simplified"
          ],
          [
           "Series 7: Intermediate Options"
          ],
          [
           "Accounting and Business Basics"
          ],
          [
           "Corso introduttivo al trading profittevole"
          ],
          [
           "Aprende a Ganar Dinero en la Bolsa"
          ],
          [
           "Inversión: Fundamentos del Trading para Principiantes"
          ],
          [
           "Gana en la Bolsa con Análisis Técnico"
          ],
          [
           "Precificação - Calculando valor de venda baseado nos custos"
          ],
          [
           "Cómo ganar dinero invirtiendo en bolsa"
          ],
          [
           "Investiere in Tax Liens-Hohe Zinsen gesetzl. festgeschrieben"
          ],
          [
           "Investimento em Ações"
          ],
          [
           "Excelを使ってビジネスシミュレーション：基礎編"
          ],
          [
           "Estrategias de trading en bolsa"
          ],
          [
           "Grundlagen der finanziellen Unabhängigkeit"
          ],
          [
           "Wie Du, Dir auch mit kleinen Beträgen ein Vermögen aufbaust"
          ],
          [
           "Corporate Ethics"
          ],
          [
           "CFA Level 2- Quantitative Methods"
          ],
          [
           "Core Financial Statement Concepts"
          ],
          [
           "Understand Core Finance Principles in 60 Minutes"
          ],
          [
           "Learn Wave accounting to maintain books properly"
          ],
          [
           "Making Tax Digital - UK HMRC Legislation Explained"
          ],
          [
           "Surviving Introduction to Finance"
          ],
          [
           "Cost of Capital and Weighted Average Cost of Capital"
          ],
          [
           "Studying the CFA Program exams (Mandarin language version)"
          ],
          [
           "Condor Broken Wing Butterfly Options Trading Course System"
          ],
          [
           "≪虎の巻≫証券取引の「税金のお悩み」解消"
          ],
          [
           "【１日でマスター！】今日からはじめる資産形成"
          ],
          [
           "TRADING FOR A LIVING: Trading Full-Time Transition Guide"
          ],
          [
           "Learn How To use Channels to find amazing Forex Entries"
          ],
          [
           "Financial Analysis, from Scratch to Professional!"
          ],
          [
           "Cost Accounting Labour Costing (Professional Course Level)"
          ],
          [
           "Learn How To Successfully Trade Forex: In 5 Simple Steps"
          ],
          [
           "The Intelligent Investor"
          ],
          [
           "Succeed in Futures Even if You Don't Know Where to Start"
          ],
          [
           "Binary Options Beginners Guide : Nadex"
          ],
          [
           "Trading: From Wall Street to Your Street"
          ],
          [
           "Build your own Naked Trading Forex Robot"
          ],
          [
           "Tax Preparation: Learn Fast! Prepare Taxes with Confidence!"
          ],
          [
           "Tax Strategies of the Wealthy"
          ],
          [
           "The Ultimate Fibonacci Trading Plan for Forex and Stocks"
          ],
          [
           "Finance and Accounting for Startups"
          ],
          [
           "Forex - Calculate Lot Size Like Pro"
          ],
          [
           "The Complete Forex Trader"
          ],
          [
           "Tape Reading: Learn how to read the tape for day trading"
          ],
          [
           "4 Easy Daily Forex Trades: A Recipe for Trading Success"
          ],
          [
           "Trading Robot Forex Programs in Your Sleep in Live Examples!"
          ],
          [
           "Free Options 101 - Basic of Call and Put Options in 1 Hours"
          ],
          [
           "An Intro into Trading the Financial Markets"
          ],
          [
           "Developing A Trading Strategy: Your Guide to Trading Success"
          ],
          [
           "How to Trade Commodity and Financial Futures for a Living!"
          ],
          [
           "How to Trade Forex like a Hedge Fund: Long FX Strategies"
          ],
          [
           "Complete Short Financial Ratio Course for Financial Analysis"
          ],
          [
           "How to Build Profitable FOREX Automated Trading Strategies!"
          ],
          [
           "Stock Trading Strategies: Profitable Trading in 7 Days."
          ],
          [
           "Management Accounting A Complete Study"
          ],
          [
           "Become a Career Day Trader: Asian-Pacific Futures Markets"
          ],
          [
           "Equity Products"
          ],
          [
           "Financial Accounting Part I - Passing the Class"
          ],
          [
           "Accounting 102: Guide to Business Accounting"
          ],
          [
           "Monetizing Your Website: How to Add Cost-Per-Action (CPA) "
          ],
          [
           "Advanced Finance and Accounting for Startups"
          ],
          [
           "Basics of Tax in India  (College Level)"
          ],
          [
           "Trade for a Living"
          ],
          [
           "Learn Stock Options: Options Made Simple 101"
          ],
          [
           "Banking Credit Analysis Process (for Bankers)"
          ],
          [
           "Professional Forex strategy"
          ],
          [
           "A Beginners Guide to Technical Analysis of Stock Charts"
          ],
          [
           "Get out of Debt - The Power of Using Compounding Interest"
          ],
          [
           "Day Trading - Learn to Day Trade / Swing Trade In One Hour."
          ],
          [
           "Basel Norms (Basel 1/ Basel 2/ Basel 3) Simplified"
          ],
          [
           "Learn to Trade Forex Naked Price Action Wammie Trade"
          ],
          [
           "Fixed Income Securities"
          ],
          [
           "Financial Accounting Made Easy for All"
          ],
          [
           "Ultimate Guide To Trading Engulfing Candlestick Strategy"
          ],
          [
           "Learn Business Finance: Win more work as a Business Coach "
          ],
          [
           "Accounting for Depreciation (Collage Level)"
          ],
          [
           "Revealed: Profitable Principles of Successful Traders "
          ],
          [
           "Easy Market Profits: 3 Step Stock Investing Strategy"
          ],
          [
           "Hedge Fund Trading Systems For Stocks - Part One"
          ],
          [
           "Bonds For Beginners - A Guide To The Bond Markets"
          ],
          [
           "Professional Risk Manager (PRM) Certification: Level 4"
          ],
          [
           "Crowdfunding for Filmmakers"
          ],
          [
           "How to Make IT Work Successfully in Capital Markets"
          ],
          [
           "Introduction to Day Trading"
          ],
          [
           "Life Coach Business Basics: Finance and Operations"
          ],
          [
           "Learn How to Profit In Forex With Market Rhythms"
          ],
          [
           "Optimizing investment to maximise your return"
          ],
          [
           "Investimento em Ações para Leigos"
          ],
          [
           "Introducción a la Contabilidad"
          ],
          [
           "Forex Trading: Strategia Correlazione EUR/GBP vs GBP/USD"
          ],
          [
           "Finanzielle Unabhängigkeit-2 Millionär werden mit Investment"
          ],
          [
           "カードゲームでカンタンに理解する！経済とお金のキホン"
          ],
          [
           "Contabilidad rápida y eficaz"
          ],
          [
           "Introducción al trading de opciones"
          ],
          [
           "Aprenda a Investir seu Dinheiro"
          ],
          [
           "Trader sur le Forex avec Ichimoku"
          ],
          [
           "العلوم والمبادئ الأساسية للمهنة الإكتوارية"
          ],
          [
           "トレーディングビュー徹底攻略2017年版"
          ],
          [
           "Kostenrechnung lernen leicht gemacht"
          ],
          [
           "MetaTrader4 Platform Training"
          ],
          [
           "Professional Bookkeeping & Accounting 1: Sales & Purchases"
          ],
          [
           "Step by step guide to understand how business perform"
          ],
          [
           "How to Grow your Small Business and not run out of Cash"
          ],
          [
           "Finance for Non Finance Executives"
          ],
          [
           "An Introduction: MT4 Email, Sound, Notification Forex Alerts"
          ],
          [
           "Innovators and innovation: Travel through time!"
          ],
          [
           "Learn How to Trade The Stock Market"
          ],
          [
           "How To Earn Some Bitcoin Every Time You Use A Search Engine"
          ],
          [
           "Super Fast Accounting - the fastest way to do your books"
          ],
          [
           "Financial Modeling and Valuation: Complete Beginner to Pro"
          ],
          [
           "Learn to trade Chart Patterns"
          ]
         ],
         "hovertemplate": "subject=Business Finance<br>price=%{x}<br>content_duration=%{y}<br>course_title=%{customdata[0]}<extra></extra>",
         "legendgroup": "Business Finance",
         "marker": {
          "color": "#636efa",
          "symbol": "circle"
         },
         "mode": "markers",
         "name": "Business Finance",
         "showlegend": true,
         "type": "scattergl",
         "x": [
          200,
          75,
          45,
          95,
          200,
          150,
          65,
          95,
          195,
          200,
          200,
          200,
          30,
          195,
          200,
          75,
          20,
          200,
          50,
          95,
          200,
          200,
          75,
          50,
          45,
          150,
          200,
          175,
          150,
          140,
          95,
          200,
          45,
          200,
          200,
          195,
          195,
          200,
          195,
          195,
          195,
          195,
          195,
          115,
          200,
          150,
          95,
          200,
          190,
          150,
          200,
          95,
          125,
          30,
          200,
          60,
          200,
          145,
          20,
          200,
          105,
          60,
          155,
          200,
          185,
          150,
          180,
          125,
          200,
          185,
          125,
          95,
          200,
          20,
          60,
          200,
          200,
          120,
          150,
          25,
          200,
          160,
          20,
          95,
          50,
          200,
          20,
          200,
          195,
          200,
          20,
          20,
          95,
          150,
          40,
          0,
          20,
          100,
          75,
          20,
          40,
          20,
          25,
          0,
          50,
          200,
          0,
          195,
          0,
          20,
          150,
          95,
          0,
          20,
          150,
          20,
          25,
          150,
          50,
          0,
          50,
          180,
          50,
          100,
          25,
          200,
          20,
          90,
          0,
          20,
          35,
          50,
          100,
          50,
          20,
          200,
          200,
          60,
          150,
          20,
          105,
          20,
          150,
          0,
          100,
          60,
          200,
          200,
          20,
          30,
          95,
          95,
          60,
          20,
          20,
          200,
          125,
          200,
          200,
          35,
          200,
          200,
          120,
          195,
          125,
          200,
          25,
          200,
          20,
          195,
          20,
          50,
          200,
          120,
          200,
          200,
          45,
          50,
          80,
          0,
          200,
          20,
          50,
          200,
          120,
          145,
          195,
          200,
          45,
          20,
          200,
          75,
          20,
          0,
          20,
          20,
          150,
          20,
          200,
          45,
          60,
          20,
          20,
          50,
          50,
          50,
          0,
          50,
          60,
          0,
          60,
          40,
          45,
          0,
          200,
          95,
          20,
          50,
          200,
          95,
          40,
          20,
          20,
          200,
          20,
          20,
          60,
          75,
          20,
          20,
          20,
          200,
          20,
          20,
          20,
          30,
          95,
          50,
          65,
          95,
          50,
          95,
          50,
          105,
          120,
          40,
          35,
          20,
          0,
          0,
          50,
          20,
          200,
          0,
          125,
          35,
          20,
          75,
          50,
          30,
          50,
          100,
          150,
          20,
          200,
          95,
          200,
          95,
          30,
          25,
          125,
          35,
          30,
          50,
          200,
          35,
          25,
          50,
          20,
          20,
          20,
          20,
          125,
          0,
          20,
          20,
          60,
          60,
          0,
          50,
          0,
          0,
          60,
          60,
          115,
          25,
          120,
          0,
          150,
          0,
          50,
          0,
          35,
          20,
          200,
          20,
          20,
          80,
          70,
          50,
          20,
          75,
          90,
          40,
          30,
          200,
          20,
          75,
          25,
          20,
          20,
          50,
          20,
          20,
          25,
          20,
          50,
          200,
          200,
          60,
          180,
          50,
          200,
          30,
          50,
          40,
          50,
          20,
          150,
          95,
          0,
          20,
          200,
          20,
          60,
          195,
          0,
          0,
          0,
          45,
          100,
          20,
          20,
          200,
          0,
          0,
          180,
          75,
          25,
          50,
          0,
          95,
          40,
          100,
          145,
          30,
          50,
          20,
          20,
          20,
          95,
          90,
          20,
          75,
          0,
          50,
          20,
          145,
          100,
          60,
          45,
          200,
          200,
          150,
          200,
          25,
          20,
          25,
          125,
          50,
          20,
          20,
          200,
          150,
          200,
          20,
          160,
          200,
          30,
          20,
          40,
          50,
          200,
          200,
          100,
          50,
          20,
          50,
          200,
          50,
          30,
          20,
          20,
          25,
          45,
          200,
          50,
          40,
          25,
          20,
          60,
          20,
          20,
          20,
          20,
          0,
          20,
          40,
          30,
          30,
          35,
          20,
          0,
          0,
          30,
          200,
          50,
          190,
          95,
          35,
          30,
          195,
          60,
          195,
          200,
          0,
          20,
          20,
          20,
          50,
          50,
          80,
          25,
          20,
          20,
          20,
          50,
          50,
          50,
          20,
          50,
          95,
          100,
          40,
          40,
          50,
          55,
          0,
          20,
          95,
          200,
          55,
          50,
          25,
          20,
          20,
          50,
          95,
          40,
          55,
          50,
          50,
          20,
          20,
          0,
          125,
          50,
          50,
          120,
          200,
          20,
          0,
          0,
          95,
          0,
          20,
          165,
          200,
          25,
          195,
          200,
          20,
          0,
          20,
          40,
          95,
          195,
          95,
          20,
          35,
          195,
          200,
          105,
          20,
          30,
          20,
          20,
          20,
          30,
          20,
          20,
          40,
          105,
          20,
          100,
          20,
          200,
          95,
          180,
          100,
          150,
          50,
          200,
          60,
          20,
          25,
          95,
          20,
          200,
          50,
          50,
          20,
          20,
          50,
          0,
          50,
          75,
          50,
          50,
          75,
          20,
          195,
          50,
          55,
          20,
          50,
          100,
          40,
          40,
          30,
          50,
          190,
          195,
          50,
          40,
          100,
          20,
          20,
          200,
          60,
          0,
          95,
          0,
          20,
          50,
          25,
          95,
          50,
          50,
          50,
          20,
          20,
          20,
          55,
          20,
          20,
          20,
          200,
          20,
          0,
          50,
          40,
          20,
          20,
          20,
          200,
          100,
          20,
          25,
          80,
          20,
          95,
          70,
          20,
          25,
          40,
          20,
          20,
          45,
          20,
          20,
          25,
          20,
          20,
          50,
          20,
          200,
          20,
          20,
          150,
          20,
          195,
          20,
          0,
          200,
          0,
          50,
          95,
          50,
          0,
          200,
          60,
          50,
          30,
          200,
          20,
          25,
          20,
          200,
          145,
          30,
          45,
          40,
          20,
          20,
          145,
          30,
          50,
          200,
          95,
          45,
          45,
          95,
          95,
          200,
          180,
          50,
          100,
          40,
          50,
          20,
          50,
          50,
          20,
          20,
          0,
          40,
          30,
          60,
          200,
          0,
          130,
          35,
          95,
          20,
          90,
          50,
          35,
          20,
          145,
          40,
          150,
          20,
          20,
          20,
          20,
          20,
          35,
          180,
          50,
          40,
          0,
          20,
          125,
          20,
          0,
          50,
          75,
          95,
          50,
          95,
          80,
          195,
          25,
          200,
          50,
          20,
          95,
          40,
          50,
          20,
          50,
          25,
          25,
          30,
          200,
          50,
          20,
          20,
          40,
          0,
          50,
          30,
          50,
          50,
          0,
          50,
          0,
          30,
          35,
          25,
          20,
          60,
          50,
          20,
          20,
          40,
          20,
          45,
          100,
          50,
          90,
          0,
          100,
          20,
          20,
          50,
          0,
          40,
          20,
          200,
          40,
          30,
          195,
          95,
          0,
          0,
          20,
          50,
          20,
          20,
          50,
          50,
          200,
          0,
          50,
          40,
          20,
          20,
          0,
          20,
          20,
          95,
          40,
          50,
          85,
          0,
          20,
          25,
          50,
          50,
          20,
          35,
          20,
          100,
          50,
          75,
          20,
          20,
          60,
          200,
          145,
          60,
          20,
          50,
          200,
          200,
          60,
          20,
          20,
          140,
          120,
          200,
          50,
          170,
          50,
          200,
          150,
          150,
          60,
          20,
          50,
          20,
          200,
          20,
          20,
          100,
          45,
          50,
          0,
          50,
          50,
          0,
          50,
          25,
          150,
          0,
          0,
          25,
          50,
          0,
          0,
          50,
          0,
          20,
          0,
          25,
          20,
          50,
          25,
          0,
          125,
          200,
          120,
          20,
          50,
          195,
          20,
          60,
          20,
          50,
          20,
          50,
          95,
          150,
          20,
          20,
          50,
          20,
          50,
          50,
          40,
          30,
          50,
          0,
          35,
          0,
          20,
          20,
          30,
          150,
          75,
          50,
          100,
          20,
          0,
          90,
          20,
          0,
          25,
          20,
          50,
          60,
          20,
          90,
          20,
          20,
          50,
          200,
          100,
          160,
          20,
          20,
          25,
          25,
          50,
          60,
          60,
          150,
          20,
          20,
          25,
          200,
          30,
          50,
          20,
          200,
          0,
          20,
          20,
          0,
          20,
          75,
          30,
          20,
          20,
          20,
          145,
          200,
          30,
          20,
          30,
          25,
          45,
          35,
          20,
          20,
          20,
          20,
          20,
          95,
          20,
          35,
          30,
          35,
          50,
          60,
          30,
          20,
          20,
          20,
          20,
          50,
          0,
          25,
          20,
          180,
          95,
          20,
          20,
          20,
          200,
          0,
          30,
          20,
          50,
          50,
          50,
          20,
          50,
          20,
          95,
          100,
          20,
          20,
          20,
          0,
          45,
          200,
          40,
          30,
          50,
          20,
          20,
          40,
          20,
          50,
          50,
          0,
          20,
          50,
          50,
          20,
          35,
          20,
          95,
          20,
          35,
          40,
          110,
          20,
          20,
          95,
          135,
          50,
          30,
          70,
          200,
          20,
          40,
          195,
          50,
          50,
          115,
          20,
          20,
          50,
          0,
          25,
          50,
          150,
          20,
          20,
          20,
          200,
          35,
          40,
          50,
          20,
          20,
          45,
          25,
          20,
          50,
          50,
          35,
          30,
          170,
          20,
          20,
          30,
          30,
          20,
          35,
          195,
          150,
          0,
          20,
          0,
          85,
          75,
          45,
          25,
          20,
          80,
          200,
          150,
          20,
          85,
          20,
          45,
          25,
          30,
          200,
          115,
          30,
          45,
          130,
          140,
          30,
          20,
          140,
          20,
          85,
          20,
          20,
          25,
          40,
          20,
          100,
          175,
          40,
          20,
          25,
          20,
          195,
          200,
          20,
          50,
          50,
          35,
          25,
          20,
          30,
          30,
          55,
          200,
          20,
          30,
          125,
          25,
          35,
          0,
          20,
          20,
          85,
          25,
          0,
          70,
          100,
          40,
          50,
          75,
          0,
          0,
          0,
          0,
          0,
          0,
          25,
          20,
          195,
          45,
          65,
          20,
          95,
          30,
          0,
          40,
          50,
          40,
          200,
          195,
          200,
          50,
          20,
          25,
          195,
          200,
          200,
          0,
          100,
          20,
          200,
          115,
          200,
          200,
          50,
          150,
          20,
          50,
          20,
          50,
          35,
          40,
          20,
          20,
          35,
          180,
          50,
          40,
          50,
          95,
          40,
          40,
          50,
          20,
          200,
          20,
          20,
          25,
          20,
          200,
          20,
          50,
          65,
          50,
          50,
          195,
          20,
          0,
          20,
          30,
          50,
          20,
          20,
          40,
          100,
          85,
          90,
          25,
          55,
          40,
          0,
          35,
          20,
          25,
          180,
          20,
          50,
          20,
          20,
          25,
          50,
          20
         ],
         "xaxis": "x",
         "y": [
          1.5,
          39,
          2.5,
          3,
          2,
          3,
          1,
          2.5,
          2.5,
          1,
          5,
          1,
          1.5,
          2,
          7,
          1.5,
          1.5,
          4,
          1.5,
          0.5833333333333334,
          2,
          4,
          2,
          1,
          2,
          5,
          4.5,
          2,
          4.5,
          3,
          2.5,
          1.5,
          6.5,
          2,
          1.5,
          10,
          5.5,
          4.5,
          7.5,
          5.5,
          10,
          6.5,
          11.5,
          1,
          16,
          3,
          5,
          5.5,
          5,
          2,
          2,
          3,
          2,
          1,
          1.5,
          4,
          5.5,
          1,
          1.5,
          1,
          3.5,
          9,
          4.5,
          8.5,
          6.5,
          5.5,
          11,
          1.5,
          3.5,
          3,
          5,
          2.5,
          1,
          1,
          3,
          2,
          4,
          1,
          5,
          4,
          1.5,
          2,
          11.5,
          1.5,
          1,
          1.5,
          1,
          4.5,
          1,
          1.5,
          2.5,
          0.7,
          9.5,
          5,
          1,
          0.55,
          3,
          1.5,
          5.5,
          2,
          1.5,
          1.5,
          1.5,
          1.5,
          1.5,
          1,
          1,
          1,
          2,
          4.5,
          5,
          1.5,
          2,
          1,
          62,
          1.5,
          0.1333333333333333,
          0.6833333333333333,
          2.5,
          1.5,
          3,
          4.5,
          31.5,
          3.5,
          2.5,
          3,
          0.55,
          1,
          1.5,
          2,
          1,
          2.5,
          1,
          1,
          1.5,
          9.5,
          1,
          20,
          2.5,
          1,
          6,
          1.5,
          4,
          1.5,
          5,
          2.5,
          2.5,
          3,
          1.5,
          1,
          1.5,
          1.5,
          1,
          3,
          3,
          3.5,
          1,
          2,
          4.5,
          1,
          46.5,
          5,
          4,
          2.5,
          3,
          1,
          1.5,
          2,
          1.5,
          4.5,
          2,
          1.5,
          2,
          3,
          1.5,
          5.5,
          1.5,
          5.5,
          10,
          2,
          3,
          0.7,
          1,
          6,
          1,
          1.5,
          1.5,
          2,
          5,
          1.5,
          4.5,
          4.5,
          3.5,
          1.5,
          1,
          1.5,
          0.55,
          9,
          2,
          1,
          1,
          1.5,
          1.5,
          5.5,
          6,
          2,
          2,
          7,
          1,
          2,
          0.7166666666666667,
          1.5,
          10,
          1.5,
          1,
          2,
          1.5,
          17.5,
          1,
          1,
          4.5,
          1,
          2,
          2,
          1.5,
          12,
          2,
          3.5,
          1,
          1.5,
          1.5,
          1.5,
          2,
          2,
          0.6833333333333333,
          3,
          1.5,
          4,
          2.5,
          2,
          4,
          2,
          2.5,
          2,
          2.5,
          5,
          3.5,
          1,
          1,
          0.5333333333333333,
          4,
          1,
          1,
          4.5,
          2.5,
          1,
          2.5,
          4.5,
          3,
          2,
          24,
          19.5,
          3,
          1.5,
          1.5,
          2,
          3.5,
          2.5,
          4,
          20.5,
          3,
          1,
          4,
          3,
          3,
          2,
          2.5,
          3,
          0.5,
          0.7166666666666667,
          2,
          10,
          20.5,
          2,
          1.5,
          10.5,
          1,
          1.5,
          3,
          5.5,
          0.5166666666666666,
          1.5,
          2,
          5,
          4.5,
          1,
          6.5,
          1.5,
          2.5,
          2,
          6,
          0.6,
          1.5,
          2,
          1.5,
          1,
          1,
          0.7,
          1.5,
          4,
          3,
          5.5,
          7,
          1,
          2,
          5.5,
          1.5,
          2.5,
          0.6833333333333333,
          2,
          0.5,
          2,
          2,
          0.6833333333333333,
          3.5,
          5.5,
          8,
          2.5,
          2,
          2,
          29,
          4,
          1.5,
          3,
          8,
          3,
          2.5,
          1,
          26,
          1.5,
          1.5,
          2.5,
          1.5,
          3,
          0.7,
          6,
          1,
          2.5,
          1,
          1,
          10,
          1,
          1,
          11,
          3.5,
          0.5333333333333333,
          24.5,
          3,
          1.5,
          2,
          1,
          2.5,
          2,
          2.5,
          6,
          0.7166666666666667,
          6,
          1,
          2,
          2.5,
          2.5,
          1.5,
          8,
          1,
          1,
          1.5,
          1,
          1.5,
          10,
          1,
          3,
          4,
          1,
          5.5,
          3.5,
          5,
          1.5,
          0.5833333333333334,
          1,
          13,
          1,
          1,
          2.5,
          1.5,
          0.7333333333333333,
          1,
          3.5,
          1,
          2.5,
          1.5,
          1.5,
          7.5,
          6,
          2,
          1.5,
          2,
          0.6,
          7.5,
          1.5,
          4,
          1,
          1,
          3.5,
          1,
          0.7166666666666667,
          0.5666666666666667,
          2,
          3.5,
          1.5,
          1,
          1.5,
          1,
          1.5,
          1.5,
          1.5,
          1,
          2.5,
          2,
          1.5,
          3,
          2,
          1,
          2,
          4.5,
          1,
          1.5,
          5.5,
          12.5,
          1,
          2,
          1,
          3.5,
          1,
          12.5,
          2,
          6.5,
          1,
          5.5,
          0.3166666666666666,
          5.5,
          11.5,
          8,
          1,
          0.6166666666666667,
          1.5,
          2.5,
          2,
          2,
          2,
          3.5,
          2,
          1,
          1,
          5.5,
          2,
          4,
          1,
          0.6666666666666666,
          2.5,
          4.5,
          3,
          4.5,
          2,
          1.5,
          1.5,
          0.6666666666666666,
          2,
          2,
          6.5,
          3.5,
          1,
          2,
          6,
          1.5,
          4,
          1.5,
          8,
          4.5,
          0.6,
          2,
          2,
          1.5,
          8,
          3.5,
          3.5,
          1.5,
          2.5,
          18,
          3.5,
          1.5,
          19.5,
          0.5666666666666667,
          0.6166666666666667,
          1,
          1,
          1,
          24.5,
          1.5,
          1.5,
          1,
          6.5,
          5.5,
          7.5,
          1.5,
          1.5,
          1,
          0.5666666666666667,
          2,
          2.5,
          2.5,
          1,
          1,
          1.5,
          0.5666666666666667,
          0.7166666666666667,
          1,
          2,
          0.5333333333333333,
          33,
          3,
          24.5,
          7.5,
          3,
          1,
          3.5,
          1.5,
          5,
          1,
          0.5333333333333333,
          1,
          5,
          10.5,
          2,
          7,
          1,
          3.5,
          9,
          2.5,
          3,
          1.5,
          2,
          1,
          4.5,
          1.5,
          1,
          2.5,
          2.5,
          1.5,
          2.5,
          1.5,
          2.5,
          71.5,
          7,
          3.5,
          1,
          6.5,
          1,
          3,
          2,
          0.5833333333333334,
          1,
          7,
          1.5,
          3.5,
          1.5,
          1,
          2,
          1,
          2,
          3,
          0.6166666666666667,
          1.5,
          2.5,
          1,
          3,
          1.5,
          1,
          0.5166666666666666,
          1.5,
          20.5,
          47,
          3,
          2,
          1,
          1,
          4,
          14.5,
          1.5,
          1.5,
          3.5,
          1.5,
          2.5,
          2,
          1.5,
          5,
          1.5,
          2,
          0.6166666666666667,
          3.5,
          3,
          1,
          1.5,
          2,
          3,
          3.5,
          0.5666666666666667,
          0.6833333333333333,
          1,
          1,
          0.65,
          1,
          2.5,
          4,
          2,
          4,
          1,
          5.5,
          6,
          6,
          1.5,
          5.5,
          1,
          14.5,
          2,
          1.5,
          2,
          3,
          1.5,
          2.5,
          1,
          0.55,
          1.5,
          2,
          1,
          2,
          1.5,
          2,
          2.5,
          1,
          1,
          3.5,
          7,
          18.5,
          2,
          2.5,
          43.5,
          0.6,
          10,
          2.5,
          5.5,
          1.5,
          0.6333333333333333,
          1.5,
          2,
          1,
          2,
          4.5,
          3.5,
          0.6666666666666666,
          5.5,
          1,
          5,
          4,
          1.5,
          1.5,
          2,
          5,
          1,
          4,
          14,
          5,
          6.5,
          1,
          1.5,
          1,
          1,
          1.5,
          3.5,
          14.5,
          1,
          1.5,
          1,
          1,
          7,
          5,
          1,
          2,
          3,
          3,
          4,
          2,
          3,
          1,
          0.6333333333333333,
          3.5,
          6,
          2,
          1.5,
          2.5,
          4.5,
          5.5,
          1,
          2.5,
          2.5,
          4,
          2,
          4,
          7.5,
          0.4666666666666667,
          1.5,
          2.5,
          10,
          2,
          5,
          24,
          1,
          9,
          1,
          14.5,
          1,
          0.6166666666666667,
          1.5,
          1,
          1,
          1,
          2.5,
          0.5333333333333333,
          1,
          1,
          1,
          1.5,
          3.5,
          0.7333333333333333,
          1.5,
          0.5166666666666666,
          1,
          12.5,
          1,
          1.5,
          0.5833333333333334,
          4.5,
          2,
          1.5,
          3.5,
          2,
          1.5,
          9,
          1.5,
          0.6833333333333333,
          2,
          2,
          6,
          5.5,
          2.5,
          4,
          3.5,
          2,
          1,
          3.5,
          2,
          1,
          1.5,
          5,
          1,
          2.5,
          6,
          8.5,
          0.5166666666666666,
          1,
          2,
          2,
          0.5333333333333333,
          0.7333333333333333,
          2.5,
          1,
          2,
          2.5,
          0.6166666666666667,
          1.5,
          2,
          4,
          6,
          1,
          1,
          0.6166666666666667,
          2.5,
          2,
          1.5,
          3,
          1.5,
          1.5,
          2.5,
          0.5666666666666667,
          6.5,
          1.5,
          0.7166666666666667,
          4.5,
          5,
          3,
          3,
          1,
          1,
          0.5333333333333333,
          1.5,
          1,
          1.5,
          1,
          3,
          4,
          3,
          3.5,
          0.7,
          0.6166666666666667,
          3.5,
          3.5,
          1.5,
          1,
          3,
          4,
          6,
          1,
          2,
          7,
          5,
          2.5,
          2.5,
          1,
          7.5,
          7.5,
          5.5,
          1,
          2,
          2,
          2,
          5,
          3,
          3,
          7,
          1,
          1,
          1,
          4.5,
          2.5,
          1,
          3,
          1,
          2.5,
          5.5,
          3,
          2,
          3,
          1,
          12,
          7,
          2,
          1,
          1,
          1,
          0.5333333333333333,
          1,
          45,
          1.5,
          1.5,
          2.5,
          70,
          1.5,
          4,
          6,
          2,
          4.5,
          0.6,
          1,
          6,
          8,
          1,
          0.6333333333333333,
          0.6166666666666667,
          0.5333333333333333,
          2,
          1.5,
          1,
          1,
          0,
          1,
          1,
          1.5,
          3,
          3,
          2,
          0.7166666666666667,
          1.5,
          1,
          2.5,
          2,
          3.5,
          2.5,
          2.5,
          2,
          1.5,
          4.5,
          1,
          1,
          6,
          2,
          2.5,
          2,
          1.5,
          1.5,
          3.5,
          3,
          7.5,
          3,
          1,
          1,
          31.5,
          0.5333333333333333,
          1.5,
          1.5,
          2,
          3,
          4.5,
          1.5,
          1.5,
          4,
          1,
          10,
          1.5,
          1,
          2.5,
          0.6333333333333333,
          1.5,
          1,
          0.5166666666666666,
          2,
          3,
          3,
          29.5,
          2.5,
          2,
          6.5,
          1,
          2,
          1,
          2,
          2.5,
          2,
          1,
          3,
          1,
          1,
          1,
          1,
          1,
          6,
          5,
          3,
          2,
          13,
          1.5,
          3,
          2,
          3.5,
          1,
          4,
          2.5,
          5,
          13.5,
          2.5,
          1,
          2.5,
          0.6833333333333333,
          3.5,
          2.5,
          0.6666666666666666,
          0.45,
          3,
          4.5,
          1.5,
          1.5,
          4,
          6.5,
          5.5,
          0.5166666666666666,
          2.5,
          0.6833333333333333,
          1.5,
          1,
          3,
          1,
          0.5666666666666667,
          1,
          4.5,
          3,
          2.5,
          1.5,
          1.5,
          5,
          0.6,
          4,
          2.5,
          2,
          7,
          1,
          1,
          2.5,
          31.5,
          5.5,
          0.5333333333333333,
          1,
          5.5,
          2,
          2.5,
          2,
          3.5,
          2,
          1,
          1.5,
          6.5,
          1,
          1,
          1,
          3.5,
          2,
          2,
          5,
          1.5,
          4.5,
          2.5,
          1.5,
          10.5,
          6,
          1,
          2,
          8.5,
          0.7333333333333333,
          8.5,
          2,
          3,
          0.65,
          1.5,
          3.5,
          2,
          0.6166666666666667,
          5.5,
          4.5,
          5.5,
          2,
          1.5,
          3,
          1.5,
          1,
          5,
          1,
          2,
          1,
          1,
          7.5,
          4.5,
          1,
          11,
          1,
          3.5,
          1,
          1.5,
          2,
          4.5,
          2,
          4,
          1.5,
          0.6666666666666666,
          1,
          1,
          1,
          5,
          8.5,
          1,
          2,
          1,
          4,
          1.5,
          8.5,
          3,
          2,
          1.5,
          4.5,
          5,
          2,
          1.5,
          7,
          3.5,
          5.5,
          1.5,
          2.5,
          3,
          1,
          3,
          1,
          0.6666666666666666,
          1.5,
          1.5,
          1,
          3.5,
          1,
          3.5,
          2,
          8.5,
          10.5,
          1,
          2,
          5.5,
          2,
          2.5,
          1.5,
          1,
          12.5,
          0.6,
          7,
          14,
          1,
          1.5,
          1.5,
          1.5,
          2,
          2.5,
          1.5,
          3,
          2.5,
          5.5,
          17.5,
          3.5,
          2.5,
          4.5,
          8.5,
          1,
          6.5,
          2,
          8,
          5,
          17.5,
          1.5,
          8.5,
          2,
          1.5,
          4,
          1,
          4.5,
          4,
          2.5,
          2,
          1,
          3,
          3,
          1.5,
          0.5666666666666667,
          8,
          4,
          3,
          1,
          3.5,
          1.5,
          0.6333333333333333,
          2.5,
          2.5,
          1.5,
          0.7166666666666667,
          1,
          2,
          5.5,
          2.5,
          2.5,
          0.65,
          3,
          3,
          1.5,
          1.5,
          0.6333333333333333,
          1.5,
          13,
          0.6166666666666667,
          6,
          4,
          1,
          0.5666666666666667,
          5,
          2
         ],
         "yaxis": "y"
        },
        {
         "customdata": [
          [
           "Anatomy and Figure Drawing for Beginners"
          ],
          [
           "Illustrator CC MasterClass"
          ],
          [
           "Typographic Logo Design in Illustrator - Beginners & Beyond"
          ],
          [
           "Adobe Illustrator T-Shirt Design for Merch by Amazon"
          ],
          [
           "Logo Design in Adobe Illustrator - for Beginners & Beyond"
          ],
          [
           "Learn Adobe Illustrator: Semi-Automatic Mandalas Drawing"
          ],
          [
           "Create Professional Looking Infographics With No Experience"
          ],
          [
           "Discover How to Draw and paint Comics"
          ],
          [
           "Typographic Logos: Typography and Lettering for Logo Design"
          ],
          [
           "Photoshop in Ease: Create World Amazing  Graphic Designs"
          ],
          [
           "Canva Graphics Design Essential Training For Everyone"
          ],
          [
           "Triangulated Bird: Origami Styled Bird in Adobe Illustrator"
          ],
          [
           "Illustrator Quick Tip：10分でKawaiiカメレオンを描こう"
          ],
          [
           "Deinen Roman setzen mit PagePlus in 10 einfachen Schritten"
          ],
          [
           "画像加工の初心者でも「１日」で初歩を覚えられる無料講座"
          ],
          [
           "Graphic Design Bootcamp"
          ],
          [
           "The Ultimate Drawing Course - Beginner to Advanced"
          ],
          [
           "Ultimate Photoshop Training: From Beginner to Pro"
          ],
          [
           "Photoshop for Entrepreneurs - Design 11 Practical Projects"
          ],
          [
           "Anatomy for Figure Drawing: Mastering the Human Figure"
          ],
          [
           "Sketch 3 from A to Z: Become an App Designer"
          ],
          [
           "How to Design a Logo - a Beginners Course"
          ],
          [
           "Logo Design Masterclass: Learn Logo Design + Illustrator"
          ],
          [
           "How to Draw and Sketch for Beginners"
          ],
          [
           "Graphic Design Masterclass: Learn Graphic Design in Projects"
          ],
          [
           "Canva Graphics Design for Entrepreneurs - Design 11 Projects"
          ],
          [
           "Vector Logo Design in Affinity Designer"
          ],
          [
           "How To Create A Low Poly Portrait With The Pen Tool"
          ],
          [
           "Photo Editing in Photoshop - Beginner to Advanced in 1 Hour"
          ],
          [
           "How to Create Kindle & Ebook Covers with Canva"
          ],
          [
           "How To Make Professional eBook Covers For FREE"
          ],
          [
           "Design Business Card in Photoshop: Earn Money by Doing It"
          ],
          [
           "Learn to create beautiful web interfaces and logos"
          ],
          [
           "Illustrated Logo Design"
          ],
          [
           "Color Basics for Print Designers"
          ],
          [
           "Digital Photo Manipulation Art And Cover Design In PhotoShop"
          ],
          [
           "Drawing Perspective For Beginners"
          ],
          [
           "Adobe InDesign CC Advanced"
          ],
          [
           "Intro to Photoshop for Merch by Amazon"
          ],
          [
           "MicroStation - Células"
          ],
          [
           "Photoshop - Creación de Efectos 2"
          ],
          [
           "Como Criar Logos de Sucesso - Start Designer"
          ],
          [
           "Super Textos con Photoshop"
          ],
          [
           "Photoshop - Aprende a Transformar Imágenes"
          ],
          [
           "Iníciate en Microstation"
          ],
          [
           "Adobe Photoshop pentru Social Media"
          ],
          [
           "Photoshop - Creación de Efectos"
          ],
          [
           "Cómo crear maquetas con Adobe XD"
          ],
          [
           "Aprenda Modelagem 3D com o 123D Design"
          ],
          [
           "Ferramentas Visuais"
          ],
          [
           "Adobe Indesign CC Başlangıç"
          ],
          [
           "How to Doodle: Basics and Lettering"
          ],
          [
           "Mastering Photoshop CC 2017 - The Art of Design & Technology"
          ],
          [
           "Design a logo for FREE in Inkscape"
          ],
          [
           "Foundation Skills on Adobe Illustrator: Learn Fast!"
          ],
          [
           "How To Create Amazing Cinemagraphs with Microsoft PowerPoint"
          ],
          [
           "Canva : Graphic Design Theory Volume1"
          ],
          [
           "Master App Icon Design for iPhone (IOS) & Android Devices"
          ],
          [
           "Photoshop: How to create stunning collages"
          ],
          [
           "Mastering advance Photoshop"
          ],
          [
           "Logo Designing for Your Business in an Hour"
          ],
          [
           "DIY Design Professional Web Banners in Photoshop 4 Beginners"
          ],
          [
           "Photoshop CC for Beginners - A Comprehensive Crash Course"
          ],
          [
           "Teoria Basica del Arte. Como Pintar Ilustraciones Digitales"
          ],
          [
           "Illustrator CC para novatos: ¡desde cero hasta experto! "
          ],
          [
           "Photoshop para novatos:  ¡desde cero hasta experto!"
          ],
          [
           "Diventa un professionista del Graphic Design"
          ],
          [
           "Formação em Design Gráfico com Corel Draw Versões X8 / 2017."
          ],
          [
           "ABC do Photoshop CC"
          ],
          [
           "Photoshop para iniciante - o básico"
          ],
          [
           "Curso Online de Adobe Illustrator CC e CS6"
          ],
          [
           "Photoshop & Illustrator CC Essentials in Arabic"
          ],
          [
           "Photoshop from Zero to Hero ( Arabic )"
          ],
          [
           "Photoshop Essentials - Uma Introdução Detalhada"
          ],
          [
           "Photoshop CC 2015 Top New Features"
          ],
          [
           "Expert Guide : Mastering Types feature in illustrator !"
          ],
          [
           "Cartoon Game Logo Design using Photoshop"
          ],
          [
           "Most Wanted Flat Design Techniques #2: Hipster Businessman"
          ],
          [
           "All-in-One Premium Design Course - Scratch to Pro+ Edition"
          ],
          [
           "Typography 101: Picking the Right Fonts for Business Success"
          ],
          [
           "Editorial Illustration Tutorial: From Drawing to Photoshop"
          ],
          [
           "Kindle eBook Cover Design and Book Illustration Guide"
          ],
          [
           "Removing Backgrounds From Images using Adobe Photoshop"
          ],
          [
           "Graphic Design Secrets Revealed"
          ],
          [
           "Drawing in Perspective"
          ],
          [
           "Digital Art in Adobe Illustrator CC: Angry Bird, Tom & Jerry"
          ],
          [
           "Adobe Illustrator For Beginners: Design A Typographic Logo"
          ],
          [
           "Surface Pattern Design : Create Scandinavian Patterns"
          ],
          [
           "Draw a realistic Fantail using pencil"
          ],
          [
           "How to design a business card on Photoshop (for beginners)"
          ],
          [
           "Make Flat Design Space Ships in 30 Minutes in Illustrator!"
          ],
          [
           "Figure Drawing From Life Using The Reilly Technique."
          ],
          [
           "Drawing Cartoony Characters"
          ],
          [
           "Learn Blender 3D  - The introduction course"
          ],
          [
           "Inkscape For Beginners 2016/2017"
          ],
          [
           "Make yourself a Santa Claus: Photoshop Manipulation"
          ],
          [
           "Become an InDesign Pro in 10 Skills"
          ],
          [
           "Digital Illustration: Make A Custom Character Illustration"
          ],
          [
           "Learn Basics Of Adobe Illustrator"
          ],
          [
           "Discover the 7 Secrets to Figure Drawing: Draw Awesome ..."
          ],
          [
           "LOGO DESIGN IN POWERPOINT"
          ],
          [
           "Photoshop CC MasterClass"
          ],
          [
           "Become A Logo Designer "
          ],
          [
           "Learn Illustrator By Recreating Top 3 Logos - Beginner Guide"
          ],
          [
           "Illustrative Surface Patterns Design : From Life To Products"
          ],
          [
           "Effective iOS & Android App Icon Design"
          ],
          [
           "Creating an animated greeting card via Google Slides"
          ],
          [
           "Photoshop: Learn Digital Painting Basics in Photoshop"
          ],
          [
           "Learning Photoshop CC 2014 in Egyptian Arabic "
          ],
          [
           "Make tech circles in Photoshop in 30 minutes!"
          ],
          [
           "Graphic design - The Quick Guide"
          ],
          [
           "Learn Corel x7 Like a Pro"
          ],
          [
           "Make tech circles in Adobe Illustrator in 30 minutes"
          ],
          [
           "Easy Illustration and 2D Animation"
          ],
          [
           "Make Tech circles in Adobe Photoshop and Illustrator"
          ],
          [
           "Turn Your Photos Into Professional And Modern Artworks"
          ],
          [
           "Calligraphy for Beginners: Creating Strong Lines"
          ],
          [
           "Canva: Design Album Cover Artwork in Minutes - No More Fees!"
          ],
          [
           "Getting Started With Photoshop CC"
          ],
          [
           "Learn Adobe Photoshop in 1 Hour"
          ],
          [
           "Learn Comic Book Color Flatting! (Coloring Assistant role)"
          ],
          [
           "Illustrator - Creating stylised images from a photo"
          ],
          [
           "Gimp In-Depth Essential Training Course: Free Photoshop Alt."
          ],
          [
           "Conviértete en un experto de photoshop cc naked series"
          ],
          [
           "CORSO COMPLETO DI E-ON VUE X-STREAM PER TUTTI"
          ],
          [
           "商業好設計-Illustrator個性商品設計"
          ],
          [
           "Ilustración de la A a la Z"
          ],
          [
           "Diseño Gráfico fácil y rápido."
          ],
          [
           "超基礎！超入門！〜作りながら学ぶ。完全無料3DCGソフトBlender〜"
          ],
          [
           "调色高级讲解"
          ],
          [
           "Curso de Corel Draw: Como Hacer Todo para tu Fiesta Temática"
          ],
          [
           "Infodesign"
          ],
          [
           "تصميم القوالب الدائرية بالفيغاس | Circular Templates Vegas"
          ],
          [
           "Affinity Designer - tworzenie wzorków"
          ],
          [
           "Photoshop: Creando efectos de luz"
          ],
          [
           "Learning Photoshop CC 2015"
          ],
          [
           "Create Awesome Ebook Covers Using Microsoft Word"
          ],
          [
           "Photoshop Essentials: Designing FaceBook Graphics"
          ],
          [
           "Advance Learning Tools Corel Draw Graphics Design"
          ],
          [
           "Creating an animated greeting card via Google Slides"
          ],
          [
           "Logo Design for Entrepreneurs "
          ],
          [
           "Sketch 3: Design a mobile application from scratch"
          ],
          [
           "Draw a Kitten"
          ],
          [
           "Adobe Photoshop Essentials: Master Adobe Photoshop CS6"
          ],
          [
           "Learn GIMP"
          ],
          [
           "Texturing For Designers - Bring Life to Design With Textures"
          ],
          [
           "Learn Advanced Photoshop Selections"
          ],
          [
           "InDesign: Diseño de proyectos paso a paso"
          ],
          [
           "Domina el Diseño Gráfico para Web con Photoshop CC"
          ],
          [
           "Graphicriver Autor – Verkaufe deine Designs online"
          ],
          [
           "Adobe Illustrator CC"
          ],
          [
           "캔바(Canva)로 SNS 콘텐츠 만들기"
          ],
          [
           "Illustrator para criação de peças gráficas, Design Gráfico"
          ],
          [
           "Photoshop Workflow - Manipulação de imagem para Publicidade"
          ],
          [
           "Como Produzir Ebook e Livros com Adobe Indesign CC e CS6"
          ],
          [
           "Curso básico de Gimp; software gratis de diseño gráfico"
          ],
          [
           "Curso Completo de SolidWorks 2016."
          ],
          [
           "なぞるだけですぐできる! 簡単手描きイラスト講座"
          ],
          [
           "Découvrez InDesign en 1 heure"
          ],
          [
           "Convert Image to Vector in Adobe illustrator"
          ],
          [
           "Design & Create Vector Graphics With Inkscape 2016"
          ],
          [
           "GIMP for Beginners. Make Your Own Professional Book Covers"
          ],
          [
           "Learn Photoshop Quickly (For Bloggers & Web Images)"
          ],
          [
           "Photoshop CC 2017 for Beginners: Master Photoshop Essentials"
          ],
          [
           "Voxel 3D Model Creation Course"
          ],
          [
           "Logo Design: Mastering the Wordmark"
          ],
          [
           "The Complete Canva Course"
          ],
          [
           "Learn Photoshop for Design: 100% Practical Projects"
          ],
          [
           "Logo Design Theory & Application Bootcamp"
          ],
          [
           "LaTeX for Professional Publications"
          ],
          [
           "The Design Theory Blitz"
          ],
          [
           "Book Design With MS Word And Canva "
          ],
          [
           "Learn to Design a Letterhead - A Beginners Course"
          ],
          [
           "Creating Icons with Adobe Illustrator"
          ],
          [
           "Create Stunning Infographics to Share your Ideas"
          ],
          [
           "How to stylize your photos in Photoshop with color overlays"
          ],
          [
           "Business Card and Letterhead Design in Adobe Illustrator"
          ],
          [
           "A Complete Guide to Successful Freelance Logo Design Career"
          ],
          [
           "The Logo Design Process From Start To Finish"
          ],
          [
           "Creative logo design with Inkscape for free"
          ],
          [
           "Typography Fundamentals - Feel confident with type!"
          ],
          [
           "How To Sell Your Art Online With ETSY"
          ],
          [
           "Ultimate Guide on Freelancing Career in Photoshop Design"
          ],
          [
           "Photoshop - Como criar Fusão de forma profissional"
          ],
          [
           "Photoshop, Illustrator, InDesign & Graphic Design Principles"
          ],
          [
           "Photoshop - Tratamento de pele profissional"
          ],
          [
           "Indesign - Para quem quer trabalhar com Design Gráfico"
          ],
          [
           "Primeros Pasos con Photoshop CC"
          ],
          [
           "Cómo Diseñar Logos"
          ],
          [
           "Photoshop para principiantes: ¡De cero a experto!"
          ],
          [
           "Photoshop Avançado - Pós Produção e fusão com 3D"
          ],
          [
           "ABC do Adobe Illustrator"
          ],
          [
           "خطوتك الأولى لتعلم الفوتوشوبPhotoshop"
          ],
          [
           "master course - realistisch zeichnen lernen"
          ],
          [
           "Photoshopマスターコース　基礎から上級まで　ステップバイステップでPhotoshopのすべてを学ぼう"
          ],
          [
           "Professional Logo Design in Adobe Illustrator"
          ],
          [
           "Learn UI/UX and Mobile App Design in Photoshop from Scratch"
          ],
          [
           "Mastering Photoshop: From Beginner to Industry Professional"
          ],
          [
           "Expert Retina / HiDPI Graphics in Photoshop & Illustrator"
          ],
          [
           "Start Making Comics with Manga Studio 5 / Clip Studio Paint"
          ],
          [
           "Most Wanted Flat Design Techniques #1: Desert Island"
          ],
          [
           "Photoshop Quickstart Guide to Digital Sketching"
          ],
          [
           "Gestalt Principles & Pattern Design : Create Festive Pattern"
          ],
          [
           "Logo Design - Design a Logo in Photoshop for beginners"
          ],
          [
           "Advanced Features in Adobe Illustrator"
          ],
          [
           "YOU can Draw, Shade and Paint a Mixed Media Girl...today!"
          ],
          [
           "Photoshop | GIMP: Quick & Easy Image Hacks for Beginners"
          ],
          [
           "Learn Photoshop CC Essentials"
          ],
          [
           "Mobile App Design: From Beginner to Intermediate"
          ],
          [
           "Text based Logo Design for Business Using Adobe Photoshop"
          ],
          [
           "Graphic Design for Entrepreneurs...Who Can't Draw"
          ],
          [
           "BUSINESS CARD DESIGN IN POWERPOINT"
          ],
          [
           "Adobe - How to create a professional Video Title/ Web Banner"
          ],
          [
           "How to Design an Awesome Letterhead in Adobe Illustrator"
          ],
          [
           "Graphic Design - An Overview of the Field"
          ],
          [
           "✔️ Illustrator CC : Be a Graphic Designer in Illustrator CC"
          ],
          [
           "FLAT ICON DESIGN IN POWERPOINT"
          ],
          [
           "Logo Design By Example : Design 5 Famous Logos"
          ],
          [
           "Bring your sketch to life - learn digital illustration"
          ],
          [
           "Learn Cinema 4D: Create an Abstract Background"
          ],
          [
           "The Art of Icon Design: Create Custom Flat Icon Designs"
          ],
          [
           "Design Tickets and Vouchers in Photoshop and Illustrator"
          ],
          [
           "Blender Modelling Series - Volume Two"
          ],
          [
           "Master Adobe Photoshop Lightroom CC - From Beginner to Advan"
          ],
          [
           "Design bestselling T-shirts from Beginner to Expert."
          ],
          [
           "Digital Painting for Cartoon Characters"
          ],
          [
           "Create Animated Gif Advertising Banners in Photoshop CC"
          ],
          [
           "The Play-Doh Technique: Fun Hand-made Vectors In Illustrator"
          ],
          [
           "Photo Manipulation: Master Photo Editing"
          ],
          [
           "How to create flat design icons in 15 minutes in Illustrator"
          ],
          [
           "Adobe - Create a professional logo step-by-step (Beauty)"
          ],
          [
           "Essential Skills for Designers - Mastering the Pen Tool"
          ],
          [
           "Morphing  with After Effect : Everything you need to know"
          ],
          [
           "Learn  After Effects and master 3d layers in after effects"
          ],
          [
           "Learn Adobe Illustrator CC - All Essentials In 1 Hour!"
          ],
          [
           "History of Art and Design from XV to XXI century"
          ],
          [
           "App Design + Web Design + Photoshop = Combined Course"
          ],
          [
           "Adobe Illustrator CC for beginners"
          ],
          [
           "Complete Portrait and Figure Drawing (step-by-step)"
          ],
          [
           "Adobe Illustrator: Learn Easy Logo Design."
          ],
          [
           "Create Beautiful Compelling Social Media Banners With Canva"
          ],
          [
           "Become a Professional Logo Designer"
          ],
          [
           "Learn Photoshop Actions - Save time with repetitive tasks"
          ],
          [
           "Essential Skills for Designers - Masking"
          ],
          [
           "Mastering Photoshop Elements 13 Made Easy Training Tutorial"
          ],
          [
           "Become a Graphic Designer, and earn a living from it"
          ],
          [
           "Learn 2D Cell Shading in Photoshop"
          ],
          [
           "Adobe Illustrator For Everyone: Create Detailed Vector Image"
          ],
          [
           "Learn Digital Drawing in Photoshop"
          ],
          [
           "Quickly Batch Export & Package Logo Files for Clients"
          ],
          [
           "Logo Design for Everybody"
          ],
          [
           "Pixelmator - Create Vector Graphics From Scratch"
          ],
          [
           "Creating an animated greeting card via Google Slides"
          ],
          [
           "Most Wanted Flat Design Techniques #3: Office Space"
          ],
          [
           "Flat Design - Create Beautiful Flat Graphics In Photoshop"
          ],
          [
           "T-Shirt Design Workshop 01: Foundation"
          ],
          [
           "Expert Guide : Mastering Shapes Creation with Illustrator"
          ],
          [
           "Logo Portfolio in 1 Hour in Wordpress"
          ],
          [
           "Complete Digital Painting Training with Corel Painter"
          ],
          [
           "How to Design Simple Promotional Materials in Photoshop"
          ],
          [
           "Design and Animate a Gamer UI"
          ],
          [
           "Learn Blender 3D - The materials and texture course"
          ],
          [
           "FACEBOOK COVERS IN POWERPOINT"
          ],
          [
           "Quote Images for Pinterest, Facebook, & Instagram"
          ],
          [
           "Adobe Illustrator: Create a Quick & Easy Unique Illustration"
          ],
          [
           "Learn to Design a Logo in Adobe Illustrator"
          ],
          [
           "Photoshop In-Depth: Master all of Photoshop's Tools Easily"
          ],
          [
           "Diseño de logo para principiantes"
          ],
          [
           "After Effects - Alles rund um das Tracking"
          ],
          [
           "Introducción al retrato realista con Photoshop"
          ],
          [
           "Uso Básico de Adobe Photoshop"
          ],
          [
           "Técnicas Photoshop: Reformar Campo de golf"
          ],
          [
           "誰でもわかる Adobe Illustrator CS5"
          ],
          [
           "誰でもわかる Adobe Photoshop CS5"
          ],
          [
           "MicroStation - Niveles"
          ],
          [
           "Crea personajes fantásticos con Photoshop"
          ],
          [
           "Letras en Adobe Illustrator"
          ],
          [
           "Photoshop: Creando elemental de aire"
          ],
          [
           "MicroStation - Células"
          ],
          [
           "Nuke X: Aprende composición digital"
          ],
          [
           "สร้างงานกราฟฟิคแอพพลิเคชั่นมือถือด้วย Adobe Illustrator"
          ],
          [
           "Photoshop: Creando elemental de agua"
          ],
          [
           "７日でマスター  ビギナー向け Adobe Illustrator　どきどきセミナー"
          ],
          [
           "Si eres nuevo en Photoshop...Este es tu curso Nº1"
          ],
          [
           "Intro to Illustrator"
          ],
          [
           "画像加工の初心者だとしても、１週間でホームページのトップ画像を製作できるようになる画像製作講座"
          ],
          [
           "Photoshop - Automatização com Adobe Script"
          ],
          [
           "دورة شامل لبرنامج إلستريتور للمبتدئين - Adobe illustrator CC"
          ],
          [
           "Corel Draw X8 Başlangıç Eğitimi (YENİ)"
          ],
          [
           "Formation Photoshop"
          ],
          [
           "8 Stunden professionelles Cinema 4D Training"
          ],
          [
           "Clipping Masks & Shaped images in Adobe Photoshop CC"
          ],
          [
           "Expert Guide : Mastering Photoshop Smart Objects in depth !"
          ],
          [
           "Portrait Typography in Photoshop - Anyone can do Typography"
          ],
          [
           "Mastering Retouching and Restoration (15 projects Included)"
          ],
          [
           "Make flat design trees in Adobe Illustrator in 30 minutes!"
          ],
          [
           "Photoshop Fantastic! - The Comprehensive Guide to Photoshop"
          ],
          [
           "Drawing in PowerPoint: Block diagram + Experiments + Cartoon"
          ],
          [
           "Graphic Design: Double Your Sales With Canva"
          ],
          [
           "Easy Typography Tips to Beautify and Strengthen Your Work"
          ],
          [
           "Adobe Illustrator Advanced Vector Artwork"
          ],
          [
           "Web Elements Design With Photoshop"
          ],
          [
           "Logo Design Made Easy: Create your own logo in PowerPoint"
          ],
          [
           "Typografie - Die besten Schriftarten im Geschäftsalltag"
          ],
          [
           "Lettering"
          ],
          [
           "Corel Draw x7"
          ],
          [
           "Adobe Photoshop CC - Fundamentos"
          ],
          [
           "Curso de Diseño e Ilustracion de Armas para Videojuegos"
          ],
          [
           "Photoshop - Composição vintage"
          ],
          [
           "Photoshop: Automatiza invitaciones con bloc de notas y Excel"
          ],
          [
           "Illustrator CC 2016 Power Workshops (Deutsch)"
          ],
          [
           "Curso Blender 3D  do Básico ao Avançado "
          ],
          [
           "Diseño impreso - Preimpresión para offset en Illustrator"
          ],
          [
           "Fundamentos de la Tipografía - Para un diseño eficaz"
          ],
          [
           "الدورة الشاملة illustrator from zero to hero"
          ],
          [
           "Designing an eBook Cover that Sells"
          ],
          [
           "Master Terrazzo: Creating Vector Tiles with Adobe Illustrati"
          ],
          [
           "Paint atmospheric sunset with soft pastel!"
          ],
          [
           "Earn and Learn to create Logo designs in Illustrator quickly"
          ],
          [
           "Create your own Photoshop brush preset!"
          ],
          [
           "Quick and Quirky Caricatures - Learn in an Hour!"
          ],
          [
           "Finalize Production Files | Photoshop Illustrator InDesign"
          ],
          [
           "How to illustrate in Flash "
          ],
          [
           "OpenCV Computer Vision Application Programming "
          ],
          [
           "Turn your animated greeting card carousel into a music video"
          ],
          [
           "Mastering Photoshop Elements 15 Made Easy Training Tutorial"
          ],
          [
           "Manipulate Photos with GIMP"
          ],
          [
           "Learn to Draw Pretty Faces for Comic Books"
          ],
          [
           "The Business Graphic Design with Photoshop & Illustrator"
          ],
          [
           "Bestseller!! Learn Illustrator CC in 1 Hour"
          ],
          [
           "Learn Professional Book-Cover Designing Photoshop 4 Beginner"
          ],
          [
           "How To Make Graphics For A Website"
          ],
          [
           "Adobe Illustrator: How to Draw Squared Animals Icons"
          ],
          [
           "Book Covers and Graphic Design with PowerPoint 2013/2016/365"
          ],
          [
           "Getting Started With Digital Painting Using Krita"
          ],
          [
           "Logo Design - Guide to Logo Design in Photoshop"
          ],
          [
           "Logo Design Essentials "
          ],
          [
           "Fundamentals of Character Design: From Concept to Vector"
          ],
          [
           "Whiteboard Animation, Beginner To Expert - In 1 Hour!"
          ],
          [
           "Drawing Fun Caricatures! :) -The Best Method!"
          ],
          [
           "Advanced Graphic Design-Photoshop CC 2014 for Photographers"
          ],
          [
           "Design Beautiful & Professional Ebooks Using FREE Software"
          ],
          [
           "Desktop Publishing 101: Simplified Editing"
          ],
          [
           "Create Professional Character Designs in Photoshop"
          ],
          [
           "How to Make a Custom Graphic From Sketches "
          ],
          [
           "Getting Started with Illustrator CC"
          ],
          [
           "Photoshop From Scratch to Logos, Digital Drawing & Projects"
          ],
          [
           "How to Make Your Own Children's Interactive eBook!"
          ],
          [
           "InDesign Basics for Beginners: Learn InDesign Quickly"
          ],
          [
           "Create an Accelerated Learning Flowchart with Watercolors"
          ],
          [
           "How to Create Vector Characters in Illustrator or Photoshop"
          ],
          [
           "Photoshop Learn Concept Art Manipulation"
          ],
          [
           "Make Logo design pay with illustrator in less than a day"
          ],
          [
           "Create a Majestic Bear on Adobe Illustrator"
          ],
          [
           "Adobe Illustrator CC Beginner"
          ],
          [
           "Create Beveled Lettering in Adobe Illustrator"
          ],
          [
           "Learn Adobe Illustrator and Premiere Pro in 1 hour"
          ],
          [
           "Adobe photoshop The  Flying Land compositing"
          ],
          [
           "Learn Mobile App Design in Photoshop"
          ],
          [
           "Photoshop: Real World Learning"
          ],
          [
           "Adobe Illustrator Fast Track"
          ],
          [
           "Mastering Text Animation in After Effect"
          ],
          [
           "How to Design A 2D Character in Illustrator"
          ],
          [
           "Design Efficiency Intensive"
          ],
          [
           "Adobe Photoshop CC for Photographers Advanced"
          ],
          [
           "Adobe InDesign Tips and Tricks"
          ],
          [
           "Photoshop CC Training - Creating Fantastic Album Cover Art"
          ],
          [
           "Beginner's Guide to Book Cover Designing."
          ],
          [
           "Low Poly Portrait Illustration"
          ],
          [
           "Events Promotion Design"
          ],
          [
           "Adobe Photoshop CC Introduction"
          ],
          [
           "Ecover Mastery in 30 Minutes with NO photoshop skills needed"
          ],
          [
           "Adobe Illustrator in Under 10: Fast info at your Fingertips!"
          ],
          [
           "An Easy Introduction to Adobe Photoshop"
          ],
          [
           "Create Beautiful Image Maps for Your Website"
          ],
          [
           "T-Shirt Design Workshop 02: Mixed Media Design"
          ],
          [
           "Design a unique bookstore-quality Photo Book with Blurb"
          ],
          [
           "Learn to Create Deliverable Brand Identity Package"
          ],
          [
           "How to Draw Pinups and Sexy Women"
          ],
          [
           "Design & Create Text Logos in Adobe Photoshop CS5"
          ],
          [
           "Freelancing A-Z: How To Start A Successful Freelance Career"
          ],
          [
           "Character Concept Design for Beginners"
          ],
          [
           "Icon & Logo Symbol Design in Adobe Illustrator"
          ],
          [
           "How to Draw Majestic Animals: Cats"
          ],
          [
           "Sketchbook Pro for Beginners"
          ],
          [
           "Photoshop CC 2017 Full Course"
          ],
          [
           "Mobile App Design in Photoshop from Scratch - UI & UX DESIGN"
          ],
          [
           "Affinity Designer - making seamless patterns"
          ],
          [
           "Typography: Learn the Foundation and Designs"
          ],
          [
           "Sketch 3 - New Guide To iOS 8 Mobile App Design (2015)"
          ],
          [
           "How To Become An Etsy Wholesale Seller"
          ],
          [
           "How to make Business Cards like a Pro"
          ],
          [
           "Creating animation puzzles with Google Slides"
          ],
          [
           "iPhone icons gone awesome"
          ],
          [
           "Adobe After Effect: Create 15 Advance Motion Graphic Element"
          ],
          [
           "Learn Sketch 3 Mobile App Design From Scratch"
          ],
          [
           "Learn Real Graphic Design"
          ],
          [
           "Designing With Halftones: Create a Dot Pattern Portrait!"
          ],
          [
           "A Beginners Guide to creating Vector Graphics With Photoshop"
          ],
          [
           "Adobe Photoshop CS6 para Iniciantes"
          ],
          [
           "PHOTOSHOP: Dessiner l'affiche du film Rogue One en style BD"
          ],
          [
           "Doble exposición con Photoshop"
          ],
          [
           "Débuter avec KRITA"
          ],
          [
           "会声会影深度教学"
          ],
          [
           "Criando um poster com foto colagem digital"
          ],
          [
           "Adobe InDesign CC 2017 Quick Start"
          ],
          [
           "初めてのiDraw入門"
          ],
          [
           "Interiores Sostenibles 101"
          ],
          [
           "Wordpress: Comment utiliser le thème FABLE"
          ],
          [
           "Adobe InDesign CS6"
          ],
          [
           "Aprende Photoshop con Ejercicios Prácticos."
          ],
          [
           "Typography Design: Learn Web Typography The Practical Way"
          ],
          [
           "Toon Boom Studio Tutorial - Cartoon Animation Made Simple"
          ],
          [
           "Learn Logo Designing: 5 Types of Logo Designs in Illustrator"
          ],
          [
           "Practical Font Design"
          ],
          [
           "Smashing Photoshop CC/CS"
          ],
          [
           "Sketching: How to Draw People, Hands, Eyes, Buildings & Cars"
          ],
          [
           "Converting Type to Outlines in Adobe InDesign"
          ],
          [
           "Siemens NX Unigraphics (UG) Basic to Advance 3D Modelling"
          ],
          [
           "Typography From A to Z"
          ],
          [
           "Digital Asset Designer: Creating and Selling Mockups"
          ],
          [
           "Adobe Illustrator CC - From scratch "
          ],
          [
           "Photoshop: 5 Practical Techniques to Improve Your Skills"
          ],
          [
           "Easy Coloring Book Design"
          ],
          [
           "Make Patterns in Illustrator"
          ],
          [
           "Learn to create Text fire effect in Adobe Photoshop "
          ],
          [
           "Professional Business Logo Design Using Free Online Tools"
          ],
          [
           "Beginners Guide to Kindle Ebook Covers Design With Fireworks"
          ],
          [
           "Photoshop isn't like what you imagine A to Z ."
          ],
          [
           "The Complete Adobe Spark Course"
          ],
          [
           "The Art of Logo Design : Everything You Need to Know"
          ],
          [
           "Hand Lettering para Iniciantes"
          ],
          [
           "Aprende a utilizar Canva"
          ],
          [
           "photoshop - CURSO DE PHOTOSHOP DO BÁSICO AO AVANÇADO"
          ],
          [
           "Photoshop - Revelando os segredos das Fusões"
          ],
          [
           "Create Mobile App Design from Scratch in Photoshop"
          ],
          [
           "Apple Watch Design"
          ],
          [
           "Word Swag : Create Stunning Images with the Word Swag App"
          ],
          [
           "How to Draw Majestic Animals: Dogs"
          ],
          [
           "Photoshop Course: Design an eBook Cover in Photoshop"
          ],
          [
           "Digital Art for Beginners"
          ],
          [
           "Learn How To Design a Logo in Adobe Illustrator in 30 Mins"
          ],
          [
           "The most popular techniques in Photoshop"
          ],
          [
           "Become a Professional Graphic Designer"
          ],
          [
           "Adobe Illustrator CC 2017 for beginners"
          ],
          [
           "How to Draw Cute Cartoon Characters"
          ],
          [
           "How to Create awesome Cinema-graph With Adobe Photoshop?"
          ],
          [
           "Learn to Create a Mandala with Adobe Illustrator"
          ],
          [
           "15  Motion Graphic Elements in After Effect (Series 2)"
          ],
          [
           "Fantasy map design"
          ],
          [
           "Creating 2D Game Assets"
          ],
          [
           "create 9 professional logo design full version"
          ],
          [
           "Stencil - Simple Graphic Design For Entrepreneurs"
          ],
          [
           "Learn Adobe InDesign from Scratch"
          ],
          [
           "Getting the Life of an Instructional Designer"
          ],
          [
           "Drawing for All Levels: How to Design Cartoon Women"
          ],
          [
           "Photoshop Tools 101"
          ],
          [
           "How to create gif animation in photoshop"
          ],
          [
           "How to Color Comic Books... with a Mouse"
          ],
          [
           "Bestseller! Learn Photoshop in 1 Hour (No Experience Needed)"
          ],
          [
           "How To Design A Fortune 500 Logo in Illustrator"
          ],
          [
           "Canva : Graphic Design Theory Volume2"
          ],
          [
           "Canva : Book Cover Design"
          ],
          [
           "The Complete Figure Drawing Course HD"
          ],
          [
           "Mastering Logo Design - 20 Projects step-by-step"
          ],
          [
           "Graphic Design: Create Animated GIF Ad Banners in Photoshop"
          ],
          [
           "Learn Inkscape : Design Logos and Game Arts"
          ],
          [
           "Typography: Learn the Basics to Build a Solid Foundation"
          ],
          [
           "Master Manga Studio 5: Bonus Drawing and Painting"
          ],
          [
           "Learn Adobe Photoshop from scratch to professional"
          ],
          [
           "7 Secrets To Designing In Black and White"
          ],
          [
           "Photoshop CS 6 ile Fotoğraf İşlemenin Temelleri"
          ],
          [
           "誰でもわかる Adobe Illustrator CS6"
          ],
          [
           "Devenez le king de l'illustration automobile"
          ],
          [
           "Corel Draw X7 Eğitimi (Temelden İleri Seviyeye)"
          ],
          [
           "调色中级课程"
          ],
          [
           "Drawing and paint  hot girl with photoshop"
          ],
          [
           "Photoshop CC Eğitim Seti (YENİ)"
          ],
          [
           "مدخل في أساسيات الفوطوشوب للمبتدئين فقط"
          ],
          [
           "Creación de iconos con Illustrator"
          ],
          [
           "Adobe Illustrator Course in Urdu Basics Level Training"
          ],
          [
           "GraphicDesign Studio"
          ],
          [
           "Aula de Photoshop - Aprenda como recortar imagens"
          ],
          [
           "Make your own great designs in PowerPoint: Quick & Easy"
          ],
          [
           "Create Kindle eBook Covers with PowerPoint"
          ],
          [
           "Magazine Design: Start your own magazine in less than 24hrs"
          ],
          [
           "Essential Skills for Designers - Adobe Bridge"
          ],
          [
           "Learn to code in Python and learn Adobe Photoshop today!"
          ],
          [
           "How to draw Caricatures"
          ],
          [
           "Essential Skills for Designers - Working with Type"
          ],
          [
           "Affinity Designer for beginners"
          ],
          [
           "How to Create Top Ranking Mobile App Icons - iOS Edition"
          ],
          [
           "Canva - Making Design Simple"
          ],
          [
           "Ribbon Lettering: From Sketch to Wordmark"
          ],
          [
           "How to Make a Custom Graphic "
          ],
          [
           "Create Flat Designs with Inkscape "
          ],
          [
           ":::Beginners Guide To Creating Amazing Images with Canva:::"
          ],
          [
           "Learn To Draw - The COMIC BOOK STYLE"
          ],
          [
           "Adobe Illustrator Vectors For Hand Letterers"
          ],
          [
           "How To Create Amazing YouTube Custom Thumbnail Images"
          ],
          [
           "Graphic Design Bootcamp: Professional Workflow & Layout Tips"
          ],
          [
           "Promotional Design Master Class"
          ],
          [
           "Introduction to GIMP 2.8: Tutorials for Beginners"
          ],
          [
           "48 Logo Designs and Techniques"
          ],
          [
           "Photoshop JumpStart"
          ],
          [
           "How To Sell Practically Anything: Professional Design Mockup"
          ],
          [
           "Learn Calligraphy, Handwriting animation wz After Effects"
          ],
          [
           "LaTeX A-Z: from beginner to advance in less than 3 hour"
          ],
          [
           "Course Bundle | Exploring Art : Silhouette & Linear Line Art"
          ],
          [
           "How To Build Your Own Web Banner Design Business"
          ],
          [
           "Canva: Design and Sell Your Own Professional Canva Designs"
          ],
          [
           "How to Design a Logo in Adobe Illustrator"
          ],
          [
           "Illustrator CC: Design and drawing from scratch to expert!"
          ],
          [
           "Logo design: How To Design an Awesome Logo in Illustrator"
          ],
          [
           "Photoshop: Real World Hands-on Freelance Mastery"
          ],
          [
           "Graphic Design: Beginner's Graphic Design Guide to Photoshop"
          ],
          [
           "Most Wanted Flat Design Techniques"
          ],
          [
           "3DS MAX - Learn 3Ds MAX tutorial for Beginners in Urdu Hindi"
          ],
          [
           "Design your own Social Media Logo Icons in Adobe Illustrator"
          ],
          [
           "Mashup - Transform a scanned sketch into a digital painting"
          ],
          [
           "Motion Graphic With After Effect From Scratch in 5 Hours"
          ],
          [
           "Introduction to Photoshop CC: Tutorials for Beginners"
          ],
          [
           "Making Killer Images in Photoshop that WOW Clients!"
          ],
          [
           "Simple Photoshop CC: Smart Objects"
          ],
          [
           "Learn Photo Manipulation - Build 3 projects"
          ],
          [
           "Zombie Apocalypse Photoshop Actions"
          ],
          [
           "Creative Perspective Illustration with GIMP"
          ],
          [
           "iPhone icons in iOS7 - learn flat design"
          ],
          [
           "How to draw professional manga artwork by Punix"
          ],
          [
           "How do I Create a Stylized Graphics from Images in Photoshop"
          ],
          [
           "Advance Design of Logos and Brand Identity   "
          ],
          [
           "Como utilizar o Corel Draw por completo!"
          ],
          [
           "Photoshop　中級者、上級者がプロになるために最後に学ぶ「超絶技巧」テクニック"
          ],
          [
           "Corel Draw X7: Mão na Massa"
          ],
          [
           "Dibujo digital básico: cómo ilustrar en Photoshop"
          ],
          [
           "Adobe Illustrator CS6 باللغة العربية"
          ],
          [
           "Creare un logo con Adobe Illustrator"
          ],
          [
           "Mestres do Photoshop"
          ],
          [
           "illustrator CC 2015.3 - Curso básico de ferramentas"
          ],
          [
           "Plantillas Powerpoint para Publicar en Mercadolibre y Ebay"
          ],
          [
           "Crie seu Cartão de Visita no CorelDRAW X8"
          ],
          [
           "Curso de Maya 3D"
          ],
          [
           "Photoshop: Organización de eventos y decoración de fiestas"
          ],
          [
           "Podcast Cover Art | Design Like the Best"
          ],
          [
           "Learn Drawing and Painting a Landscape with Oil Colours"
          ],
          [
           "Enhance your chroma key with an animated Slides background"
          ],
          [
           "The Complete Motion Graphic Course"
          ],
          [
           "Making Corporate Flyers in Photoshop"
          ],
          [
           "Rock-Solid Brands"
          ],
          [
           "Typographic Poster Design - From Sketch to Vector"
          ],
          [
           "Make Money With Photoshop: Logos, Business Cards & Brochures"
          ],
          [
           "Photoshop the Art of Clipart"
          ],
          [
           "Adobe Illustrator Creative Cloud:  Mastering the Upgrades"
          ],
          [
           "Illustrator 101: Learn Quickly and Easily to create Artwork"
          ],
          [
           "Design Your Own Fonts. Plus A Bunch Of Typography Secrets."
          ],
          [
           "Easy Steps To Become A Photoshop Expert"
          ],
          [
           "Intro to Adobe Illustrator"
          ],
          [
           "Beginners Guide: Photoshop Poster/Artwork"
          ],
          [
           "Basic Graphic Design for PowerPoint"
          ],
          [
           "Master Graphic Design Using Photoshop with Rachael"
          ],
          [
           "Adobe Illustrator CC - Print Design for Beginners"
          ],
          [
           "Adobe Illustrator | Master in 3D"
          ],
          [
           "From Drawing to Illustration"
          ],
          [
           "Adobe Suite : Unleash your creativity & benefit from it !"
          ],
          [
           "Become a Logo Designer: Guide to Complimentary Logo Software"
          ],
          [
           "DIY Beautiful Social Graphics That Don't Require Photoshop"
          ],
          [
           "Design while you learn InDesign CC"
          ],
          [
           "R Graph Essentials"
          ],
          [
           "Car Sketching with Simple Analog Tools"
          ],
          [
           "Drawing Anime & Manga Style"
          ],
          [
           "Inkscape 101 for Beginners - Design Vector Graphics"
          ],
          [
           "How to Fix Common Branding Mistakes, for Graphic Designers"
          ],
          [
           "AutoCAD Course - Learn Online AutoCAD in Urdu Hindi"
          ],
          [
           "Mind-Blowing Photoshop: Master Skills Season 1"
          ],
          [
           "Architectural Drawing For Creatives"
          ],
          [
           "Adobe Photoshop (Complete Beginner)"
          ],
          [
           "Character Design"
          ],
          [
           "Icon Design Masterclass: Learn Icon Design Principles"
          ],
          [
           "create stunning Photoshop compositions in minutes"
          ],
          [
           "Marvelous Logo Design"
          ],
          [
           "Canva Complete Course For Graphics Design | 20 Projects"
          ],
          [
           "The Complete Video Production Guide - Learn Top Video Tools"
          ],
          [
           "Drawing With Confidence"
          ],
          [
           "Add realistic car paint to your pencil drawing in Photoshop!"
          ],
          [
           "T-Shirt Sales - Merch By Amazon Profit Formula With Canva"
          ],
          [
           "Learn print production from start to finish"
          ],
          [
           "Step by Step Gif animation in Photoshop"
          ],
          [
           "Adobe - Create a professional logo step-by-step (Farming)"
          ],
          [
           "Adobe Illustrator CC Advanced"
          ],
          [
           "Mastering Realistic Real Life Drawing with Pencil"
          ],
          [
           "Silhouettes that Sells"
          ],
          [
           "FullPage: The Complete Guide to Flat Websites"
          ],
          [
           "How to design professional PowerPoint business presentation"
          ],
          [
           "Pic Monkey for Beginners - Graphic Design and Photo Editing"
          ],
          [
           "Corel Painter 2016"
          ],
          [
           "eBook Cover Design"
          ],
          [
           "Photoshop tips and tricks, how to change clothes"
          ],
          [
           "How to make Better Compositions: Take your art to new height"
          ],
          [
           "Adobe Photoshop CC | The Essential Guide"
          ],
          [
           "Learn to Composite a 2D Action Shot in Photoshop"
          ],
          [
           "Infographic Design: How To Create Your Own Infographic"
          ],
          [
           "Autodesk Inventor 2016 : Complete Guide "
          ],
          [
           "Amazing Graphic Design for Beginners"
          ]
         ],
         "hovertemplate": "subject=Graphic Design<br>price=%{x}<br>content_duration=%{y}<br>course_title=%{customdata[0]}<extra></extra>",
         "legendgroup": "Graphic Design",
         "marker": {
          "color": "#EF553B",
          "symbol": "circle"
         },
         "mode": "markers",
         "name": "Graphic Design",
         "showlegend": true,
         "type": "scattergl",
         "x": [
          150,
          95,
          150,
          20,
          200,
          200,
          180,
          65,
          25,
          20,
          200,
          195,
          0,
          0,
          0,
          200,
          150,
          200,
          200,
          95,
          75,
          30,
          200,
          150,
          95,
          200,
          150,
          195,
          20,
          30,
          20,
          50,
          20,
          25,
          20,
          50,
          150,
          30,
          25,
          20,
          30,
          25,
          20,
          20,
          20,
          20,
          20,
          0,
          0,
          0,
          0,
          185,
          20,
          100,
          50,
          30,
          200,
          25,
          20,
          20,
          20,
          200,
          200,
          20,
          150,
          150,
          200,
          45,
          45,
          30,
          80,
          0,
          60,
          0,
          0,
          190,
          20,
          95,
          200,
          75,
          45,
          120,
          20,
          95,
          25,
          0,
          30,
          40,
          0,
          0,
          50,
          0,
          20,
          100,
          40,
          0,
          105,
          30,
          25,
          40,
          95,
          95,
          95,
          0,
          40,
          20,
          20,
          20,
          70,
          50,
          30,
          20,
          200,
          65,
          200,
          20,
          40,
          0,
          75,
          50,
          0,
          50,
          20,
          30,
          70,
          20,
          20,
          20,
          80,
          200,
          125,
          50,
          20,
          20,
          20,
          50,
          45,
          20,
          40,
          20,
          20,
          45,
          0,
          100,
          20,
          60,
          25,
          150,
          70,
          30,
          20,
          30,
          100,
          135,
          80,
          60,
          30,
          30,
          20,
          0,
          200,
          20,
          80,
          195,
          0,
          20,
          200,
          20,
          50,
          25,
          35,
          95,
          0,
          30,
          0,
          0,
          200,
          145,
          95,
          40,
          20,
          100,
          165,
          30,
          30,
          100,
          100,
          0,
          25,
          120,
          135,
          35,
          20,
          20,
          70,
          0,
          145,
          25,
          195,
          0,
          0,
          20,
          50,
          30,
          30,
          30,
          135,
          75,
          140,
          20,
          20,
          95,
          20,
          0,
          0,
          25,
          95,
          50,
          70,
          20,
          90,
          45,
          100,
          50,
          95,
          30,
          85,
          20,
          75,
          195,
          20,
          45,
          20,
          20,
          55,
          20,
          115,
          20,
          20,
          20,
          50,
          150,
          25,
          45,
          20,
          35,
          20,
          185,
          20,
          20,
          30,
          20,
          20,
          95,
          20,
          25,
          200,
          100,
          30,
          55,
          20,
          200,
          95,
          0,
          95,
          20,
          0,
          25,
          20,
          20,
          20,
          40,
          20,
          20,
          20,
          20,
          40,
          20,
          20,
          35,
          20,
          20,
          20,
          20,
          20,
          65,
          195,
          30,
          65,
          200,
          50,
          90,
          195,
          95,
          100,
          50,
          20,
          155,
          20,
          45,
          90,
          45,
          20,
          75,
          40,
          20,
          40,
          40,
          30,
          30,
          150,
          20,
          100,
          20,
          150,
          20,
          20,
          20,
          50,
          20,
          20,
          50,
          20,
          85,
          20,
          30,
          20,
          40,
          200,
          200,
          200,
          200,
          180,
          195,
          20,
          25,
          20,
          50,
          20,
          25,
          20,
          20,
          20,
          20,
          20,
          100,
          20,
          95,
          35,
          200,
          25,
          25,
          50,
          55,
          30,
          20,
          20,
          70,
          20,
          20,
          40,
          20,
          20,
          20,
          30,
          80,
          50,
          25,
          20,
          45,
          30,
          20,
          30,
          20,
          20,
          25,
          180,
          20,
          75,
          95,
          195,
          175,
          100,
          35,
          125,
          90,
          195,
          20,
          135,
          20,
          100,
          20,
          20,
          20,
          30,
          60,
          20,
          20,
          20,
          40,
          50,
          20,
          25,
          200,
          25,
          35,
          20,
          30,
          20,
          50,
          20,
          20,
          50,
          30,
          50,
          20,
          20,
          20,
          50,
          100,
          50,
          45,
          20,
          25,
          20,
          20,
          20,
          20,
          35,
          150,
          20,
          40,
          20,
          100,
          20,
          125,
          20,
          100,
          35,
          50,
          150,
          50,
          20,
          35,
          195,
          55,
          20,
          50,
          30,
          30,
          25,
          35,
          95,
          40,
          40,
          20,
          50,
          20,
          30,
          200,
          195,
          200,
          100,
          50,
          200,
          20,
          20,
          35,
          165,
          20,
          100,
          20,
          20,
          50,
          105,
          200,
          35,
          100,
          120,
          20,
          0,
          95,
          65,
          20,
          30,
          20,
          20,
          50,
          20,
          45,
          20,
          35,
          20,
          40,
          20,
          30,
          25,
          55,
          100,
          25,
          20,
          50,
          20,
          20,
          20,
          50,
          40,
          95,
          80,
          20,
          200,
          100,
          150,
          195,
          105,
          25,
          195,
          20,
          50,
          20,
          30,
          20,
          95,
          20,
          40,
          50,
          50,
          20,
          35,
          50,
          20,
          30,
          85,
          25,
          20,
          35,
          0,
          30,
          20,
          35,
          20,
          20,
          120,
          20,
          20,
          25,
          65,
          20,
          20,
          45,
          100,
          20,
          20,
          40,
          40,
          20,
          20,
          20,
          20,
          25,
          50,
          25,
          20,
          200,
          35,
          20,
          20,
          85,
          40,
          25,
          195,
          35,
          0,
          20,
          195,
          200,
          75,
          40,
          20,
          20,
          20,
          195,
          25,
          25,
          20,
          35,
          20,
          20,
          30,
          20,
          25,
          20,
          20,
          20,
          40,
          20,
          20,
          30,
          20,
          20,
          20,
          20,
          20
         ],
         "xaxis": "x",
         "y": [
          21,
          12,
          1.5,
          1,
          7.5,
          1,
          2,
          62,
          1.5,
          3,
          2.5,
          0.5,
          0.6,
          3.5,
          1,
          8,
          11,
          11.5,
          5,
          68.5,
          3.5,
          2.5,
          6.5,
          9,
          3.5,
          3.5,
          3,
          1,
          1,
          1.5,
          3,
          3.5,
          1,
          1,
          0.6,
          5,
          7.5,
          3.5,
          1,
          0.6166666666666667,
          1,
          6,
          2,
          1,
          1,
          0.5666666666666667,
          1,
          3,
          1,
          5,
          2.5,
          1,
          6.5,
          2,
          2,
          1,
          2.5,
          2,
          1.5,
          2,
          1,
          1,
          2.5,
          1,
          11,
          12,
          17.5,
          11,
          7.5,
          3,
          13,
          3.5,
          12.5,
          2.5,
          0.65,
          2.5,
          2.5,
          1.5,
          5.5,
          1.5,
          2.5,
          1,
          0.6833333333333333,
          6,
          3,
          2.5,
          1.5,
          0.7,
          1,
          1,
          0.55,
          2.5,
          2,
          1.5,
          4,
          0.5666666666666667,
          5,
          1.5,
          0.7,
          10,
          1,
          11.5,
          2.5,
          1,
          1,
          1,
          1.5,
          2,
          3.5,
          0.5666666666666667,
          0.6333333333333333,
          0.5166666666666666,
          0.5333333333333333,
          0.5666666666666667,
          1,
          1.5,
          0.6833333333333333,
          0.6666666666666666,
          4.5,
          1,
          0.6666666666666666,
          0.6833333333333333,
          2,
          12,
          3.5,
          0.6833333333333333,
          3,
          13.5,
          5.5,
          1,
          2.5,
          1.5,
          0.6,
          1.5,
          1.5,
          10.5,
          3.5,
          1.5,
          14,
          1,
          3.5,
          2.5,
          1.5,
          2.5,
          6.5,
          1,
          1.5,
          4.5,
          6.5,
          1.5,
          9.5,
          2,
          1.5,
          12.5,
          12.5,
          2,
          9,
          3,
          1,
          0.5166666666666666,
          2.5,
          6.5,
          2.5,
          3,
          0.65,
          2,
          4.5,
          0.6666666666666666,
          7,
          3,
          0.7,
          2.5,
          0.7333333333333333,
          1,
          0.5,
          1.5,
          2,
          8.5,
          5.5,
          4,
          1,
          3,
          6.5,
          4,
          12,
          1.5,
          2.5,
          2.5,
          3.5,
          7.5,
          1,
          5.5,
          2,
          5,
          13,
          7.5,
          3,
          12.5,
          1.5,
          6.5,
          1,
          1,
          1,
          0.5833333333333334,
          1,
          3,
          3.5,
          4.5,
          10,
          1,
          1.5,
          1,
          0.7333333333333333,
          0.5666666666666667,
          1,
          6.5,
          1.5,
          1,
          3.5,
          0.5666666666666667,
          1.5,
          2.5,
          2,
          8,
          0.6666666666666666,
          4,
          1,
          0.6333333333333333,
          1,
          4.5,
          1.5,
          2,
          1,
          1.5,
          1,
          2,
          2,
          8,
          1.5,
          3.5,
          1.5,
          8,
          0.6166666666666667,
          2,
          10.5,
          3,
          1.5,
          1.5,
          2,
          0.6833333333333333,
          5.5,
          3,
          1,
          2,
          2,
          1,
          5,
          1,
          3.5,
          2.5,
          1.5,
          12.5,
          0.6333333333333333,
          1,
          1.5,
          4.5,
          4.5,
          0.6666666666666666,
          1.5,
          1,
          1,
          1.5,
          3.5,
          3.5,
          0.5666666666666667,
          1,
          2.5,
          1,
          0.6166666666666667,
          2.5,
          9.5,
          0.6166666666666667,
          5.5,
          2,
          7,
          4,
          8.5,
          4.5,
          6.5,
          1,
          8.5,
          0.7333333333333333,
          2,
          2.5,
          2.5,
          0.6333333333333333,
          6,
          2,
          2.5,
          1,
          7.5,
          5,
          1,
          1.5,
          1.5,
          12,
          7.5,
          2.5,
          1,
          1.5,
          4.5,
          14.5,
          1.5,
          1,
          30,
          2,
          1,
          0.6166666666666667,
          1,
          0.6166666666666667,
          1.5,
          1,
          2,
          2.5,
          1,
          6.5,
          2,
          5,
          17,
          1.5,
          3,
          1.5,
          0.5333333333333333,
          4,
          0.6,
          2,
          0.7,
          1,
          1,
          0.5833333333333334,
          1.5,
          4,
          1,
          4,
          0.7333333333333333,
          5.5,
          1.5,
          1.5,
          1.5,
          2.5,
          3.5,
          1.5,
          4,
          1,
          4,
          0.5833333333333334,
          1,
          2.5,
          1.5,
          5,
          2.5,
          1,
          1,
          0.55,
          2.5,
          1,
          1,
          1,
          0.6833333333333333,
          2,
          4.5,
          0.6333333333333333,
          3.5,
          1,
          0.6166666666666667,
          2.5,
          2.5,
          1,
          20,
          1.5,
          5,
          16.5,
          2,
          1,
          4,
          3.5,
          2.5,
          1,
          2.5,
          5.5,
          2.5,
          0.7,
          1,
          3.5,
          2.5,
          1.5,
          1.5,
          1,
          2,
          7,
          4.5,
          0.5666666666666667,
          2,
          0.6,
          0.6833333333333333,
          2.5,
          1.5,
          1,
          0.65,
          5,
          4,
          2,
          5,
          3,
          7.5,
          5,
          2,
          0.6333333333333333,
          10.5,
          6,
          3,
          5.5,
          0.7166666666666667,
          0.5833333333333334,
          3.5,
          0.6,
          0.6166666666666667,
          1.5,
          3.5,
          2,
          1,
          0.7166666666666667,
          0.6666666666666666,
          10,
          3.5,
          2.5,
          4,
          1,
          1,
          3,
          15,
          0.5,
          1,
          20.5,
          1.5,
          2,
          1,
          4.5,
          3,
          2.5,
          2,
          2,
          1,
          4.5,
          1.5,
          1.5,
          3,
          1,
          2,
          6.5,
          5,
          2,
          2,
          78.5,
          7.5,
          1,
          1,
          1,
          8,
          3.5,
          1.5,
          6,
          3,
          4.5,
          12,
          1,
          1.5,
          16,
          1,
          3,
          1,
          2.5,
          2,
          1,
          2,
          2,
          1,
          2,
          4,
          2,
          4.5,
          1,
          0.5333333333333333,
          0.7166666666666667,
          1,
          1.5,
          1,
          2,
          0.6166666666666667,
          1.5,
          1.5,
          2,
          3,
          9,
          2,
          2.5,
          2.5,
          3,
          1,
          1,
          3,
          1,
          11,
          5.5,
          2.5,
          1,
          4.5,
          4.5,
          1.5,
          2,
          4,
          1,
          5,
          0.5,
          2.5,
          1.5,
          6.5,
          3,
          1.5,
          1,
          2,
          7,
          4.5,
          4,
          5,
          8,
          1,
          5.5,
          1,
          2,
          4,
          4,
          8.5,
          1,
          2,
          1,
          9.5,
          0.5166666666666666,
          0.5166666666666666,
          1.5,
          5,
          1,
          2,
          1,
          1,
          8,
          6,
          1,
          1,
          1.5,
          6,
          0.5333333333333333,
          6,
          9.5,
          2.5,
          2.5,
          2.5,
          2,
          0.6166666666666667,
          8,
          1,
          1.5,
          2,
          3,
          24,
          2,
          2,
          2.5,
          2,
          1.5,
          2.5,
          7.5,
          2,
          1,
          1,
          1,
          1,
          1,
          1.5,
          0.65,
          1,
          0.6333333333333333,
          1,
          3,
          8,
          1.5,
          2,
          0.5333333333333333,
          4.5,
          1.5,
          2,
          7.5,
          0.7
         ],
         "yaxis": "y"
        },
        {
         "customdata": [
          [
           "7 Ways A Beginner Guitarist Can Sound Better, Instantly!"
          ],
          [
           "Instant Harmonica - Christmas. Play Jingle Bells Part 1 now"
          ],
          [
           "Playing Piano:  Popular Pieces Vol. II"
          ],
          [
           "Ninja Chord Changes - Master your guitar chord changes"
          ],
          [
           "Your First 10 Guitar Lessons - Learn how to play guitar"
          ],
          [
           "Pentatonic Scale Crash Course for Bass Guitar"
          ],
          [
           "Modal Theory for Guitar (Guitar Lessons from Lutz Academy)"
          ],
          [
           "Learn Fun Dreamy Piano Techniques #1 -  Play White Christmas"
          ],
          [
           "Learn Jazz Piano Today"
          ],
          [
           "Learn To Play The Drums Without A Drum Kit"
          ],
          [
           "Learn Travis Picking From Scratch"
          ],
          [
           "Instant Harmonica - how to get single notes in 5 easy steps"
          ],
          [
           "Piano Runs & Fills #3:  Jazzy Chromatic Chord Song Endings"
          ],
          [
           "Teaching Music : Start teaching an instrument successfully."
          ],
          [
           "Strumming from scratch - Rhythm guitar lesson for Beginners"
          ],
          [
           "Blues Guitar Lessons - From Texas To Carolina"
          ],
          [
           "Instant Harmonica - play the groovy Beatles Yesterday today!"
          ],
          [
           "Beginner Guitar Quick-Start Course"
          ],
          [
           "Mike G's Beginner Drum Course: Part 1"
          ],
          [
           "Guitar for Beginners - Learn the Basics"
          ],
          [
           "How To Play The Djembe: For Beginners"
          ],
          [
           "Blues Guitar Lessons - Volume 1 - Blues Shuffle Essentials"
          ],
          [
           "Beginner Guitar - 38 Easy Lessons You Needs to Get Started"
          ],
          [
           "Bass Guitar Lessons For Beginners"
          ],
          [
           "Pure Pentatonic Power: Rock and Blues Guitar Soloing"
          ],
          [
           "Rock Drumset Grooves: Level 1"
          ],
          [
           "Guitar: The Next Level"
          ],
          [
           "Learn to Play Euphonium: Beginner to Pro in Under Five Hours"
          ],
          [
           "Learn Oud 1 (No Prior Music Knowledge Required!)"
          ],
          [
           "Instant Harmonica - play Dylan's Blowing in the Wind today!"
          ],
          [
           "Improvise On The Piano In 30 Minutes"
          ],
          [
           "Cajon Step-by-Step: Beginner > Intermediate > Advanced"
          ],
          [
           "Blues Guitar Lessons - Volume 2 - Slow Blues Essentials"
          ],
          [
           "Instant Harmonica - play the gorgeous Skye Boat Song now!"
          ],
          [
           "Learn to Play Trombone: Go From Beginner to Pro in No Time!"
          ],
          [
           "FingerstyleGuitar by Jacques Stotzem - Basic Level"
          ],
          [
           "Instant Harmonica - play two Star Wars themes in 30 minutes "
          ],
          [
           "Play Piano To-day! - Beginner Piano Lessons For Busy People!"
          ],
          [
           "Learn to Play the Flute: Beginner to Pro in Under Five Hours"
          ],
          [
           "Play Piano 7: Improvise on For All We Know in F Key by Ear"
          ],
          [
           "World's Fastest Piano Method - The Piano Revolution!"
          ],
          [
           "Learn to Play the Trumpet: Beginner to Pro Made the Easy Way"
          ],
          [
           "Learn to Play Clarinet: Beginner to Pro in Under Five Hours"
          ],
          [
           "Learn To Play The Piano Using Pop, R&B and Gospel Chords"
          ],
          [
           "Play By Ear #4: Play Song By Ear with 3 Chords Using Any Key"
          ],
          [
           "Worship Piano: From Beginner to Pro"
          ],
          [
           "Easy to play Christmas Songs for Guitar"
          ],
          [
           "Ultimate Blues Guitar Beginner Lessons"
          ],
          [
           "How to Play Piano - Your First Lesson!"
          ],
          [
           "Playing Piano : Reading and Playing Classical Tunes Vol.I"
          ],
          [
           "Blues School! A Course For Beginners in Blues Piano & Improv"
          ],
          [
           "Learn Fun Dreamy Piano Techniques # 2 - Play Silver Bells"
          ],
          [
           "31 Day Guitar Challenge"
          ],
          [
           "Percussive Fingerstyle Guitar"
          ],
          [
           "Learn to Play Saxophone: Beginner to Pro in Under Four Hours"
          ],
          [
           "Learn BASS GUITAR- Have Fun, Amaze Your Friends- It's Easy! "
          ],
          [
           "Guitar Insanity Workout - Eatmystrings!"
          ],
          [
           "Playing Piano:  Play Chords and Popular Pieces Vol.I"
          ],
          [
           "Guitar Chord Riot! Learn to Play Guitar Like a Guitar Jedi"
          ],
          [
           "Guitar: Learn 12 Must Know Beginner Rock Guitar Riffs"
          ],
          [
           "Guitar Fretboard Mastery for the Blues Guitarist"
          ],
          [
           "Quick & Easy Piano Chords: Play more songs with more chords"
          ],
          [
           "Instant Harmonica - play Scarborough Fair in 8 easy lectures"
          ],
          [
           "Piano With Willie: Blues n' Boogie Vol. 2"
          ],
          [
           "Have Fun with Beginner Blues Piano"
          ],
          [
           "Learn to Play Harp: Beginners Course"
          ],
          [
           "Instant Harmonica - play this classic 8 bar blues tune!"
          ],
          [
           "Guitar Lessons - Learning The Neck - Fretboard Mastery"
          ],
          [
           "Take your double bass drum technique to the next level"
          ],
          [
           "How To Play The Cajon: For Beginners"
          ],
          [
           "Slide Guitar- Slide Soloing Essentials"
          ],
          [
           "Learn Piano #8:  Use Augmented Chord Sub & Whole Tone Scales"
          ],
          [
           "Learn Acoustic Guitar for Worship"
          ],
          [
           "Learn 3 - All Time A R Rahman Hits on Carnatic Flute!"
          ],
          [
           "Guitar Lessons: The Essential Beginner & Intermediate Course"
          ],
          [
           "Instant Harmonica - play the groovy Irish Washerwoman now!"
          ],
          [
           "Music Fundamentals: Learn Beatmaking with Pen Tapping"
          ],
          [
           "Learn to Play Fernando Sor's 'Study in B minor\",https://www.udemy.com/study-in-b-minor/,true,115,1403,5,9,Intermediate Level,43 mins,2014-01-27T20:58:16Z\n398746,Piano: The Chord Based System - Learn To Play As The Pros Do\""
          ],
          [
           "Beginner Guitar Lessons by Paul Gronow"
          ],
          [
           "Guitar Fretboard Secrets"
          ],
          [
           "Learn to Play French Horn: Beginner to Pro Made the Easy Way"
          ],
          [
           "150 Rock Guitar Licks You MUST Know"
          ],
          [
           "Didgeridoo - from zero to HERO! Part One - beginning"
          ],
          [
           "Learn Piano Scales: Play any song in any key! Like Pro's do"
          ],
          [
           "Instant Harmonica - play the groovy Valens La Bamba now!"
          ],
          [
           "Blues Master - Beginner's Techniques Piano Course"
          ],
          [
           "How to play Djembe, Drums & Rhythm. Level 2"
          ],
          [
           "Instant Harmonica - play Amazing Grace with grace and ease!"
          ],
          [
           "Instant Harmonica - play Amazing Grace + Ode to Joy now!"
          ],
          [
           "Play Thousands of Songs On The Guitar | Cheater Chords"
          ],
          [
           "Piano Improvisation from Day One"
          ],
          [
           "Classical Guitar Essentials - The Basics Part 1"
          ],
          [
           "Learn Piano #7- Learn Chromatic Chords & Chromatic Scale Run"
          ],
          [
           "Play all major scales by ear - no notation required!"
          ],
          [
           "How to play in a local Irish music session with confidence"
          ],
          [
           "The Total Beginner's Guitar Course"
          ],
          [
           "Virtual Piano Lessons - A New Way To Learn Piano"
          ],
          [
           "16 Guitar Chords to Jam With - (Beginner - Intermediate)"
          ],
          [
           "Free Beginner Electric Guitar Lessons"
          ],
          [
           "101 Awesome Rockabilly Guitar Licks"
          ],
          [
           "A beginner`s guide to fingerpicking and strumming guitar'"
          ],
          [
           "Instant Harmonica - Basic 12 Bar Blues course, easy and fun!"
          ],
          [
           "Your First Course on Piano"
          ],
          [
           "Acoustic Guitar Basics"
          ],
          [
           "Cracking the Violin Code!"
          ],
          [
           "Instant Bodhran - part one; learn the basics of drumming now"
          ],
          [
           "Play The Piano By Ear | Master Class, Learn By Doing"
          ],
          [
           "Discover Classical Guitar Level 2   "
          ],
          [
           "Fingerpicking Classics - Great songs played fingerstyle!"
          ],
          [
           "6 Must Know Tricks to Successful Solos"
          ],
          [
           "CAGED System for Guitar (Guitar Lessons from Lutz Academy)"
          ],
          [
           "Learn the Violin - No Music Experience Necessary!"
          ],
          [
           "Your Second Course on Piano: Two Handed Playing"
          ],
          [
           "How to Design Your Own Guitar"
          ],
          [
           "How To Play Blues Guitar - Broonzy & McGhee Blues Lessons"
          ],
          [
           "Play Sonny Terry style on Harmonica and dazzle your friends!"
          ],
          [
           "Blues and Advanced Guitar Lessons"
          ],
          [
           "Learn basics of South Indian Carnatic Flute Step by Step "
          ],
          [
           "Basic Piano Hymn Playing"
          ],
          [
           "#1 Piano Hand Coordination: Play 10th Ballad in Eb Key songs"
          ],
          [
           "Piano Music Theory (Back To Basics) by JFilt"
          ],
          [
           "Guitar - 12  Strumming Patterns You Must Know For Guitar"
          ],
          [
           "Guitar Lessons for complete beginners - super simple and fun"
          ],
          [
           "CAGED Pentatonic System for Guitar - Level 3"
          ],
          [
           "Classical Guitar Essentials - The Basics Part 2"
          ],
          [
           "Introduction to Piano - By PGN Piano!"
          ],
          [
           "Keyboard Instruments - Read Sheet Music for Piano Fast!"
          ],
          [
           "How to Play the Guitar: Your 30-Day Guide to Learn Guitar"
          ],
          [
           "Drumming Accelerator: How To Get The Best Start Possible"
          ],
          [
           "Play Piano 4: Improvise on popular song Yesterday chords"
          ],
          [
           "Beginner's Guitar Lessons - Crash Course for Busy Adults"
          ],
          [
           "Getting Started with the Guitar in 5 Days"
          ],
          [
           "Guitar Lessons - String Bending And Vibrato Essentials"
          ],
          [
           "Piano With Willie: Blues n' Boogie Vol. 1"
          ],
          [
           "Piano Runs & Fills #4: C6 Rolling Waves & Waterfall Runs"
          ],
          [
           "Chugging - it don't mean a thing if it ain't got that swing!"
          ],
          [
           "Make Your Own Ukulele"
          ],
          [
           "Beginner Violin 101: Care, Maintenance, and the Right Gear"
          ],
          [
           "Learn How To Play 25 Classic Hip Hop Songs"
          ],
          [
           "Learn Beethoven's Fur Elise on Piano"
          ],
          [
           "Play Violin and Fiddle for beginners - it's fun  - Course 1"
          ],
          [
           "Piano With Willie Building Technique with Scales Vol. 1"
          ],
          [
           "Christmas Piano Songs For The Very Beginner Vol. I"
          ],
          [
           "Introduction to Gypsy Jazz Guitar"
          ],
          [
           "Learn How to Play Blues, Rock, & Boogie Woogie Piano Today"
          ],
          [
           "The Piano Chord Ladder | Learn to Play Thousands of Songs"
          ],
          [
           "Play Piano 5: Improvise on Misty Eb Key Runs & 2-5 Chords"
          ],
          [
           "Playing Piano: Scales and Arpeggios Vol.I : Major keys"
          ],
          [
           "Drumming for Beginners - Simple Way To Learn How To Drum"
          ],
          [
           "Get great playing HARMONICA - a fun new leisure time hobby !"
          ],
          [
           "Fingerstyle Guitar Mastery: 3 Techniques You Need To Know"
          ],
          [
           "Play Piano 3: Improvise Chords to Enchanted Evening by Ear"
          ],
          [
           "Jazz Guitar Tips, Tricks and Licks"
          ],
          [
           "Piano From Zero To Pro - Beginner Essentials To The Piano"
          ],
          [
           "Piano: Learn 48 chords in 1 hour,  and always remember how"
          ],
          [
           "Walking Bass - Quick Start Guide"
          ],
          [
           "Beginner Guitar Lessons: Learn To Play Guitar Today (WAVE 1)"
          ],
          [
           "Blues Bass - Quick Start Guide"
          ],
          [
           "How to speak Pianish (beginner level)"
          ],
          [
           "Gospel Piano Essentials"
          ],
          [
           "Instant Harmonica - play Leonard Cohen's Hallelujah now!"
          ],
          [
           "Guitar Crash Course (No Experience Necessary)"
          ],
          [
           "Beginner Guitar Lessons - Your Complete Foundation Course"
          ],
          [
           "Piano Building Blocks: Learn the 24 Most Common Chords"
          ],
          [
           "Learn to Play the Oboe: Beginner to Pro in Under Four Hours"
          ],
          [
           "Playing Piano By Ear: Complete Guide for Aspiring Musicians"
          ],
          [
           "Discover the fun of Spoon playing, a beginners course"
          ],
          [
           "Country Guitar Fundamentals"
          ],
          [
           "Discover Classical Guitar Level 1"
          ],
          [
           "PI-101 Top 10 Classical Piano Pieces for Beginners"
          ],
          [
           "Get started playing blues harmonica"
          ],
          [
           "Rockabilly Guitar For Beginners"
          ],
          [
           "Beginner Piano"
          ],
          [
           "Step by Step Tabla Course- Indian Drums"
          ],
          [
           "Play Piano 6 -Improvise on The Way We Were with Power Chords"
          ],
          [
           "101 Blues riffs - learn how the harmonica superstars do it"
          ],
          [
           "Learn To Play The Drums"
          ],
          [
           "Guitar: Master The Guitar Fretboard In 6 Easy Steps"
          ],
          [
           "Play Piano in 30 Days! - Start Playing NOW!"
          ],
          [
           "Curso de Didgeridoo nivel principiante"
          ],
          [
           "ブルースギター入門"
          ],
          [
           "Pianoforall - Incredible New Way To Learn Piano & Keyboard"
          ],
          [
           "The Professional Guitar Masterclass"
          ],
          [
           "Modern Rock Guitar Techniques"
          ],
          [
           "Complete Guitar System - Beginner to Advanced"
          ],
          [
           "Guitar Super System Level 1"
          ],
          [
           "How to play Piano - Go from a Beginner/Intermediate to a Pro"
          ],
          [
           "Guitar Super System Level 2"
          ],
          [
           "LEARN HARMONICA, amaze your friends and have fun - it's easy"
          ],
          [
           "The Complete Piano & Music Theory Beginners Course"
          ],
          [
           "Ultimate Beginner Guitar Masterclass"
          ],
          [
           "Quicklessons Piano Course - Learn to Play Piano by Ear!"
          ],
          [
           "Learn guitar the Right way! Complete 'KickStarter course\""
          ],
          [
           "CAGED Pentatonic System for Guitar - Level 1"
          ],
          [
           "CAGED Pentatonic System for Guitar - Level 2"
          ],
          [
           "Learn to Play Piano From a Concert Pianist - For Beginners"
          ],
          [
           "#12 Hand Coordination: Let your Hands dance with Ballad 9"
          ],
          [
           "How To Make Money With A Cover Band"
          ],
          [
           "How To Play Guitar - For Absolute Beginners"
          ],
          [
           "Learn How to Improvise on Guitar in 30 Days"
          ],
          [
           "Play Piano 8 - Play Over the Rainbow by Ear & Free Improvise"
          ],
          [
           "The Best Beginner Guitar Course Ever"
          ],
          [
           "Piano For Singer/Songwriters 2: Pop/Rock Rhythm Immersion"
          ],
          [
           "Guitar: Learn 10 CCR Guitar Chord Progressions"
          ],
          [
           "Play Piano 2:  Play 'Love Me Tender By Ear with 2-5 Chords\""
          ],
          [
           "Learn Piano #10 Tritone Chord Substitution with Jazzy Sounds"
          ],
          [
           "Getting Started with Playing Guitar"
          ],
          [
           "Piano Playing: Reading and Playing Classical Tunes Vol.II"
          ],
          [
           "Harmonica Jamz: The Only Course on Jammin' with Friends"
          ],
          [
           "Guitar - Learn 10 Legendary Chord Progressions for Guitar"
          ],
          [
           "Guitar - Blues Guitar for Beginners"
          ],
          [
           "Electric Guitar for Beginners - RockStarter Level 1"
          ],
          [
           "The Circle of Fifths for Guitarists"
          ],
          [
           "Piano Runs & Fills #2: Play Rolling Cascading Runs for Intro"
          ],
          [
           "Piano - Circle of 5ths to Play A Song in 12 Keys in 12 Days"
          ],
          [
           "Essential Theory and Technique for Guitar"
          ],
          [
           "Piano for Complete Beginners: Learn your first song today!"
          ],
          [
           "Master Class Piano Techniques: Tips To EZ Coordinate 2 Hands"
          ],
          [
           "Master Class # 11:  Play Piano Techniques Learn Piano 1 to10"
          ],
          [
           "Learn all Piano Chords in all Piano Scales with logic"
          ],
          [
           "Learn to play the piano or keyboard from scratch"
          ],
          [
           "5 Exotic Guitar Scales and How to Use Them Effectively"
          ],
          [
           "Learn 4 Chords and Play Thousands of Songs!"
          ],
          [
           "#10 Hand Coordination - Transfer Chord Ballad 9 - C & Bb Key"
          ],
          [
           "Acoustic Fingerstyle Guitar Course: Beginner to Advanced"
          ],
          [
           "Guitar Chord Mastery!Turn Your Brain Into A Chord Encyclopia"
          ],
          [
           "Play Piano 1 Master Class Intro:  Standards 2-5 Power Chords"
          ],
          [
           "Best Beginner Guitar Lessons by Sam Lyons"
          ],
          [
           "A new approach to piano and playing songs for beginners"
          ],
          [
           "Learn Guitar: Zero to Guitar Fingerpicking in 30 days"
          ],
          [
           "How to play Contemporary Piano"
          ],
          [
           "Piano Technique Exercises Vol.1"
          ],
          [
           "Instant Harmonica - Learning the Basic 12 Bar Blues Bassline"
          ],
          [
           "#5  Piano Hand Coordination:  Piano Runs in 2 Beats Eb Key"
          ],
          [
           "Modern Country Guitar: Technique Booster"
          ],
          [
           "Blues Guitar Lessons for Beginners: Chords, Rhythm and Lead"
          ],
          [
           "#4 Piano Hand Coordination: Fun Piano Runs in 2 Beats C Key"
          ],
          [
           "3 step formula for playing guitar by ear"
          ],
          [
           "How to play 'Electric Guitar\",https://www.udemy.com/electric-guitar-beginners-method/,true,50,1105,5,20,Beginner Level,2 hours,2016-12-29T00:24:06Z\n42038,Learn Piano Today: How to Play Piano Course in Quick Lessons\""
          ],
          [
           "Play Piano by Ear Today! SuperCourse"
          ],
          [
           "Learn to Read & Write Music to play Piano & more instruments"
          ],
          [
           "The Complete Piano Course - Master The Piano"
          ],
          [
           "Learn to play your favorite guitar songs by ear"
          ],
          [
           "Piano for Singer/Songwriters | Write Songs and Perform Live!"
          ],
          [
           "Fun Beginner Ukulele Course"
          ],
          [
           "Learn Guitar in 21 Days"
          ],
          [
           "Fun Ukulele Strumming Course"
          ],
          [
           "The Professional Bass Masterclass"
          ],
          [
           "The Allman Brothers Guitar Roots And Techniques"
          ],
          [
           "Blues Guitar Fundamentals"
          ],
          [
           "#6 Piano Hand Coordination: Play Open 10 Ballad to 9/4 Song"
          ],
          [
           "#7 Piano Hand Coordination: Play Piano Runs in 3 Beats 9/4"
          ],
          [
           "Beginner Level Popular Piano Program - Month 1"
          ],
          [
           "Piano Lessons for the R&B Fan"
          ],
          [
           "Guitar Lessons - Blind Blake - King Of Ragtime Blues Guitar"
          ],
          [
           "Darbuka Drumming: Learn how to play the Darbuka Dounbek"
          ],
          [
           "Awesome Lead Guitar 1"
          ],
          [
           "The art of piano improvisation"
          ],
          [
           "How To Build A Professional Djembe: Create Music Beauty &Biz"
          ],
          [
           "Advanced Euphonium Studies - Learn to Master the Euphonium!​"
          ],
          [
           "Didgeridoo - from zero to HERO! Part Two. Intermediate."
          ],
          [
           "Fingerstyle Guitar by Jacques Stotzem - Advanced Level"
          ],
          [
           "Trumpet Pro Series - You're going to love practicing Trumpet"
          ],
          [
           "A Guide to Analog Synths: For the modern EDM enthusiast."
          ],
          [
           "Acoustic Blues Guitar Lessons"
          ],
          [
           "Accelerate Your Guitar Learning With Metal Techniques"
          ],
          [
           "Beginner Step by Step Keharwa Theka Tabla Course"
          ],
          [
           "Just chords Piano: Learn to Play Piano Quickly - No Music"
          ],
          [
           "Play Ukulele Now"
          ],
          [
           "Acoustic Blues Guitar Lessons"
          ],
          [
           "Piano Runs & Fills #1: Play Dreamy Whole Tone Scale Runs"
          ],
          [
           "Play Piano Today - Easy Festive Favorites & Piano Party Hits"
          ],
          [
           "The 80/20 Beginner Guitar Course"
          ],
          [
           "Drums for Beginners"
          ],
          [
           "Digital Pianist Course-Learn Piano & Keyboard Fast & Easy"
          ],
          [
           "Learn to play guitar and sing at the same time"
          ],
          [
           "Introduction to Ukulele 1"
          ],
          [
           "Learn Flute FAST!"
          ],
          [
           "Guitar Lessons - Soloing With Arpeggios - Essential Guide "
          ],
          [
           "Piano With Willie: Blues n' Boogie Vol. 3"
          ],
          [
           "Instant Harmonica - play The Kesh (pt 1) it's easy and fun!"
          ],
          [
           "Piano Lessons For Beginners: Learn Piano Quickly And Easily"
          ],
          [
           "The Easy Beginner Drum Course"
          ],
          [
           "Instant Harmonica - play Somewhere Over the Rainbow now!"
          ],
          [
           "Instant Harmonica - play The Kesh (part 2) - easy and fun!"
          ],
          [
           "The 80/20 Guitar: Write Music and Play Guitar in 30 Days"
          ],
          [
           "Ukulele 2 : Level 1 KEY OF C AND STRUMS"
          ],
          [
           "Guitar for Music Educators: Learning How to Teach Guitar"
          ],
          [
           "Piano Tutorial : Ludovico Einaudi - Una Mattina"
          ],
          [
           "Guitar Solo - Theory and Improvisation Lessons"
          ],
          [
           "Bluegrass Guitar Essentials: Webisodes 3 & 4"
          ],
          [
           "Instant Harmonica - play Christmas + Birthday songs now!"
          ],
          [
           "Blues Master - Advanced Techniques Piano Course"
          ],
          [
           "Bluegrass Guitar Essentials: Webisodes 5 & 6"
          ],
          [
           "Trombone Lessons For Beginners"
          ],
          [
           "Rhythm to Rock Drum Lesson 6"
          ],
          [
           "Flute Pro Series - You're about to love practicing the flute"
          ],
          [
           "How To Play Guitar - Everything You Need To Know To Start"
          ],
          [
           "Trombone Pro Series - Fall in love with the Trombone"
          ],
          [
           "Learn How To Play 25 Classic Hip Hop Songs Ch.2"
          ],
          [
           "Learn to play tunes by ear on harmonica - no written music"
          ],
          [
           "Fingerpicking for Guitar"
          ],
          [
           "Music Theory, Guitar and Ear Training"
          ],
          [
           "Piano Unbound. Piano learning method, a course for beginners"
          ],
          [
           "Advanced Trombone Studies - Learn to Master the Trombone!"
          ],
          [
           "Euphonium Solos: Learn to Perform Three Fun, Unique Pieces!"
          ],
          [
           "Piano With Willie: Tritones & Phat Chords"
          ],
          [
           "Piano for Kids: Developing Your Child's Creative Abilities"
          ],
          [
           "Piano Lessons For The Hip Hop Fan"
          ],
          [
           "French Horn Solos: Learn how to Perform Three Fun Pieces!"
          ],
          [
           "Bluegrass Guitar Essentials: Webisodes 9 & 10"
          ],
          [
           "Clarinet Lessons For Beginners"
          ],
          [
           "Play music on Harmonica using 8 notes - learn easy tunes!"
          ],
          [
           "Learn Piano Online-A Quiet Solace Piano Solo"
          ],
          [
           "Bluegrass Guitar Essentials: Webisodes 7 & 8"
          ],
          [
           "The Art of the Blues Shuffle - A Guitarist's Guide"
          ],
          [
           "Learn Piano Online-Ambiance Piano Solo"
          ],
          [
           "Piano Lessons For Beginners"
          ],
          [
           "The Theory & Practice of Modes on the Guitar"
          ],
          [
           "Learn How To Play The Trumpet"
          ],
          [
           "Violin for Beginners"
          ],
          [
           "Beginner Acoustic Guitar Lessons"
          ],
          [
           "Aprendiendo Piano: Tocando piezas populares Vol.I"
          ],
          [
           "Curso de Bateria - Explorando Diferentes Divisões"
          ],
          [
           "Escalas Pentatónicas para guitarristas"
          ],
          [
           "Brass Master Class"
          ],
          [
           "Enseñando música: mejora tus clases de instrumento "
          ],
          [
           "Ukelele exprés: aprende a tocar en menos de un mes"
          ],
          [
           "Curso de Guitarra para Principiantes"
          ],
          [
           "Mundharmonika spielen - mein schönstes Hobby"
          ],
          [
           "Aprende el acordeón de oído y con técnica –Nivel Intermedio–"
          ],
          [
           "Présentation du Banjo Ténor"
          ],
          [
           "Aprende a tocar el acordeón de botones"
          ],
          [
           "Aprendiendo piano: Lectura de piezas clásicas Vol.I"
          ],
          [
           "Pedais de efeito para Contrabaixo"
          ],
          [
           "Mantenimiento y octavación para guitarras eléctricas"
          ],
          [
           "Aprende a tocar el violín desde cero"
          ],
          [
           "Aprende a tocar el teclado como los expertos"
          ],
          [
           "Aprende a tocar el saxofón como siempre has querido"
          ],
          [
           "Guitarra para principiantes"
          ],
          [
           "Aprende a tocar flauta transversal sin complicaciones"
          ],
          [
           "Aprende a tocar las escalas en el acordeón de botones."
          ],
          [
           "Curso de Violão Prático"
          ],
          [
           "Aprende a tocar percusiones: congas, bongós, maracas y más"
          ],
          [
           "Gitarre spielen - mein schönstes Hobby"
          ],
          [
           "Aprende a tocar la guitarra acústica como un profesional"
          ],
          [
           "Guitar Lesson - Five Steps to Learn Barre Chords"
          ],
          [
           "Easy Piano Basics™ - Learn Piano, No Prior Experience Needed"
          ],
          [
           "Guitar Technique Mastery: The Ultimate Chop Building Workout"
          ],
          [
           "Inside Drum Technique"
          ],
          [
           "Learn to Play Tarrega, Bach, and Sor on Classical Guitar"
          ],
          [
           "Create Beautiful Music On The Piano Like a Pro In Minutes"
          ],
          [
           "Instant Harmonica - play the great Irish tune Molly Malone!"
          ],
          [
           "Instant Harmonica - play 'Can't Help Falling in Love' now!"
          ],
          [
           "Arpeggios for Guitar made Easy! Dominate the Fretboard"
          ],
          [
           "Guitar Lessons - The Modal System - Modes Essentials"
          ],
          [
           "Learn to Play Percussion: Beginner to Pro made the Easy Way!"
          ],
          [
           "Modern Piano Lessons For Beginners"
          ],
          [
           "World Percussion: Complete Lessons for Everyone"
          ],
          [
           "Learn Lion (Saroo) Soundtrack On The Piano By Ear"
          ],
          [
           "Acoustic Blues Guitar Lessons"
          ],
          [
           "Play Guitar and Understand Music Quick & Easy in 28 Days!"
          ],
          [
           "Learn How to Play the Violin - Violin Basics"
          ],
          [
           "Swing Low - The 101 Authentic Nashville Piano Style Course"
          ],
          [
           "Guitar:Play 5 Easy Christmas Chord Progressions On Guitar"
          ],
          [
           "Get Piano Skills TODAY!!! "
          ],
          [
           "Learn the Violin - Scales and Fundamentals"
          ],
          [
           "Piano With Willie Building Technique with Scales Vol. 2"
          ],
          [
           "Master Flute Playing: Intermediate Instruction Made Simple!"
          ],
          [
           "How to Sing and Play the Guitar (at the same time)"
          ],
          [
           "Super Beginner Guitar - start right, start awesome"
          ],
          [
           "Introduction to Guitar 'A Course for Beginners\",https://www.udemy.com/introduction-to-guitar/,true,25,163,11,56,Beginner Level,2.5 hours,2014-10-30T15:59:39Z\n650804,Guitar  Master Class Learning How to Play Guitar from A to Z\""
          ],
          [
           "Rhythm to Rock Drum Lesson 5"
          ],
          [
           "Gibson's Learn & Master Guitar"
          ],
          [
           "Master the Trombone: Intermediate Instruction Made Simple!"
          ],
          [
           "Walking Bass Fundamentals"
          ],
          [
           "Circular Breathing for musicians - practical skills"
          ],
          [
           "Electric Bass for Busy Beginners Course 1"
          ],
          [
           "Guitar for Absolute Beginners (Class 1)"
          ],
          [
           "Tenor Banjo for Absolute Beginners"
          ],
          [
           "Guitar Lessons - 50 Essential Fast Legato Licks"
          ],
          [
           "Aprenda a tocar Pandeiro - Curso Iniciante - Samba/Choro"
          ],
          [
           "Aprende batería con el nuevo método IDT"
          ],
          [
           "5 lecciones que todo guitarrista debe tomar"
          ],
          [
           "Los 7 Acordes para Tocarlo Todo en un fin de semana"
          ],
          [
           "Curso de Violão Popular"
          ],
          [
           "Aprendiendo Piano: Ejercicios de calentamiento"
          ],
          [
           "Aprendiendo piano: Lectura de piezas clásicas Vol.II"
          ],
          [
           "Aprende a tocar el Acordeón 'de oído y con técnica\",https://www.udemy.com/aprende-a-tocar-el-acordeon-de-oido-y-con-tecnica/,true,25,93,21,34,Beginner Level,4 hours,2014-09-16T19:51:45Z\n263432,Aprende los Secretos de la Armónica con HARP&SOUL\""
          ],
          [
           "Guitarra Desde Cero - PARTE 1"
          ],
          [
           "Super-Curso de Guitarra Práctico Para Principiantes"
          ],
          [
           "Explosão Pentatônica"
          ],
          [
           "Complete Beginners Introduction to Guitar"
          ],
          [
           "Learn 10 Scottish Tunes Piano Easy Level"
          ],
          [
           "Fingerpicking Fundamentals"
          ],
          [
           "Piano With A Pro"
          ],
          [
           "Piano Lessons for Beginners: Play the Piano AND Read Music!"
          ],
          [
           "Master the Tuba - Intermediate Instruction Made Simple!"
          ],
          [
           "The Fun and Effective Piano Course"
          ],
          [
           "Advanced Flute Studies - Learn to Master the Flute!​"
          ],
          [
           "Alternate Picking Speed & Accuracy"
          ],
          [
           "Master the Euphonium with Simple, Intermediate Instruction!"
          ],
          [
           "Master the Clarinet: Intermediate Instruction Made Simple!"
          ],
          [
           "Advanced Clarinet Studies - Learn to Master the Clarinet!"
          ],
          [
           "Aprende a tocar ritmo pop en el piano y teclado"
          ],
          [
           "Aprendiendo Piano: Tocando piezas populares Vol.II"
          ],
          [
           "Comment jouer du Pianoforte"
          ],
          [
           "Aprende a tocar blues en el piano y teclado"
          ],
          [
           "ABC DO VIOLÃO E GUITARRA"
          ],
          [
           "Suonare la Chitarra"
          ],
          [
           "Aprende todos los secretos de la guitarra flamenca"
          ],
          [
           "こどもギターレッスン　リトルギタリストⅠ"
          ],
          [
           "Aprende cómo tocar el Bajo Sexto"
          ],
          [
           "Coach Guitar - Apprendre la GUITARE facile avec des COULEURS"
          ],
          [
           "Sistema Completo De Guitarra Rítmica Para Principiantes"
          ],
          [
           "Curso de batería online de Patricio Iglesias (Santa Sabina)"
          ],
          [
           "Learn Piano with Beyer, 15 Minutes Challenge"
          ],
          [
           "Classical Guitar Master Class: 'Alman  \""
          ],
          [
           "Blues Accelerator - 21 Days to Blues Guitar Mastery"
          ],
          [
           "Alto Saxophone Lessons For Beginners"
          ],
          [
           "Instant Harmonica - Christmas; play Jingle Bells part 2 now!"
          ],
          [
           "Piano With Willie: Jazz & Gospel Exercises"
          ],
          [
           "Bending the blue notes to give you killer sound on harmonica"
          ],
          [
           "Beginner's Guitar: Tuning, Strumming, and Chords!"
          ],
          [
           "Instant Harmonica - play The Lion Sleeps Tonight - today!"
          ],
          [
           "Piano With Willie Building Technique with Scales Vol. 3"
          ],
          [
           "Instant Bodhran - part two; learning further drumming skills"
          ],
          [
           "Guitar Essentials"
          ],
          [
           "Rhythm to Rock Drum Lessons"
          ],
          [
           "Learn to play and improve 12 bar blues harmonica solos"
          ],
          [
           "Learn to improvise on your harmonica - in nice easy steps"
          ],
          [
           "Learning Electric Guitar for Absolute Beginners"
          ],
          [
           "Advanced Bassoon Studies - Learn to Master the Bassoon!​"
          ],
          [
           "Blues Guitar Lessons: Play Like the Greats - All Levels"
          ],
          [
           "Instant Harmonica - play Whiskey in the Jar + Molly Malone!"
          ],
          [
           "Learn To Play Trumpet Fast Using The Passive Trumpet Tutor"
          ],
          [
           "Electric Bass Right From The Start"
          ],
          [
           "Beginner Guitar Essentials"
          ],
          [
           "Advanced Tuba Studies - Become a Master of the Tuba!​"
          ],
          [
           "'Greensleeves' Creative Piano Lessons Course"
          ],
          [
           "Rhythm to Rock Drum Lesson 4"
          ],
          [
           "Hands On Guitar: Beyond Beginner"
          ],
          [
           "Instant harmonica - play Auld Lang Syne the neet (tonight)!"
          ],
          [
           "Piano The Hard Way -  Fast Way To Life Long Piano Enjoyment"
          ],
          [
           "The Ultimate Method for Learning Modern Piano & Keyboards"
          ],
          [
           "Master the Bassoon - Intermediate Instruction Made Simple!"
          ],
          [
           "Oboe Pro Series - You're going to love practicing the Oboe"
          ],
          [
           "Instant Harmonica - play this classic GAME OF THRONES theme!"
          ],
          [
           "Trumpet Solos: Learn how to Perform Three Fun, Unique Pieces"
          ],
          [
           "Learn 4 Vital things that will make your DRUM PLAYING EASIER"
          ],
          [
           "Sax Solos: Learn how to Perform Three Fun and Unique Pieces!"
          ],
          [
           "Traditional-Style Electric Blues Guitar For Beginners"
          ],
          [
           "Aprende a tocar los mejores solos en la guitarra eléctrica"
          ],
          [
           "Aprende a tocar la guitarra"
          ],
          [
           "Aprende a tocar el piano desde cero"
          ],
          [
           "Aprende a tocar el clarinete.  "
          ],
          [
           "Ahora aprende a tocar jazz en el piano"
          ],
          [
           "こどもギターレッスン　リトルギタリストⅡ"
          ],
          [
           "Aprende a tocar el contrabajo sin complicaciones"
          ],
          [
           "Aprende a tocar la guitarra eléctrica"
          ],
          [
           "Aprende a improvisar en la guitarra eléctrica"
          ],
          [
           "Curso de Teclado"
          ],
          [
           "Guitarra Acústica en Siete Días"
          ],
          [
           "improvisación de Guitarra"
          ],
          [
           "Step by Step Classical Guitar Course"
          ],
          [
           "Piano With Willie Building Technique with Scales Vol. 4"
          ],
          [
           "Back In Black the AC/DC Classic Rock Track"
          ],
          [
           "Keyboard Basics"
          ],
          [
           "Beginner Guitar Lessons"
          ],
          [
           "Guitar Fundamentals for Beginners"
          ],
          [
           "Easy Piano - learn and play along"
          ],
          [
           "Learn Piano: The Basics of Keyboards"
          ],
          [
           "Bassoon Pro Series - You're going to love practicing Bassoon"
          ],
          [
           "Acoustic Guitar Lessons For Beginners"
          ],
          [
           "Coach Guitar - Amazing New Way To Learn Guitar With Colors"
          ],
          [
           "Mastering the Art of Guitar Chords"
          ],
          [
           "30 Day Guitar Jump Start for Success"
          ],
          [
           "Learn to Play Bassoon: Beginner to Pro in Under Four Hours!"
          ],
          [
           "The 7 Day Guitar Method"
          ],
          [
           "Instant Harmonica - play Star Wars + the Lion Sleeps now!"
          ],
          [
           "Instant harmonica - play Adele's wonderful 'Hello' today!"
          ],
          [
           "Guitar Strumming 101 - Have More Fun Playing Songs You Love"
          ],
          [
           "Master Oboe Playing: Intermediate Instruction Made Simple!"
          ],
          [
           "Drum Set for Beginners"
          ],
          [
           "Guitar Lessons - Economy Picking Essentials"
          ],
          [
           "Blues Guitar Lessons - Blues Guitar - Robert Johnson"
          ],
          [
           "TAKE NOTE BEGINNER CLARINET!  –  Fun with Fundamental Skills"
          ],
          [
           "Learn to Play Irish Fiddle"
          ],
          [
           "Hands-On Guitar: The Beginner's Guide"
          ],
          [
           "Slap Bass For Beginners"
          ],
          [
           "Piano Lessons for Beginners Made Easy"
          ],
          [
           "Horn Pro Series - You're going to love playing French Horn"
          ],
          [
           "Instant Harmonica - play the Irish tune Whiskey in the Jar!"
          ],
          [
           "Didgeridoo - from zero to HERO! Part Three. Advanced level."
          ],
          [
           "Saxophone Pro Series - You're going to love practicing Sax"
          ],
          [
           "Easy Piano for Kids - Complete Beginner Piano Course"
          ],
          [
           "Guitar Lessons - Two Handed Tapping Essentials"
          ],
          [
           "Clarinet Pro Series - Fall in love with the Clarinet"
          ],
          [
           "Advanced Trumpet Studies - Learn to Master the Trumpet!​"
          ],
          [
           "Poldark TV series Soundtracks for Piano-Quicklessons"
          ],
          [
           "Master the Saxophone: Intermediate Instruction Made Simple!"
          ],
          [
           "You Can Play Jazz Saxophone"
          ],
          [
           "Improvise Puccini´s 'E Lucevan le Stelle on Piano\""
          ],
          [
           "Building Up To Barre Chords"
          ],
          [
           "Learn the Violin - Bowing Techniques"
          ],
          [
           "Blues Guitar Lessons - Volume 3 - Minor Blues Essentials"
          ],
          [
           "Back 2 The Basics"
          ],
          [
           "Play the Jews Harp - instant skills for non musicians."
          ],
          [
           "Master Trumpet Playing: Intermediate Instruction Made Simple"
          ],
          [
           "Practical Guitar Theory: Level 1"
          ],
          [
           "Instant harmonica - enjoy playing Silent Night tonight!"
          ],
          [
           "HARP&SOUL  |  Learn the Secrets of the Harmonica"
          ],
          [
           "Play Leyenda, Canarios, and Bach on Classical Guitar"
          ],
          [
           "Instant Harmonica - play the cool tune Dirty Old Town now!"
          ],
          [
           "Ultimate Beginner Guitar Guide - Both Acoustic & Electric "
          ],
          [
           "Guitar Lessons : Rock Guitar in 1 Day!"
          ],
          [
           "Tenor Banjo"
          ],
          [
           "Introduction to Lead Guitar"
          ],
          [
           "Piano With Willie: Basics of Improvisation"
          ],
          [
           "Euphonium Pro Series - Fall in love with the Euphonium"
          ],
          [
           "Pure Rock Guitar : Play Like the Gods of Rock!"
          ],
          [
           "Master the French Horn: Intermediate Instruction Made Simple"
          ],
          [
           "Classical Guitar Technique: 80/20"
          ],
          [
           "Total beginner to intermediate guitar - Learn to play by ear"
          ],
          [
           "Aprende escalas y arpegios  Vol. I: Modo mayor"
          ],
          [
           "Aprende a tocar Guitarra RAPIDO y FACIL con Guitarsimple"
          ],
          [
           "Ukulele lernen für Papas mit Bruder Jakob"
          ],
          [
           "Tin Whistle Básico"
          ],
          [
           "Leve a sua técnica de pedal duplo para um novo patamar"
          ],
          [
           "Sevillanas con Castañuelas - Baile y toque al mismo tiempo"
          ],
          [
           "見てわかる！やさしく独習アコギ（入門編）TAKA先生のアコースティックギターレッスンⅠ"
          ],
          [
           "【すぐに覚える！】ASALATO-アサラト(打楽器)初心者向け入門講座"
          ],
          [
           "Aprende a Tocar Teclado - Piano"
          ],
          [
           "Castañuelas por Sevillanas - Curso del toque de castañuelas"
          ],
          [
           "Aprende a tocar el acordeón de botones"
          ],
          [
           "Aprende a tocar Música Cristiana en el piano y teclado"
          ],
          [
           "Easy Guitar Songwriting And Harmony"
          ],
          [
           "How to play easy tunes on the harmonica - just the basics"
          ],
          [
           "Rhythm to Rock Drum Lessons 2"
          ],
          [
           "Instant Harmonica - play Over the Rainbow + Skye Boat now!"
          ],
          [
           "Bagpipe Instruction For Beginners"
          ],
          [
           "Flute Solos: Learn how to Perform Three Fun, Unique Pieces"
          ],
          [
           "Rhythm to Rock Drum Lessons 3"
          ],
          [
           "Guitar Lessons - Sweep Picking Arpeggio Essentials"
          ],
          [
           "Painless Piano!"
          ],
          [
           "Beginning Flute Lessons"
          ],
          [
           "Piano Lesson Variety"
          ],
          [
           "Pop and Jazz Keyboards and Harmony (beginner level)"
          ],
          [
           "Starting to play the blues on your harmonica in easy steps "
          ],
          [
           "Learn the Viola - Scales and Fundamentals"
          ],
          [
           "Learn to Play 'Let It Snow on Piano\""
          ],
          [
           "Instant Harmonica - play the Irish anthem Danny Boy today!"
          ],
          [
           "Piano Building Blocks: Learn Chord Additions & Variations"
          ],
          [
           "Advanced Saxophone Studies - Learn to Master the Saxophone!"
          ],
          [
           "Killer Harmonica sounds using the tongue and bending notes "
          ],
          [
           "Instant Harmonica - play When the Saints on harmonica now!"
          ],
          [
           "Strumming the Guitar - 5 Lessons on Strum Patterns"
          ],
          [
           "Learn Piano Online-Keys to the Keyboard"
          ],
          [
           "Ukulele Lessons For Beginners - Fast Track Your Learning"
          ],
          [
           "Blues Guitar Lessons - Ragtime Blues Guitar"
          ],
          [
           "Getting Started with Power Chords"
          ],
          [
           "Blues Master - Professional Techniques Piano Course"
          ],
          [
           "Drumming 101: The Essential Elements"
          ],
          [
           "Flute Lessons For Beginners"
          ],
          [
           "Guitar for Christmas!"
          ],
          [
           "Learn Piano Online-Nocturnal Piano Solo"
          ],
          [
           "Guitar Chords and Basic Strumming"
          ],
          [
           "Getting Started on the Acoustic Guitar"
          ],
          [
           "Learn Piano Online-In the Garden Piano Solo"
          ],
          [
           "Saxophone Essentials: Beginners Course"
          ],
          [
           "Learn To Play The Guitar In A Day"
          ],
          [
           "88 Logic - The Essential Guide To Learning Piano"
          ],
          [
           "Tuba Solos: Learn how to Perform Three Fun and Unique Pieces"
          ],
          [
           "Instant Harmonica - play Dylan's Like a Rolling Stone now!"
          ],
          [
           "Advanced Oboe Studies - Become a Master Oboist!​"
          ],
          [
           "Instant Harmonica - play 'I just called to say I love you'"
          ],
          [
           "Jazz piano improvisation: The girl form Ipanema. Bossa nova"
          ],
          [
           "Drum Lessons For Beginners"
          ],
          [
           "Piano With Willie: Jazz Kids - Vol 3"
          ],
          [
           "Quick Piano Lessons - Tutorials for Drake's Greatest Hits"
          ],
          [
           "Bluegrass Guitar Essentials: Webisodes 13, 14, & 15"
          ],
          [
           "Guitar - Rock - Beginner with Marc Seal"
          ],
          [
           "Oboe Solos: Learn to Perform Three Fun, Unique Pieces!"
          ],
          [
           "Bluegrass Guitar Essentials: Webisodes 11 & 12"
          ],
          [
           "Advanced Horn Studies - Learn to Master the French Horn!​"
          ],
          [
           "Learn To Play Guitar Complete Beginners Quick Start"
          ],
          [
           "Piano With Willie: Jazz Kids - Vol 4"
          ],
          [
           "Instant Harmonica - play the old Popeye Spinach song now !"
          ],
          [
           "Piano With Willie: Jazz Kids - Vol 2"
          ],
          [
           "Practice guitar with no previous experience and become a pro"
          ],
          [
           "The Music Coach Online Spirit Drum Course"
          ],
          [
           "Make Electronic Music with the iPad"
          ],
          [
           "Learn Loreena McKennitt Songs-Quicklessons Piano Course"
          ],
          [
           "Guitar 201: Breakthroughs"
          ],
          [
           "Major Scales and Modes for Chromatic Harmonica"
          ],
          [
           "Play Guitar with Rhythm - 5 Easy Lessons"
          ],
          [
           "Coaching Bundle: Guitar for Music Educators: Part 1"
          ],
          [
           "Coaching Bundle: Guitar for Music Educators: Part 2"
          ],
          [
           "Ukulele 3:  Intermediate"
          ],
          [
           "Beginners Guitar Course - 'Try it and love it method\""
          ],
          [
           "Coaching Course: Rhythm Instruction for Music Educators P1"
          ],
          [
           "Learn Pirates of the Caribbean by Ear on the Piano"
          ],
          [
           "Coaching Course: Rhythm Instruction for Music Educators P2"
          ],
          [
           "4 Week Rhythm Mastery"
          ],
          [
           "Tune that Sour Note on Your Piano"
          ],
          [
           "Learn Vikings Soundtracks on the Piano by Ear"
          ],
          [
           "Learn to Play Piano Like a Pro - Easy Piano Course 1"
          ],
          [
           "ABRSM Grade III Piano Class - Handel Sonatina in G 2017-2018"
          ],
          [
           "Instant Harmonica - play 12 bar blues Big Walter style now!"
          ],
          [
           "Fingerpicking Blues Guitar Lessons - Bottleneck Guitar"
          ],
          [
           "Spice up your playing with some easy Flamenco techniques! "
          ],
          [
           "Beginners Guide to Playing Guitar - Step-by-step System"
          ],
          [
           "Guitar Kick Start"
          ],
          [
           "Instant Harmonica – play Beethoven’s Ode to Joy right now!"
          ],
          [
           "Funk Rhythm Guitar Techniques"
          ],
          [
           "Flamenco Guitar"
          ],
          [
           "Learn to play the Bouzouki - Greek Bouzouki Lessons"
          ],
          [
           "Guitar Looper Basic Training"
          ],
          [
           "Piano With Willie: Jazz Kids - Vol 1"
          ],
          [
           "Instant Harmonica - play the Drunken Sailor sea shanty now! "
          ],
          [
           "Learn to Play Sweet Child of Mine"
          ],
          [
           "Bluegrass Guitar Essentials: Webisodes 1 & 2"
          ],
          [
           "Learn Monster GODJ"
          ],
          [
           "What you can learn before Piano Lessons"
          ],
          [
           "Learn to Play Tabla - The Indian drums"
          ],
          [
           "Gitarre spielen wie die Profis"
          ],
          [
           "Curso de piano 101 - Tocando partituras y acordes -"
          ],
          [
           "Sintetizadores e Síntese Subtrativa"
          ],
          [
           "Spielend Klavier lernen mit Freude und Erfolg"
          ],
          [
           "Curso de ejercicios técnicos al piano Vol.2"
          ],
          [
           "Curso de ejercicios técnicos al piano Vol.1"
          ],
          [
           "Aprende escalas y arpegios Vol.2 : Modo menor"
          ],
          [
           "Instant Harmonica - play Blowing in the Wind + Popeye theme!"
          ],
          [
           "Instant Harmonica - play jazzy Autumn Leaves now (part one)"
          ],
          [
           "Trumpet Lessons For Beginners"
          ],
          [
           "Guitar - Rock - Beginner/Intermediate with Marc Seal"
          ],
          [
           "Learn to play in the Key of G on any Bluegrass Instrument"
          ],
          [
           "Beginner Guitar Method"
          ],
          [
           "How to Play Dan Fogelberg Songs on Guitar"
          ],
          [
           "Jews Harp - Advanced course"
          ],
          [
           "Instant Harmonica - play jazzy Autumn Leaves now (part two)"
          ],
          [
           "Jazz Guitar Reharmonization for Autumn Leaves"
          ],
          [
           "Tenor Saxophone Lessons For Beginners"
          ],
          [
           "Mike G's Beginner Drum Course: Part 2"
          ],
          [
           "Instant Harmonica - play Summertime + Drunken Sailor now!"
          ],
          [
           "Add Slide To Your Guitar Playing"
          ],
          [
           "Piano With Willie: Piano Chords Vol. 2"
          ],
          [
           "Drum Lessons For Beginners"
          ],
          [
           "Classical Guitar Finger-Picking: Right Hand Arpeggios"
          ],
          [
           "Rapidly Learn & Master Acoustic Guitar, Classic Fingerstyle"
          ],
          [
           "Play tunes on harmonica and learn how to bend some notes"
          ],
          [
           "Instant Harmonica - play Yesterday + Scarborough Fair today!"
          ],
          [
           "Violin lessons for beginners"
          ],
          [
           "Old-Time Banjo for the Absolute Beginner"
          ],
          [
           "Learn Guitar The Easy Way, It's Faster"
          ],
          [
           "Learn Oud 2"
          ],
          [
           "The Essentials of Acoustic Guitar Strumming Patterns"
          ],
          [
           "Acoustic Guitar After The Basics"
          ],
          [
           "Bossa Nova - Guitar for Beginners"
          ],
          [
           "Piano With Willie: Piano Chords Vol. 1"
          ],
          [
           "Instant Harmonica - play Summertime in 8 fun & easy lessons"
          ],
          [
           "Learn to Play the Tuba: Beginner to Pro in Under Five Hours!"
          ],
          [
           "Play Autumn Leaves' falling notes on piano with no reading!"
          ],
          [
           "Learn Basics of South Indian Carnatic Flute - Level 2"
          ],
          [
           "A Year's Worth of Piano Lessons in One Weekend"
          ],
          [
           "Bones of the Blues - learn 4 cool tunes to expert level now!"
          ],
          [
           "GUITAR #1: Beginner Basics and Beyond"
          ],
          [
           "Pure Modal Magic: The Complete Guitar Modes Solution"
          ],
          [
           "Aprende diferentes ritmos con la guitarra rítmica"
          ],
          [
           "Aprender a tocar la batería sin salir de casa"
          ],
          [
           "Aprende a tocar el bajo eléctrico "
          ],
          [
           "Aprende todos los secretos de la salsa para piano"
          ],
          [
           "Aprende a tocar ritmos latinos en el teclado"
          ],
          [
           "Ukulele lernen für Papas mit Aram sam sam"
          ],
          [
           "Aprende a tocar la trompeta"
          ],
          [
           "Curso de guitarra para principiantes."
          ],
          [
           "Aprende a tocar Jazz y Ritmos Latinos en la guitarra"
          ],
          [
           "こどもギターレッスン　リトルギタリストⅢ（完結編）"
          ],
          [
           "Aprende a tocar la flauta dulce de forma sencilla y gradual"
          ],
          [
           "Aprende a tocar jazz, salsa y blues en el piano"
          ]
         ],
         "hovertemplate": "subject=Musical Instruments<br>price=%{x}<br>content_duration=%{y}<br>course_title=%{customdata[0]}<extra></extra>",
         "legendgroup": "Musical Instruments",
         "marker": {
          "color": "#00cc96",
          "symbol": "circle"
         },
         "mode": "markers",
         "name": "Musical Instruments",
         "showlegend": true,
         "type": "scattergl",
         "x": [
          0,
          20,
          150,
          30,
          0,
          0,
          50,
          80,
          50,
          25,
          40,
          20,
          70,
          30,
          0,
          20,
          40,
          0,
          35,
          20,
          30,
          45,
          40,
          95,
          50,
          20,
          55,
          50,
          20,
          20,
          40,
          35,
          45,
          20,
          50,
          30,
          20,
          100,
          50,
          50,
          95,
          50,
          50,
          50,
          95,
          80,
          100,
          20,
          0,
          50,
          120,
          80,
          40,
          50,
          50,
          100,
          50,
          100,
          75,
          50,
          20,
          55,
          40,
          40,
          75,
          0,
          40,
          45,
          40,
          30,
          50,
          60,
          40,
          70,
          0,
          40,
          200,
          115,
          50,
          55,
          50,
          45,
          35,
          50,
          20,
          0,
          40,
          40,
          40,
          100,
          20,
          65,
          60,
          40,
          40,
          0,
          50,
          20,
          0,
          40,
          0,
          40,
          70,
          0,
          120,
          30,
          175,
          75,
          20,
          35,
          50,
          120,
          70,
          50,
          0,
          200,
          85,
          150,
          20,
          35,
          0,
          50,
          20,
          45,
          95,
          0,
          50,
          20,
          200,
          50,
          50,
          0,
          0,
          40,
          70,
          200,
          85,
          0,
          25,
          20,
          20,
          40,
          40,
          95,
          45,
          100,
          50,
          50,
          20,
          35,
          0,
          50,
          0,
          70,
          120,
          50,
          45,
          50,
          30,
          30,
          40,
          0,
          60,
          50,
          50,
          150,
          65,
          50,
          25,
          0,
          0,
          40,
          20,
          20,
          50,
          200,
          25,
          55,
          0,
          50,
          0,
          200,
          200,
          50,
          145,
          50,
          200,
          50,
          200,
          50,
          200,
          200,
          150,
          45,
          45,
          200,
          75,
          50,
          35,
          200,
          50,
          50,
          100,
          50,
          50,
          60,
          0,
          40,
          60,
          55,
          45,
          40,
          50,
          70,
          95,
          0,
          40,
          95,
          95,
          45,
          145,
          50,
          20,
          75,
          200,
          200,
          50,
          20,
          50,
          50,
          25,
          50,
          40,
          75,
          30,
          95,
          75,
          25,
          100,
          60,
          115,
          95,
          50,
          100,
          55,
          20,
          45,
          200,
          75,
          50,
          65,
          65,
          30,
          20,
          20,
          0,
          25,
          20,
          40,
          50,
          35,
          30,
          50,
          20,
          0,
          20,
          20,
          85,
          30,
          125,
          70,
          75,
          50,
          0,
          150,
          45,
          20,
          45,
          45,
          40,
          40,
          75,
          25,
          40,
          20,
          0,
          20,
          20,
          0,
          60,
          30,
          40,
          75,
          30,
          95,
          20,
          50,
          50,
          50,
          25,
          35,
          20,
          60,
          195,
          50,
          50,
          40,
          65,
          20,
          50,
          30,
          95,
          35,
          50,
          30,
          20,
          50,
          95,
          35,
          75,
          50,
          25,
          100,
          55,
          25,
          20,
          30,
          0,
          20,
          20,
          25,
          20,
          50,
          50,
          50,
          35,
          50,
          50,
          20,
          20,
          50,
          20,
          70,
          50,
          20,
          50,
          35,
          20,
          20,
          50,
          195,
          95,
          20,
          40,
          65,
          45,
          50,
          20,
          40,
          20,
          75,
          20,
          20,
          20,
          50,
          100,
          80,
          40,
          50,
          20,
          30,
          40,
          20,
          50,
          50,
          50,
          25,
          50,
          20,
          0,
          35,
          90,
          20,
          0,
          20,
          25,
          0,
          40,
          75,
          35,
          85,
          55,
          40,
          45,
          20,
          25,
          70,
          50,
          30,
          50,
          20,
          50,
          50,
          50,
          20,
          100,
          100,
          50,
          85,
          200,
          50,
          20,
          50,
          50,
          55,
          35,
          65,
          195,
          50,
          95,
          20,
          40,
          35,
          0,
          20,
          40,
          40,
          20,
          20,
          40,
          35,
          35,
          50,
          20,
          40,
          50,
          100,
          95,
          50,
          20,
          20,
          20,
          40,
          25,
          25,
          50,
          50,
          40,
          50,
          35,
          50,
          25,
          30,
          50,
          50,
          50,
          30,
          20,
          50,
          50,
          50,
          40,
          20,
          20,
          100,
          40,
          20,
          25,
          20,
          25,
          20,
          20,
          50,
          95,
          50,
          20,
          105,
          50,
          20,
          40,
          20,
          50,
          50,
          20,
          35,
          20,
          30,
          60,
          20,
          50,
          25,
          50,
          20,
          35,
          50,
          115,
          35,
          50,
          50,
          20,
          50,
          20,
          20,
          20,
          80,
          45,
          50,
          25,
          50,
          60,
          40,
          35,
          195,
          40,
          45,
          50,
          40,
          20,
          40,
          50,
          45,
          50,
          175,
          45,
          50,
          40,
          55,
          20,
          40,
          40,
          20,
          20,
          35,
          40,
          50,
          20,
          20,
          35,
          20,
          40,
          30,
          50,
          20,
          35,
          40,
          20,
          40,
          180,
          35,
          80,
          40,
          40,
          0,
          50,
          35,
          20,
          20,
          50,
          20,
          20,
          20,
          75,
          50,
          95,
          20,
          60,
          20,
          20,
          60,
          40,
          20,
          25,
          50,
          40,
          50,
          40,
          30,
          95,
          40,
          35,
          30,
          20,
          50,
          30,
          50,
          20,
          40,
          20,
          40,
          30,
          95,
          20,
          20,
          20,
          20,
          20,
          135,
          135,
          25,
          25,
          130,
          20,
          125,
          20,
          20,
          20,
          35,
          20,
          40,
          20,
          40,
          85,
          0,
          20,
          35,
          25,
          50,
          45,
          40,
          20,
          20,
          0,
          0,
          0,
          0,
          20,
          170,
          85,
          100,
          50,
          60,
          50,
          40,
          20,
          95,
          20,
          0,
          200,
          25,
          30,
          20,
          20,
          95,
          40,
          40,
          20,
          40,
          50,
          195,
          30,
          35,
          40,
          20,
          25,
          25,
          20,
          0,
          45,
          20,
          40,
          40,
          50,
          30,
          180,
          20,
          200,
          20,
          50,
          20,
          50,
          50,
          50,
          50,
          55,
          50,
          20,
          50,
          20,
          50,
          20
         ],
         "xaxis": "x",
         "y": [
          0.6,
          0.7,
          1.5,
          1.5,
          1,
          1,
          1.5,
          2,
          3,
          2,
          1.5,
          0.6333333333333333,
          1,
          1.5,
          2,
          2.5,
          1,
          1,
          3,
          0.5166666666666666,
          1,
          2.5,
          3,
          2.5,
          2,
          2,
          1,
          7,
          3.5,
          1,
          1.5,
          3,
          2,
          0.6333333333333333,
          7.5,
          1.5,
          0.7,
          4,
          7,
          1.5,
          2,
          7.5,
          6,
          0.6833333333333333,
          2.5,
          3,
          0.5,
          10.5,
          0.5166666666666666,
          2,
          3,
          2,
          3.5,
          1.5,
          5,
          2,
          2.5,
          3,
          0.5,
          2,
          1,
          2.5,
          1,
          2.5,
          2.5,
          0.6833333333333333,
          1,
          6,
          5.5,
          1.5,
          3,
          1,
          2,
          2.5,
          2,
          1,
          2,
          2,
          3.5,
          2,
          8,
          4.5,
          3,
          2.5,
          0.7333333333333333,
          1.5,
          2,
          1,
          1.5,
          1,
          3,
          4.5,
          2,
          3.5,
          1,
          1.5,
          1,
          1,
          4.5,
          2.5,
          2,
          1,
          4,
          2,
          5.5,
          1,
          2.5,
          11.5,
          2,
          4,
          1.5,
          3,
          5,
          5,
          1.5,
          5.5,
          7.5,
          4,
          1.5,
          1.5,
          0.5,
          1,
          0.6666666666666666,
          1.5,
          4.5,
          0.6666666666666666,
          1.5,
          6,
          1.5,
          1.5,
          2,
          1.5,
          1,
          2.5,
          1,
          2.5,
          4.5,
          4,
          2.5,
          0.4833333333333333,
          1,
          1.5,
          1.5,
          2.5,
          0.65,
          1,
          1.5,
          1,
          2,
          2,
          0.5666666666666667,
          1.5,
          2,
          3.5,
          1.5,
          1,
          10,
          1.5,
          1,
          11.5,
          1.5,
          1,
          18.5,
          1.5,
          5,
          4.5,
          1,
          1.5,
          1.5,
          1,
          0.6166666666666667,
          2,
          4,
          1,
          1.5,
          6.5,
          8.5,
          1,
          3,
          1,
          3.5,
          30,
          9.5,
          3,
          34,
          5,
          31,
          1.5,
          15.5,
          1.5,
          11.5,
          8.5,
          9,
          1.5,
          1.5,
          1,
          1.5,
          3.5,
          1,
          6,
          1.5,
          1,
          1.5,
          2,
          1.5,
          0.6333333333333333,
          4,
          1.5,
          5,
          1.5,
          1,
          2.5,
          1.5,
          1,
          2.5,
          2,
          1,
          2.5,
          2,
          1,
          14,
          1,
          1.5,
          1,
          4,
          28.5,
          1,
          2,
          1.5,
          2.5,
          0.6,
          1,
          1,
          0.6166666666666667,
          2.5,
          3,
          1,
          1.5,
          5,
          5.5,
          10.5,
          23,
          1.5,
          3,
          1.5,
          2.5,
          1,
          7,
          1.5,
          1.5,
          0.7333333333333333,
          1,
          1,
          8,
          4,
          1,
          4.5,
          0.6666666666666666,
          1.5,
          6,
          2,
          2,
          6,
          3.5,
          1,
          6.5,
          0.6666666666666666,
          5,
          5,
          12.5,
          1,
          4,
          3,
          3,
          3,
          1,
          1,
          4,
          5,
          2.5,
          0.5833333333333334,
          3,
          0.5,
          1,
          0.5833333333333334,
          3.5,
          1,
          1.5,
          0.7333333333333333,
          1.5,
          2,
          1.5,
          1,
          3,
          3,
          1.5,
          6.5,
          1,
          7,
          3.5,
          2,
          3,
          3,
          2.5,
          8,
          2.5,
          2,
          4,
          5.5,
          3,
          2,
          3,
          1,
          1,
          2,
          1.5,
          1,
          4,
          1.5,
          1.5,
          0.7333333333333333,
          1,
          3.5,
          2,
          0.6,
          2,
          1.5,
          1.5,
          3,
          2.5,
          4.5,
          1.5,
          3.5,
          1.5,
          2.5,
          1,
          2.5,
          2.5,
          3.5,
          2,
          3,
          1,
          1.5,
          3.5,
          2,
          3,
          0.55,
          1.5,
          1.5,
          2,
          4,
          1.5,
          1,
          1,
          3,
          2,
          6,
          5,
          4,
          0.5333333333333333,
          4.5,
          9.5,
          0.5333333333333333,
          1,
          1,
          3.5,
          3,
          1.5,
          6,
          1.5,
          2,
          4,
          1,
          38,
          9,
          2,
          1.5,
          1.5,
          1.5,
          0.6166666666666667,
          3,
          2,
          2,
          1,
          2,
          6,
          0.55,
          1.5,
          2.5,
          7,
          10.5,
          1.5,
          1.5,
          3.5,
          1.5,
          2.5,
          4,
          8.5,
          3.5,
          5,
          3.5,
          8,
          7,
          4.5,
          0.7166666666666667,
          1.5,
          3,
          2.5,
          2.5,
          1,
          3.5,
          3,
          3,
          3.5,
          6,
          4,
          3,
          2,
          7,
          3,
          0.7333333333333333,
          2,
          2,
          0.6166666666666667,
          1,
          1.5,
          1,
          1.5,
          1,
          1,
          2,
          1.5,
          6.5,
          2.5,
          2,
          1.5,
          0.6666666666666666,
          4.5,
          5,
          2,
          1.5,
          3,
          1,
          1,
          2.5,
          7.5,
          7,
          1,
          2.5,
          0.6166666666666667,
          1,
          3,
          2,
          1.5,
          4,
          3,
          1.5,
          3.5,
          3,
          5.5,
          3,
          1.5,
          2.5,
          1,
          4.5,
          1.5,
          2,
          2,
          1,
          2,
          1,
          1.5,
          6.5,
          3,
          3.5,
          1.5,
          4,
          5,
          2.5,
          1.5,
          1,
          1,
          5.5,
          3.5,
          1.5,
          2.5,
          4.5,
          5.5,
          4,
          1.5,
          3,
          8,
          1,
          1.5,
          5.5,
          5.5,
          1.5,
          6,
          4,
          1,
          5.5,
          1.5,
          2,
          0.7166666666666667,
          0.6666666666666666,
          2,
          3,
          2.5,
          7,
          1.5,
          0.6333333333333333,
          2,
          7.5,
          1.5,
          2,
          1.5,
          1,
          1.5,
          3.5,
          7.5,
          4.5,
          7.5,
          2.5,
          3,
          1.5,
          4,
          1,
          1.5,
          5.5,
          1.5,
          2,
          0.5833333333333334,
          3.5,
          0.7166666666666667,
          2,
          1,
          3.5,
          1.5,
          1,
          1.5,
          1,
          3,
          1,
          1.5,
          3.5,
          2.5,
          4,
          3,
          2,
          2.5,
          1,
          1,
          1,
          4,
          2,
          1,
          0.6333333333333333,
          2,
          1,
          2,
          1,
          1,
          1.5,
          2.5,
          0.5333333333333333,
          1.5,
          2.5,
          1,
          1,
          1.5,
          1,
          0.5333333333333333,
          2,
          1.5,
          4,
          1,
          0.55,
          2.5,
          3,
          0.55,
          1.5,
          1,
          2,
          2,
          7,
          1,
          3.5,
          0.6,
          3,
          1,
          5.5,
          1.5,
          0.5666666666666667,
          2.5,
          1.5,
          1,
          0.5,
          0.5,
          0.65,
          2,
          0.5333333333333333,
          0.5333333333333333,
          0.6333333333333333,
          2.5,
          0.55,
          0.5833333333333334,
          0.5166666666666666,
          0.5166666666666666,
          1,
          1.5,
          0.7333333333333333,
          10.5,
          1,
          1,
          1.5,
          4,
          1,
          1.5,
          4.5,
          0.6166666666666667,
          1.5,
          1,
          1,
          1.5,
          1.5,
          2,
          4.5,
          5,
          4,
          1,
          1.5,
          2.5,
          1.5,
          0.65,
          2.5,
          1.5,
          2.5,
          4,
          4.5,
          3.5,
          0.5333333333333333,
          0.6166666666666667,
          3,
          2.5,
          1.5,
          0.7333333333333333,
          1.5,
          1.5,
          2,
          0.7,
          2,
          2,
          1,
          1.5,
          4.5,
          3,
          1,
          2.5,
          1,
          2,
          1,
          6,
          0.5666666666666667,
          4.5,
          6,
          2,
          3,
          2,
          1,
          4,
          3.5,
          3,
          3.5,
          0.7,
          3,
          1,
          3,
          1,
          3,
          3
         ],
         "yaxis": "y"
        },
        {
         "customdata": [
          [
           "Learn Web Designing & HTML5/CSS3 Essentials in 4-Hours"
          ],
          [
           "Learning Dynamic Website Design - PHP MySQL and JavaScript"
          ],
          [
           "ChatBots: Messenger ChatBot with API.AI and Node.JS"
          ],
          [
           "Projects in HTML5"
          ],
          [
           "Programming Foundations: HTML5 + CSS3 for Entrepreneurs 2015"
          ],
          [
           "How To Make A Wordpress Website 2017 | Divi Theme Tutorial"
          ],
          [
           "Build Your Own Backend REST API using Django REST Framework"
          ],
          [
           "Angular and Firebase - Build a Web App with Typescript"
          ],
          [
           "Web Development Masterclass - Complete Certificate Course"
          ],
          [
           "Spring Boot Tutorial For Beginners"
          ],
          [
           "The Complete Bootstrap Masterclass Course - Build 4 Projects"
          ],
          [
           "Scaling Docker on AWS"
          ],
          [
           "Learn JavaScript for beginners"
          ],
          [
           "HTML Tutorial: HTML & CSS for Beginners"
          ],
          [
           "Learn by Doing: Vue JS 2.0 the Right Way"
          ],
          [
           "Learn Complete Web Development From Scratch"
          ],
          [
           "Introduction to Web Development: HTML"
          ],
          [
           "Web Site for Beginners - Learn Web Building like knitting"
          ],
          [
           "How To Make A Wordpress Website 2017 - Divi Theme Tutorial"
          ],
          [
           "Web Programming with Python"
          ],
          [
           "PHP Login and Registration System - Email Confirm Activation"
          ],
          [
           "PSD to Responsive HTML5: Beginner to Advanced"
          ],
          [
           "Ultimate Web Developer Course Build 10 Websites from Scratch"
          ],
          [
           "Rapid Website Design with Bootstrap"
          ],
          [
           "Build Enterprise Applications with Angular 2 (and Angular 4)"
          ],
          [
           "Angular 4 (2+) Crash Course for Beginners"
          ],
          [
           "Accelerated JavaScript Training"
          ],
          [
           "Beginner API development in Node, Express, ES6, & MongoDB"
          ],
          [
           "React JS and Redux - Mastering Web Apps"
          ],
          [
           "Web Development w/ Google’s Go (golang) Programming Language"
          ],
          [
           "Git a Web Developer Job: Mastering the Modern Workflow"
          ],
          [
           "The Complete WordPress Website Business Course"
          ],
          [
           "The Complete HTML and CSS Course For Beginners"
          ],
          [
           "Learn  Bootstrap Development By Building 10 Projects"
          ],
          [
           "Advanced Javascript"
          ],
          [
           "Dissecting Ruby on Rails 5 - Become a Professional Developer"
          ],
          [
           "The Complete Wordpress Course - Build Your Own Website Today"
          ],
          [
           "JQuery Essentials core training for Dynamic Interactive web"
          ],
          [
           "Node.js: The Essentials + API Frameworks Express KOA Sails"
          ],
          [
           "The Complete PHP Bootcamp Course With Video Sharing Project"
          ],
          [
           "Build a Single Page Application with jQuery & AJAX"
          ],
          [
           "Practical CSS Website Development: Crash Course "
          ],
          [
           "Successful website creation - everything you need to know"
          ],
          [
           "Start Writing JavaScript Today - Beginner JavaScript Course"
          ],
          [
           "HTML5 Essentials for Beginners"
          ],
          [
           "Code a personal splash page in 1 hour"
          ],
          [
           "Step-by-step HTML and CSS for Absolute Beginners"
          ],
          [
           "Angular 4 Development Decoded"
          ],
          [
           "Javascript ES6! A Complete Reference Guide to Javascript ES6"
          ],
          [
           "Reactive JS:  Are you ready for the next big paradigm shift?"
          ],
          [
           "Learn Python and Django: Payment Processing"
          ],
          [
           "Code your first Website using HTML & CSS: Project Learning"
          ],
          [
           "React.js: Building Production Ready Apps, Start to Finish"
          ],
          [
           "Learn Object Oriented Programming PHP fundamentals bootcamp"
          ],
          [
           "Javascript Intermediate level 2 - Mastering Functions"
          ],
          [
           "1 Hour CSS"
          ],
          [
           "Become a Full Stack Developer with Spring, AWS and Stripe"
          ],
          [
           "Complete JQuery And JQuery UI Course For Beginner"
          ],
          [
           "Learn JavaScript for Web Development"
          ],
          [
           "Complete AJAX Using Bootstrap, PHP From Basic To Advanced."
          ],
          [
           "Complete Wordpress Theme Development Course"
          ],
          [
           "How to Optimise Your WordPress Website's Speed & Security to Improve SEO & User Experience"
          ],
          [
           "Build A Web App With Spring Framework and Angular 2"
          ],
          [
           "Projects in Laravel: Learn Laravel Building 10 Projects"
          ],
          [
           "Javascript Intermediate level 3 - JSON"
          ],
          [
           "Develop Your First App in an Hour"
          ],
          [
           "PHP: Ultimate guide to PHP for everyone"
          ],
          [
           "JavaScript DOM Dynamic Web interactive content Boot Camp"
          ],
          [
           "Master JavaScript Programming, 3 Projects Included !!"
          ],
          [
           "HTML CSS Learn to create a website from scratch"
          ],
          [
           "Complete Codeigniter: From Beginner to Advanced"
          ],
          [
           "HTML 5: How I made websites in HTML5"
          ],
          [
           "Build Responsive Website Using HTML5, CSS3, JS And Bootstrap"
          ],
          [
           "Complete React JS web developer with ES6 - Build 10 projects"
          ],
          [
           "Complete WordPress Theme Developer Course With Bootstrap"
          ],
          [
           "The Complete Ethical Hacking Course 2.0: Python & Kali Linux"
          ],
          [
           "Dynamic JavaScript Master Class AJAX JSON Simple APIs"
          ],
          [
           "Vue JS - Mastering Web Apps"
          ],
          [
           "Angular NgRx Store Masterclass - Covers Angular 4"
          ],
          [
           "JavaScript the Basics - JavaScript for Beginners"
          ],
          [
           "Complete E-Commerce Course - Java,Spring,Hibernate and MySQL"
          ],
          [
           "Learn SVG Animation - With HTML, CSS & Javascript"
          ],
          [
           "Build a Responsive Website with HTML5, CSS3 and Bootstrap 4"
          ],
          [
           "Learn Web Designing & HTML5/CSS3 Essentials in 4-Hours"
          ],
          [
           "CSS Development (with CSS3!)"
          ],
          [
           "Angular 2 & TypeScript Beginner Web Development"
          ],
          [
           "The Docker for DevOps course: From development to production"
          ],
          [
           "Beginner Full Stack Web Development: HTML, CSS, React & Node"
          ],
          [
           "Learn Angular 2 Development By Building 12 Apps"
          ],
          [
           "Server API Development in Swift, Kitura, & Bluemix"
          ],
          [
           "React VR - Creating Virtual Reality Apps"
          ],
          [
           "RxJs & Reactive Programming Angular Masterclass - Angular 4"
          ],
          [
           "Coding for Entrepreneurs: Learn Python, Django, and More."
          ],
          [
           "React and Flux Web Development for Beginners"
          ],
          [
           "The Full Stack Web Development"
          ],
          [
           "Learn Nodejs by building 12 projects"
          ],
          [
           "How to Make an Online Portfolio Website from Scratch "
          ],
          [
           "How To Make A Web Page With No Code"
          ],
          [
           "Spring Framework 4 And Dependency Injection For Beginners"
          ],
          [
           "Joomla 3 - The Basics"
          ],
          [
           "jQuery in Action: Build 8 jQuery Projects"
          ],
          [
           "Master WordPress Plugins: Shortcodes Ultimate - The Basics"
          ],
          [
           "ASP.NET C# - Enterprise Web Systems From Novice to Expert"
          ],
          [
           "Wordpress - Create an Outstanding Website in 2 hours"
          ],
          [
           "Complete Website & CMS in PHP & MySQL From Scratch!"
          ],
          [
           "The Complete Web Development Tutorial Using React and Redux"
          ],
          [
           "Create and Deploy a Web App in 3 Hours"
          ],
          [
           "HTML & CSS From Scratch in 30 Days"
          ],
          [
           "Getting Started with Craft CMS"
          ],
          [
           "JavaScript For Absolute Beginners - Level One"
          ],
          [
           "Effective Personal Website Building and Hosting"
          ],
          [
           "Web Design for Web Developers: Build Beautiful Websites!"
          ],
          [
           "Learn Rails: Quickly Code, Style and Launch 4 Web Apps"
          ],
          [
           "Getting Started with NodeJS for Beginners"
          ],
          [
           "Quickstart AngularJS"
          ],
          [
           "Byte-Sized-Chunks: Cascading Style Sheets (CSS) with HTML"
          ],
          [
           "Learn Building Your Own Website Without Coding"
          ],
          [
           "Practical Guide to Web Development"
          ],
          [
           "The Complete HTML5 and CSS3 Course"
          ],
          [
           "HTML & CSS for beginners: Build 3 projects from scratch"
          ],
          [
           "Code a 'Coming Soon' Landing Page in Bootstrap 4"
          ],
          [
           "Introduction to Bootstrap 3"
          ],
          [
           "Master ExpressJS to Build Web Apps with NodeJS&JavaScript"
          ],
          [
           "Learn XML Crash Course: Discover Essential XML Fundamentals "
          ],
          [
           "HTML5 CSS3 JQUERY Single Page Website Project from Scratch"
          ],
          [
           "Scrape Websites using PhantomJS and CasperJS"
          ],
          [
           "Amazon s3 Mastery - THE How-To' Guides For Amazon S3"
          ],
          [
           "HTML and CSS Crash Course for Beginners"
          ],
          [
           "EMMET Faster HTML & CSS workflow - Best Tool For Developers "
          ],
          [
           "Introduction to Web Development"
          ],
          [
           "AngularJS For ASP.NET MVC Developers"
          ],
          [
           "Serverless Workflow Management with AWS Step Functions"
          ],
          [
           "How to set up a Web Server From Scratch to One Fully Managed"
          ],
          [
           "The Complete PHP MySQL Professional Course with 5 Projects"
          ],
          [
           "Angular Masterclass"
          ],
          [
           "Become a Professional Web Developer | Version 3.0"
          ],
          [
           "Build Incredible Chatbots"
          ],
          [
           "Try Django 1.10 | Create a URL Shortening Service"
          ],
          [
           "Projects in CSS"
          ],
          [
           "Ruby on Rails: Training and Skills to Build Web Applications"
          ],
          [
           "Learn and Understand React"
          ],
          [
           "Learn Javascript & JQuery From Scratch"
          ],
          [
           "Learn to use JSON"
          ],
          [
           "The Ultimate Web Developer How To Guide"
          ],
          [
           "Build A Complete CRUD Application With PHP, MYSQL & JQUERY"
          ],
          [
           "jQuery Crash Course: Learn the Essentials of jQuery Fast"
          ],
          [
           "Drupal Tutorial : Drupal 8 Beginner to Expert in 8 PROJECTS"
          ],
          [
           "The Complete PHP CodeIgniter Course: Beginner To Advanced"
          ],
          [
           "JavaScript For Beginners : Learn JavaScript From Scratch"
          ],
          [
           "Mastering 'Native CSS Shapes To Build Modern Web Pages\""
          ],
          [
           "WordPress Development For Beginners"
          ],
          [
           "WordPress local server setup and site migration online"
          ],
          [
           "PHP Fundamentals - Start Earning The Top Dollars You Deserve"
          ],
          [
           "Interactive Dynamic JavaScript for beginners DOM"
          ],
          [
           "Javascript Intermediate level 1 - Mastering the DOM"
          ],
          [
           "Sublime Text for Rapid Web Development"
          ],
          [
           "Servlets and JSPs Tutorial: Learn Web Applications With Java"
          ],
          [
           "Projects in PHP and MySQL"
          ],
          [
           "PHP OOP: Object Oriented Programming for beginners + Project"
          ],
          [
           "React Redux React-Router: From Beginner to Paid Professional"
          ],
          [
           "Django Core | A Reference Guide to Core Django Concepts"
          ],
          [
           "Angular 2 Complete E-Commerce App Course - Java,Spring,MySQL"
          ],
          [
           "Build An Online Bank With Java, Angular 2, Spring and More"
          ],
          [
           "The Complete jQuery Course: From Beginner To Advanced!"
          ],
          [
           "Projects in AngularJS - Learn by building 10 Projects"
          ],
          [
           "The Ultimate Vue JS 2 Developers Course"
          ],
          [
           "React JS - Build real world JS apps & deploy on cloud"
          ],
          [
           "Angular 4 Front To Back"
          ],
          [
           "Modern Web Development with SASS, Gulp, NPM & Web Workflows"
          ],
          [
           "HTML5, CSS3 And JavaScript Fundamentals 2016"
          ],
          [
           "Angular 4 - Concepts, Code and Collective Wisdom"
          ],
          [
           "Learn E-Commerce Website in PHP & MySQL From Scratch!"
          ],
          [
           "JavaScript Game Development: Create Your Own Breakout Game"
          ],
          [
           "HTML and HTML5 For Beginners 2016"
          ],
          [
           "A Very Complete Introduction To Laravel"
          ],
          [
           "Learn to code, Become a Web Developer and Master JavaScript!"
          ],
          [
           "Serverless Architecture on Amazon Web Services"
          ],
          [
           "jQuery Essentials: Learn the Fundamental of jQuery"
          ],
          [
           "Expert Guide : Mastering Functions in JavaScript !"
          ],
          [
           "Learn Angular 4 from Scratch"
          ],
          [
           "Discover HTML Essential guide to HTML how to create webpages"
          ],
          [
           "HTML5 and CSS3 for beginners: Create a Website from Scratch"
          ],
          [
           "Introduction to Web Development"
          ],
          [
           "jQuery Fundamentals Powerful Bootcamp for beginners"
          ],
          [
           "The Complete HTML & CSS Course - From Novice To Professional"
          ],
          [
           "JavaScript Basics Web Development Building Blocks"
          ],
          [
           "Bootstrap unleash the power faster & easier web development"
          ],
          [
           "JavaScript Design Patterns: 20 Patterns for Expert Code"
          ],
          [
           "Fix Google's New 'Not Secure' Warning with Let's Encrypt!"
          ],
          [
           "JavaScript for Beginners Welcome to learning JavaScript"
          ],
          [
           "Benefits of Thinking Mobile First Future of Website Design"
          ],
          [
           "Javascript from Beginner to Advanced Level"
          ],
          [
           "AJAX Development"
          ],
          [
           "Interaction Design Specialist For Web Developers"
          ],
          [
           "PHP Security"
          ],
          [
           "The Bubble Course - Create Complete Web Apps without Coding"
          ],
          [
           "The Complete HTML5 & CSS3 Course Build Professional Websites"
          ],
          [
           "CSS Web Development Crash Course"
          ],
          [
           "Mastering DevOps"
          ],
          [
           "Building Websites Create a fully functional Web contact form"
          ],
          [
           "Create a Dynamic User Registration Form from scratch"
          ],
          [
           "A 13 Hour SQL Server 2014 /ASP.NET/CSS/C#/jQuery Course"
          ],
          [
           "HTML Workshop"
          ],
          [
           "Python for Beginners: Python Programming Language | Tutorial"
          ],
          [
           "Creating Animations using HTML5 Canvas"
          ],
          [
           "Bootstrap 4: Exploring New Features"
          ],
          [
           "Bootstrap 3 -> Profitable WordPress Theme Development!"
          ],
          [
           "Intro to Git"
          ],
          [
           "WordPress Domination #2: Leads & Scarcity"
          ],
          [
           "Learn How to Manage & Customize  Web Sites By Drupal CMS"
          ],
          [
           "Using Modern JavaScript Today"
          ],
          [
           "Up and Running with jQuery"
          ],
          [
           "Learn How To Build A Professional Web Site By Using Joomla"
          ],
          [
           "Power up HTML5 with JavaScript"
          ],
          [
           "Node Package Manager Course: Build and Publish NPM Modules"
          ],
          [
           "WordPress Look and Feel with Themes"
          ],
          [
           "PHP with Laravel for beginners - Become a Master in Laravel"
          ],
          [
           "JavaScript 2017: Become Top Rated Web Developer"
          ],
          [
           "The Complete Web Developer Bootcamp - Beginner to Expert"
          ],
          [
           "Full-Stack Web Apps with Meteor and React"
          ],
          [
           "Angular 4: From Theory to Practice & FREE E-Book"
          ],
          [
           "The Complete Sass & SCSS Course: From Beginner to Advanced"
          ],
          [
           "Become a Certified Web Developer"
          ],
          [
           "Become a Web Developer from Scratch"
          ],
          [
           "Ultimate Angular 4 (previously Angular 2) with Bootstrap 4"
          ],
          [
           "The Ultimate Beginner's Guide to Django"
          ],
          [
           "React JS - Mastering Redux"
          ],
          [
           "Professional Ruby on Rails Developer with Rails 5"
          ],
          [
           "Ruby on Rails 5 - BDD, RSpec and Capybara"
          ],
          [
           "Back to School Web Development and Programming Bundle"
          ],
          [
           "Complete ASP NET MVC Web Development - Newbie to Ninja!"
          ],
          [
           "The Complete DevOps Engineer Course 2.0 - Java & Kubernetes"
          ],
          [
           "All about NodeJS"
          ],
          [
           "How To Create A Wordpress Website 2016 | NEW Divi Theme 3.0!"
          ],
          [
           "The Complete jQuery Course - From Beginner to Professional!"
          ],
          [
           "Build a complete Fiverr clone with Node + Algolia + Paypal"
          ],
          [
           "The Ultimate Web Development Course"
          ],
          [
           "React From The Ground Up"
          ],
          [
           "Javascript for Beginners Learn by Doing Practical Exercises"
          ],
          [
           "8 Beautiful Ruby on Rails Apps in 30 Days & TDD - Immersive "
          ],
          [
           "Wordpress Website Mastery 2017"
          ],
          [
           "How To Make an eCommerce Website With Wordpress 2017"
          ],
          [
           "Mastering ASP.NET MVC 5 From Scratch Using C#"
          ],
          [
           "Start Web Development with GIS Map in JavaScript"
          ],
          [
           "Learn to Build Websites using Twitter Bootstrap"
          ],
          [
           "Web Development Tools the Pros Use: Code Productivity Hacks"
          ],
          [
           "WordPress : An Overview"
          ],
          [
           "Create Startup Landing Page with Viral Marketing Strategies"
          ],
          [
           "JavaScript : JavaScript Awesomeness"
          ],
          [
           "Mastering CSS 3.0 Selectors"
          ],
          [
           "WordPress Backup And Restore Fundamentals"
          ],
          [
           "Learn HTML and CSS to make a Website"
          ],
          [
           "1 Hour HTML"
          ],
          [
           "Angular 2 Crash Course with TypeScript"
          ],
          [
           "Boost your website speed without any coding!"
          ],
          [
           "Professional Rails Code Along"
          ],
          [
           "ASP.NET Web API 2 Hands-On"
          ],
          [
           "Create a MEAN App by Example - Full Stack Course"
          ],
          [
           "The Original Complete Web Developer Course."
          ],
          [
           "Angular 2 From The Ground Up"
          ],
          [
           "Complete Web Development Course + Building 5 Websites!"
          ],
          [
           "WP Plugin Development - Build your own plugin!"
          ],
          [
           "Sass: From Beginner to Advanced"
          ],
          [
           "Build Flat Responsive Website from Scratch - Complete Course"
          ],
          [
           "Wordpress for Beginners - Build a Live Website from Scratch"
          ],
          [
           "Essential JavaScript, jQuery and AngularJS Training"
          ],
          [
           "The Pro Ruby on Rails Starter"
          ],
          [
           "Unit Testing AngularJS: Build Bugfree Apps That Always Work!"
          ],
          [
           "WordPress Blog : Create a WordPress Website for Beginners"
          ],
          [
           "Introduction to HTML5 Canvas basics of drawing"
          ],
          [
           "Thoughtful Web Development Course: HTML, Vue.js, PHP, MySQL"
          ],
          [
           "Kids Coding - Beginners CSS"
          ],
          [
           "PHP & MySQL - Learn The Easy Way. Master PHP & MySQL Quickly"
          ],
          [
           "Learning Path: Magento: Master and Test Magento 2 with Ease"
          ],
          [
           "The Complete hapiJS Course - Go From Beginner To Advanced!"
          ],
          [
           "Ruby On Rails For Web Development"
          ],
          [
           "Create eye-catching WordPress website from scratch"
          ],
          [
           "Become A Web Developer And Seller - Build Websites With HTML"
          ],
          [
           "WordPress Tips and Tricks"
          ],
          [
           "HTML Tutorials : HTML Code for Website Creating"
          ],
          [
           "Complete HTML5 and CSS3 Course +1 Start to Finish Project"
          ],
          [
           "Web Development With HTML CSS BOOTSTRAP JQUERY for Beginners"
          ],
          [
           "HTML5 Specialist: Comprehensive HTML5 Training"
          ],
          [
           "CSS and CSS3 For Absolute Beginners"
          ],
          [
           "Build a Complete JQuery Plugin (Image Pop-up Dialog)"
          ],
          [
           "How to create HTML Forms"
          ],
          [
           "ReactJS and Flux: Learn By Building 10 Projects"
          ],
          [
           "How To Make A Business Website In 1 Day With Wix FAST & EASY"
          ],
          [
           "PHP Date and Time Course by Edwin Diaz"
          ],
          [
           "Start Your Own Forum Website in 15 Minutes "
          ],
          [
           "Hit the ground running with AngularJS with Dion Yang"
          ],
          [
           "Learn CSS Transition and Animation "
          ],
          [
           "Learn JavaScript from scratch"
          ],
          [
           "WordPress for Beginners - Tutorial - From Novice to Know-How"
          ],
          [
           "RESTful API with Laravel"
          ],
          [
           "Learn Ruby on Rails for Absolute Beginners"
          ],
          [
           "JavaScript Tutorial"
          ],
          [
           "Shopping Cart Website from Scratch Ecommerce"
          ],
          [
           "Learn By Example: Angular JS"
          ],
          [
           "The Complete front end web developer Bootcamp - 14 projects"
          ],
          [
           "WordPress LMS: E-Learning Website Made Easy"
          ],
          [
           "Create An HTML5 Video Player From Scratch"
          ],
          [
           "In Depth Web Development Made Easy"
          ],
          [
           "Jquery :basics for beginners"
          ],
          [
           "Web Development By Doing: HTML / CSS From Scratch"
          ],
          [
           "Build Your First Website in 1 Week with HTML5 and CSS3"
          ],
          [
           "ASP.NET Core MVC, Quick and Practical"
          ],
          [
           "Better way towards CSS using Less and Sass"
          ],
          [
           "JavaScript Complete for beginners with real world Apps"
          ],
          [
           "Creating a Responsive HTML Email"
          ],
          [
           "Angular 2 Demystified"
          ],
          [
           "Learn HTML Fast and Easy!"
          ],
          [
           "How To Setup a Micro-Blog in 3 Easy Steps"
          ],
          [
           "Ruby on Rails for Complete Beginners"
          ],
          [
           "Wordpress for Non-Technical People"
          ],
          [
           "ASP NET CORE - ANGULAR 2 E-Commerce App"
          ],
          [
           "Introductory JavaScript Made Easy Training Tutorial"
          ],
          [
           "Become a Heroku Rails Ninja: Expert Level Deployment Tools"
          ],
          [
           "Complete RESPONSIVE Website Design with HTML5 & CSS3"
          ],
          [
           "Pimcore Developer: Implement a Blog from a Bootstrap Theme"
          ],
          [
           "Inspirational Web Development - A Beginner Approach -"
          ],
          [
           "Learn HTML, A practical guide from scratch to HTML 5"
          ],
          [
           "JavaScript Tutorial: Learn JavaScript Code for Beginners"
          ],
          [
           "Website Secrets: Get a Gorgeous Website on the Cheap"
          ],
          [
           "Ultimate WordPress Plugin Course"
          ],
          [
           "PHP for Beginners: How to Build an E-Commerce Store"
          ],
          [
           "Build Realtime Apps | React Js, Golang & RethinkDB"
          ],
          [
           "Master Electron: Desktop Apps using HTML, JavaScript & CSS"
          ],
          [
           "The Complete Web Developer Masterclass: Beginner To Advanced"
          ],
          [
           "Mastering Micro Services Using Java Spring Boot"
          ],
          [
           "How to Create A Website: An HTML Tutorial and CSS Tutorial"
          ],
          [
           "The Advanced Web Developer Course"
          ],
          [
           "Projects in MongoDB - Learn MongoDB Building Projects"
          ],
          [
           "Learning JavaScript Programming Tutorial. A Definitive Guide"
          ],
          [
           "The Complete JavaScript, HTML and CSS Tutorial For Beginners"
          ],
          [
           "Build Modern Responsive Website With HTML5, CSS3 & Bootstrap"
          ],
          [
           "The Complete JavaScript Course For Web Development Beginners"
          ],
          [
           "Email Marketing: Send Unlimited Emails via Own Mail Server"
          ],
          [
           "Getting started with JavaScript"
          ],
          [
           "Learn the basics of the Web development: Coding Tactics"
          ],
          [
           "RESTful API with Laravel 5.4: Definitive Guide"
          ],
          [
           "Learn AngularJS Step By Step"
          ],
          [
           "Learn React : The World's Most Lucrative JavaScript Library"
          ],
          [
           "Master Regular Expressions from scratch - All languages"
          ],
          [
           "Try AngularJS: Beginner's Guide to Front End Web Development"
          ],
          [
           "JavaScript Step by Step how to apply it to your web pages"
          ],
          [
           "Explore JavaScript Beginners Guide to Coding JavaScript"
          ],
          [
           "Learn Web Scraping with Node.js"
          ],
          [
           "Getting Started with WordPress 2016"
          ],
          [
           "Learn HTML5 Programming From Scratch"
          ],
          [
           "Getting Started with LESS - Beginner Crash Course"
          ],
          [
           "Master ECMAScript 2015 (ES6)"
          ],
          [
           "Learn to Setup Websites from Scratch"
          ],
          [
           "Create Fast RESTful APIs with Lumen and Homestead by Laravel"
          ],
          [
           "Build Modern Websites Quick With HTML,CSS and Bootstrap"
          ],
          [
           "Twitter Integration customize Tweets with developer API"
          ],
          [
           "Build a Responsive Website with a Modern Flat Design"
          ],
          [
           "The Ultimate WordPress Boot Camp: Build 7 Websites"
          ],
          [
           "Master the Basics of HTML5 & CSS3: Beginner Web Development"
          ],
          [
           "Become A Full Stack Web Developer in 14 Days"
          ],
          [
           "Projects In ReactJS - The Complete React Learning Course"
          ],
          [
           "Beginning Web development Learn the basics of HTML"
          ],
          [
           "Step by Step Build Your Template by Bootstrap 4 from scratch"
          ],
          [
           "Hosting your static website on Amazon AWS S3 service"
          ],
          [
           "JavaScript Rockstar How to create Incredible Useful code"
          ],
          [
           "Spring Core DevOps on AWS"
          ],
          [
           "How to Create a Website Without Coding - WordPress 2016"
          ],
          [
           "PHP Graphic Techniques: CAPTCHA/ Create a verification code"
          ],
          [
           "Introductory To HTML and CSS"
          ],
          [
           "Learn how to convert PSD to HTML and CSS responsive"
          ],
          [
           "PHP User Login Registration Script With All Features"
          ],
          [
           "AJAX : Let's build a COOL project"
          ],
          [
           "Advanced WordPress Topics: Post Types Taxonomies & Metaboxes"
          ],
          [
           "Laravel Homestead"
          ],
          [
           "The Complete TypeScript Programming Guide for Web Developers"
          ],
          [
           "JavaScript with BackboneJS and Bootstrap CSS - Advanced"
          ],
          [
           "Ruby on Rails Tutorial: Learn 6 Ruby on Rails SEO Techniques"
          ],
          [
           "XML DOM :basics for beginners"
          ],
          [
           "Learn HTML Basics From Scratch"
          ],
          [
           "Byte-Sized-Chunks: Dynamic Prototypes in Javascript"
          ],
          [
           "Build Websites from Scratch with Squarespace"
          ],
          [
           "Introduction to web programming for GIS applications"
          ],
          [
           "Java Spring Security"
          ],
          [
           "Responsive Html5 Theme Development"
          ],
          [
           "What’s New in Bootstrap 4"
          ],
          [
           "ReactJS Course: Learn JavaScript Library Used by Facebook&IG"
          ],
          [
           "Building a Ruby on Rails Application with Neo4j"
          ],
          [
           "Sara Learns to Code.  Making an App from Scratch"
          ],
          [
           "Ajax  for Beginners: A Very Basic Introduction"
          ],
          [
           "Wordpress Essentials: Useful Plugins"
          ],
          [
           "Django by Example"
          ],
          [
           "Build A Great Wordpress Website For Your Business in 2 Hours"
          ],
          [
           "Wordpress on AWS: The Easy way to AWS for Free Fast hosting "
          ],
          [
           "Mastering TypeScript"
          ],
          [
           "Mastering AngularJS UI Development"
          ],
          [
           "Custom Theme Creation for WordPress using HTML5 and CSS3"
          ],
          [
           "Create a PHP Contact Form in Bootstrap"
          ],
          [
           "Introduction To Data Analytics Using Microsoft Power BI"
          ],
          [
           "HTML Made Simple For Beginners: Create a One Page Website"
          ],
          [
           "The Complete Web Developer Masterclass: Beginner To Advanced"
          ],
          [
           "Website Builder Software Previews"
          ],
          [
           "Learn How to Create Your Own Social Network"
          ],
          [
           "Learn By Example: The Foundations of HTML, CSS & Javascript"
          ],
          [
           "JavaScript manipulation of the DOM Document Object Model"
          ],
          [
           "Create Jekyll blog and host it on Github like a Ninja"
          ],
          [
           "Learn React JS from scratch"
          ],
          [
           "Web Security: Common Vulnerabilities And Their Mitigation"
          ],
          [
           "PHP for Beginners"
          ],
          [
           "Make a professional website - 30 Day Guarantee. Discounted!"
          ],
          [
           "Symfony 3: Build a PHP Application with Symfony"
          ],
          [
           "Learn ASP.Net Web API 2 for Absolute Beginner"
          ],
          [
           "Build a Website in 30 Minutes"
          ],
          [
           "Google Blogger : How to Create a Blog"
          ],
          [
           "How to Make a Website Without Coding- WordPress & Web Skills"
          ],
          [
           "Learn WCF And Web APIs From Scratch"
          ],
          [
           "How To Build A Website From Scratch + Blogging Blueprint"
          ],
          [
           "Learn To Create Different Website Layouts & Media Queries "
          ],
          [
           "Build Sign Up and Login Forms With Bootstrap Modal"
          ],
          [
           "Build a Real Time web app in node.js , Angular.js, mongoDB"
          ],
          [
           "Superb jQuery Course - Become Certified jQuery Developer"
          ],
          [
           "How To Build A Facebook Messenger Chat Bot From Scratch"
          ],
          [
           "Build Your Own Calculator App with Javascript, HTML5 & CSS"
          ],
          [
           "The Complete WordPress Development & Customization Course"
          ],
          [
           "HTML CSS Easy steps to create a web template from scratch"
          ],
          [
           "Learn jQuery AJAX in 1 hour"
          ],
          [
           "Develop Competitive Plugins for WordPress and WooCommerce"
          ],
          [
           "Get Results - Core Principles of Web Development Tricks Tips"
          ],
          [
           "JSON Faster Sleeker & Easier Discover the benefits learn it"
          ],
          [
           "Get to know HTML Learn HTML Basics"
          ],
          [
           "Ultimate Css & JQuery Form Designing From Beginner to Expert"
          ],
          [
           "PHP: Complete Registration and Login with Email Verification"
          ],
          [
           "JavaScript from Beginner to Expert"
          ],
          [
           "Build a website HTML5 CSS3 Beginner Course"
          ],
          [
           "Learn Ruby on Rails: Stripe Payment Processing"
          ],
          [
           "WordPress For Beginners | No Coding Required"
          ],
          [
           "jQuery For Beginners : A Basic Introduction"
          ],
          [
           "WordPress Plugins and Widgets"
          ],
          [
           "PHP Essential How to create build Amazing websites with PHP"
          ],
          [
           "HTML CSS JavaScript: Most popular ways to code HTML CSS JS"
          ],
          [
           "Bootstrap 3 Beginners: Create a Professional Landing Page"
          ],
          [
           "Introduction to Node.js for Beginners"
          ],
          [
           "Introduction to Coding with Ruby"
          ],
          [
           "Complete PHP and MySql Course: From Beginner to Professional"
          ],
          [
           "Angular JS Essentials"
          ],
          [
           "How To Setup Web Hosting"
          ],
          [
           "Web Application Development using Redis, Express, and Socket"
          ],
          [
           "How to Start a WordPress Blog - Complete Beginners Guide!"
          ],
          [
           "CSS3 Gradients for Web Designers"
          ],
          [
           "Learn ASP NET MVC 5 step by step"
          ],
          [
           "Tumult Hype Pro Basics: HTML5 Animations Made Easier"
          ],
          [
           "Web Hosting Set Up and WordPress Installation For Beginners"
          ],
          [
           "Ruby on Rails 4---A Test-Driven Approach"
          ],
          [
           "AJAX :basics for beginners"
          ],
          [
           "Let's JavaScript!  Code a calculator"
          ],
          [
           "JavaScript from Beginner to Advanced"
          ],
          [
           "WordPress Theme Academy with Bootstrap"
          ],
          [
           "Building a eCommerce Startup in 4 Hours [Livestream]"
          ],
          [
           "Responsive PHP Registration Form: From Scratch"
          ],
          [
           "A-Frame WebVR Programming Tutorial Series (Virtual Reality)"
          ],
          [
           "Learn Bootstrap And Make Responsive Websites"
          ],
          [
           "HTML Web Development Crash Course"
          ],
          [
           "Bootstrap Basics: Program Responsive Websites"
          ],
          [
           "Projects with JSON and APIs"
          ],
          [
           "Web Design HTML CSS How to Create a Website from Scratch"
          ],
          [
           "Create Complete Sign up System using PHP, jQuery and Ajax"
          ],
          [
           "Adobe Flash for Beginners - Build Flash Website From Scratch"
          ],
          [
           "Learn Complete WordPress for Building a Professional Sites"
          ],
          [
           "Devtools 2017: Beginner to Expert w/ Chrome Developer Tools"
          ],
          [
           "Bootstrap Essential Training - Create Your Very Own Website"
          ],
          [
           "Angular 2 Jump Start With Typescript"
          ],
          [
           "Learn Plugin Development in WordPress By Building  Projects"
          ],
          [
           "Build Your Startup with No Coding (Design, Develop & Ship)"
          ],
          [
           "The Web Developers Guide: Learn HTML & CSS Fundamentals"
          ],
          [
           "Learn PHP Programming for Absolute Beginners - Lite"
          ],
          [
           "Learn Drupal 8 - With a Live Project"
          ],
          [
           "Supreme NodeJS Course - For Beginners"
          ],
          [
           "CSS3 for beginners"
          ],
          [
           "Javascript for beginners"
          ],
          [
           "Become a Bootstrap Expert: Build 20 Layouts!"
          ],
          [
           "PHP : Learn to upload files to Amazon S3 and use CloudFront"
          ],
          [
           "PHP MySQL: Learn PHP MySQL with Project"
          ],
          [
           "How to Set Up a Self-Hosted Wordpress Website in 30 Minutes"
          ],
          [
           "Projects in Django and Python"
          ],
          [
           "Create, Update and Manage Your Own Website Using Drupal 7"
          ],
          [
           "Learn HTML - The programming language to build a webpage!"
          ],
          [
           "Learn To Program JavaScript (in ten easy steps)"
          ],
          [
           "Bootstrap :basics for beginners"
          ],
          [
           "Introduction to CSS Development"
          ],
          [
           "PHP :basics for beginners"
          ],
          [
           "Beginning Oracle WebLogic for Administrators"
          ],
          [
           "Build an HTML5 and CSS3 Website in 35 Minutes"
          ],
          [
           "Angular 2 Routing: Up And Running"
          ],
          [
           "Advanced Prezi: Make Amazing Presentations "
          ],
          [
           "1 hour jQuery"
          ],
          [
           "The WpFASTER WordPress Speed Optimization Master Course"
          ],
          [
           "How to Build Your Own Website with WordPress: A Step-by-Step Guide "
          ],
          [
           "Build Apps with ReactJS: The Complete Course"
          ],
          [
           "Learn SASS: from beginner to expert"
          ],
          [
           "The complete HTML5 course"
          ],
          [
           "Create a Responsive Website with Bootstrap 3"
          ],
          [
           "Lerning PHP by building website"
          ],
          [
           "Learn PHP Object Oriented Features with Simple Examples"
          ],
          [
           "Crash Course - Learn to Create a PHP MVC Framework"
          ],
          [
           "JSON :basics for beginners"
          ],
          [
           "CSSCasts; CSS libraries Plugins Tips & Tricks for Developers"
          ],
          [
           "Complete Guide to Front-End Web Development and Design"
          ],
          [
           "Build Ajax Web Apps with Laravel 5.2, Bootstrap and jQuery"
          ],
          [
           "Javascript for Beginners"
          ],
          [
           "MongooseJS Essentials - Learn MongoDB for Node.js"
          ],
          [
           "Regular Expressions for Beginners - Universal"
          ],
          [
           "Learn Redis from Scratch"
          ],
          [
           "WordPress Plugin Development -> Deep dive discovery!"
          ],
          [
           "Learn Ajax and jquery with PHP"
          ],
          [
           "Create a business website with WordPress"
          ],
          [
           "DesktopServer : Install WordPress Locally  - Work Anywhere!"
          ],
          [
           "Understand PHP Arrays and HTTP Request in a Better Way"
          ],
          [
           "Mastering CSS"
          ],
          [
           "The Complete Wordpress Theme Development Guide"
          ],
          [
           "The Complete HMTL5 Course - Go From Beginner To Advanced!"
          ],
          [
           "Learn Jquery from Scratch 2-Hour Training "
          ],
          [
           "How to Create a Wordpress Website from Scratch - No Coding"
          ],
          [
           "Learn PHP CodeIgniter Framework with AJAX and Bootstrap"
          ],
          [
           "The Complete Guide to JavaScript Development"
          ],
          [
           "Basic HTML CSS and Web Design"
          ],
          [
           "Build Professional WordPress Website"
          ],
          [
           "Ultimate CSS3 Course - From Beginners To Professional"
          ],
          [
           "Code & Grow Rich:  Earn More As An Entrepreneur Or Developer"
          ],
          [
           "Learn by Example : ReactJS"
          ],
          [
           "React.js Quickly: Developing Scalable Web User Interfaces"
          ],
          [
           "JavaScript - Tricks and Workarounds"
          ],
          [
           "Kids Coding - Beginner HTML"
          ],
          [
           "Learn PHP from scratch!!"
          ],
          [
           "PHP with PDO - ULTIMATE Crash Course"
          ],
          [
           "JavaScript for beginners with live examples"
          ],
          [
           "Bootstrap 3 Introduction : Create RESPONSIVE Websites Fast"
          ],
          [
           "Laravel(5.2) PHP Framework  Jump Start for beginners"
          ],
          [
           "Professional WordPress Theme Development For 2017"
          ],
          [
           "Learn Laravel PHP Framework Building Multi User SEO Blog APP"
          ],
          [
           "Javascript Specialist"
          ],
          [
           "Write PHP Like a Pro: Build a PHP MVC Framework From Scratch"
          ],
          [
           "JavaScript Intro to learning JavaScript web programming"
          ],
          [
           "Crash Course: Fundamentals Of HTML & CSS From Scratch."
          ],
          [
           "Laravel, the complete guide with real world projects"
          ],
          [
           "VueJS V1 Introduction to VueJS JavaScript Framework"
          ],
          [
           "HTML CSS: Essential steps to learn HTML CSS"
          ],
          [
           "Learn HTML 5 in 1 hour"
          ],
          [
           "Learn Html5 & CSS3 from scratch"
          ],
          [
           "Responsive Web Design: Made Easy"
          ],
          [
           "Parse Server: From Front End to Full Stack"
          ],
          [
           "Codeigniter: How to use Codeigniter that drives knowledge"
          ],
          [
           "jQuery for Beginners - Create Website Animations Easily"
          ],
          [
           "How to Build Chat Bots: From Beginner to Intermediate"
          ],
          [
           "Web Development with BootStrap - 16 Instant Themes Included!"
          ],
          [
           "Install a Wordpress Theme the Correct Way & Charge Others"
          ],
          [
           "Coding for Entrepreneurs Basic"
          ],
          [
           "The CSS and CSS3 Crash Course"
          ],
          [
           "Build a Business or Personal Website Using Wordpress"
          ],
          [
           "Learn By Example: PHP For Dynamic Websites"
          ],
          [
           "Learn ReactJS: Code Like A Facebook Developer"
          ],
          [
           "Learn to Build Web Apps using D3JS"
          ],
          [
           "How to create awesome website and e-commerce in 1 hour"
          ],
          [
           "Joomla for Beginners - Learn how to build a website with CMS"
          ],
          [
           "Learning Drupal 8"
          ],
          [
           "Learn How To Build a Web Application Without Coding"
          ],
          [
           "Rock Solid Wordpress Security - Secure Web Development"
          ],
          [
           "Mastering JavaScript"
          ],
          [
           "PHP Laravel 5:Creating a CRUD application"
          ],
          [
           "XQUERY :basics for beginners"
          ],
          [
           "PHP Development with the Laravel Framework"
          ],
          [
           "WordPress Development - Themes and Plugins Complete Guide"
          ],
          [
           "Basic JavaScript: Build 4 Basic JavaScript Projects"
          ],
          [
           "HTML and CSS for Beginning Web Developers"
          ],
          [
           "Popular JavaScript Framework:Learn The Language Of Angular 2"
          ],
          [
           "The Ultimate Guide to the Best WordPress Plugins Part 1"
          ],
          [
           "XSLT :basics for beginners"
          ],
          [
           "The Complete Wordpress Plugin Development Course - 8 Plugins"
          ],
          [
           "JSON Crash Course for Beginners"
          ],
          [
           "You can create Incredible Websites with HTML CSS learn how"
          ],
          [
           "JavaScript Tricks how to create code projects from scratch"
          ],
          [
           "The Sass Course! Learn Sass for Real-World Websites"
          ],
          [
           "Web Design How to Create a Website HTML CSS Bootstrap"
          ],
          [
           "Master Angular 4 by Example - Build 7 Awesome Apps!"
          ],
          [
           "Create A Custom Responsive WordPress Website For A Client"
          ],
          [
           "Mastering HTML5 Programming - The Easier Way"
          ],
          [
           "How to Launch Your Own Website Builder Service"
          ],
          [
           "Getting Started with HTML"
          ],
          [
           "Spring Framework 4 (Java Enterprise JEE) with AngularJS"
          ],
          [
           "Build A Weather App With Ajax Using Open Weather Map API"
          ],
          [
           "Essentials of JavaScript Practice Coding Exercises Tips"
          ],
          [
           "Learn and Earn with HTML & CSS"
          ],
          [
           "Get started Creating Websites Everything you need provided"
          ],
          [
           "JavaScript in Action JavaScript Projects"
          ],
          [
           "Modern Web Development with Laravel 5.2 (PHP Framework)"
          ],
          [
           "Programming for Entrepreneurs - JavaScript"
          ],
          [
           "Create a Website from Scratch using HTML CSS step by step"
          ],
          [
           "Complete AJAX Course: Learn AJAX Techniques Using Bootstrap"
          ],
          [
           "Learn jQuery by Example Course"
          ],
          [
           "Bootstrap 4 Theme Development Masterclass"
          ],
          [
           "Wordpress Theme Development for Beginners"
          ],
          [
           "Web Design Creating websites from scratch"
          ],
          [
           "HTML Learning the Basics Intro to HTML website coding"
          ],
          [
           "Learn how to use Javascript Components with PHP and Symfony"
          ],
          [
           "So you think you know JavaScript?"
          ],
          [
           "Learn Node.js by building Udemy: Stripe + MailChimp + Wistia"
          ],
          [
           "Learn jQuery: An In-depth Course For Beginners"
          ],
          [
           "JavaScript for Beginning Web Developers"
          ],
          [
           "JQuery Create Overlay Popups from scratch using Jquery"
          ],
          [
           "Vue JS 2: From Beginner to Professional"
          ],
          [
           "Ultimate AngularJS: Build a Real-World App from Scratch"
          ],
          [
           "Wordpress Site Migration"
          ],
          [
           "introduction to HTML Course"
          ],
          [
           "Create Single Page Website using Twitter Bootstrap 3"
          ],
          [
           "The All-In-One Web Development Course"
          ],
          [
           "Code a Responsive Website Using HTML5 and CSS for Beginners"
          ],
          [
           "AngularJS for the Real World - Learn by creating a WebApp"
          ],
          [
           "Wordpress Tutorial   "
          ],
          [
           "Create a REAL Social Network like Facebook in PHP + MySQL"
          ],
          [
           "Advanced Node.js Development"
          ],
          [
           "ASP.NET MVC 5 Project - Facebook Clone"
          ],
          [
           "Bootstrap For Beginners: A  Basic Introduction"
          ],
          [
           "jQuery for Beginners"
          ],
          [
           "JavaScript Basics For Web Developers"
          ],
          [
           "Learn PHP from Scratch"
          ],
          [
           "Learn Express"
          ],
          [
           "Build A Web App with VueJS, Spring Framework and MongoDB"
          ],
          [
           "Zend Framework 2: Learn the PHP framework ZF2 from scratch"
          ],
          [
           "Improved SEO with Rich Snippets and MicroData"
          ],
          [
           "X theme for WordPress: Responsive web design without code!"
          ],
          [
           "Become a HTML and CSS Developer - Build a Responsive Site"
          ],
          [
           "How to Make a Wordpress Website 2017"
          ],
          [
           "Install Wordpress"
          ],
          [
           "CSS Specialist: Comprehensive CSS Training"
          ],
          [
           "Introduction to Laravel 4"
          ],
          [
           "Introduction to Elm"
          ],
          [
           "Learn to Freelance with People Per hour  (URDU)"
          ],
          [
           "Learn Wordpress 4 from Scratch : Create Awesome Websites"
          ],
          [
           "Amazon Alexa Development: From Beginner to Intermediate"
          ],
          [
           "The Build a SAAS App with Flask Course"
          ],
          [
           "Learn JSON with JavaScript Objects and APIs in 1 hour"
          ],
          [
           "1 Hour JavaScript"
          ],
          [
           "Building An E-Commerce Store Using Java Spring Framework"
          ],
          [
           "Typescript Masterclass & FREE E-Book"
          ],
          [
           "PHP MVC Framework CodeIgniter Tutorial for Beginners Project"
          ],
          [
           "JavaScript - Become Higly Paid Front End Developer"
          ],
          [
           "Object Oriented Programming (OOP) in PHP - Build An OOP Site"
          ],
          [
           "Beginners Introduction to Web Development"
          ],
          [
           "Django + AngularJS for a Powerful Web Application"
          ],
          [
           "WordPress Academy: Learn WordPress step by step"
          ],
          [
           "Web Development Essential Skills - Complete HTML and CSS"
          ],
          [
           "Byte-Sized-Chunks: Closures in Javascript"
          ],
          [
           "Laravel Account Activation Project"
          ],
          [
           "WordPress: Create an Amazing Website With Ease"
          ],
          [
           "Mastering the Google Chrome Developer Tools"
          ],
          [
           "Kali Linux Web App Testing"
          ],
          [
           "Learn Ruby Programming The Easy Way - Lite"
          ],
          [
           "Web Scraping with Python, Ruby & import. io"
          ],
          [
           "Sending email with PHP: from Basic to Advanced"
          ],
          [
           "WordPress 2016 for Beginners : Build awesome websites!"
          ],
          [
           "Learn to make websites with Google's Material Design Lite"
          ],
          [
           "Joomla 3 : Develop a Professional Website in 3 Simple Steps!"
          ],
          [
           "Complete Python Web Course: Build 8 Python Web Apps"
          ],
          [
           "Web Design for Beginners: Real World Coding in HTML & CSS"
          ],
          [
           "Ethereum Developer: Build A Decentralised Blockchain App"
          ],
          [
           "The Complete Web Development Course -  Build 15 Projects"
          ],
          [
           "Angular 2 + Rails 5 Bootcamp"
          ],
          [
           "Javascript - From Beginner to Pro-Build real world JS apps"
          ],
          [
           "Redux in Angular (2 and 4+)"
          ],
          [
           "The complete JavaScript developer: MEAN stack zero-to-hero"
          ],
          [
           "Running a Web Development Business: The Complete Guide"
          ],
          [
           "Projects In JavaScript & JQuery"
          ],
          [
           "Learn To Build Beautiful HTML5 And CSS3 Websites In 1 Month"
          ],
          [
           "Full stack Universal React with Redux, Node js and MongoDB"
          ],
          [
           "Creating an MP3 Player with HTML5"
          ],
          [
           "Be a Bootstrap Developer from scratch"
          ],
          [
           "Create Your First Wordpress Site in Under an Hour"
          ],
          [
           "Learn Coding as RF or Telecom Engineer - Build Real Program"
          ],
          [
           "Creating FaceBook Design Using Bootstrap - Handson Project"
          ],
          [
           "Building HTML5 Canvas projects from scratch"
          ],
          [
           "Learn How To Become a Web Developer From Scratch"
          ],
          [
           "Earn Big Profits With Web Development, Simple and Easy!"
          ],
          [
           "BDD with Ruby on Rails using RSpec 3 and Capybara"
          ],
          [
           "Learn By Example: jQuery"
          ],
          [
           "Professional Python Web Development Using Flask"
          ],
          [
           "JavaScript HTML CSS Project make a Quiz Tutorial"
          ],
          [
           "Voiceover Audio Secrets - Your Way to Top Audio Quality"
          ],
          [
           "jQuery UI In Depth"
          ],
          [
           "Codeless Website Development with Adobe Muse"
          ],
          [
           "Learn To Build A Google Map App Using Angular 2"
          ],
          [
           "Learn Reactivex From Ground Up"
          ],
          [
           "Learn HTML in 59 Minutes - Your intro to front-end dev"
          ],
          [
           "WordPress Theme Customization 101 (for beginners)"
          ],
          [
           "Supercharging Development With Atom Text Editor"
          ],
          [
           "Master WCF 4.0 From Scratch Using C#"
          ],
          [
           "Drupal 7 for Beginners"
          ],
          [
           "Critical Web Dev Skills & Tools for the Non-Tech Hustler"
          ],
          [
           "Install WordPress on Computer using XAMPP"
          ],
          [
           "Java Web Services Part 2"
          ],
          [
           "Complete PHP Course With Bootstrap3 CMS System & Admin Panel"
          ],
          [
           "Learn To Create WordPress Themes By Building 10 Projects"
          ],
          [
           "The Complete NodeJS Course: Build a Full Business Rating App"
          ],
          [
           "Master the MEAN Stack - Learn By Example"
          ],
          [
           "First Web Application with Spring Boot"
          ],
          [
           "HTML5 and CSS3: Learn Web Design with HTML + CSS + Bootstrap"
          ],
          [
           "Backbone Tutorial: Learn Backbonejs from Scratch"
          ],
          [
           "AngularJS Custom Directives with Dan Wahlin"
          ],
          [
           "Angular 2+ with Typescript - Essential Training"
          ],
          [
           "Learn Angular 2 from Beginner to Advanced"
          ],
          [
           "Create an eCommerce Wordpress Website 2016 - New Divi Theme!"
          ],
          [
           "HTML5 and CSS3 : Landing Pages for Entrepreneurs 2016"
          ],
          [
           "Learning Docker and Kubernetes by Lab"
          ],
          [
           "Projects in ExpressJS - Learn ExpressJs building 10 projects"
          ],
          [
           "PHP For Beginners : Learn PHP From Scratch!"
          ],
          [
           "Bootstrap 4.0 New Features: Build Responsive Website"
          ],
          [
           "ASP.NET MVC 5 Project - CMS and Shopping Cart with Paypal"
          ],
          [
           "Professional RESTful API Design using Python Flask"
          ],
          [
           "HTML5 APIs For JavaScript - A Course For Web Developers "
          ],
          [
           "Learn Python Django - A Hands-On Course"
          ],
          [
           "Comprehensive JavaScript Programming"
          ],
          [
           "Security for your WordPress site"
          ],
          [
           "Try Django 1.9 | Build a Blog and Learn Python's #1 Library"
          ],
          [
           "Accelerated ES6 JavaScript Training"
          ],
          [
           "AWS Serverless APIs & Apps - A Complete Introduction"
          ],
          [
           "Python and Django Full Stack Web Developer Bootcamp"
          ],
          [
           "The Complete Elixir and Phoenix Bootcamp"
          ],
          [
           "Build a Real-world App with ASP.NET Core and Angular 2 (4+)"
          ],
          [
           "REST APIs with Flask and Python"
          ],
          [
           "Angular 4 (formerly Angular 2) - The Complete Guide"
          ],
          [
           "Build Websites from Scratch with HTML & CSS"
          ],
          [
           "PHP for Beginners -Become a PHP Master - Project Included"
          ],
          [
           "The Professional Ruby on Rails Developer"
          ],
          [
           "The Complete Ruby on Rails Developer Course"
          ],
          [
           "Docker Technologies for DevOps and Developers"
          ],
          [
           "JavaScript programming: JavaScript for beginners"
          ],
          [
           "JSON in Action: Build JSON-Based Applications"
          ],
          [
           "Learn Ruby Programming The Easy Way"
          ],
          [
           "Learn OAuth 2.0 - Get started as an API Security Expert"
          ],
          [
           "AngularJS For .Net Developers From Scratch"
          ],
          [
           "Jekyll: make fast, secure static sites and blogs with Jekyll"
          ],
          [
           "HTML and CSS BootCamp for Beginners"
          ],
          [
           "Hosting Django: Amazon Web Services (AWS) Fundamentals"
          ],
          [
           "Angular Advanced MasterClass & FREE E-Book"
          ],
          [
           "Learn Responsive Web Development from Scratch"
          ],
          [
           "Build WordPress Plugin to extend Beaver Builder"
          ],
          [
           "Coding Made Easy: A Beginners Guide To JavaScript"
          ],
          [
           "The Complete Developers Guide to MongoDB"
          ],
          [
           "Electron for Desktop Apps: The Complete Developer's Guide"
          ],
          [
           "Vue JS 2 - The Complete Guide (incl. Vue Router & Vuex)"
          ],
          [
           "React JS, Angular & Vue JS - Quickstart & Comparison"
          ],
          [
           "The Complete JavaScript Course: Build a Real-World Project"
          ],
          [
           "Angular (Angular 2 or 4) & NodeJS - The MEAN Stack Guide"
          ],
          [
           "Angular 2 with TypeScript for Beginners: The Pragmatic Guide"
          ],
          [
           "Meteor and React for Realtime Apps"
          ],
          [
           "The Web Developer Bootcamp"
          ],
          [
           "AngularJS JumpStart with Dan Wahlin"
          ],
          [
           "The Complete Web Developer Course 2.0"
          ],
          [
           "Ultimate Web Designer & Developer Course: Build 23 Projects!"
          ],
          [
           "ExpressJS Fundamentals"
          ],
          [
           "REST WCF Service in ASP.NET"
          ],
          [
           "Projects in Node.js - Learn by Example"
          ],
          [
           "Building Data Visualizations with D3 and Angular 2"
          ],
          [
           "Learn Object Oriented PHP By Building a Complete Website"
          ],
          [
           "Web Programming Course : Asp.Net MVC"
          ],
          [
           "Learn Spring Framework Practically - Hands On Recipies"
          ],
          [
           "One-stop Ruby on Rails: Build Web Applications from Scratch"
          ],
          [
           "Learn what's new in PHP 7"
          ],
          [
           "Dive Into Docker: The Docker Course for Developers"
          ],
          [
           "Basic Concepts of Web Development, HTTP and Java Servlets"
          ],
          [
           "The Most Comprehensive Web Development Course"
          ],
          [
           "Learn and Understand AngularJS"
          ],
          [
           "JavaScript: Understanding the Weird Parts"
          ],
          [
           "Webpack 2: The Complete Developer's Guide"
          ],
          [
           "Build Responsive Real World Websites with HTML5 and CSS3"
          ],
          [
           "ES6 Javascript: The Complete Developer's Guide"
          ],
          [
           "Learn and Understand NodeJS"
          ],
          [
           "Understanding TypeScript"
          ],
          [
           "Advanced React and Redux"
          ],
          [
           "Modern React with Redux"
          ],
          [
           "Angular Styling & Animations (for Angular 2 and Angular 4)"
          ],
          [
           "The Complete ASP.NET MVC 5 Course"
          ],
          [
           "GraphQL with React: The Complete Developers Guide"
          ],
          [
           "Create a Simple Photo Gallery with Dropzonejs, Slick and PHP"
          ],
          [
           "WordPress in under an hour - Create/manage your own website!"
          ],
          [
           "Twitter Bootstrap 2 for Beginners"
          ],
          [
           "Bootstrap Tutorial - Essentials From Basic to Advanced"
          ],
          [
           "Create an Engaging Website with Twitter Bootstrap 2.x"
          ],
          [
           "Javascript :basics for beginners"
          ],
          [
           "CSS Tutorial For Beginners: Style Your Wordpress Templates"
          ],
          [
           "HTML5 And CSS3 - Build Modern Responsive Websites"
          ],
          [
           "PSD to HTML5/CSS3 using Twitter Bootstrap 3! "
          ],
          [
           "Web Development: Make A Website That Will Sell For Thousands"
          ],
          [
           "WordPress Basics to Business: Share and Sell your Expertise"
          ],
          [
           "PHP Zend Framework 2:Creating a CRUD Application"
          ],
          [
           "JavaScript Fundamentals"
          ],
          [
           "Building a Website With Jekyll"
          ],
          [
           "Big Data and Apache Hadoop for Developers - Fundamentals"
          ],
          [
           "Wordpress Development : Create a Custom Wordpress Website"
          ],
          [
           "How to Make a Wordpress Website 2017"
          ],
          [
           "RESTful Services with ASP.NET Web API"
          ],
          [
           "Web Hosting Fundamentals"
          ],
          [
           "Learning Path: React: Make Stunning React Websites"
          ],
          [
           "Administering Microsoft SQL Server 2012 Databases - 70-462"
          ],
          [
           "PHP CodeIgniter:CRUD concepts in MVC"
          ],
          [
           "Adobe Experience Manager CMS Basics"
          ],
          [
           "Introduction to Frontend Web Development For  Beginners"
          ],
          [
           "PHP: Complete Login and Registration System with PHP & MYSQL"
          ],
          [
           "JavaScript Complete Guide to learning JavaScript"
          ],
          [
           "Advanced Scalable Python Web Development Using Flask"
          ],
          [
           "jQuery for Absolute Beginners - Lite"
          ],
          [
           "HTML Complete Course - Beginner to Expert"
          ],
          [
           "Cross-Platform Development with ASP.NET Core 1.0 MVC"
          ],
          [
           "Build a Photo Blog with Ruby on Rails"
          ],
          [
           "Practical PHP: Master the Basics and Code Dynamic Websites"
          ],
          [
           "Sass Workflow"
          ],
          [
           "Learn PHP Fundamentals From Scratch"
          ],
          [
           "XML For Absolute Beginners: Learn to create your own tags"
          ],
          [
           "Joomla: Create a Joomla Website This Weekend With NO CODING!"
          ],
          [
           "JavaScript for beginners - A Complete Guide"
          ],
          [
           "Laravel Deployment - Launch your Laravel Application Online"
          ],
          [
           "WordPress Development Crash Course: From Zero To Hero"
          ],
          [
           "Learn how to create a WordPress theme using Pinegrow"
          ],
          [
           "Learn to Build Web Apps using Laravel Framework"
          ],
          [
           "Flexbox: The complete guide"
          ],
          [
           "How to Safely Copy and Move Your WordPress Website"
          ],
          [
           "AngularJs :basics for beginners"
          ],
          [
           "JSON For Beginners: A Very Basic Introduction"
          ],
          [
           "Learn SASS and improve your CSS"
          ],
          [
           "Angular Tutorial For Beginners"
          ],
          [
           "HTML and CSS for Absolute Beginners"
          ],
          [
           "JavaScript, jQuery and Ajax"
          ],
          [
           "Laravel Blog Development Starter"
          ],
          [
           "React: Learn ReactJS Fundamentals for Front-End Developers"
          ],
          [
           "JavaScript For Absolute Beginners - Level Two"
          ],
          [
           "How To Create A Real Estate Website With Wordpress 2017"
          ],
          [
           "The Complete HTML5 and CSS3 Course - with 8 Websites Design"
          ],
          [
           "Introduction to Modern Programming with PHP"
          ],
          [
           "HTML Introduction Course: Learn HTML in 2 hours!!!"
          ],
          [
           "Learn HTML & CSS: How To Start Your Web Development Career"
          ],
          [
           "React vs Angular vs Vue.js by Example"
          ],
          [
           "Create WordPress Plugins"
          ],
          [
           "Build and Deploy a LAMP server on AWS"
          ],
          [
           "Build your own Beautiful Blog in WordPress + SEO"
          ],
          [
           "AngularJS Authentication: Secure Your App with Auth0"
          ],
          [
           "Learn Bootstrap 4 by Example"
          ],
          [
           "Complete WooCommerce Plugin Tutorial For Wordpress 2017"
          ],
          [
           "How To Build And Make A Wordpress Website From Scratch 2017"
          ],
          [
           "Docker for Developers - Newest Version 1.12 with Swarm Mode"
          ],
          [
           "Angular Material - Quickstart"
          ],
          [
           "HTML and CSS for Beginners - Build a Website & Launch ONLINE"
          ],
          [
           "Core: A Web App Reference Guide for Django, Python, and More"
          ],
          [
           "JSON with Java APIs, jQuery and JSON REST Web Services"
          ],
          [
           "Bootstrap 4 Quick Start: Code Modern Responsive Websites"
          ],
          [
           "Learn Symfony 3 framework by practical examples"
          ],
          [
           "Complete Web Development with HTML, CSS and Javascript"
          ],
          [
           "Web Hosting Introduction: How to Publish Your Website Online"
          ],
          [
           "Django For Beginners"
          ],
          [
           "Introduction to QGIS Python Programming"
          ],
          [
           "Learning Object-Oriented JavaScript"
          ],
          [
           "Bootstrap Tutorial for Beginners"
          ],
          [
           "Learn Bootstrap3 With Multi Purposes Single Page Layout"
          ],
          [
           "HTML for Beginners"
          ],
          [
           "How to Build WordPress Themes: A Web Designer's Guide"
          ],
          [
           "XML DTD :basics for beginners"
          ],
          [
           "Learn to make an HTML 5 website with a video background"
          ],
          [
           "Learn Authentication With ASP.NET Identity Security 2017"
          ],
          [
           "HTML and CSS Foundations"
          ],
          [
           "Python Web Programming"
          ],
          [
           "Build a Complete Registration and Login System using PHP MVC"
          ],
          [
           "ES6 / EcmaScript 6 for beginners an introduction"
          ],
          [
           "React for visual learners"
          ],
          [
           "Learn to Create Advance Responsive Websites With Bootstrap"
          ],
          [
           "Master the Art of Web Design with HTML & CSS"
          ],
          [
           "Sell Courses On Your Own Website - No Coding Required!"
          ],
          [
           "Implementing a Data Warehouse with SQL Server 2012 "
          ],
          [
           "Learning 200 jQuery Functions with 800 Examples"
          ],
          [
           "Create Complete Web Applications easily with APEX 5"
          ],
          [
           "Learn Gulp, The Streaming Build System"
          ],
          [
           "Perfect React JS Course - Understand Relevant Details"
          ],
          [
           "Create a classified website in 2 hours - guaranteed"
          ],
          [
           "Learn HTML And CSS From Scratch"
          ],
          [
           "Become a Certified Web Developer - Beginner to Expert"
          ],
          [
           "Complete Bootstrap 4 course - build 3 projects"
          ],
          [
           "Up and Running with Phalcon"
          ],
          [
           "HTML : HTML Awesomeness"
          ],
          [
           "Build CRUD Application - PHP & Mysql"
          ],
          [
           "All You Need To Know About AngularJS - Training On AngularJS"
          ],
          [
           "PSD To a Creative Landing Page Using Twitter Bootstrap 3"
          ],
          [
           "Ready for Production with Spring Boot Actuator"
          ],
          [
           "AngularJS For Beginners"
          ],
          [
           "Learning Path: Akka: Building Applications and Microservices"
          ],
          [
           "Set up a localhost Web Server for Faster Website Development"
          ],
          [
           "Mastering Meteor: Reactive Full Stack JavaScript"
          ],
          [
           "Build A Professional Wordpress Website In An Hour"
          ],
          [
           "Build a file hosting/sharing site in less than 2 hours "
          ],
          [
           "Introduction to Java Programming for Online Learners"
          ],
          [
           "Create full featured Landing Page in Ruby on Rails in 3 hour"
          ],
          [
           "How to create a  video blog with WordPress"
          ],
          [
           "PHP For WordPress Development"
          ],
          [
           "Create a Professional Website Without Programming/Coding"
          ],
          [
           "How to Build an Autocomplete System Like Google"
          ],
          [
           "Master EmberJS : Learn Ember JS From Scratch"
          ],
          [
           "How To Make A Modern Wordpress BLOG 2017! Create Your Blog!"
          ],
          [
           "Learn Top Ten PHP FrameWorks By Building Projects"
          ],
          [
           "How to Make a Video Blog Website From Scratch w/ Wordpress "
          ],
          [
           "Build Websites And Apps By Outsourcing"
          ],
          [
           "Learning Path: Web Applications with Spring and Angular"
          ],
          [
           "Learn Ruby on Rails By Building Projects"
          ],
          [
           "Canvas image Creator HTML5 JavaScript project from Scratch"
          ],
          [
           "Javascript Essentials"
          ],
          [
           "Devtools 2017: The Basics of Chrome Developer Tools"
          ],
          [
           "Chrome Extensions : Develop 5 chrome extensions from scratch"
          ],
          [
           "Learn how to quickly build websites using Wordpress"
          ],
          [
           "Advance Unix : File Processing: AWK | SED | GREP | CUT | VIM"
          ],
          [
           "Develop a Professional OnePage WordPress site With No Coding"
          ],
          [
           "PHP Specialist (2017 Edition)"
          ],
          [
           "Python Programming: Create an Digital Marketplace in Django"
          ],
          [
           "Create Ajax Chat App with PHP & Mysql"
          ],
          [
           "Mastering Thymeleaf with Spring"
          ],
          [
           "Learn Rails Programming in Less than 2 Hours"
          ],
          [
           "Wordpress Backup & Restore"
          ],
          [
           "Learn JavaScript Dynamic Interactive Projects for Beginners"
          ],
          [
           "Build Modern Websites Super Fast"
          ],
          [
           "SAP - Learn SAPUI5 Professional Development"
          ],
          [
           "Wordpress Security"
          ],
          [
           "Learn HTML5 At Your Own Pace. Ideal for Beginners"
          ],
          [
           "Build an Amazon clone: Nodejs + MongoDB + Stripe Payment"
          ],
          [
           "Build Real World Websites from Scratch using HTML5 and CSS3"
          ],
          [
           "How to become an App Developer"
          ],
          [
           "Modern JavaScript: Building Real-World, Real-Time Apps"
          ],
          [
           "JavaScript Introduction to Object Oriented JavaScript"
          ],
          [
           "Core HTML How to get online quickly HTML to HTML5 "
          ],
          [
           "Building Websites JavaScript and the DOM"
          ],
          [
           "Complete Login and Registration System in PHP and MYSQL"
          ],
          [
           "The Complete E-Commerce Web Developer Course 5.0"
          ],
          [
           "HTML5 canvas Bootcamp for beginners 25 easy steps"
          ],
          [
           "Advanced HTML5 Tutorial for Web Developers"
          ],
          [
           "Learn the Basics of Programming for Marketers"
          ],
          [
           "Css For Beginners"
          ],
          [
           "GRUNT js: Automate web development tasks and save your time"
          ],
          [
           "Mastering Web and Mobile Debugging Using Chrome Dev Tools"
          ],
          [
           "HTML : Beginner Guide to HTML writing"
          ],
          [
           "Build Web Apps Using EmberJS: The Complete Course"
          ],
          [
           "SharePoint 2013 Development using C# - Part I"
          ],
          [
           "SAP Crystal Reports with ASP.Net (Step by step)"
          ],
          [
           "Building Responsive Data Visualizations with D3 JS"
          ],
          [
           "Learn Rails Programming in Less than 30 Minute - Lite"
          ],
          [
           "SASS - Beginner Crash Course"
          ],
          [
           "Angular 2 Fundamentals for Web Developers"
          ],
          [
           "Easily Learn Web Development With Drop & Drag: OptimizePress"
          ],
          [
           "XML XSLT - Crash Course for Beginners"
          ],
          [
           "Create Your Own Successful Online School To Sell Courses"
          ],
          [
           "Flask Tutorial Step by Step"
          ],
          [
           "Ruby on Rails a Beginners Guide "
          ],
          [
           "Mastering Basic CSS Selectors."
          ],
          [
           "Create a Website Similar to Facebook from Scratch!"
          ],
          [
           "Comprehensive TypeScript"
          ],
          [
           "Essential HTML, CSS & HTML5 Training"
          ],
          [
           "HTML 5 and CSS 3 - tricks and workarounds"
          ],
          [
           "How to Register a Domain, Set Up Hosting, and Edit Web Pages"
          ],
          [
           "WordPress Plugins Treasure Chest"
          ],
          [
           "Practical Understanding of PHP and MySQL"
          ],
          [
           "AngularJS for Beginners, Single-Page Applications Made Easy"
          ],
          [
           "Building a Social Network in PHP & MySQL From Scratch"
          ],
          [
           "XML DOM - Crash Course for Beginners"
          ],
          [
           "Create a Powerful Website with the Cool Bootstrap Framework"
          ],
          [
           "HTML5 and CSS3 -Start building beautiful websites"
          ],
          [
           "Getting Started as a Web Developer"
          ],
          [
           "Learn Laravel: Create Your Web App Step-By-Step"
          ],
          [
           "Professional Web Scraping with Java"
          ],
          [
           "3D Programming with WebGL and Babylon.js for Beginners"
          ],
          [
           "Learn to make a colorful one page website"
          ],
          [
           "WordPress Plugin Tutorial"
          ],
          [
           "Introduction to HTML"
          ],
          [
           "Learn JavaScript From Scratch:Become Top Rated Web Developer"
          ],
          [
           "Installing Wordpress 4 - Installation, Registrars & Hosting"
          ],
          [
           "Learn PHP Programming for Absolute Beginners"
          ],
          [
           "WordPress for Beginners 2017 + Google AdSense Implementation"
          ],
          [
           "JavaScript for beginners in 1 hour"
          ],
          [
           "HTML5 and CSS for Beginner To Expert"
          ],
          [
           "Become a Kick-Ass Web Developer: From Newbie to Pro"
          ],
          [
           "Django Tutorial: Build Your First App Fast & Free! "
          ],
          [
           "Create a social network using PHP Mysqli HTML Css and JQuery"
          ],
          [
           "PHP - Send and Receive Mobile Text Messages (SMS)"
          ],
          [
           "Complete PHP Course with OOP Start to Finish!"
          ],
          [
           "Coding Made Easy: HTML & CSS For Beginners"
          ],
          [
           "WordPress Security - The Ultimate Security Guide"
          ],
          [
           "How to Make a Single Page Website for Freelancers & Agencies"
          ],
          [
           "Learn to Use jQuery UI Widgets"
          ],
          [
           "Learn to Create Responsive Layouts in 30 Minutes"
          ],
          [
           "Web Building Starter Pack. Html Css and JQuery Animations"
          ],
          [
           "Getting Started with Angular 2+"
          ],
          [
           "Intro to PHP Web Application Development with Symfony"
          ],
          [
           "Learn OAuth 2.0 - Theory and Hands On"
          ],
          [
           "Learning CSS3 - A Comprehensive Tutorial For Web Developers"
          ],
          [
           "Professional WordPress Theme Development from Scratch"
          ],
          [
           "PHP Zend Framework 1.11:Creating a CRUD Application"
          ],
          [
           "Write quicker HTML5 and CSS 3; productivity hacks with emmet"
          ],
          [
           "The Ultimate jQuery Course"
          ],
          [
           "Build an Advanced Single Page with Bootstrap & WordPress"
          ],
          [
           "Master all PHP ideas 2017 to build any project"
          ],
          [
           "A Beginner's Guide to the Meteor JavaScript Framework"
          ],
          [
           "Create an E-commerce website without any coding"
          ],
          [
           "Learn To Build Apps Using Play Framework"
          ],
          [
           "Introducing Ionic 2"
          ],
          [
           "Learn Laravel with Database Migration & Seeding & Faker"
          ],
          [
           "Create a Client Network by Hosting WordPress Sites"
          ],
          [
           "Introduction to PHP Slim Microframework"
          ],
          [
           "ASP :basics for beginners"
          ],
          [
           "WordPress Development With NodeJS, Gulp, Composer & More"
          ],
          [
           "Become PHP Facebook Developer: Password-Less Authentication"
          ],
          [
           "How To Create Your Very First Website With HTML and CSS"
          ],
          [
           "Learn JSON for beginners with JavaScript"
          ],
          [
           "Ultimate guide to Social Media Web development integration "
          ],
          [
           "A Complete Laravel basics from beginner to expert"
          ],
          [
           "JQuery Basics - Learn JQuery From Scratch"
          ],
          [
           "Learn MeteorJS By Building 10 Real World Projects"
          ],
          [
           "JavaScript Basics for Beginners Introduction to coding"
          ],
          [
           "AngularJS Masterclass - Deep Dive & Understand AngularJS"
          ],
          [
           "HTML5 for beginners"
          ],
          [
           "All in one HTML CSS and JQuery"
          ],
          [
           "Responsive Design with NEW Materialize"
          ],
          [
           "Create a Responsive Business Website with WordPress"
          ],
          [
           "PHP webservices"
          ],
          [
           "JavaScript Promises: Applications in ES6 and AngularJS"
          ],
          [
           "Learn to build 20 websites and build 14 iOS9 apps with swift"
          ],
          [
           "Professional CSS Flexbox"
          ],
          [
           "XML :basics for beginners"
          ],
          [
           "How to create Paypal and Credit card Payment Buttons"
          ],
          [
           "Customizr - Learn WordPress with the ultimate creative theme"
          ],
          [
           "How To Create a Local Wordpress Environment"
          ],
          [
           "Fun and creative web engineering with Python and Web2py"
          ],
          [
           "WordPress for Beginners - Build Your First Website in 2017"
          ],
          [
           "Learn to Make an Animated Image Gallery using HTML5"
          ],
          [
           "Projects in Foundation Framework - Learn By Building 10 Apps"
          ],
          [
           "Drupal for Beginners"
          ],
          [
           "Laravel : CRUD Application Using AJAX In Laravel 5.3"
          ],
          [
           "Foundations of Front-End Web Development"
          ],
          [
           "Angular 2 - Superheroic Framework"
          ],
          [
           "Social Network Web Development"
          ],
          [
           "For Free - Deploy Quickly Spring Boot on Heroku With MySQL"
          ],
          [
           "Building Web Applications with Spring MVC"
          ],
          [
           "HTML5, CSS3 & Bootstrap - How to Create a Responsive Website"
          ],
          [
           "HTML & CSS - Learn to build sleek websites "
          ],
          [
           "Master Angular 2 - The No Nonsense Course"
          ],
          [
           "Master ASP . NET 4 from scratch"
          ],
          [
           "CoffeeScript: The Good Parts—Write Better javaScript"
          ],
          [
           "Mastering Magento"
          ],
          [
           "Ultimate JavaScript Strings"
          ],
          [
           "Your Own Site in 45 Min: The Complete Wordpress Course"
          ],
          [
           "Redirect Your Visitors By Country Easily -Wordpress Tutorial"
          ],
          [
           "Learn Knockout JS Framework from GroundUp"
          ],
          [
           "Build Responsive Websites  in an Hour using Portalfin"
          ],
          [
           "Master Riot: Learn Riot.js from Scratch"
          ],
          [
           "Learn W3.CSS"
          ],
          [
           "Learning Axure RP"
          ],
          [
           "Complete guide to install Wordpress, PHP on Cloud,AWS or VPS"
          ],
          [
           "Kids Coding -Introduction to HTML, CSS and JavaScript"
          ],
          [
           "Introduction to Voice Design with Amazon's Alexa"
          ],
          [
           "How to Create a Social Network For a Niche-Related Community"
          ],
          [
           "Webpack 1 & 2 - The Complete Guide"
          ],
          [
           "Star Rating Project AJAX with JSON response from PHP MySQL"
          ],
          [
           "Wordpress for beginners :Build Websites Fast without Coding "
          ],
          [
           "ASP.Net MVC Quick Start"
          ],
          [
           "Build a Chatbot integrated Website using Bootstrap 4"
          ],
          [
           "How To Create A WordPress Website Without Paying A Developer"
          ],
          [
           "PSD to Bootstrap 3 for Beginners using HTML & CSS"
          ],
          [
           "Build Advanced Responsive Websites with Foundation 6 & SASS"
          ],
          [
           "Learn Essential Javascript Fundamentals - Lite"
          ],
          [
           "Learn HTML in 2 hours!"
          ],
          [
           "Laravel 4 try and enjoy php coding"
          ],
          [
           "Wordpress Beginner Tutorial: Build Your First Website"
          ],
          [
           "Build Complex Express Sites with Redis and Socket IO"
          ],
          [
           "Building a ASP.NET MVC 5 Membership Website"
          ],
          [
           "Drupal Views: Introduction to Enhancing Your Drupal Website"
          ],
          [
           "Bootstrap Bootcamp - Responsive web development- 8 projects"
          ],
          [
           "Self Advertise Using PowerPoint Twitter and Facebook on ios"
          ],
          [
           "Learning Bootstrap 3 - Tutorial From Infinite Skills"
          ],
          [
           "Practical Web Development: Make Websites Quickly And Easily"
          ],
          [
           "Learn animation using CSS3, Javascript and HTML5"
          ],
          [
           "Creating Interactive HTML5 Video"
          ],
          [
           "Optimizing Wordpress for More Speed and Revenue"
          ],
          [
           "JavaScript project Learn to create a memory Game and more"
          ],
          [
           "The Complete JavaScript Bootcamp"
          ],
          [
           "JavaScript for Absolute Beginners"
          ],
          [
           "Complete JavaScript Course for Beginners with Easy Examples"
          ],
          [
           "Angular 2 Master Class with Alejandro Rangel"
          ],
          [
           "Quick learning jQuery web development"
          ],
          [
           "Google Blogger Course"
          ],
          [
           "Ajax in JavaScript and JQuery, with PHP - Creating Chat App"
          ],
          [
           "PHP Tutorial: Learn PHP Basic Programming for Beginners"
          ],
          [
           "Mastering Modern Web Development Using React"
          ],
          [
           "Full Stack JavaScript: Learn Backbone.js, Node.js & MongoDB"
          ],
          [
           "The Essential Web Developer Course - Build 12 Websites"
          ],
          [
           "Build Powerful Websites & Blogs using WordPress - No Coding"
          ],
          [
           "Learn to Build Web Apps using UnderscoreJS : Code Like a Pro"
          ],
          [
           "Building Web Apps Using Flask and Neo4j"
          ],
          [
           "Learn Web Animation the Easy Way: An Intro to SVG and GSAP"
          ],
          [
           "Build Your Own Membership Website With Joomla"
          ],
          [
           "Learn Spring Security 4 Basics - Hands On"
          ],
          [
           "Display and analyze GIS data on the web with Leaflet.js"
          ],
          [
           "How to Build a CMS with PHP"
          ],
          [
           "Responsive Web Design with HTML5 and CSS3 - Introduction"
          ],
          [
           "Master Typescript : Learn Typescript from scratch"
          ],
          [
           "XSD :basics for beginners"
          ],
          [
           "Angularjs-WebApi2-EFCodeFirst Web App On 3-Tier Architecture"
          ],
          [
           "Css Positioning For Absolute Beginners: A Basic Introduction"
          ],
          [
           "Creating User Authentication System in CodeIgniter"
          ],
          [
           "How to easily Manage your WordPress Website"
          ],
          [
           "Wordpress For Beginners: Create a Professional Website"
          ],
          [
           "Building a Portfolio in 90 minutes ( HTML, CSS, Js ) "
          ],
          [
           "Automate Web Development With Gulp JS"
          ],
          [
           "Bootstrap 4 Responsive Web Design and Development"
          ],
          [
           "Intro To HTML & CSS: Web Development For Beginners"
          ],
          [
           "Become Exceptional in HTML and HTML5"
          ],
          [
           "Become a Rockstar Web Developer - Learn By Coding"
          ],
          [
           "Spring 4 Mastercourse: Covers Annotation & XML Configuration"
          ],
          [
           "WordPress Plugin Development for 2017 - Build 14 Plugins"
          ],
          [
           "Single Page Application of MVC 5 Using AngularJS"
          ],
          [
           "Learn to Code in HTML5, CSS3, and JavaScript"
          ],
          [
           "Web Application Development - Learn by Building 3 Web Apps"
          ],
          [
           "Rails Ecommerce App with HTML Template from Themeforest"
          ],
          [
           "Writing CSS with {LESS} - Tutorial From Infinite Skills"
          ],
          [
           "Login and Registration from Scratch with PHP and MySQL"
          ],
          [
           "Getting Started with Magento"
          ],
          [
           "Ruby on Rails Foundations"
          ],
          [
           "Core Concepts in HTML 5"
          ],
          [
           "Learn Azure Cloud Step by Step"
          ],
          [
           "Learn Facebook Flux Architecture for Web Applications"
          ],
          [
           "Create free, fast and secure static website"
          ],
          [
           "Object Orientation in PHP"
          ],
          [
           "Creating Custom Web Maps"
          ],
          [
           "Build A YouTube Downloader With C# And GitHub"
          ],
          [
           "Querying Microsoft SQL Server 2012 - (Exam No. 70-461)"
          ],
          [
           "HTTP Clients with Laravel: Use and Consume Services and APIs"
          ],
          [
           "Modern E-Commerce Store In php & mysqli With Bootstrap"
          ],
          [
           "Simple And Easy: Wordpress For Beginners"
          ],
          [
           "Create Website from scratch in Urdu & Hindi"
          ],
          [
           "Advance Unix : File Processing: AWK | GREP | VIM"
          ],
          [
           "Introduction to Node.js Development"
          ],
          [
           "Advance JavaScript for Coders: Learn OOP in JavaScript"
          ],
          [
           "Web Development With Google Maps"
          ],
          [
           "jQuery UI Ultimate:Design Amazing Interfaces Using jQuery UI"
          ],
          [
           "Learn Spring Security 4 Intermediate - Hands On"
          ],
          [
           "Learning Path: The Road to Elasticsearch"
          ],
          [
           "HTML/CSS Bootcamp"
          ],
          [
           "JavaScript High Performance"
          ],
          [
           "Node:js : Building Rest Apis with Sails.js"
          ],
          [
           "Fundamentals of Angular 2 Full Stack Design"
          ],
          [
           "Create Newsletter Subscription Form with PHP/AJAX in 40 Min"
          ],
          [
           "AppML :basics for beginners"
          ],
          [
           "How to manage your own VPS and create websites"
          ],
          [
           "Learn BuddyPress: Build A Social Network with WordPress"
          ],
          [
           "HTML FOR BEGINNERS"
          ],
          [
           "XML XQuery - Crash Course for Beginners"
          ],
          [
           "Simplified Cross Browser Web Testing Using VirtualBox"
          ],
          [
           "JavaScript and jQuery Basics: Start The Journey"
          ],
          [
           "How to Install WordPress From Scratch"
          ],
          [
           "CSS :basics for beginners"
          ],
          [
           "WordPress Development - Themes, Plugins & Single Page Apps"
          ],
          [
           "Learn Effective HTML in No Time!"
          ],
          [
           "HTML5 Geolocation in Depth:Build 7 HTML5 Geolocation Apps"
          ],
          [
           "Building a Search Engine in PHP & MySQL"
          ],
          [
           "create a search engine for your website!"
          ],
          [
           "Learn basics of HTML in 30 Minutes"
          ],
          [
           "JavaScript from Scratch for Very Beginners"
          ],
          [
           "Learn Web Development by Creating a Social Network"
          ],
          [
           "CSS Image filters - The modern web images color manipulation"
          ],
          [
           "Building Responsive Websites with Bootstrap 3 Framework"
          ],
          [
           "Create a Membership Site with Wishlist Member & Wordpress"
          ],
          [
           "Convert HTML Websites into PHP: Learn by Doing in 40 Minutes"
          ],
          [
           "17 Complete JavaScript   projects explained step by step"
          ],
          [
           "Mastering Unix : AWK Commands"
          ],
          [
           "Cakephp:Creating a CRUD application"
          ],
          [
           "HTML and CSS: A Guide to Web Design"
          ],
          [
           "Drupal 8 Site Building"
          ],
          [
           "Learn Bootstrap 4 The Most Popular HTML5 CSS3 & JS Framework"
          ],
          [
           "Essentials of Spring 5.0 for Developers"
          ],
          [
           "The Extreme Web Development Course - For Beginners"
          ],
          [
           "JQuery DOM and Ajax Concept Explained for Beginners"
          ],
          [
           "HTML Forms For Beginners: A Basic Introduction  "
          ],
          [
           "Ultimate JavaScript Objects"
          ],
          [
           "The Complete Web Developer Course - Build 20 Websites"
          ],
          [
           "Simple Javascript: Learn by Doing, Beginners Welcome!"
          ],
          [
           "Learn HTML, CSS, and Ruby on Rails: Build Your First Blog"
          ],
          [
           "Learn HTML5 Canvas for beginners"
          ],
          [
           "Bootstrap 4 Beginners: Code a Responsive Landing Page"
          ],
          [
           "Build Wordpress CMS Clone with Laravel 5"
          ],
          [
           "XML DTD - Crash Course for Beginners"
          ],
          [
           "Beginner Photoshop to HTML5 and CSS3"
          ],
          [
           "XPATH :basics for beginners"
          ],
          [
           "The Fastest Way to Create a Website Using Godaddy"
          ],
          [
           "A how to guide in HTML"
          ],
          [
           "Building Better APIs with GraphQL"
          ],
          [
           "Learn Grunt with Examples: Automate Your Front End Workflow"
          ],
          [
           "Build A Stock Downloader With Visual Studio 2015 And C#"
          ],
          [
           "jQuery UI in Action: Build 5 jQuery UI Projects"
          ],
          [
           "Learn jQuery from Scratch - Master of JavaScript library"
          ],
          [
           "How To Design A WordPress Website With No Coding At All"
          ],
          [
           "Learn and Build using Polymer"
          ],
          [
           "CSS Animations: Create Amazing Effects on Your Website"
          ],
          [
           "Using MODX CMS to Build Websites: A Beginner's Guide"
          ]
         ],
         "hovertemplate": "subject=Web Development<br>price=%{x}<br>content_duration=%{y}<br>course_title=%{customdata[0]}<extra></extra>",
         "legendgroup": "Web Development",
         "marker": {
          "color": "#ab63fa",
          "symbol": "circle"
         },
         "mode": "markers",
         "name": "Web Development",
         "showlegend": true,
         "type": "scattergl",
         "x": [
          75,
          50,
          50,
          60,
          20,
          40,
          50,
          150,
          200,
          40,
          195,
          25,
          200,
          20,
          95,
          40,
          20,
          20,
          40,
          50,
          100,
          40,
          200,
          200,
          190,
          120,
          110,
          165,
          60,
          65,
          200,
          150,
          85,
          60,
          200,
          195,
          195,
          100,
          20,
          195,
          60,
          95,
          150,
          100,
          20,
          20,
          120,
          20,
          175,
          60,
          70,
          20,
          50,
          100,
          100,
          100,
          75,
          80,
          75,
          195,
          150,
          125,
          145,
          50,
          100,
          20,
          115,
          75,
          20,
          50,
          200,
          135,
          95,
          200,
          150,
          195,
          200,
          80,
          150,
          120,
          195,
          65,
          20,
          75,
          20,
          200,
          25,
          200,
          50,
          200,
          80,
          150,
          195,
          100,
          60,
          50,
          0,
          0,
          0,
          0,
          100,
          0,
          20,
          30,
          20,
          40,
          50,
          75,
          20,
          65,
          20,
          0,
          200,
          195,
          0,
          20,
          50,
          20,
          40,
          40,
          0,
          20,
          50,
          50,
          120,
          195,
          95,
          50,
          0,
          50,
          50,
          0,
          200,
          200,
          150,
          200,
          100,
          50,
          60,
          95,
          30,
          30,
          150,
          200,
          20,
          50,
          200,
          195,
          195,
          195,
          95,
          55,
          195,
          200,
          100,
          20,
          35,
          60,
          200,
          20,
          195,
          195,
          195,
          195,
          40,
          195,
          175,
          40,
          95,
          115,
          50,
          0,
          0,
          200,
          20,
          200,
          0,
          20,
          195,
          0,
          85,
          200,
          20,
          150,
          195,
          95,
          150,
          95,
          95,
          50,
          75,
          195,
          20,
          95,
          50,
          30,
          195,
          20,
          100,
          200,
          100,
          35,
          20,
          150,
          25,
          75,
          40,
          20,
          95,
          140,
          50,
          0,
          70,
          100,
          30,
          25,
          150,
          115,
          190,
          85,
          200,
          195,
          100,
          120,
          50,
          200,
          100,
          200,
          200,
          200,
          195,
          195,
          50,
          40,
          200,
          30,
          50,
          150,
          100,
          100,
          0,
          0,
          50,
          60,
          0,
          30,
          45,
          0,
          25,
          0,
          0,
          20,
          200,
          100,
          50,
          40,
          20,
          50,
          20,
          30,
          200,
          200,
          40,
          35,
          20,
          30,
          45,
          25,
          20,
          200,
          200,
          100,
          50,
          200,
          195,
          195,
          30,
          200,
          200,
          20,
          200,
          35,
          100,
          75,
          20,
          30,
          60,
          20,
          40,
          40,
          100,
          100,
          20,
          20,
          45,
          195,
          180,
          200,
          50,
          200,
          20,
          0,
          25,
          50,
          0,
          0,
          20,
          20,
          120,
          20,
          20,
          20,
          25,
          35,
          150,
          200,
          20,
          50,
          20,
          95,
          20,
          100,
          20,
          50,
          100,
          100,
          60,
          165,
          195,
          195,
          65,
          100,
          50,
          50,
          35,
          195,
          195,
          35,
          200,
          40,
          145,
          20,
          50,
          70,
          50,
          100,
          200,
          75,
          20,
          0,
          25,
          0,
          0,
          60,
          20,
          115,
          0,
          125,
          0,
          195,
          50,
          95,
          80,
          20,
          75,
          100,
          195,
          20,
          50,
          30,
          200,
          70,
          95,
          0,
          40,
          25,
          200,
          35,
          0,
          20,
          50,
          100,
          40,
          20,
          20,
          50,
          0,
          60,
          65,
          25,
          125,
          35,
          40,
          95,
          95,
          35,
          20,
          45,
          65,
          20,
          25,
          50,
          50,
          20,
          20,
          115,
          50,
          40,
          20,
          20,
          30,
          95,
          20,
          30,
          50,
          20,
          195,
          20,
          20,
          95,
          120,
          50,
          100,
          200,
          195,
          150,
          75,
          200,
          200,
          115,
          20,
          125,
          150,
          40,
          20,
          65,
          40,
          75,
          170,
          20,
          125,
          45,
          200,
          195,
          0,
          200,
          0,
          20,
          20,
          50,
          0,
          100,
          35,
          35,
          195,
          20,
          50,
          95,
          40,
          25,
          20,
          75,
          20,
          50,
          200,
          200,
          80,
          125,
          20,
          20,
          60,
          30,
          20,
          20,
          55,
          200,
          195,
          75,
          35,
          50,
          20,
          0,
          60,
          120,
          25,
          75,
          40,
          0,
          45,
          0,
          20,
          0,
          30,
          100,
          175,
          95,
          40,
          20,
          20,
          50,
          185,
          20,
          50,
          45,
          200,
          200,
          100,
          20,
          0,
          100,
          40,
          40,
          20,
          50,
          65,
          35,
          95,
          25,
          95,
          20,
          20,
          75,
          110,
          30,
          145,
          95,
          200,
          50,
          50,
          100,
          20,
          25,
          50,
          195,
          50,
          20,
          20,
          100,
          200,
          70,
          20,
          20,
          200,
          200,
          145,
          100,
          20,
          195,
          200,
          150,
          100,
          140,
          40,
          20,
          0,
          150,
          200,
          50,
          20,
          40,
          20,
          95,
          50,
          0,
          0,
          95,
          45,
          40,
          50,
          200,
          40,
          100,
          200,
          50,
          35,
          200,
          45,
          100,
          75,
          95,
          75,
          195,
          95,
          75,
          20,
          40,
          95,
          20,
          80,
          20,
          100,
          150,
          120,
          200,
          75,
          195,
          170,
          150,
          20,
          75,
          20,
          90,
          50,
          110,
          50,
          75,
          50,
          145,
          100,
          20,
          20,
          20,
          85,
          50,
          115,
          200,
          45,
          55,
          30,
          55,
          20,
          20,
          50,
          25,
          145,
          40,
          0,
          20,
          0,
          0,
          20,
          100,
          0,
          0,
          20,
          75,
          140,
          40,
          95,
          200,
          95,
          150,
          100,
          105,
          20,
          200,
          95,
          150,
          95,
          20,
          50,
          200,
          20,
          75,
          20,
          75,
          40,
          20,
          20,
          35,
          110,
          100,
          195,
          200,
          150,
          195,
          70,
          75,
          150,
          60,
          50,
          195,
          20,
          100,
          20,
          25,
          80,
          100,
          200,
          90,
          175,
          50,
          120,
          95,
          195,
          25,
          50,
          30,
          40,
          35,
          40,
          20,
          50,
          35,
          0,
          0,
          20,
          195,
          60,
          195,
          195,
          40,
          200,
          90,
          75,
          195,
          195,
          30,
          195,
          30,
          50,
          100,
          40,
          30,
          120,
          50,
          50,
          20,
          85,
          50,
          110,
          145,
          200,
          50,
          190,
          110,
          190,
          145,
          200,
          100,
          195,
          30,
          55,
          50,
          35,
          95,
          50,
          45,
          30,
          45,
          150,
          0,
          50,
          40,
          150,
          50,
          190,
          160,
          195,
          150,
          150,
          140,
          200,
          75,
          200,
          200,
          0,
          0,
          195,
          125,
          0,
          100,
          145,
          145,
          0,
          0,
          35,
          200,
          175,
          175,
          75,
          195,
          80,
          195,
          110,
          140,
          180,
          120,
          190,
          150,
          0,
          0,
          20,
          195,
          20,
          30,
          35,
          175,
          95,
          50,
          50,
          40,
          0,
          20,
          30,
          120,
          0,
          85,
          20,
          200,
          60,
          40,
          35,
          145,
          200,
          200,
          120,
          20,
          0,
          35,
          20,
          0,
          0,
          0,
          75,
          0,
          100,
          0,
          60,
          0,
          30,
          35,
          60,
          45,
          65,
          55,
          0,
          0,
          20,
          0,
          55,
          30,
          0,
          30,
          20,
          0,
          0,
          0,
          50,
          0,
          200,
          0,
          0,
          0,
          0,
          95,
          0,
          0,
          195,
          95,
          0,
          125,
          0,
          0,
          175,
          85,
          75,
          20,
          0,
          0,
          165,
          35,
          80,
          50,
          0,
          100,
          80,
          0,
          20,
          20,
          145,
          100,
          85,
          195,
          30,
          25,
          200,
          50,
          0,
          200,
          0,
          20,
          25,
          0,
          50,
          0,
          55,
          0,
          200,
          30,
          95,
          20,
          20,
          200,
          30,
          25,
          35,
          0,
          30,
          120,
          0,
          60,
          0,
          20,
          200,
          60,
          100,
          0,
          0,
          0,
          0,
          75,
          20,
          100,
          195,
          45,
          75,
          35,
          95,
          100,
          25,
          195,
          95,
          50,
          20,
          195,
          200,
          50,
          90,
          90,
          120,
          200,
          195,
          120,
          50,
          55,
          85,
          55,
          195,
          20,
          40,
          50,
          0,
          85,
          20,
          25,
          40,
          20,
          45,
          95,
          0,
          0,
          0,
          25,
          125,
          50,
          80,
          45,
          25,
          0,
          200,
          50,
          45,
          0,
          150,
          0,
          45,
          50,
          200,
          200,
          40,
          0,
          65,
          45,
          35,
          195,
          95,
          20,
          200,
          20,
          40,
          50,
          200,
          40,
          60,
          0,
          0,
          0,
          30,
          0,
          200,
          145,
          50,
          200,
          40,
          0,
          20,
          95,
          50,
          50,
          20,
          40,
          50,
          20,
          35,
          20,
          35,
          25,
          195,
          100,
          200,
          200,
          25,
          100,
          50,
          150,
          100,
          195,
          20,
          75,
          95,
          30,
          75,
          40,
          35,
          40,
          65,
          0,
          0,
          0,
          100,
          0,
          50,
          30,
          20,
          0,
          20,
          200,
          95,
          85,
          20,
          55,
          25,
          50,
          50,
          85,
          0,
          120,
          20,
          40,
          0,
          125,
          50,
          75,
          50,
          200,
          0,
          100,
          40,
          120,
          50,
          0,
          50,
          20,
          20,
          200,
          20,
          0,
          20,
          0,
          125,
          95,
          105,
          100,
          20,
          50,
          20,
          40,
          25,
          0,
          95,
          195,
          20,
          200,
          30,
          150,
          60,
          200,
          20,
          195,
          50,
          200,
          20,
          40,
          50,
          50,
          95,
          95,
          100,
          50,
          35,
          95,
          35,
          60,
          65,
          200,
          20,
          200,
          20,
          20,
          20,
          20,
          20,
          200,
          200,
          50,
          20,
          20,
          30,
          25,
          50,
          20,
          85,
          20,
          75,
          20,
          40,
          50,
          20,
          50,
          20,
          85,
          65,
          50,
          0,
          0,
          20,
          55,
          40,
          50,
          145,
          95,
          200,
          40,
          95,
          100,
          95,
          50,
          30,
          120,
          20,
          20,
          45,
          20,
          25,
          0,
          30,
          150,
          40,
          90,
          0,
          20,
          20,
          30,
          200,
          0,
          75,
          95,
          50,
          185,
          20,
          40,
          25,
          0,
          200,
          125,
          200,
          35,
          45,
          20,
          20,
          25,
          20,
          100,
          30,
          150,
          45,
          0,
          40,
          30,
          0,
          50,
          20,
          20,
          150,
          100,
          25,
          40,
          50,
          45
         ],
         "xaxis": "x",
         "y": [
          4,
          12.5,
          4.5,
          15.5,
          5.5,
          4,
          5.5,
          5,
          19.5,
          5.5,
          7,
          6,
          1.5,
          4,
          3.5,
          12,
          3,
          1.5,
          3,
          4,
          5,
          6,
          32.5,
          1,
          9.5,
          9,
          7.5,
          18.5,
          5,
          19,
          15,
          20.5,
          3,
          13.5,
          3.5,
          37.5,
          3.5,
          4,
          1,
          14.5,
          2,
          2.5,
          1.5,
          3,
          1.5,
          1,
          4,
          1,
          7,
          5.5,
          3.5,
          1.5,
          17.5,
          1,
          2.5,
          1,
          10,
          1,
          8.5,
          2.5,
          6.5,
          3.5,
          8,
          10.5,
          2.5,
          1,
          1.5,
          2.5,
          10.5,
          2,
          3,
          1.5,
          8,
          12,
          25,
          11,
          4.5,
          4.5,
          8.5,
          9,
          20,
          1.5,
          7,
          4,
          5,
          19.5,
          7.5,
          25.5,
          12,
          20.5,
          3,
          7.5,
          45,
          11,
          33,
          16,
          1,
          2,
          1.5,
          3,
          11,
          1,
          3.5,
          2.5,
          12.5,
          4,
          3.5,
          11.5,
          2,
          1.5,
          1,
          3,
          3,
          1,
          1.5,
          4,
          2,
          2,
          15,
          4,
          1.5,
          2.5,
          3.5,
          2,
          2.5,
          2,
          3.5,
          4.5,
          1,
          4.5,
          1,
          1,
          3,
          19.5,
          6.5,
          60,
          11.5,
          5.5,
          10,
          7,
          16.5,
          2,
          1.5,
          22.5,
          13.5,
          2,
          7,
          4,
          5.5,
          3.5,
          2,
          1,
          1.5,
          2,
          3,
          1,
          10,
          23,
          18,
          6.5,
          18.5,
          20.5,
          6.5,
          6,
          14.5,
          13,
          8.5,
          8.5,
          5,
          1,
          4.5,
          17.5,
          1.5,
          3,
          6,
          10,
          0.55,
          3.5,
          2.5,
          1.5,
          1.5,
          2,
          2,
          3,
          7.5,
          1.5,
          5.5,
          3.5,
          1,
          2,
          1.5,
          6.5,
          3,
          2,
          2.5,
          4.5,
          4.5,
          2.5,
          6,
          1.5,
          3,
          14,
          2,
          5,
          1,
          1,
          3.5,
          1,
          1,
          2.5,
          16.5,
          5,
          4,
          2,
          6.5,
          1,
          29.5,
          3,
          21.5,
          31.5,
          15.5,
          4,
          12,
          27.5,
          5.5,
          9,
          5,
          20.5,
          14.5,
          44.5,
          9,
          14,
          15.5,
          5.5,
          22.5,
          9,
          12,
          12.5,
          3.5,
          16,
          2.5,
          4.5,
          13,
          3,
          2.5,
          4,
          0.6,
          1,
          1,
          2,
          1,
          6,
          1,
          4,
          1,
          19,
          1.5,
          3.5,
          18,
          11.5,
          24.5,
          4,
          2,
          7.5,
          1.5,
          7,
          2.5,
          2.5,
          2,
          1,
          25,
          1,
          15.5,
          6,
          6,
          5,
          4.5,
          2.5,
          2.5,
          3,
          8.5,
          5,
          5,
          5,
          1,
          0.6666666666666666,
          11,
          4,
          1.5,
          1,
          1.5,
          1,
          2.5,
          4,
          6,
          4.5,
          4.5,
          4,
          7,
          18.5,
          1.5,
          1.5,
          6.5,
          0.6666666666666666,
          1,
          3,
          2.5,
          1.5,
          3.5,
          1.5,
          3.5,
          1.5,
          1,
          4,
          4.5,
          13,
          11,
          8.5,
          9,
          4.5,
          3.5,
          3,
          1.5,
          2,
          9,
          14.5,
          3,
          5.5,
          51,
          2,
          32.5,
          10.5,
          12,
          9.5,
          3,
          13,
          4,
          1,
          1.5,
          2,
          12.5,
          1.5,
          9.5,
          2,
          4.5,
          1.5,
          2.5,
          1,
          1,
          10.5,
          1.5,
          2.5,
          3.5,
          3,
          4.5,
          1,
          2,
          11,
          3,
          13.5,
          8,
          2,
          3,
          1.5,
          2.5,
          6.5,
          1.5,
          0.7166666666666667,
          1,
          2.5,
          4,
          3.5,
          7.5,
          1,
          4,
          3.5,
          2,
          0.7,
          3,
          3,
          3.5,
          13.5,
          2.5,
          1,
          0.6166666666666667,
          3,
          0.5333333333333333,
          4,
          2,
          1,
          9,
          2,
          1,
          3,
          1.5,
          1.5,
          1,
          1.5,
          2,
          2.5,
          1,
          2,
          13,
          1.5,
          2,
          4,
          8,
          6,
          2,
          2,
          3.5,
          0.5333333333333333,
          2,
          9,
          10.5,
          3.5,
          2,
          4,
          4,
          1.5,
          1.5,
          1,
          12.5,
          1,
          1,
          1,
          1.5,
          1.5,
          2,
          1,
          2.5,
          12.5,
          2,
          1.5,
          1,
          1,
          1,
          3.5,
          3.5,
          2.5,
          6,
          3.5,
          6.5,
          4,
          1,
          6,
          2,
          1.5,
          3,
          4,
          0.5666666666666667,
          19,
          0.5666666666666667,
          2,
          17,
          7.5,
          3,
          4,
          1.5,
          3.5,
          1.5,
          3,
          2,
          2,
          3,
          1.5,
          9,
          2.5,
          9,
          4,
          11,
          8,
          7,
          0.6833333333333333,
          3.5,
          3.5,
          1.5,
          1.5,
          17.5,
          3,
          2,
          0.5333333333333333,
          6.5,
          7,
          1,
          5.5,
          1,
          2,
          1.5,
          0.7,
          0.7,
          0.6166666666666667,
          1,
          1,
          7,
          6,
          5.5,
          1,
          1.5,
          3,
          8,
          1,
          1,
          0.55,
          44.5,
          16.5,
          5,
          3,
          0.7333333333333333,
          3,
          3,
          2,
          1.5,
          4,
          2,
          0.5833333333333334,
          5,
          2,
          2,
          1.5,
          3,
          2.5,
          14,
          9,
          3.5,
          2,
          57,
          7.5,
          4,
          5,
          1,
          1.5,
          1.5,
          4,
          2.5,
          3,
          8,
          9.5,
          8,
          3,
          1.5,
          2,
          14,
          2,
          2.5,
          1,
          2.5,
          6.5,
          6,
          3,
          3,
          2,
          3.5,
          1,
          3.5,
          13,
          4.5,
          13,
          5,
          3.5,
          1,
          3.5,
          9.5,
          0.5333333333333333,
          1.5,
          4,
          0.55,
          0.6333333333333333,
          3.5,
          5.5,
          4.5,
          9,
          11,
          10.5,
          0.5333333333333333,
          2.5,
          0.6333333333333333,
          2.5,
          1.5,
          3.5,
          2,
          8,
          4.5,
          7,
          1.5,
          1.5,
          13.5,
          4,
          2,
          4,
          3,
          1.5,
          12,
          2.5,
          1.5,
          3.5,
          5,
          0.65,
          8,
          2,
          0.65,
          2,
          6,
          5.5,
          4.5,
          4.5,
          2.5,
          15.5,
          5.5,
          1.5,
          2,
          1,
          18.5,
          7.5,
          7,
          1.5,
          16.5,
          3,
          5,
          0.6666666666666666,
          4,
          1,
          1.5,
          1.5,
          3.5,
          6.5,
          1,
          7,
          2,
          3,
          0.6666666666666666,
          6,
          2.5,
          1,
          0.6,
          2,
          2.5,
          10,
          1,
          1,
          14.5,
          7.5,
          10.5,
          3.5,
          2,
          1.5,
          5.5,
          7.5,
          7,
          2,
          2.5,
          2.5,
          0.6666666666666666,
          3,
          0.5666666666666667,
          4.5,
          2,
          4,
          5.5,
          5,
          16,
          9,
          3.5,
          76.5,
          9,
          11.5,
          1.5,
          11.5,
          19.5,
          9,
          11,
          5,
          1.5,
          3.5,
          1,
          2,
          2,
          2,
          11,
          1.5,
          13,
          7,
          14.5,
          2,
          2.5,
          10.5,
          3.5,
          1,
          5,
          1,
          2,
          1.5,
          7,
          2.5,
          1.5,
          0.6166666666666667,
          3,
          20,
          16.5,
          12.5,
          4.5,
          4,
          8.5,
          5.5,
          6,
          3,
          10,
          4,
          4,
          5,
          15.5,
          3.5,
          1.5,
          9,
          4.5,
          5,
          2,
          3,
          0.6333333333333333,
          20,
          6,
          8,
          31.5,
          14.5,
          10.5,
          12.5,
          22,
          8,
          30.5,
          17,
          31.5,
          3,
          5,
          3.5,
          2,
          3.5,
          4.5,
          2.5,
          6.5,
          5.5,
          6.5,
          4.5,
          2,
          1,
          13.5,
          8,
          18,
          8,
          17.5,
          8.5,
          9.5,
          9,
          43,
          10,
          30.5,
          32.5,
          1,
          0.6833333333333333,
          5,
          3.5,
          4.5,
          3.5,
          5.5,
          18.5,
          3.5,
          1.5,
          1,
          42,
          7,
          11.5,
          5.5,
          12,
          6.5,
          13,
          7,
          12,
          26.5,
          6,
          7.5,
          13,
          0.7333333333333333,
          1,
          1,
          7.5,
          1,
          0.6166666666666667,
          3.5,
          9.5,
          2,
          7.5,
          3.5,
          0.6333333333333333,
          5,
          3,
          3,
          1.5,
          0.5666666666666667,
          2,
          0.6166666666666667,
          6.5,
          5.5,
          0.5833333333333334,
          1,
          4.5,
          7.5,
          5.5,
          14,
          0.5833333333333334,
          1.5,
          5.5,
          1.5,
          6.5,
          3,
          2,
          1,
          2,
          10.5,
          1,
          2,
          2,
          6.5,
          1,
          1.5,
          1,
          1,
          3,
          2.5,
          3,
          4,
          2,
          4,
          1,
          1.5,
          7.5,
          16,
          2,
          4.5,
          3.5,
          2.5,
          1,
          3,
          1,
          1,
          1.5,
          2,
          5.5,
          0.7,
          6,
          26,
          6,
          3,
          4,
          2,
          1,
          4,
          3.5,
          3,
          2,
          21,
          2.5,
          5.5,
          0.55,
          0.5,
          2,
          1,
          6,
          5,
          2,
          3.5,
          2,
          3,
          1,
          5,
          18.5,
          7,
          1.5,
          1,
          1,
          2,
          8,
          5,
          1.5,
          0.6333333333333333,
          1.5,
          5,
          4,
          2.5,
          3,
          4.5,
          1.5,
          3,
          1,
          1.5,
          22,
          3,
          4.5,
          1,
          1.5,
          1,
          6.5,
          2,
          17.5,
          1,
          2,
          4,
          13,
          3.5,
          8.5,
          1,
          2,
          3.5,
          5.5,
          1.5,
          3.5,
          26,
          1,
          4.5,
          2.5,
          1.5,
          3,
          1.5,
          7,
          2.5,
          7,
          8.5,
          7.5,
          1,
          13.5,
          1.5,
          3.5,
          3,
          4,
          12.5,
          2,
          7.5,
          3.5,
          2.5,
          1.5,
          2,
          0.6166666666666667,
          4.5,
          8.5,
          1,
          2,
          0.6333333333333333,
          1,
          6,
          2,
          1,
          2,
          2,
          6.5,
          3,
          1.5,
          4.5,
          5.5,
          5.5,
          3,
          3,
          5.5,
          1.5,
          14,
          0.5666666666666667,
          4,
          2.5,
          1,
          4,
          1,
          2,
          0.5666666666666667,
          0.5666666666666667,
          1.5,
          5,
          2.5,
          2,
          6.5,
          1,
          4.5,
          48.5,
          2.5,
          6,
          1.5,
          2,
          1.5,
          1.5,
          1.5,
          1,
          0.5,
          7.5,
          2,
          1.5,
          3,
          8,
          25.5,
          0.5833333333333334,
          1.5,
          2.5,
          6,
          3,
          2,
          0.5166666666666666,
          5.5,
          1.5,
          1,
          1,
          1,
          1,
          4,
          4,
          2,
          1.5,
          2.5,
          1.5,
          1,
          15,
          1.5,
          6,
          5,
          3,
          1.5,
          5.5,
          0.5666666666666667,
          2.5,
          22.5,
          0.7166666666666667,
          0.65,
          1,
          5,
          0.5166666666666666,
          2,
          7,
          1,
          10,
          5,
          1,
          20.5,
          3,
          8,
          1,
          3,
          3.5,
          3.5,
          2.5,
          16,
          2.5,
          3.5,
          0.6166666666666667,
          4,
          1,
          5,
          0.7333333333333333,
          3.5,
          0.5666666666666667,
          4.5,
          3,
          7,
          0.6833333333333333,
          2,
          6.5,
          1.5,
          5,
          5.5,
          3,
          1,
          2.5,
          22.5,
          0.65,
          1.5,
          2,
          1.5,
          3.5,
          25.5,
          2.5,
          7,
          0.6,
          3,
          2,
          2.5,
          2,
          0.5833333333333334,
          1.5,
          5,
          2,
          4,
          9.5,
          3,
          3.5,
          1.5,
          1.5,
          2.5,
          2,
          16.5,
          3,
          3.5,
          2.5,
          3,
          1.5,
          2,
          12.5,
          1,
          8,
          3.5,
          0.7,
          6.5,
          1,
          1.5,
          2,
          1.5,
          2,
          3.5,
          7.5,
          4,
          6.5,
          11,
          23.5,
          7,
          1.5,
          2.5,
          1.5,
          2,
          2,
          2,
          3.5,
          6.5,
          2,
          2.5,
          6.5,
          0.5166666666666666,
          5,
          2,
          2.5,
          6.5,
          3.5,
          66.5,
          3,
          1,
          1,
          1,
          11.5,
          8.5,
          12.5,
          2,
          5,
          10,
          4.5,
          2,
          6.5,
          0.6333333333333333,
          0.6333333333333333,
          1.5,
          1,
          1,
          1,
          1,
          5,
          1,
          0.5333333333333333,
          19.5,
          1,
          6.5,
          2.5,
          1.5,
          0.55,
          5,
          6.5,
          1.5,
          3,
          2.5,
          0.6,
          9.5,
          2,
          0.5166666666666666,
          14,
          4.5,
          10,
          1.5,
          5.5,
          0.6166666666666667,
          1,
          2.5,
          15.5,
          2,
          1.5,
          3.5,
          3.5,
          8.5,
          1,
          2,
          0.6166666666666667,
          0.5,
          0.5833333333333334,
          2.5,
          1,
          1.5,
          15.5,
          2,
          3.5,
          3.5,
          3,
          2
         ],
         "yaxis": "y"
        }
       ],
       "layout": {
        "legend": {
         "title": {
          "text": "subject"
         },
         "tracegroupgap": 0
        },
        "margin": {
         "t": 60
        },
        "template": {
         "data": {
          "bar": [
           {
            "error_x": {
             "color": "#2a3f5f"
            },
            "error_y": {
             "color": "#2a3f5f"
            },
            "marker": {
             "line": {
              "color": "#E5ECF6",
              "width": 0.5
             },
             "pattern": {
              "fillmode": "overlay",
              "size": 10,
              "solidity": 0.2
             }
            },
            "type": "bar"
           }
          ],
          "barpolar": [
           {
            "marker": {
             "line": {
              "color": "#E5ECF6",
              "width": 0.5
             },
             "pattern": {
              "fillmode": "overlay",
              "size": 10,
              "solidity": 0.2
             }
            },
            "type": "barpolar"
           }
          ],
          "carpet": [
           {
            "aaxis": {
             "endlinecolor": "#2a3f5f",
             "gridcolor": "white",
             "linecolor": "white",
             "minorgridcolor": "white",
             "startlinecolor": "#2a3f5f"
            },
            "baxis": {
             "endlinecolor": "#2a3f5f",
             "gridcolor": "white",
             "linecolor": "white",
             "minorgridcolor": "white",
             "startlinecolor": "#2a3f5f"
            },
            "type": "carpet"
           }
          ],
          "choropleth": [
           {
            "colorbar": {
             "outlinewidth": 0,
             "ticks": ""
            },
            "type": "choropleth"
           }
          ],
          "contour": [
           {
            "colorbar": {
             "outlinewidth": 0,
             "ticks": ""
            },
            "colorscale": [
             [
              0,
              "#0d0887"
             ],
             [
              0.1111111111111111,
              "#46039f"
             ],
             [
              0.2222222222222222,
              "#7201a8"
             ],
             [
              0.3333333333333333,
              "#9c179e"
             ],
             [
              0.4444444444444444,
              "#bd3786"
             ],
             [
              0.5555555555555556,
              "#d8576b"
             ],
             [
              0.6666666666666666,
              "#ed7953"
             ],
             [
              0.7777777777777778,
              "#fb9f3a"
             ],
             [
              0.8888888888888888,
              "#fdca26"
             ],
             [
              1,
              "#f0f921"
             ]
            ],
            "type": "contour"
           }
          ],
          "contourcarpet": [
           {
            "colorbar": {
             "outlinewidth": 0,
             "ticks": ""
            },
            "type": "contourcarpet"
           }
          ],
          "heatmap": [
           {
            "colorbar": {
             "outlinewidth": 0,
             "ticks": ""
            },
            "colorscale": [
             [
              0,
              "#0d0887"
             ],
             [
              0.1111111111111111,
              "#46039f"
             ],
             [
              0.2222222222222222,
              "#7201a8"
             ],
             [
              0.3333333333333333,
              "#9c179e"
             ],
             [
              0.4444444444444444,
              "#bd3786"
             ],
             [
              0.5555555555555556,
              "#d8576b"
             ],
             [
              0.6666666666666666,
              "#ed7953"
             ],
             [
              0.7777777777777778,
              "#fb9f3a"
             ],
             [
              0.8888888888888888,
              "#fdca26"
             ],
             [
              1,
              "#f0f921"
             ]
            ],
            "type": "heatmap"
           }
          ],
          "heatmapgl": [
           {
            "colorbar": {
             "outlinewidth": 0,
             "ticks": ""
            },
            "colorscale": [
             [
              0,
              "#0d0887"
             ],
             [
              0.1111111111111111,
              "#46039f"
             ],
             [
              0.2222222222222222,
              "#7201a8"
             ],
             [
              0.3333333333333333,
              "#9c179e"
             ],
             [
              0.4444444444444444,
              "#bd3786"
             ],
             [
              0.5555555555555556,
              "#d8576b"
             ],
             [
              0.6666666666666666,
              "#ed7953"
             ],
             [
              0.7777777777777778,
              "#fb9f3a"
             ],
             [
              0.8888888888888888,
              "#fdca26"
             ],
             [
              1,
              "#f0f921"
             ]
            ],
            "type": "heatmapgl"
           }
          ],
          "histogram": [
           {
            "marker": {
             "pattern": {
              "fillmode": "overlay",
              "size": 10,
              "solidity": 0.2
             }
            },
            "type": "histogram"
           }
          ],
          "histogram2d": [
           {
            "colorbar": {
             "outlinewidth": 0,
             "ticks": ""
            },
            "colorscale": [
             [
              0,
              "#0d0887"
             ],
             [
              0.1111111111111111,
              "#46039f"
             ],
             [
              0.2222222222222222,
              "#7201a8"
             ],
             [
              0.3333333333333333,
              "#9c179e"
             ],
             [
              0.4444444444444444,
              "#bd3786"
             ],
             [
              0.5555555555555556,
              "#d8576b"
             ],
             [
              0.6666666666666666,
              "#ed7953"
             ],
             [
              0.7777777777777778,
              "#fb9f3a"
             ],
             [
              0.8888888888888888,
              "#fdca26"
             ],
             [
              1,
              "#f0f921"
             ]
            ],
            "type": "histogram2d"
           }
          ],
          "histogram2dcontour": [
           {
            "colorbar": {
             "outlinewidth": 0,
             "ticks": ""
            },
            "colorscale": [
             [
              0,
              "#0d0887"
             ],
             [
              0.1111111111111111,
              "#46039f"
             ],
             [
              0.2222222222222222,
              "#7201a8"
             ],
             [
              0.3333333333333333,
              "#9c179e"
             ],
             [
              0.4444444444444444,
              "#bd3786"
             ],
             [
              0.5555555555555556,
              "#d8576b"
             ],
             [
              0.6666666666666666,
              "#ed7953"
             ],
             [
              0.7777777777777778,
              "#fb9f3a"
             ],
             [
              0.8888888888888888,
              "#fdca26"
             ],
             [
              1,
              "#f0f921"
             ]
            ],
            "type": "histogram2dcontour"
           }
          ],
          "mesh3d": [
           {
            "colorbar": {
             "outlinewidth": 0,
             "ticks": ""
            },
            "type": "mesh3d"
           }
          ],
          "parcoords": [
           {
            "line": {
             "colorbar": {
              "outlinewidth": 0,
              "ticks": ""
             }
            },
            "type": "parcoords"
           }
          ],
          "pie": [
           {
            "automargin": true,
            "type": "pie"
           }
          ],
          "scatter": [
           {
            "fillpattern": {
             "fillmode": "overlay",
             "size": 10,
             "solidity": 0.2
            },
            "type": "scatter"
           }
          ],
          "scatter3d": [
           {
            "line": {
             "colorbar": {
              "outlinewidth": 0,
              "ticks": ""
             }
            },
            "marker": {
             "colorbar": {
              "outlinewidth": 0,
              "ticks": ""
             }
            },
            "type": "scatter3d"
           }
          ],
          "scattercarpet": [
           {
            "marker": {
             "colorbar": {
              "outlinewidth": 0,
              "ticks": ""
             }
            },
            "type": "scattercarpet"
           }
          ],
          "scattergeo": [
           {
            "marker": {
             "colorbar": {
              "outlinewidth": 0,
              "ticks": ""
             }
            },
            "type": "scattergeo"
           }
          ],
          "scattergl": [
           {
            "marker": {
             "colorbar": {
              "outlinewidth": 0,
              "ticks": ""
             }
            },
            "type": "scattergl"
           }
          ],
          "scattermapbox": [
           {
            "marker": {
             "colorbar": {
              "outlinewidth": 0,
              "ticks": ""
             }
            },
            "type": "scattermapbox"
           }
          ],
          "scatterpolar": [
           {
            "marker": {
             "colorbar": {
              "outlinewidth": 0,
              "ticks": ""
             }
            },
            "type": "scatterpolar"
           }
          ],
          "scatterpolargl": [
           {
            "marker": {
             "colorbar": {
              "outlinewidth": 0,
              "ticks": ""
             }
            },
            "type": "scatterpolargl"
           }
          ],
          "scatterternary": [
           {
            "marker": {
             "colorbar": {
              "outlinewidth": 0,
              "ticks": ""
             }
            },
            "type": "scatterternary"
           }
          ],
          "surface": [
           {
            "colorbar": {
             "outlinewidth": 0,
             "ticks": ""
            },
            "colorscale": [
             [
              0,
              "#0d0887"
             ],
             [
              0.1111111111111111,
              "#46039f"
             ],
             [
              0.2222222222222222,
              "#7201a8"
             ],
             [
              0.3333333333333333,
              "#9c179e"
             ],
             [
              0.4444444444444444,
              "#bd3786"
             ],
             [
              0.5555555555555556,
              "#d8576b"
             ],
             [
              0.6666666666666666,
              "#ed7953"
             ],
             [
              0.7777777777777778,
              "#fb9f3a"
             ],
             [
              0.8888888888888888,
              "#fdca26"
             ],
             [
              1,
              "#f0f921"
             ]
            ],
            "type": "surface"
           }
          ],
          "table": [
           {
            "cells": {
             "fill": {
              "color": "#EBF0F8"
             },
             "line": {
              "color": "white"
             }
            },
            "header": {
             "fill": {
              "color": "#C8D4E3"
             },
             "line": {
              "color": "white"
             }
            },
            "type": "table"
           }
          ]
         },
         "layout": {
          "annotationdefaults": {
           "arrowcolor": "#2a3f5f",
           "arrowhead": 0,
           "arrowwidth": 1
          },
          "autotypenumbers": "strict",
          "coloraxis": {
           "colorbar": {
            "outlinewidth": 0,
            "ticks": ""
           }
          },
          "colorscale": {
           "diverging": [
            [
             0,
             "#8e0152"
            ],
            [
             0.1,
             "#c51b7d"
            ],
            [
             0.2,
             "#de77ae"
            ],
            [
             0.3,
             "#f1b6da"
            ],
            [
             0.4,
             "#fde0ef"
            ],
            [
             0.5,
             "#f7f7f7"
            ],
            [
             0.6,
             "#e6f5d0"
            ],
            [
             0.7,
             "#b8e186"
            ],
            [
             0.8,
             "#7fbc41"
            ],
            [
             0.9,
             "#4d9221"
            ],
            [
             1,
             "#276419"
            ]
           ],
           "sequential": [
            [
             0,
             "#0d0887"
            ],
            [
             0.1111111111111111,
             "#46039f"
            ],
            [
             0.2222222222222222,
             "#7201a8"
            ],
            [
             0.3333333333333333,
             "#9c179e"
            ],
            [
             0.4444444444444444,
             "#bd3786"
            ],
            [
             0.5555555555555556,
             "#d8576b"
            ],
            [
             0.6666666666666666,
             "#ed7953"
            ],
            [
             0.7777777777777778,
             "#fb9f3a"
            ],
            [
             0.8888888888888888,
             "#fdca26"
            ],
            [
             1,
             "#f0f921"
            ]
           ],
           "sequentialminus": [
            [
             0,
             "#0d0887"
            ],
            [
             0.1111111111111111,
             "#46039f"
            ],
            [
             0.2222222222222222,
             "#7201a8"
            ],
            [
             0.3333333333333333,
             "#9c179e"
            ],
            [
             0.4444444444444444,
             "#bd3786"
            ],
            [
             0.5555555555555556,
             "#d8576b"
            ],
            [
             0.6666666666666666,
             "#ed7953"
            ],
            [
             0.7777777777777778,
             "#fb9f3a"
            ],
            [
             0.8888888888888888,
             "#fdca26"
            ],
            [
             1,
             "#f0f921"
            ]
           ]
          },
          "colorway": [
           "#636efa",
           "#EF553B",
           "#00cc96",
           "#ab63fa",
           "#FFA15A",
           "#19d3f3",
           "#FF6692",
           "#B6E880",
           "#FF97FF",
           "#FECB52"
          ],
          "font": {
           "color": "#2a3f5f"
          },
          "geo": {
           "bgcolor": "white",
           "lakecolor": "white",
           "landcolor": "#E5ECF6",
           "showlakes": true,
           "showland": true,
           "subunitcolor": "white"
          },
          "hoverlabel": {
           "align": "left"
          },
          "hovermode": "closest",
          "mapbox": {
           "style": "light"
          },
          "paper_bgcolor": "white",
          "plot_bgcolor": "#E5ECF6",
          "polar": {
           "angularaxis": {
            "gridcolor": "white",
            "linecolor": "white",
            "ticks": ""
           },
           "bgcolor": "#E5ECF6",
           "radialaxis": {
            "gridcolor": "white",
            "linecolor": "white",
            "ticks": ""
           }
          },
          "scene": {
           "xaxis": {
            "backgroundcolor": "#E5ECF6",
            "gridcolor": "white",
            "gridwidth": 2,
            "linecolor": "white",
            "showbackground": true,
            "ticks": "",
            "zerolinecolor": "white"
           },
           "yaxis": {
            "backgroundcolor": "#E5ECF6",
            "gridcolor": "white",
            "gridwidth": 2,
            "linecolor": "white",
            "showbackground": true,
            "ticks": "",
            "zerolinecolor": "white"
           },
           "zaxis": {
            "backgroundcolor": "#E5ECF6",
            "gridcolor": "white",
            "gridwidth": 2,
            "linecolor": "white",
            "showbackground": true,
            "ticks": "",
            "zerolinecolor": "white"
           }
          },
          "shapedefaults": {
           "line": {
            "color": "#2a3f5f"
           }
          },
          "ternary": {
           "aaxis": {
            "gridcolor": "white",
            "linecolor": "white",
            "ticks": ""
           },
           "baxis": {
            "gridcolor": "white",
            "linecolor": "white",
            "ticks": ""
           },
           "bgcolor": "#E5ECF6",
           "caxis": {
            "gridcolor": "white",
            "linecolor": "white",
            "ticks": ""
           }
          },
          "title": {
           "x": 0.05
          },
          "xaxis": {
           "automargin": true,
           "gridcolor": "white",
           "linecolor": "white",
           "ticks": "",
           "title": {
            "standoff": 15
           },
           "zerolinecolor": "white",
           "zerolinewidth": 2
          },
          "yaxis": {
           "automargin": true,
           "gridcolor": "white",
           "linecolor": "white",
           "ticks": "",
           "title": {
            "standoff": 15
           },
           "zerolinecolor": "white",
           "zerolinewidth": 2
          }
         }
        },
        "xaxis": {
         "anchor": "y",
         "domain": [
          0,
          1
         ],
         "title": {
          "text": "Price"
         }
        },
        "yaxis": {
         "anchor": "x",
         "domain": [
          0,
          1
         ],
         "showticklabels": false,
         "title": {
          "text": "Content Duration"
         }
        }
       }
      },
      "text/html": [
       "<div>                            <div id=\"782a4c4b-64c4-49f8-8ef7-e14885cf32a2\" class=\"plotly-graph-div\" style=\"height:525px; width:100%;\"></div>            <script type=\"text/javascript\">                require([\"plotly\"], function(Plotly) {                    window.PLOTLYENV=window.PLOTLYENV || {};                                    if (document.getElementById(\"782a4c4b-64c4-49f8-8ef7-e14885cf32a2\")) {                    Plotly.newPlot(                        \"782a4c4b-64c4-49f8-8ef7-e14885cf32a2\",                        [{\"customdata\":[[\"Ultimate Investment Banking Course\"],[\"Complete GST Course & Certification - Grow Your CA Practice\"],[\"Financial Modeling for Business Analysts and Consultants\"],[\"Beginner to Pro - Financial Analysis in Excel 2017\"],[\"How To Maximize Your Profits Trading Options\"],[\"Trading Penny Stocks: A Guide for All Levels In 2017\"],[\"Investing And Trading For Beginners: Mastering Price Charts\"],[\"Trading Stock Chart Patterns For Immediate, Explosive Gains\"],[\"Options Trading 3 : Advanced Stock Profit and Success Method\"],[\"The Only Investment Strategy You Need For Your Retirement\"],[\"Forex Trading Secrets of the Pros With Amazon's AWS\"],[\"Trading Options With Money Flow\"],[\"Financial Management Risk and Return For Securities\"],[\"Forex Trading Course: Work Smarter Not Harder Proven Results\"],[\"Python Algo Trading: Sentiment Trading with News\"],[\"Short Selling: Learn To Sell Stocks Before The Fall\"],[\"Basic Technical Analysis: Learn the structure of the market\"],[\"The Complete Chart Pattern Trading Course: A Proven Approach\"],[\"7 Deadly Mistakes of Investing that Will Slash Your Profits!\"],[\"Financial Statements Made Easy\"],[\"Winning Forex Trading with Live Forex Trading Examples\"],[\"Forex Traders - Create Your First Trading Robot. No Coding!\"],[\"Create A Business From Home Trading Stocks Today In 2017\"],[\"Introduction to Accounting : Mastering Financial Statements\"],[\"The Complete Ethereum Course: Get .01 Ether In Your Wallet\"],[\"Beginner to Pro in PowerPoint: Complete PowerPoint Training\"],[\"Investing 101: The Complete Online Investing Course\"],[\"Create Your Own Hedge Fund: Trade Stocks Like A Fund Manager\"],[\"Learn MQL5: Build an 8-Currency Hedging Robot (MetaTrader 5)\"],[\"Forex Trading: Your Complete Guide to Get Started Like a Pro\"],[\"Python Algo Stock Trading: Automate Your Trading!\"],[\"THE Forex Robot: Incredible ROI (Robot Included)\"],[\"The Complete Bitcoin Course: Get .001 Bitcoin In Your Wallet\"],[\"Mastering High Probability Iron Condor Options Trading\"],[\"The Complete Short Course on Ethereum\"],[\"Options Trading Stocks: Proven Toolbox For Financial Success\"],[\"Forex Trading A-Z\\u2122 - With LIVE Examples of Forex Trading\"],[\"Introduction to Finance, Accounting, Modeling and Valuation\"],[\"Beginner to Pro in Excel: Financial Modeling and Valuation\"],[\"The Complete Investment Banking Course 2017\"],[\"The Complete Financial Analyst Course 2017\"],[\"Python for Finance: Investment Fundamentals & Data Analytics\"],[\"Financial Modeling for Startups & Small Businesses\"],[\"Options Trading - How to Win with Weekly Options\"],[\"Black Algo Trading: Build Your Trading Robot\"],[\"Accounting & Financial Statement Analysis: Complete Training\"],[\"Cryptocurrency Trading: Complete Guide To Trading Altcoins\"],[\"Forex Robots: Expect To Earn 175% P.A. Forex Robot Included!\"],[\"Three Steps Trading - Live Trading - Real Account\"],[\"Option Trading for Rookies:  Understand Options Completely\"],[\"How I Learned Stock Trading (and How You Can Too)\"],[\"Learn to Trade for Profit: Find and Trade Winning Stocks\"],[\"Trading Inside Bars - Master 1 Easy Pattern To Be Successful\"],[\"Four Fundamentals of Financial Planning\"],[\"Options Trading - Calendar Spread Course for Every Trader\"],[\"Dividend Investing: Build Your Portfolio for a Better Future\"],[\"Learn Accounting. Understand Business.\"],[\"How to Consistently Win Trading Stocks in 30 Days or Less\"],[\"A Beginner's Guide to Quantopian Futures API\"],[\"How to Buy Cheap Options - Options Trading Pricing Model\"],[\"Excel Crash Course: Master Excel for Financial Analysis\"],[\"Comprehensive Guide to Financial Markets, Investing &Trading\"],[\"Stock Trading Ninja: Complete System For Trading Success\"],[\"Hedge and Mutual Fund Careers: The Complete Guide\"],[\"Algorithmic Trading In Forex: Create Your First Forex Robot!\"],[\"The Power Modeling Bootcamp: Advanced Excel in 10 Days\"],[\"Options Trading Basics (3-Course Bundle)\"],[\"How to Win 97% of Your Options Trades\"],[\"How I Make Consistent Returns Trading Options\"],[\"Forex Strategies: Kelly Criterion, Larry Williams and more!\"],[\"Elite Trend Trader: Learn To Trade Stocks, Options & Forex\"],[\"Options Trading Introduction: Day Trade Stock Options\"],[\"The Almost Perfect Options Trading Strategy System - Unique\"],[\"Forex Trading -  Learn to Trade Forex Like the Banks\"],[\"Learn to Trade for Profit:Trading with Japanese Candlesticks\"],[\"The Most Powerful Options Spread Trading Front Ratio Spread\"],[\"What Finance Job is for You? Explanation of 14 Finance Roles\"],[\"The Blueprint for Successful Stock Trading\"],[\"Trading for Beginners - Intermediate Level\"],[\"Start Trading Stocks Using Technical Analysis!\"],[\"Learn How to Set Up an Incubator Hedge Fund - Step-by-Step\"],[\"VPS for Forex Trading - Protect Your Forex Robots\"],[\"Introduction to Accounting: The Language of Business\"],[\"Basic Excel for Basic Bookkeeping and Accounting\"],[\"Using 'The Greeks To Understand Options\\\"\"],[\"Trading Options For Consistent Returns: Calendar Spreads\"],[\"How to Create Your Personal Budget\"],[\"The Complete Value Investing Course: A Proven Approach\"],[\"FOREX Trading with Price Action\"],[\"Emini ES Futures - Advanced Non Directional Options Trading\"],[\"Forex Trading - Advanced Fundamental Analysis\"],[\"How To Invest With Tiny Capital In Stocks ?\"],[\"Learn How To Successfully Trade Stocks: In 5 Simple Steps\"],[\"Forex MetaTrader 4: Master MT4 Like A Pro Forex Trader\"],[\"Intermediate Options trading concepts for Stocks and Options\"],[\"Options Trading 101: The Basics\"],[\"Practical Accounts APP Overview\"],[\"Bitcoin Profits for Beginners\"],[\"Trend Traders Club: How To Find And Trade Fast Moving Trends\"],[\"Financial Statements Basics\"],[\"High performance Stock Trading using key Options techniques\"],[\"Introduction to Financial Statement Analysis\"],[\"Basics of Economics (College Level)\"],[\"Stock Market Investing for Beginners\"],[\"Accounting for Beginners : Learn Basics in under 1 Hour\"],[\"Straddle Options Trading - Profit in Any Market Direction\"],[\"Fundamentals of Forex Trading\"],[\"Binary Options: Trading Strategies, 90% Accuracy and Signals\"],[\"Website Investing 101 - Buying & Selling Online Businesses\"],[\"Practical Accounts & Bookkeeping Automated Overview \"],[\"Live Account - ETF Trading System - Hacking The Stock Market\"],[\"Stock Market Leverage: How to Start Trading Options Wisely\"],[\"Stock Market Foundations\"],[\"Crash Course on Working Capital Management\"],[\"Advanced Accounting A Complete Study for CA / CMA / CFA / CS\"],[\"61% Profit In 1 Month - Crush Your Forex Trading Paradigm\"],[\"How to create a routine Trading\"],[\"Forex Trading Secrets |MT4 Robot (EA) inside, no coding\"],[\"Forex SOS Course: Trading Tweaks And Working Forex Strategy\"],[\"Introduction to Financial Modeling\"],[\"Quantitative Aptitude for Banking & Competitive Examinations\"],[\"Option Spreads and Credit Spreads Bundle\"],[\"B Com Accountancy I (Paper ECO 02 IGNOU)\"],[\"FOREX TRADING - Learn in a quick + profitable way + support\"],[\"Auditing Basics (Professional Course Level)\"],[\"Stock market Investing Encyclopedia: How to invest in stocks\"],[\"Learn the basics of preparing accounting statements\"],[\"Elliott Wave -Forex Trading With The Elliott Wave Theory\"],[\"Corporate Finance - A Brief Introduction\"],[\"Excel functions to analyze and visualize data\"],[\"Building Financial Statements in Excel\"],[\"Transfer Pricing A Complete Analysis\"],[\"Accounting: Get Hired Without Work Experience\"],[\"Forex Trading for Beginners - Basics\"],[\"Basic Bookkeeping Hacks\"],[\"Complete Trading Plan Course for Stocks & Forex (10 Hours)\"],[\"Forex Trading with Fixed 'Risk through Options Trading\\\"\"],[\"Intro to Investment Banking, M&A, IPO, Modeling + Free Book\"],[\"How to Pick The Right Penny Stocks To Invest In 2017\"],[\"Top 10 Trading Ideas in the Equities Market\"],[\"Intro to Financial Modeling\"],[\"Shark Accounting - Building a Business by the Numbers!\"],[\"Forex Trading MAKE YOUR FIRST TRADE TODAY!\"],[\"Accounting in 60 Minutes - A Brief Introduction\"],[\"SAP FICO For Beginners - A Guide to SAP Financial Accounts\"],[\"Learn how to double your Forex Trading Account in one trade\"],[\"Accounting Superpowers: Learn Accounts, Understand Business!\"],[\"Python Algo Trading: FX Trading with Oanda\"],[\"Save on Your Taxes\"],[\"Financial Model Basics: Build a model from start to finish\"],[\"Option Trading for Rookies: The Covered Call Option Strategy\"],[\"EFT for Stock Options Trading Success & Making Better Trades\"],[\"Learn to Trade the Stock Market without Blowing Your Profits\"],[\"Get a Credit Repair Publication On Amazon and Live LIFE..\"],[\"Fundamentals of Accounting\"],[\"RSI, Options Trading & Technical Analysis (3 Course Bundle)\"],[\"Basics of Mutual Funds for CA / CMA / CS / CFA Exams\"],[\"Accounting 101: How to read an Accounting Balance Sheet\"],[\"Stock Options Day Trading Mindset for Success\"],[\"Introduction to bookkeeping and Accounting\"],[\"Learn to Trade The News\"],[\"Value Investing, Taught by Six Superinvestors\"],[\"Trading for everyone - The Independent Investor Course I\"],[\"Get Acquired: Learn From The Head Of Acquisitions For eBay\"],[\"Stock Market investment: Practical Accounting\"],[\"How to remove 'Risk from Penny Stocks - Options Trading\\\"\"],[\"Accounting Basics in 66 Minutes (absolutely for beginners)\"],[\"Tax Accounting: Difficult Topic, Made Easy to Understand\"],[\"Analysis of Company Financial Statements\"],[\"Forex Trading Like Banks \\u2013 Step by Step with Live Examples\"],[\"Fundamentals of Investing!\"],[\"Bank Financial Management A Comprehensive Study\"],[\"Learn to Trade Forex and Stocks: From Beginner to Advanced\"],[\"Master 'Technical Analysis and Chart reading skills Bundle\\\"\"],[\"Naked Put Options Trade Covered Call & Poor Man Covered Call\"],[\"The Ultimate Guide to Dividend & Dividend Growth Investing\"],[\"Charting for Beginners 101: Technical Analysis Demystified\"],[\"Build a DCF Valuation Model\"],[\"Introductory Financial Accounting\"],[\"Introduction to Cryptocurrencies and Blockchain\"],[\"Trade Pullback Candlestick Strategy - Make Consistent Pips\"],[\"Accounting Standards Basics (Professional Course Level)\"],[\"Use the Magic Multiple Moving Average Forex Trading system\"],[\"QuickBooks 2015 Training for Newbies\"],[\"TRADING PSYCHOLOGY: Trading Mindset Mastery\"],[\"Option Trading: How to Adjust Delta-Neutral Strangles!\"],[\"Profitable binary option trading strategy\"],[\"Tax Strategy: Financial Planning for Beginners\"],[\"Accounting 2 Simplified for You\"],[\"Project Funding Modelling (for Professionals)\"],[\"Investing: How I Consistently Beat The Stock Market\"],[\"Bookkeeping Basics:  Understand the Fundamentals\"],[\"Leasing - A Comprehensive Study (Professional Course Level)\"],[\"Trading Options For Consistent Returns: Options Basics\"],[\"TechniTrader Leading Hybrid Indicator Trading\"],[\"Financial modeling: Build a DCF equity valuation model\"],[\"CryptoArbitrager: Bitcoin Trading Robot (no mining)\"],[\"Accounting Is Easy (for Beginners)\"],[\"Non Directional Weekly Options Trading System - ETF & Emini\"],[\"The Complete Position Trading Course: Position Trading Stock\"],[\"Master Iron Condors - Double the credit for half the risk\"],[\"Basics of investing in Mutual Funds\"],[\"A Value Investing Approach to the Stock Market\"],[\"Learn how to INVEST for huge profits or make it big trading!\"],[\"How to Fund your Million Dollar Idea: Equity, Debt, Unfund\"],[\"Mastering Candlestick Charting : High Probability Trading\"],[\"Binary Options Course - Level 2\"],[\"Stock Technical Analysis with R\"],[\"Get to know the VIX Index (aka 'The Fear Index)\\\"\"],[\"Apply finance concepts for smart project management\"],[\"Introduction to Futures Trading and Live Trade Demonstration\"],[\"Crowdfunding to Win\"],[\"Comprehensive Forex Mastery Program\"],[\"Preparation of Consolidated Financial Statements (Basic)\"],[\"Succeed in Bonds Even if You Don't Know Where to Start\"],[\"Learn to Trade for Profit: Ten Most Profitable Trading Rules\"],[\"Succeed in Lotto Even if You Don't Know Where to Start!\"],[\"CFA Corporate Finance Level 2\"],[\"Pin Bars: The Most Powerful Forex Trading Signal\"],[\"Stock Options Trades Using Interactive Brokers\"],[\"Introduction to Options - Strategies For Consistent Profits\"],[\"Risk in Forex Transactions - for CA / CS / CFA exams\"],[\"Basics of Business Statistics (College Level)\"],[\"Trading Seasonal Price Patterns in Stocks, Futures, & Forex!\"],[\"Interpreting Financial Statements\"],[\"Introduction to Bookkeeping (Accounting)\"],[\"CREDIT SPREAD SURGERY - Bear Call and Bull Put Mastery \"],[\"Investment Banking: How to Land a Job on Wall Street\"],[\"Learn To Invest In Index Funds and ETFs In 7 Easy Steps\"],[\"Financial modeling: Build a multiples valuation model\"],[\"Trade Recap I - A Real Look at Futures Options Markets\"],[\"Advanced Stock Options for Serious Equity Investors!\"],[\"Trading Binary Options for Fun and Profit\"],[\"CFA: Fast Track your career in Finance\"],[\"How to be a Profitable Forex Trader\"],[\"Excel Dashboard - Interactive Excel Dashboard and Charts\"],[\"Accounting 101: Learn Business Finance Forecasting in 60mins\"],[\"The Securities Trade Lifecycle\"],[\"Double your Forex Account using the MAGIC MA trading robot\"],[\"Technical Analysis 101: How to Profit During Market Crashes\"],[\"Advanced Accounting for Investment Banking\"],[\"Investing In Stocks With 10 Simple Rules\"],[\"Venture Capital. What is it and Why it Matters to You!\"],[\"Cash Flow Valuation: Develop Your Financial Literacy\"],[\"Direction-Independ Trading - Elite Forex Traders  Strategy\"],[\"How to Become a Financial Analyst from Scratch!\"],[\"First Steps to Trading the Forexmarkets : Technical Analysis\"],[\"Financial analysis: Compare performance of companies\"],[\"Forex for Beginners: Easy Forex Trading for Beginners\"],[\"Investment Crowdfunding 101 (a.k.a Equity Crowdfunding)\"],[\"Read financial statements like a pro\"],[\"10 Numbers Every Business Owner Should Know\"],[\"Learn How To Trade Gold In 2017\"],[\"IAS 18 - Revenue\"],[\"Forex Trading: The High ROI Forex Trading End of Day Course\"],[\"Fundraise the Simplified Way: A Crowdfunding Blueprint\"],[\"Fundamentals of Accounting for Business Owners\"],[\"Practical Financial Statement Analysis\"],[\"Forex Management - Detailed Study for CA / CS / CFA Exams\"],[\"Financial Statement Review 101:  How to Find Errors\"],[\"Professional Risk Manager (PRM) Certification: Level 1\"],[\"International Tax  - Tax Beyond boundaries\"],[\"The Complete Financial Statement Analysis Course\"],[\"Advanced Excel functions\"],[\"Penny Stocks Value & Chart Pattern Trading (2 Course Bundle)\"],[\"Candlestick Analysis For Professional Traders\"],[\"Build A Career In Forex Trading- Learn Fundamental Analysis\"],[\"Financial Modeling: Build a Complete DCF Valuation Model\"],[\"Hands-on Financial Modeling (With 6 Excel Templates)\"],[\"CAIIB Advanced Bank Management (Part I)\"],[\"Stock Market investment:Non financial fundamental analysis\"],[\"Learn How to Play CashFlow Game\"],[\"Basics of Business Finance\"],[\"Accounting Made Easy 2\"],[\"Bitcoin: el futuro del dinero, hoy\"],[\"Aprende a invertir practicando\"],[\"Trading con retrocesos de Fibonacci\"],[\"Mit Finanzwissen zu besserem Unternehmertum\"],[\"Como hacer empresa en 10 sesiones pr\\u00e1cticas\"],[\"\\u0627\\u0644\\u0645\\u062d\\u0627\\u0633\\u0628\\u0629 \\u0644\\u0644\\u0625\\u062f\\u0627\\u0631\\u064a\\u064a\\u0646 \\u0648 \\u063a\\u064a\\u0631 \\u0627\\u0644\\u0645\\u062d\\u0627\\u0633\\u0628\\u064a\\u0646\"],[\"\\u682a\\u5f0f\\u6295\\u8cc7\\u3067\\u672c\\u5f53\\u306e\\u30d5\\u30a1\\u30f3\\u30c0\\u30e1\\u30f3\\u30bf\\u30eb\\u5206\\u6790\\u304c\\u3067\\u304d\\u308b\\u3088\\u3046\\u306b\\u306a\\u308b\"],[\"Curso de Trading pr\\u00e1ctico basado en casos reales\"],[\"Curso Avanzado de Trading\"],[\"\\u0e2a\\u0e2d\\u0e19\\u0e40\\u0e17\\u0e23\\u0e14\\u0e44\\u0e1a\\u0e19\\u0e32\\u0e23\\u0e35\\u0e48 \\u0e2d\\u0e4a\\u0e2d\\u0e1f\\u0e0a\\u0e31\\u0e48\\u0e19\\u0e2d\\u0e22\\u0e48\\u0e32\\u0e07\\u0e07\\u0e48\\u0e32\\u0e22\"],[\"MQL4 Tutorial Golden Goose\"],[\"An\\u00e1lise de Concess\\u00e3o de Cr\\u00e9dito\"],[\"Technical Analysis Using Elliott Wave Theory\"],[\"The Basics Of Volume Analysis\"],[\"Crash Course on Cost of Capital and Capital Structuring\"],[\"Business Accounting Made Easy\"],[\"Build a DCF Model from Scratch\"],[\"Multiply your returns using 'Value Investing\\\",https://www.udemy.com/multiply-your-returns-using-value-investing/,true,20,1942,19,63,All Levels,4.5 hours,2015-07-23T00:08:33Z\\n874284,Weekly Forex Analysis by Baraq FX\\\"\"],[\"Technical Analysis - A practical approach for trade entry\"],[\"Mastering Technical Analysis : Maximizing Trading Profits\"],[\"The Complete Guide to Professional Trading with Elliott Wave\"],[\"A Complete Guide to Becoming a Trader on the Forex Market\"],[\"Stock Market for Beginners - Complete Starter Toolkit\"],[\"Beginners Binary Options Course\"],[\"Technical Analysis 101: Secrets of Trading Revealed\"],[\"Forex: What's a Trend and When it is Strong and Reliable\"],[\"Volatility Trading Analysis with R\"],[\"How To Profit From Stock Market Volatility\"],[\"Awaken the Accountant in You | Master the Accounting Basics\"],[\"WE WILL PAY YOU TO TRADE WITH US\"],[\"Situational Trading: Proven Option Strategy for any Scenario\"],[\"Portfolio Management for CA / CS / CFA exams\"],[\"Algorithmic Trading in MATLAB: WFAToolbox App GUI (Finance)\"],[\"Finding an Unlimited Amount of Investors\"],[\"Bookkeeping Made Easy\"],[\"BITCOIN VISUALLY. Part I.\"],[\"Learn and Master the Basics of Finance\"],[\"FOREX : LearnTo Trade the Improved ( Advanced ) Patterns\"],[\"Mastering the Market : (Technical Analysis + Candlestick)\"],[\"Mastering Countertrend Trading : High Profit Trading Pattern\"],[\"Exam 1 Review - Managerial Accounting (U of H)\"],[\"* An Integrated Approach to the Fundamentals of Accounting\"],[\"Get to grips with the CFA calculator\"],[\"Financial Model Fundamentals-Learn the Essential Skills\"],[\"Forex: Economic News Trading\"],[\"Analyze Real Estate Investments | Financial Modeling\"],[\"Forex For Beginners - A Guide To Currency Trading\"],[\"Raise Your Credit Score to 800 Or More....\"],[\"Financial Management Budgeting Techniques\"],[\"Forex Killing Divergence - How to trade with precision\"],[\"Working Capital Management for CA / CFA / CPA Exams\"],[\"Risk Analysis - Capital Budgeting for CA / CS / CFA exams\"],[\"Corporate Finance 101: Financial Statement Analysis & Ratios\"],[\"Mastering Futures Options for Beginners - Your Top 5 Plays!\"],[\"Professional Options Trading, Simplified\"],[\"Advanced Options Concepts - Probability, Greeks, Simulation\"],[\"Accounting Basics - A Complete Study\"],[\"Case Studies in Macro Economics\"],[\"My Forex Strategy that win consistently over and over\"],[\"Understand Banks & Financial Markets \"],[\"Stock Technical Analysis with Python\"],[\"How to Become an Accountant from scratch!\"],[\"How to invest in Gold\"],[\"Automate Your Finances\"],[\"MBA Accounting and Finance for Managers(Paper MS04 of IGNOU)\"],[\"Accounting Made Easy: A Quick Guide to Financial Accounting\"],[\"Futures/Commodity Training (Basics)\"],[\"Cost Accounting Marginal Costing Theory and Practice\"],[\"The Big Volatility Short: The Best Trade On Wall Street!\"],[\"Master Finance in Three Hours\"],[\"Learn Options on Futures for Hedging Options and Stocks\"],[\"Option selling trading as income source. Beginners friendly\"],[\"Introduction to Value Growth Investing\"],[\"Become A Forex Trader - Forex trading like a professional\"],[\"Hedge Fund Trading System\"],[\"Bulletproof Personal Finance: Expert Asset Allocation\"],[\"Financial Accounting: The Complete Introductory Crash Course\"],[\"Learn About Trading Options from a real wallstreet trader\"],[\"Forex Rate -Why it fluctuates -for CA / CMA / CS / CFA Exams\"],[\"How to Build a Massive Stock Portfolio from Zero!\"],[\"Introductory Forex Trading Course\"],[\"Budgeting Hacks to Build Wealth!\"],[\"Accounting and Finance for Bankers - A Comprehensive Study\"],[\"Forex Prep Academy for Beginners-Real trades!\"],[\"Accounting for Deferred Taxes (Professional Course Level)\"],[\"TRADING TRUTHS\"],[\"The Binary Institute - Introductory Course in Binary Options\"],[\"Forex Trading vs Option Trading\"],[\"How to Invest in Stocks + Billionaire Investing Tips\"],[\"Value Investing For Beginners\"],[\"TRADING TACTICS\"],[\"MQL4 Tutorial Bootcamp - Trading Robot Coding in Metatrader4\"],[\"Ultimate Retirement: Build Your Own Dynamic Retirement Plan\"],[\"build a solid foundation for trading options\"],[\"Forex Scam: Avoid the scam today\"],[\"Cost Accounting Crash Course\"],[\"Option Trading for Rookies: Basic Option Strategies\"],[\"Business Analysis:  Working with Use Cases\"],[\"Learn to Raise the Funds You Need via Crowdfunding\"],[\"Business finances\"],[\"Financial Accounting - A Brief Introduction\"],[\"Trading Economic Indicators - Complete Trading System\"],[\"Foundation of Options Trading and Investing\"],[\"Option Trading - How To Earn If You Can't Predict The Market\"],[\"The Financial Analyst Skills Training (FAST) course 2017\"],[\"Covered Calls - Powerful Income Strategy for Stock Traders\"],[\"Accounting 1 Simplified for You\"],[\"[Value Investing] Where White People Keep Their Money\"],[\"How to Start Investing: Made Simple and Easy\"],[\"Basics of Commerce A Complete Study\"],[\"The Passive Investing Blueprint - Build Wealth Passively\"],[\"7 Steps: Your Introduction to Trading\"],[\"Forex - Elliott Wave Theory with Fibonacci. \"],[\"The Actuarial Profession: Basic Sciences and Principles\"],[\"Investing in stocks: Avoid stock market loss\"],[\"QuickBooks Online: Complete Guide & Certification tips\"],[\"Build Financial Models & Value Companies The Easy Way\"],[\"Adventure Capital: How to pay off debt \"],[\"Chart Patterns Trading Demystified\"],[\"Financial Planning & Analysis: Building a Company's Budget\"],[\"Simple things you must know before start FOREX (OFFER)\"],[\"Practical Finance\"],[\"Forex Trading: Comprehensive & Concise Forex Trading Course\"],[\"Leaps Options Trading System - Diagonal Leaps Options Spread\"],[\"Finance - Ratios Analysis & Interpretations\"],[\"Forex Trading -  Learn to Trade From Scratch!\"],[\"Technical Analysis tools for Stocks and Options trading\"],[\"Quantitative Trading Analysis with R\"],[\"Penny Stocks King: How 2 really Trade Penny Stocks (6 Hours)\"],[\"Get Started With Penny Stocks -Step by Step Guide to Trading\"],[\"CPA 101: How To Master Affiliate Marketing In No Time\"],[\"Corporate Internal Controls and Fraud Controls\"],[\"Forex trading tactics, that work!\"],[\"Professional Risk Manager (PRM) Certification: Level 2\"],[\"Trading Options Basics\"],[\"Practical Trading on Financial Futures & Options Markets\"],[\"Bookkeeping made simple\"],[\"The Visual Learning Basic Accounting Course\"],[\"ChalkTalk: Financial Accounting\"],[\"The 7 fundamentals to Successful Cashflow Management\"],[\"How to trade options\"],[\"Coaching Course:Investment Analysis for your clients\"],[\"Harnessing the Power of Growth Stocks\"],[\"The Investment Banking Recruitment Series\"],[\"Business Banking 101\"],[\"CFA Level I Workshop 2: Financial Reporting & Analysis I \"],[\"Breakout Patterns Workshop by Pattern Trader\"],[\"Asset Protection Using Offshore Companies\"],[\"Get Credit for Your EIN That's Not Linked to Your SSN\"],[\"Financial Translation\"],[\"How to Pick Stocks\"],[\"Binary Beginners Mastery Strategy.\"],[\"Accounting 101-Master Class for Understanding Business\"],[\"High-Frequency Trading & Dark Pools\"],[\"How To Crowdfund\"],[\"Financial Statement Fundamentals for Small Biz & Investors\"],[\"Master The Stock Market with practice\"],[\"Introduction to Trade Theory (Technical Analysis) For Stocks\"],[\"Forex Trading For Beginners: Technical Trading\"],[\"IAS 12 - Accounting for Income Taxes (Basics)\"],[\"Surpassing Your Kickstarter Goals\"],[\"Simple Linear Regression Analysis ( A Complete Course )\"],[\"Forex: Learn to Trade Forex and FX Consistently\"],[\"Trading: High-ROI Trading\"],[\"Fundraising 101\"],[\"Professional Bookkeeping & Accounting 2 - Bank Daybook\"],[\"Filing with Companies House UK\"],[\"Build, Grow, and Protect Your Assets: A Step-by-Step Guide\"],[\"The Advantages of ETF Options and Index Options Trading\"],[\"Learn to Trade Forex - from Beginner to Professional\"],[\"Investing In Stocks For Big Gains, Fundamental Investing\"],[\"Introduction to Equity Markets\"],[\"Beginners Guide To Ichimoku Trading\"],[\"Financial Management - Ratio Analysis\"],[\"ALGOTECH Hedge Fund Method for Stock Market Trading\"],[\"Futures/Commodity Trading\"],[\"Complete Claritas Investment Certificate\"],[\"Introduction to the economics of public services regulation\"],[\"Accounting Standard 3 - An Analysis\"],[\"Essentials of money value: Get a financial Life !\"],[\"Introduction to Forex Trading Business For Beginners\"],[\"Cryptocurrency (BTC & ETH) Investment & Trading Course 2017\"],[\"Introduction to Project Management for Finance and Acct'g\"],[\"Best Practices in Corporate Budgeting\"],[\"Financial Statement Auditing Cycles\"],[\"Case studies on credit appraisal for bankers\"],[\"Building a Balanced Scorecard\"],[\"Options Trading Foundation: Your journey to competency...\"],[\"Forex how traders beat the markest with little experience\"],[\"CFA Level 2- Quantitative Methods\"],[\"Foundations of Investing\"],[\"Capital Market Road Map\"],[\"TRADING: 5K CHALLENGE\"],[\"CurrencyFair - Avoid Bank Charges when converting currencies\"],[\"Bitcoin - A Comprehensive Guide\"],[\"Forex Trading\"],[\"The True ' Secret Sauce  For Stock Market Success\\\"\"],[\"Bookkeeping to Command Senior Bookkeeping Wages\"],[\"Take Your Career to the Next Level with MBA Finance\"],[\"How to Read Financial Statements:  Build Financial Literacy.\"],[\"Accounting Books of Accounts (College Level)\"],[\"Forex Trading Profitably\"],[\"Learn How to Trade Pump and Dumps. 5 Setups Well Explained.\"],[\"Bitcoin Trading 101\"],[\"Visualizing Data\"],[\"IFRS Financial Reporting\"],[\"Forex Trading System: Correlation EUR/GBP vs GBP/USD\"],[\"SAP Crystal Reports:Master-Detail,Cross-Tab,Sub-Reports\"],[\"Learn Financial Accounting Different\"],[\"CFA Level I Workshop 4: Fixed Income and Equity\"],[\"IAS37 - Provisions, Contingents Liabilities & Assets\"],[\"What You Should Know to Become a Trader\"],[\"Financial Reporting A Comprehensive Study\"],[\"An Abundance Mindset: How to Craft Yours\"],[\"Forex Trading Profit 183%p.a : Trend is Our Friend-ALGOTREND\"],[\"How to Build a Massive Retirement Plan from Scratch!\"],[\"Financial modeling: Build a forward looking financial model\"],[\"Trading for Beginners - Entry Level\"],[\"Bitcoin or How I Learned to Stop Worrying and Love Crypto\"],[\"Trend Following Stocks: A Complete Trading System\"],[\"Forex Basics\"],[\"Accounting Bank Reconciliation Statement (College Level)\"],[\"Bitcoin - Ethereum: Trading -Watch me manage my own account!\"],[\"FOREX : Learn Technical Analysis\"],[\"FastTrack to Stock Trading Strategies\"],[\"Algorithmic futures trading - Investing with no experience\"],[\"Succeed in Forex Even if You Don't Know Where to Start!\"],[\"Hedge Fund Accounting and Valuation\"],[\"Binary, Forex, Stock and Bitcoin Trading Strategy\"],[\"2 Easy Steps To Investment And Avoiding Traps\"],[\"Ethereum Course for Investors\"],[\"Using Xero for your bookkeeping needs  do beautiful business\"],[\"Capital Market Immersion\"],[\"Forex Trading :RSI Indicator-A Secret Weapon\"],[\"Trading Mindset, and Three Steps To Profitable Trading\"],[\"Professional Bookkeeping & Accounting 4:Trial Balance & More\"],[\"Internal Controls - Design, Implementation and Monitoring\"],[\"Forex online live trading system (Special Offer)\"],[\"Winning Options Trading System\"],[\"Learn The ABC's Of Investing And Understanding True Financial Value\"],[\"How to invest in Russian equity market\"],[\"Handle difficult questions the bank manager will ask you\"],[\"Credit Control Procedures\"],[\"FMT: Forex Market Trader Certificate\"],[\"Six Stage Negotiation\"],[\"Financial Reporting - Fundamentals/Basics\"],[\"Decide whether to Invest in a Business \"],[\"UK Tax Returns with HMRC\"],[\"Financial Market Environment & Investment Strategies\"],[\"How to Obtain a Business Loan\"],[\"Evolution and Features of ETFs\"],[\"Cost Accounting Operating Costing(Professional Course Level)\"],[\"Trade RSI Breakout Strategy: Great Risk/Reward Ratio (Forex)\"],[\"Day trading strategy for all level, with 72% success rate\"],[\"Accounting, Finance and Banking - A Comprehensive Study\"],[\"Advanced Technical Analysis PART1!\"],[\"Advanced Financial Management for CA / CS / CFA /CPA Exams\"],[\"Learn the Foundations of Stocks and Options\"],[\"Forex Trading Masterclass - Learn To Trade Better\"],[\"Introduction to Accounting - Analyzing Financial Statements\"],[\"Credit Risk Analysis\"],[\"Fund Flow Analysis for CA / CFA / CPA Exams\"],[\"Python for Trading & Investing\"],[\"Stocks For Beginners - A Guide To Investing\"],[\"Intro to Impact Investing\"],[\"Stock Market - Swing Trading Strategies for Wall Street\"],[\"Essential Options: Strategies for Mastering the Stock Market\"],[\"The Day Trader: Learn to Trade The Stock Market and Forex\"],[\"Introduction To The World Of Equity Finance\"],[\"Stock Technical Analysis with Excel\"],[\"Beginners Forex strategy\"],[\"Mortgage Backed Securities\"],[\"The Complete Financial Model Builder Course-Build 7 Models\"],[\"Fundamental Financial Math\"],[\"Equity Swaps\"],[\"Proven Methods In Trading Candlestick Patterns\"],[\"Read financial statements as a stock investor\"],[\"Investing: How to Fix Hidden Flaws Inside Your Portfolio\"],[\"Certificate Program in Financial Accounting\"],[\"Trading Biotech Stocks - Understanding the Healthcare Sector\"],[\"Indian Contract Act 1872: Must for all Finance Professionals\"],[\"Fundraising Success: The Art & Science of Major Gifts\"],[\"Smart Trading Techniques for Safe & Consistent Weekly Result\"],[\"Technical Trading and Investing Made Easy\"],[\"Budgeting for Business\"],[\"Complete Guide to Business Loans\"],[\"Hot Trading Investing Strategy: ETF and Futures\"],[\"Financial Management - A Complete Study\"],[\"MQL4 Programming for Traders: Build Robust Trading Robots!\"],[\"Ultimate Stock Market Investing: Learn How to Value Stocks\"],[\"Collection of Advanced Options concepts for Options traders\"],[\"No Bull Investing: Investing 101 For Financial Freedom\"],[\"Financial Modeling - Build Your Own 3 Statement Projection\"],[\"Small Business Owners: Drive a Productive Business and Grow\"],[\"Successful Day Trading with Fibonacci\"],[\"Short Straddles - Exploit Earnings Option Volatility Crush\"],[\"Bitcoin For Beginners: Your Quick Start Guide To Bitcoin\"],[\"Technical Analysis 101: Ten Primary Candlestick Reversals\"],[\"Financial Analysis:  A Recipe for Success\"],[\"Basics of Fixed Income Valuation, CFA Level I 2017 Prep\"],[\"Intro to Financial Statement Audits\"],[\"How to Get Growing, Passive Income from the Fortune 500!\"],[\"Managing Budgets in the Public and Non Profit Sector\"],[\"System of Asset Management for Professionals (SAMP)\"],[\"How to invest in Forex Trading & add an additional income\"],[\"Tax made simple for Limited Company Owners and Contractors\"],[\"Introduction to the 8 Pillars for Accountants\"],[\"FX Trading for Beginners\"],[\"Write a Successful Business Grant Proposal\"],[\"A Guide To Trade Binary Options Like An Expert\"],[\"Ratio analysis for bankers and credit analysts\"],[\"Numbers for the  Business Plan\"],[\"Dash Crypto Currency Technical and Trading Overview Bootcamp\"],[\"1 - Concepts of Statistics For Beginners Step by Step\"],[\"4. Ordinary Simple Annuities: The Basics\"],[\"\\u0627\\u0644\\u062f\\u0631\\u0648\\u0633 \\u0627\\u0644\\u062a\\u0639\\u0644\\u064a\\u0645\\u064a\\u0629 \\u0644\\u0633\\u0648\\u0642 \\u0627\\u0644\\u0641\\u0648\\u0631\\u0643\\u0633 \\u0648\\u0627\\u0644\\u0623\\u0633\\u0648\\u0627\\u0642 \\u0627\\u0644\\u0645\\u0627\\u0644\\u064a\\u0629 \\u0627\\u0644\\u0623\\u062e\\u0631\\u0649\"],[\"Financial Risk Manager (FRM) Certification: Level II\"],[\"Level 1 2014 CFA\\u00ae Program \\u2013 Corporate Finance\"],[\"3. Compound Interest \"],[\"8. Amortization Schedules\"],[\"Finance Fundamentals for Non Finance Leaders\"],[\"Strategy layout and Backtesting\"],[\"Easy Forex and Futures Trading\"],[\"Finanzas y An\\u00e1lisis Financiero: Manejo Seguro de Negocios\"],[\"Aprende a hacer paper trading (simulaci\\u00f3n) con Ninja Trader\"],[\"Trading mit kleinen Konten - Grundlagen die du kennen musst\"],[\"entiende la contabilidad y consigue un aumento de salario\"],[\"Trade for Profit: Find-Trade Stocks Successfully Arabic \\u0639\\u0631\\u0628\\u064a\"],[\"Trading Forex  - L'analyse des volumes\"],[\"Disminuye deudas en tu hogar en menos de 30 d\\u00edas\"],[\"CPA 10 COMPLETO\"],[\"Trading Intradiario basado en Precio y Volumen\"],[\"Aprenda C\\u00e1lculo Financeiro de Forma Simples\"],[\"Wie funktionieren Bitcoin? Ein Einf\\u00fchrungskurs.\"],[\"Estrutura\\u00e7\\u00e3o Financeira\"],[\"Five steps to becoming a winner in stock investing\"],[\"Financial Accounting Plus Excel and SAP Crash Course.\"],[\"Introduction to Financial Consolidation under IFRS\"],[\"How to read a Profit & Loss Account and Balance Sheet\"],[\"Learn Bookkeeping From Scratch\"],[\"ACCA MA1 Management Information\"],[\"Introduction to Bitcoin for Beginners\"],[\"Stock Trading:\\u00a0Ultimate Guide to swing trading stocks\"],[\"Bookkeeping Systems\"],[\"Precious Metal Equities\"],[\"Start Now: A Rescue Plan for Retirement Late Savers\"],[\"Eu Funding: Module 2 - Introduction to Horizon 2020\"],[\"How I Make Money Writing About Stocks Online\"],[\"Tradeonomics - Four Steps to Mastering Economic Indicators\"],[\"Improve Your Financial Literacy\"],[\"Forex Trading : Power Of Moving Averages\"],[\"Demystifying Your Personal Tax Return\"],[\"Samuel and Co Trading - Stock & Forex Trading\"],[\"Accounting Department's Tips & Tricks - Beginner to Advanced\"],[\"Certificate Program In Management Accounting\"],[\"How I Trade Forex Successfully\"],[\"Professional Trading With Institutional Supply & Demand\"],[\"Master Calendar Spreads with this live trade on Gold (GLD)\"],[\"Accounting 101: Guide to Business Accounting\"],[\"An Introduction to Financial Markets on Wall Street\"],[\"Win 90% of Trades; Quantitative Investments Models in Excel\"],[\"The Forex Pivot Points Trading Strategy\"],[\"Your Business by the Numbers\"],[\"Forex - Trade Gartley with Precision - Complete Strategy\"],[\"Bitcoin & Ethereum Course (2 Course Bundle)\"],[\"Create Trading Robot Without Coding Skills!\"],[\"Accounting and the Triple Bottom Line\"],[\"MQL5 - Beginner To Expert\"],[\"How to be A High Performance Insurance Broker Part 2\"],[\"CFA Level I Workshop 5: Corp Finance, Quants II & Derivative\"],[\"Xero Bookkeeping Course & Certification by Accounting Firm\"],[\"Trading News Using Binary Options\"],[\"Trading Trends in ANY Market\"],[\"Financial Statements Analysis: Learn to Invest Like a Pro!\"],[\"Contango VXX - ETF Options Trading - Double Your Investment\"],[\"Mergers and Acquisitions M&A Essentials You Need to Know\"],[\"TRADING MARKET MAP\"],[\"How To Confidently Join The Bitcoin Revolution\"],[\"High Probability Trading Across Any Market: Stocks & Forex\"],[\"Option Trading for Rookies: Make & Manage Profitable Trades\"],[\"Your First Successful Forex Trades - With Case Studies\"],[\"MCA Accountancy and Financial Management -Paper MCS 35 IGNOU\"],[\"High-Frequency Trading #1: Basics, History & Strategies\"],[\"Financial Accounting - The Ultimate Beginner Course\"],[\"Level 1 2014 CFA\\u00ae Program \\u2013 Derivatives\"],[\"The Complete Investing Guide: How to Beat Wall Street\"],[\"Bitcoins - Past, Present, Future\"],[\"Learn Accounting by Specific Examples - Part 1\"],[\"Forex: Presentation and  Analysis (Fundamental & Technical)\"],[\"Year-end QuickBooks Procedures\"],[\"Price Action Gap Trading Strategies\"],[\"How to start a successful career in finance?\"],[\"Level 1 2014 CFA\\u00ae Program \\u2013 Equity Investments\"],[\"Wealth Management\"],[\"Basics of Private Equity\"],[\"Curso Completo del Mercado FOREX\"],[\"Como Investir em A\\u00e7\\u00f5es para Iniciantes\"],[\"Robots de Forex: espere ganar 175%p.a! Incluye Robot de Fx! \"],[\"\\uff16\\u6642\\u9593\\u3067\\u30a4\\u30f3\\u30bf\\u30fc\\u30d0\\u30f3\\u30af\\u5e02\\u5834\\u3092\\u653b\\u7565\\uff01\\u6700\\u77ed\\u8ddd\\u96e2\\u3067\\u30c8\\u30ec\\u30fc\\u30c9\\u57fa\\u790e\\u529b\"],[\"Matem\\u00e1tica Financeira de um jeito f\\u00e1cil\"],[\"\\u30d3\\u30c3\\u30c8\\u30b3\\u30a4\\u30f3\\u751f\\u614b\\u7cfb\\uff5c\\u65e2\\u5b58\\u901a\\u8ca8\\u304c\\u4e3b\\u5f79\\u3092\\u3084\\u3081\\u308b\\u65e5\"],[\"Trading Forex - Trader avec les figures harmoniques\"],[\"\\u0412\\u0432\\u0435\\u0434\\u0435\\u043d\\u0438\\u0435 \\u0432 \\u0424\\u0438\\u043d\\u0430\\u043d\\u0441\\u043e\\u0432\\u0443\\u044e \\u0418\\u043d\\u0436\\u0435\\u043d\\u0435\\u0440\\u0438\\u044e\"],[\"Aprenda a Investir no Tesouro Direto Passo a Passo\"],[\"\\u8cc7\\u7523\\u904b\\u7528\\u306e\\u57fa\\u790e\\u3092\\u5b66\\u3076\\u30d5\\u30a1\\u30a4\\u30ca\\u30f3\\u30b9\\u5165\\u9580\"],[\"Aprende a invertir y deja que tu dinero trabaje para ti\"],[\"Buchf\\u00fchrung lernen leicht gemacht\"],[\"Day Trading: High ROI Day Trading \"],[\"Flow Management and Forecasting\"],[\"An Introduction to Management of Portfolios (MoP)\"],[\"CFA Level I Workshop 1: Ethics and Quantitative Methods\"],[\"Accounting Basics 101 for Understanding Business\"],[\"Mortgage Acceleration\"],[\"Stock Market for Beginners. Learn to trade\"],[\"CFA Corporate Finance Level 1 (Part 1)\"],[\"Trading Tips from Hedge Fund Manager\"],[\"Effective Debt Collection Strategies\"],[\"IAS 1-Presentation of Financial Statements \"],[\"Stock Trading Strategies Using a D.A.R.T.\"],[\"Capital Structuring Techiques for CA / CFA / CPA Exams\"],[\"The Complete Guide to Forex Trading\"],[\"Learn How to Trade Binary Options Professionally\"],[\"Learn How to Start Small and Make It Big In Small-Cap Stocks\"],[\"Trading strategies with common sense technical analysis\"],[\"Startup Business: How To Raise Seed Capital\"],[\"Business Economics - Basics (College Level)\"],[\"Technical Analysis 101: Master the Basics of Trading\"],[\"Investing in Stocks? Master The Art of Covered Calls Selling\"],[\"How to Trade Binary Options Effectively \\u2013 All Levels\"],[\"Stock Market: The Zero Risk Way of Investing\"],[\"Forex Trading using professional indicators by TOP traders\"],[\"Corporate Finance 101: Equity Valuation\"],[\"Trading Strategies: Find The Trading Strategy That Fits You\"],[\"Forex Trading - Learn An Effective Forex Trading Strategy\"],[\"Navigate the 10-K and Other Financial Reports\"],[\"From 0 to 1: Investments and Portfolio Theory\"],[\"Bitcoin - The Complete Guide\"],[\"Professional Trader's Mindset - Complete Forex Course\"],[\"Bitcoin Peer Investing: How To Generate Double Digit Returns\"],[\"Forex Breakout Profits: The Definitive Guide\"],[\"Learn to Trade With Fibonacci Tools\"],[\"Investing Internationally into Real Estate, Stocks and Bonds\"],[\"From 0 to 1: Bond Theory and Valuation\"],[\"Stock Market Mastery\"],[\"UK Self Assessment Tax Return Filing Online\"],[\"Introduction to Financial Statements\"],[\"IAS 8-Accounting Policies ,Changes in Accounting Estimates\"],[\"CFA\\u00ae Level 1 2014 \\u2013 Financial Reporting and Analysis\"],[\"Investment Banking Operations : Securities Trade Life Cycle\"],[\"CFA Level I Foundation Course: Introduction to Quants\"],[\"Financial Risk Manager (FRM) Certification: Level I\"],[\"IAS 10 - Events After Reporting Date\"],[\"Investment Portfolio Analysis with Excel\"],[\"Introduction to the CFA Program\"],[\"Chartered Financial Analyst (CFA) - Level 1 - FRA\"],[\"Excel 4 Accounting & Bookkeeping - Master Lookup Functions\"],[\"Cashflow Management for Small Businesses: A How To Guide\"],[\"Forex Basics (Professional Course Level)\"],[\"Advanced Butterfly Spreads for Options Income Strategies\"],[\"The Holy Grail of Auto Trading Forex Futures Stocks Revealed\"],[\"IPO Fundamentals\"],[\"Finance for Non-Finance: Learn Quick and Easy\"],[\"Advanced Options Trading Course\"],[\"Statistics - Measures of Dispersion for CA / CS / CFA exams\"],[\"Work From Home Online (Part/Full) : Trade Forex 4 Beginners\"],[\"Financial Ratios Using Excel\"],[\"How To Start Trading Penny Stocks In 10 Easy Steps 2017\"],[\"How to Copy the Best Traders on Etoro\"],[\"How To Set Up A Limited Company In The UK\"],[\"Forex trading made simple\"],[\"Financial and Business Simulation with Microsoft Excel\"],[\"10.  Bonds and Bond Pricing\"],[\"Professional Risk Manager (PRM) Certification: Level 3\"],[\"Stocks: Quick Method to get started Investing\"],[\"The Fundamentals Of Finance For Non-Finance Professionals\"],[\"Forex - Top Equity Management Strategy\"],[\"The Truths about (in)secure Retirement\"],[\"Learn How to File Taxes for Uber and Lyft Drivers\"],[\"Learn the Basics of the Wave Principle:\"],[\"MasterClass-Japanese &  Heiken Ashi CandleStick Patterns\"],[\"Start Trading Stocks Using Technical Analysis! Part 2\"],[\"Introduction to Corporate Finance (Mergers & Acquisitions)\"],[\"Forex & Financial Market Trading Tutorial- Online Strategies\"],[\"Learn to trade Candlestick Patterns\"],[\"High-Frequency Trading #2: Market Structure & Instruments\"],[\"The Art Of Financial Valuation With Certificate\"],[\"Sensitivity & Scenario Analysis for CA / CFA / CPA Exams\"],[\"Economics:   Competition, Elasticity, a little Game Theory\"],[\"Quantitative Trading Analysis with Python\"],[\"Invest Like a Pro!\"],[\"Options Trading Essentials: The ULTIMATE Guides\"],[\"ACCA FA1 Recording Financial Transactions\"],[\"CFA\\u00ae Level 1 2014 \\u2013 Portfolio Management\"],[\"Essentials Of Swing Trading Stocks\"],[\"Small Business and Managerial Accounting Training Tutorial\"],[\"Use Crowdfunding Effectively With Indiegogo and Kickstarter\"],[\"The Complete Litecoin Crypto Currency Bootcamp\"],[\"Bank Reconciliation & VAT on Excel\"],[\"Commodity Futures Day Trading Strategies\"],[\"Learn to invest in the Stock Market\"],[\"FX Commodity Chart Trading Patterns for Success\"],[\"Forex Elite Trading\"],[\"How to Invest in Startups - Expert Reveals Winning Secrets.\"],[\"Kickstarter success in 5 easy steps\"],[\"Understanding Financial Statements\"],[\"Planning and Executing a Financial Statement Audit\"],[\"The Latest Updates 2016 Financial Accounting Standards Board\"],[\"How to achieve personal transformation\"],[\"Basic Bookkeeping\"],[\"Credit concepts and checklist for bankers, credit analyst\"],[\"Practical Film Financing: Finding & Pitching Investors\"],[\"Ratio Analysis for Financial Statements\"],[\"60 Minutes to Fundamental Accounting Skills\"],[\"Essentials of money value: Get a financial Life !\"],[\"Introduction to Forex Trading Business For Beginners\"],[\"Backspreads, Diagonals and Butterflies - Advanced Strategies\"],[\"Trade Forex 13 Patterns - Golden Ratios Secret Revealed\"],[\"Crystal ball trading - foresee price with seasonal patterns\"],[\"Weekly Options and study of Options expiration dynamics\"],[\"Cost Accounting Basics (Professional Course Level)\"],[\"Learn to Reliably Invest In The Stock Market\"],[\"Hedge Fund Trading Systems Part Two - Stocks & ETFs\"],[\"Stock Market Option Trading: How Sell Options For Premium\"],[\"Straddles and Strangles - Volatility moves in any direction\"],[\"Debt Collection Management: Get Paid On Time EVERY TIME!\"],[\"Learn about it\"],[\"Trading: Basics of Trading for Beginners\"],[\"Options Spreads Bundle-  the heart of Options Trading\"],[\"Trade the News in Forex: EA Robot Included\"],[\"Investment Portfolio Analysis with R\"],[\"Basics of Economics For Beginners A to Z - A Complete Course\"],[\"Seeing the Big Picture: Understanding Financial Statements\"],[\"Financial Modeling for Professionals in 1 Day!\"],[\"Create Your Own Automated Stock Trading Robot In EXCEL!\"],[\"FOREX: From Zero To Hero\"],[\"Learn Call Options and Put Options - Introduction to Options\"],[\"1. Principles of Simple Interest \"],[\"Double Entry Bookkeeping\"],[\"MQL5 Tutorial Bootcamp\"],[\"Succeed at Options Even If You Don't Know Where to Start\"],[\"Buying, Selling, and Storing Precious Metal\"],[\"Accounting Skills for Managers\"],[\"Analysis and Evaluation of Economic Feasibility of Projects\"],[\"Technical Analysis: Understanding Price Action\"],[\"Bitcoin For Beginners\"],[\"IAS 16-Property,Plant and Equipment \"],[\"Basel II\"],[\"Forex Trading Plan\"],[\"Financial Modeling 101\"],[\"Learn Financial Modeling from Scratch - Part1\"],[\"Introduction to Small Business Accounting Training Tutorial\"],[\"Learn Basic Concepts of Economics Step by Step - Complete\"],[\"Introduction to Digital Payments \"],[\"The Beginner's Guide to the Futures and Options Trading\"],[\"Bitcoin Investing: The Complete Buy & Hold Strategy\"],[\"Financial Modeling in Excel for Startups\"],[\"Learn to Trade Forex Naked Price Action Big Shadow Trade\"],[\"Forex Trading For Beginners \"],[\"Build a Trading Comps Valuation Model\"],[\"The Advanced Forex Course for Smart Traders\"],[\"Cost Accounting Overheads (Professional Course Level)\"],[\"Beginners Guide to Stock Market Investing\"],[\"Financial Management Capital Market Instruments\"],[\"NPV and IRR Techniques for CA / CFA / CPA Exams\"],[\"Commercial Credit Analysis\"],[\"Essential Finance For Managers\"],[\"Bitcoin for Accountants\"],[\"ProTrader -  Advanced Technical Analysis\"],[\"Binary Options Masterclass\"],[\"188% Profit in 1Year - Forex ALGO Robot Trading no indicator\"],[\"Financial Accounting, its Cycle, Statements & Analysis\"],[\"Yield Curve Dynamics\"],[\"Value Investing and Stock Market Fundamentals\"],[\"Media Training for Financial Service Professionals\"],[\"Learn the Forex Naked Price Action Pogo Trade\"],[\"Forex - Price action Reversal Strategy\"],[\"Budget preparation for an EU project proposal\"],[\"Corporate Finance and Alternative Investment for CFA L1\"],[\"Don't Let Your Customers Run Your Business\"],[\"Stock Trading: Insider Tips For Determining Market Direction\"],[\"TopTrader Academy - Complete Options Course\"],[\"Working Capital Management for Entrepreneurs\"],[\"Learn Quickbooks to maintain books properly\"],[\"CFA Level I Foundation: Introduction to Financial Reporting\"],[\"Fixed Income Valuation and Analysis, CFA L2\"],[\"Corporation Tax Returns UK\"],[\"Trading For Busy People\"],[\"Basics of Trading\"],[\"CFP - Introduction to Financial Planning\"],[\"Investment Portfolio Analysis with Python\"],[\"Day Trading Market Structure Signals\"],[\"Professional Bookkeeping and Accounting 3: Double Entry \"],[\"Accounting Basics by Hector Garcia, CPA\"],[\"Stock Markets: How I Became Rich By Changing How I Trade\"],[\"Learn About Bitcoin and Bitcoin Mining\"],[\"Take Control By Learning The Stock Market Now\"],[\"Cost Accounting and Financial Management - A Complete Study\"],[\"Learn Global Macro Trading & Investing for Retail Investor\"],[\"Energiespar-Formel // Mehr Geld durch Wasser sparen Zuhause\"],[\"high swing - \\u0643\\u0648\\u0631\\u0633 \\u0644\\u062a\\u0639\\u0644\\u064a\\u0645 \\u062c\\u0645\\u064a\\u0639 \\u0645\\u0631\\u0627\\u062d\\u0644 \\u0627\\u062d\\u062a\\u0631\\u0627\\u0641 \\u062a\\u062f\\u0627\\u0648\\u0644 \\u0627\\u0644\\u0641\\u0648\\u0631\\u0643\\u0633\"],[\"TRADER BOT: Introdu\\u00e7\\u00e3o \\u00e0 Linguagem MQL5\"],[\"\\u8d22\\u52a1\\u5206\\u6790\\u4e0e\\u4f30\\u503c\\u5efa\\u6a21\\u5165\\u95e8\"],[\"Aprende desde cero a operar el mercado de divisas FOREX\"],[\"C\\u00f3mo usar Metatrader 4 para hacer trading?\"],[\"Zoho Books Gestion Financi\\u00e8re d'Entreprise pas \\u00e0 pas\"],[\"Aprende a llevar la contabilidad de forma informatizada\"],[\"Psicolog\\u00eda del trading\"],[\"La costruzione del budget di una proposta comunitaria\"],[\"Erfolgreich als Signalgeber/in, per Social- und Copytrading\"],[\"Aprenda  a Investir\"],[\"Teeter-Totter Accounting\"],[\"beginning accounting\"],[\"Stop Creditors from Harassing you and Avoid Bankruptcy\"],[\"Learn to trade using technical analysis\"],[\"How to Invest Using ETFs from Former Wall Street Trader\"],[\"Workshop on Banking Credit Analysis Process\"],[\"The Cuckoo Strategy to get European Funding\"],[\"Accounting - The 6 most important rules you must learn\"],[\"Mutual Funds for Investors in Retirement Accounts\"],[\"Free Ways to Create Passive Income Online\"],[\"Understanding Financial Statements\"],[\"The Cash Flow Statement - An Introduction\"],[\"Options Foundation - Time Decay, Implied Volatility, Greeks\"],[\"Buying Call and Put Options - Options beginner strategies\"],[\"How To Trade RSI Pullback Strategy: Entry To Exit (Forex)\"],[\"Valuation of Goodwill for CA / CFA / CMA Exams\"],[\"Forex - Catch the Big Market Moves in Forex\"],[\"SEASON 2 MQL4 Tutorial Bootcamp - Metatrader4 Trading Robots\"],[\"Intermediate Accounting 1: Easy. Fast. Simple!\"],[\"Global Macro Investing - Take Control Of The World's Markets\"],[\"How to Read a Balance Sheet\"],[\"Credit Repair from a Financial Institution\"],[\"The Binary Institute -  Binary Options Trading Course\"],[\"Mental Models For Wall Street - Become A Better Trader\"],[\"\\u682a\\u5f0f\\u6295\\u8cc7\\u306b\\u5411\\u304f\\u6027\\u683c\\u306b\\u5909\\u3048\\u308b\\u305f\\u3081\\u306e\\u5fc3\\u7406\\u5b66\\u3092\\u5b66\\u3076\"],[\"Matem\\u00e1tica Financeira com HP12C e MS Excel\"],[\"\\u00a1Triunfar en La Bolsa de Valores No Requiere de Experiencia!\"],[\"C\\u00f3mo Crear Pol\\u00edticas Contables bajo NIIF para PYMES\"],[\"Finanzas Personales para Vivir Libre de Deudas\"],[\"Finanzas personales: Logrando la Libertad Financiera\"],[\"\\u682a\\u5f0f\\u6295\\u8cc7\\u3067\\u672c\\u5f53\\u306e\\u30c6\\u30af\\u30cb\\u30ab\\u30eb\\u5206\\u6790\\u304c\\u3067\\u304d\\u308b\\u3088\\u3046\\u306b\\u306a\\u308b\"],[\"Aktiver Verm\\u00f6gensaufbau mit ETF\"],[\"Socorro! Preciso Organizar as Minhas Finan\\u00e7as!\"],[\"Curso Completo de Opciones Binarias: Estrategias 90% Acierto\"],[\"Le basi del Trading\"],[\"\\u3010\\u500b\\u4eba\\u4e8b\\u696d\\u4e3b\\u5411\\u3051\\u3011\\u9752\\u8272\\u7533\\u544a\\u306e\\u8a18\\u5e33\\u3092\\u81ea\\u529b\\u3067\\u884c\\u3046\\u305f\\u3081\\u306e\\u8907\\u5f0f\\u7c3f\\u8a18\\u306e\\u57fa\\u672c\"],[\"Profit and Loss Account for bankers and credit analysts\"],[\"Business Accounts For Managers\"],[\"Black Scholes Option Pricing Model\"],[\"Chief Wealth Officer\"],[\"Practical Accounts Training A\"],[\"International Trade and New Geographic Economy\"],[\"2. Principles of Simple Interest - advanced problems\"],[\"School of Raising Capital: Agile Financial Modeling\"],[\"How to Read Financial Statements\"],[\"Intro. to Asset-Backed Securities, CFA Level I,  2017 Prep\"],[\"Reach Your Personal Financial Goals the Easy Way (2017 UK)\"],[\"Bitesize Bookkeeping for busy people\"],[\"Do Your Own Accounts\"],[\"CFA Level 1 - Derivatives\"],[\"Accounting for everyone! \"],[\"Stock Fundamental Analysis with Excel\"],[\"Financial Accounting For Beginners\"],[\"Trading: How Transformative Learning Drives Expertise\"],[\"Manual Bookkeeping\"],[\"Numeracy skills in business and everyday life:Think and Deal\"],[\"Financial Modelling in Excel Step by Step\"],[\"Straight From Business School: Create Financial Statements\"],[\"How To Pay Less Tax (UK version)\"],[\"Interpreting financial statements\"],[\"Forex trading with binary options\"],[\"Triple P Trading Course\"],[\"Cost Accounting - A Comprehensive Study\"],[\"How to become a successful day trader\"],[\"Essentials of Finance and Investment in 2 hours\"],[\"Public Speaking: You Can Give Great Financial Presentations\"],[\"Professional Trading - Consistent Profits with Low Risk!\"],[\"Trading for winning\"],[\"Succeed in Stocks Even if you Don't Know Where to Start\"],[\"Options Basics & Trading With Small Capital! - Level 1\"],[\"Forex trading Basic to advance Professional Level course\"],[\"Day Trading in Stocks: Strategies for Beginner Investors\"],[\"Learn to Trade Forex Big U-Turn Trade\"],[\"Technical Analysis Primer for trading Stocks, Bonds & Forex\"],[\"DIY: Reduce Unpaid Federal Tax thru  IRS Offer in Compromise\"],[\"Stock Trading with this Strategy\"],[\"The Psychology of Trading\"],[\"Professional Forex Strategy+2 weeks for FREE trading alerts\"],[\"Stock Trading Essentials for Day Traders\"],[\"Basics of Finance and Budgeting\"],[\"Portfolio Management CFA L1 2016\"],[\"Trade Stocks, Forex & Financial Markets like a Professional\"],[\"The Tax Advantaged Investor: A Guide to Legal Tax Reduction!\"],[\"The Smart Option Trader\"],[\"Beginners Chart Patterns Trading for Penny Stocks\"],[\"Financial Statements: Learn Accounting. Unlock the Numbers.\"],[\"CFA\\u00ae Level 1 2014 \\u2013 Alternative Investments\"],[\"Interest Rate Swaps\"],[\"Financial Modelling for entrepreneurs\"],[\"Economics - CFA Level 1 - 2014\"],[\"Bookkeeping Made Simple\"],[\"What is Bitcoin\"],[\"Accounting for CA CPT Exams Part I\"],[\"Raising Capital for Your Business\"],[\"Silver, Gold, and Inflation\"],[\"Accounting Concepts For Technocrats\"],[\"Beginner Financial Analysis: Invest Like Warren Buffett\"],[\"Advance Technical Analysis\"],[\"The Everyday Investor: Building Wealth with Venture Capital\"],[\"QuickBooks Online : Inventory Management For Non-Finance\"],[\"Law Matters\"],[\"Learn to Trade for Profit: Finding Winning Stocks - Chinese\"],[\"Financial Accounting Part 2 - Passing The Class\"],[\"Simple Options Trading System\"],[\"Investments and Financial Markets\"],[\"Legal Accounting\"],[\"Term Loan Appraisal for bankers, credit analysts\"],[\"Small Biz Doers' Guide to Small Biz Accounting + Bookkeeping\"],[\"Trade Show Samurai\"],[\"Forex Harmonic Trading- With Multiple Forex Chart Examples\"],[\"The Cost of Capital: The Key To Attract Venture Capitalists\"],[\"Accounting for School Students\"],[\"Learn To Trade The Forex Naked Price Action Acapulco Trade\"],[\"Certificate in MYOB AccountRight Premier 2017 Course\"],[\"Master The Psychology of Forex & Binary Options Trading\"],[\"Learn to Pick the Right Stock Broker Account\"],[\"Profit During Crashing Markets: A Step-by-Step Guide\"],[\"Introduction to Futures & Options\"],[\"Learn To Invest In 7 Steps\"],[\"Sell like a Pro: Insider Secrets of Successful Selling!\"],[\"3 Little Pigs: A Multiple Timeframe Forex Trading Strategy\"],[\"6. Annuities Due and Deferred\"],[\"CFA\\u00ae Level 1 2014 \\u2013 Quantitative Methods\"],[\"IFRIC 13-Customer Loyalty Programmes (Revenue)\"],[\"FOREX Currency Trading For Beginners\"],[\"Basic Technical Analysis\"],[\"Forex:Trade Management & Psychology\"],[\"Working Capital assessment for bankers, credit analysts\"],[\"CFA Level I Workshop 6: Alternatives, PM and Economics \"],[\"CFA Level I Workshop 3: Financial Reporting & Analysis II\"],[\"How to trade in the Forex market\"],[\"Bookkeeping Practicals with Software\"],[\"8 Steps To Achieve Financial Freedom And Escape Debt\"],[\"Trading Basics in 30 minutes\"],[\"Technical Charting\"],[\"Profits Turbo\"],[\"Nest Egg Investing\"],[\"Economics for beginners - Various Concepts\"],[\"Investing in Stocks & Shares\"],[\"Learn Financial Modeling from Scratch - Part 2\"],[\"Learn Financial Modeling from Scratch - Part 3\"],[\"A Practical Guide to Wealth Creation\"],[\"'Geometry Of Chance strategy of defeating the roulette.\\\"\"],[\"Trading Algor\\u00edtmico en Forex: Crea tu primer Robot de Forex!\"],[\"MQL4 Bootcamp Tutorial- Trading Robot Coding in Metatrader4\"],[\"Introducci\\u00f3n a la contabilidad\"],[\"Einnahmen aus Udemy-Kursen als Dozent korrekt versteuern\"],[\"Contabilidad Gubernamental en M\\u00e9xico\"],[\"\\u682a\\u5f0f\\u6295\\u8cc7\\u306b\\u5fc5\\u8981\\u306a\\u30b9\\u30ad\\u30eb\\u306e\\u5b66\\u7fd2\\u624b\\u9806\\u3092\\u5b66\\u3076\"],[\"Forma\\u00e7\\u00e3o de pre\\u00e7os em servi\\u00e7os\"],[\"Geld verdienen mit dem Ticken der Uhr, wie Warren Buffett!\"],[\"\\u0422\\u043e\\u0440\\u0433\\u043e\\u0432\\u043b\\u044f \\u0434\\u0435\\u043b\\u044c\\u0442\\u0430-\\u043d\\u0435\\u0439\\u0442\\u0440\\u0430\\u043b\\u044c\\u043d\\u044b\\u043c\\u0438 \\u0441\\u0442\\u0440\\u0435\\u043d\\u0433\\u043b\\u0430\\u043c\\u0438\"],[\"Gu\\u00eda pr\\u00e1ctica para comprar acciones en la Bolsa de USA\"],[\"Contabilidad Financiera: Conoce el Lenguaje de los Negocios.\"],[\"Curso de Day Trader para Iniciantes\"],[\"Curso de Iniciaci\\u00f3n al Trading\"],[\"Complete GST Course For Small and Medium Enterprises\"],[\"3 documentos clave para administrar tu empresa con \\u00e9xito\"],[\"Forex/Opciones Binarias para Principiantes\"],[\"15 Mandamientos para ganar dinero en Bolsa\"],[\"Le bitcoin et la blockchain\"],[\"Contabilit\\u00e0 Generale\"],[\"\\u0422\\u043e\\u0440\\u0433\\u043e\\u0432\\u043b\\u044f \\u043e\\u043f\\u0446\\u0438\\u043e\\u043d\\u0430\\u043c\\u0438: \\u041a\\u0430\\u043a \\u0437\\u0430\\u0440\\u0430\\u0431\\u043e\\u0442\\u0430\\u0442\\u044c \\u043d\\u0430 \\u0432\\u043e\\u043b\\u0430\\u0442\\u0438\\u043b\\u044c\\u043d\\u043e\\u0441\\u0442\\u0438\"],[\"Estrategias de Inversi\\u00f3n aplicadas al mundo del trading\"],[\"\\u30d0\\u30a4\\u30ca\\u30ea\\u30fc\\u30aa\\u30d7\\u30b7\\u30e7\\u30f3\\u53d6\\u5f15\"],[\"Caza los Enormes Movimientos del Mercado\"],[\"Le basi del trading online\"],[\"\\u81ea\\u5206\\u306b\\u5408\\u3063\\u305f\\u6295\\u8cc7\\u4fe1\\u8a17\\u3092\\u898b\\u3064\\u3051\\u3088\\u3046\\uff01\"],[\"Monatlich Geld anlegen f\\u00fcr sp\\u00e4ter!\"],[\"Invierte en la Bolsa Mexicana y de USA\"],[\"Gest\\u00e3o Financeira Para Pequenas e M\\u00e9dias Empresas\"],[\"Curso Completo de Bitcoin - Ganhe 0.00005 Bitcoin\"],[\"Tudo sobre Investimentos em Renda Fixa\"],[\"Aprende a invertir sin capital\"],[\"Apprendre \\u00e0 trader sur le march\\u00e9 du Forex - guide complet\"],[\"Introducci\\u00f3n a las Finanzas\"],[\"Finanzielle Unabh\\u00e4ngigkeit-1: Erste Schritte zur Million\"],[\"Forex para Principiantes-Ejemplos en VIVO de Trading Real\"],[\"Finanzielle Unabh\\u00e4ngigkeit-3 Million\\u00e4r werden mit Immobilien\"],[\"Introduction to Health Financing\"],[\"Accounting Cycle: Learn the concepts in 60 minutes\"],[\"Optimize! Make Best Decisions with Microsoft Excel\"],[\"Understanding The Stock Market: For Beginners\"],[\"CFA\\u00ae Level 1 2014 \\u2013 FI\"],[\"9. Sinking Funds\"],[\"Managerial Accounting - The Ultimate Beginner Course!\"],[\"Forex Trading for Beginners Vol 1:A Forex Course Made Simple\"],[\"Accounting - Basic Costing \"],[\"Double Your Salary With Free, Local, Job Training Courses\"],[\"Financial Modeling - Facebook Case Study\"],[\"Understanding Financial Derivatives\"],[\"Forex Basics: Learn how to read and analyze Forex charts\"],[\"Forex - Help I cant Trade\"],[\"Start-up financial modeling for non-finance professionals\"],[\"The Fast Route to a Faster Financial Close\"],[\"Easy Finance For Startups\"],[\"Excel 4 Accounting & Bookkeeping - Master Date,Time & Text\"],[\"Depreciation, Amortization and Depletion\"],[\"Breakeven Analysis and Pricing\"],[\"Tally ERP Complete Training in Urdu / Hindi\"],[\"Accounting Simplified\"],[\"Series 7: Intermediate Options\"],[\"Accounting and Business Basics\"],[\"Corso introduttivo al trading profittevole\"],[\"Aprende a Ganar Dinero en la Bolsa\"],[\"Inversi\\u00f3n: Fundamentos del Trading para Principiantes\"],[\"Gana en la Bolsa con An\\u00e1lisis T\\u00e9cnico\"],[\"Precifica\\u00e7\\u00e3o - Calculando valor de venda baseado nos custos\"],[\"C\\u00f3mo ganar dinero invirtiendo en bolsa\"],[\"Investiere in Tax Liens-Hohe Zinsen gesetzl. festgeschrieben\"],[\"Investimento em A\\u00e7\\u00f5es\"],[\"Excel\\u3092\\u4f7f\\u3063\\u3066\\u30d3\\u30b8\\u30cd\\u30b9\\u30b7\\u30df\\u30e5\\u30ec\\u30fc\\u30b7\\u30e7\\u30f3\\uff1a\\u57fa\\u790e\\u7de8\"],[\"Estrategias de trading en bolsa\"],[\"Grundlagen der finanziellen Unabh\\u00e4ngigkeit\"],[\"Wie Du, Dir auch mit kleinen Betr\\u00e4gen ein Verm\\u00f6gen aufbaust\"],[\"Corporate Ethics\"],[\"CFA Level 2- Quantitative Methods\"],[\"Core Financial Statement Concepts\"],[\"Understand Core Finance Principles in 60 Minutes\"],[\"Learn Wave accounting to maintain books properly\"],[\"Making Tax Digital - UK HMRC Legislation Explained\"],[\"Surviving Introduction to Finance\"],[\"Cost of Capital and Weighted Average Cost of Capital\"],[\"Studying the CFA Program exams (Mandarin language version)\"],[\"Condor Broken Wing Butterfly Options Trading Course System\"],[\"\\u226a\\u864e\\u306e\\u5dfb\\u226b\\u8a3c\\u5238\\u53d6\\u5f15\\u306e\\u300c\\u7a0e\\u91d1\\u306e\\u304a\\u60a9\\u307f\\u300d\\u89e3\\u6d88\"],[\"\\u3010\\uff11\\u65e5\\u3067\\u30de\\u30b9\\u30bf\\u30fc\\uff01\\u3011\\u4eca\\u65e5\\u304b\\u3089\\u306f\\u3058\\u3081\\u308b\\u8cc7\\u7523\\u5f62\\u6210\"],[\"TRADING FOR A LIVING: Trading Full-Time Transition Guide\"],[\"Learn How To use Channels to find amazing Forex Entries\"],[\"Financial Analysis, from Scratch to Professional!\"],[\"Cost Accounting Labour Costing (Professional Course Level)\"],[\"Learn How To Successfully Trade Forex: In 5 Simple Steps\"],[\"The Intelligent Investor\"],[\"Succeed in Futures Even if You Don't Know Where to Start\"],[\"Binary Options Beginners Guide : Nadex\"],[\"Trading: From Wall Street to Your Street\"],[\"Build your own Naked Trading Forex Robot\"],[\"Tax Preparation: Learn Fast! Prepare Taxes with Confidence!\"],[\"Tax Strategies of the Wealthy\"],[\"The Ultimate Fibonacci Trading Plan for Forex and Stocks\"],[\"Finance and Accounting for Startups\"],[\"Forex - Calculate Lot Size Like Pro\"],[\"The Complete Forex Trader\"],[\"Tape Reading: Learn how to read the tape for day trading\"],[\"4 Easy Daily Forex Trades: A Recipe for Trading Success\"],[\"Trading Robot Forex Programs in Your Sleep in Live Examples!\"],[\"Free Options 101 - Basic of Call and Put Options in 1 Hours\"],[\"An Intro into Trading the Financial Markets\"],[\"Developing A Trading Strategy: Your Guide to Trading Success\"],[\"How to Trade Commodity and Financial Futures for a Living!\"],[\"How to Trade Forex like a Hedge Fund: Long FX Strategies\"],[\"Complete Short Financial Ratio Course for Financial Analysis\"],[\"How to Build Profitable FOREX Automated Trading Strategies!\"],[\"Stock Trading Strategies: Profitable Trading in 7 Days.\"],[\"Management Accounting A Complete Study\"],[\"Become a Career Day Trader: Asian-Pacific Futures Markets\"],[\"Equity Products\"],[\"Financial Accounting Part I - Passing the Class\"],[\"Accounting 102: Guide to Business Accounting\"],[\"Monetizing Your Website: How to Add Cost-Per-Action (CPA) \"],[\"Advanced Finance and Accounting for Startups\"],[\"Basics of Tax in India  (College Level)\"],[\"Trade for a Living\"],[\"Learn Stock Options: Options Made Simple 101\"],[\"Banking Credit Analysis Process (for Bankers)\"],[\"Professional Forex strategy\"],[\"A Beginners Guide to Technical Analysis of Stock Charts\"],[\"Get out of Debt - The Power of Using Compounding Interest\"],[\"Day Trading - Learn to Day Trade / Swing Trade In One Hour.\"],[\"Basel Norms (Basel 1/ Basel 2/ Basel 3) Simplified\"],[\"Learn to Trade Forex Naked Price Action Wammie Trade\"],[\"Fixed Income Securities\"],[\"Financial Accounting Made Easy for All\"],[\"Ultimate Guide To Trading Engulfing Candlestick Strategy\"],[\"Learn Business Finance: Win more work as a Business Coach \"],[\"Accounting for Depreciation (Collage Level)\"],[\"Revealed: Profitable Principles of Successful Traders \"],[\"Easy Market Profits: 3 Step Stock Investing Strategy\"],[\"Hedge Fund Trading Systems For Stocks - Part One\"],[\"Bonds For Beginners - A Guide To The Bond Markets\"],[\"Professional Risk Manager (PRM) Certification: Level 4\"],[\"Crowdfunding for Filmmakers\"],[\"How to Make IT Work Successfully in Capital Markets\"],[\"Introduction to Day Trading\"],[\"Life Coach Business Basics: Finance and Operations\"],[\"Learn How to Profit In Forex With Market Rhythms\"],[\"Optimizing investment to maximise your return\"],[\"Investimento em A\\u00e7\\u00f5es para Leigos\"],[\"Introducci\\u00f3n a la Contabilidad\"],[\"Forex Trading: Strategia Correlazione EUR/GBP vs GBP/USD\"],[\"Finanzielle Unabh\\u00e4ngigkeit-2 Million\\u00e4r werden mit Investment\"],[\"\\u30ab\\u30fc\\u30c9\\u30b2\\u30fc\\u30e0\\u3067\\u30ab\\u30f3\\u30bf\\u30f3\\u306b\\u7406\\u89e3\\u3059\\u308b\\uff01\\u7d4c\\u6e08\\u3068\\u304a\\u91d1\\u306e\\u30ad\\u30db\\u30f3\"],[\"Contabilidad r\\u00e1pida y eficaz\"],[\"Introducci\\u00f3n al trading de opciones\"],[\"Aprenda a Investir seu Dinheiro\"],[\"Trader sur le Forex avec Ichimoku\"],[\"\\u0627\\u0644\\u0639\\u0644\\u0648\\u0645 \\u0648\\u0627\\u0644\\u0645\\u0628\\u0627\\u062f\\u0626 \\u0627\\u0644\\u0623\\u0633\\u0627\\u0633\\u064a\\u0629 \\u0644\\u0644\\u0645\\u0647\\u0646\\u0629 \\u0627\\u0644\\u0625\\u0643\\u062a\\u0648\\u0627\\u0631\\u064a\\u0629\"],[\"\\u30c8\\u30ec\\u30fc\\u30c7\\u30a3\\u30f3\\u30b0\\u30d3\\u30e5\\u30fc\\u5fb9\\u5e95\\u653b\\u75652017\\u5e74\\u7248\"],[\"Kostenrechnung lernen leicht gemacht\"],[\"MetaTrader4 Platform Training\"],[\"Professional Bookkeeping & Accounting 1: Sales & Purchases\"],[\"Step by step guide to understand how business perform\"],[\"How to Grow your Small Business and not run out of Cash\"],[\"Finance for Non Finance Executives\"],[\"An Introduction: MT4 Email, Sound, Notification Forex Alerts\"],[\"Innovators and innovation: Travel through time!\"],[\"Learn How to Trade The Stock Market\"],[\"How To Earn Some Bitcoin Every Time You Use A Search Engine\"],[\"Super Fast Accounting - the fastest way to do your books\"],[\"Financial Modeling and Valuation: Complete Beginner to Pro\"],[\"Learn to trade Chart Patterns\"]],\"hovertemplate\":\"subject=Business Finance<br>price=%{x}<br>content_duration=%{y}<br>course_title=%{customdata[0]}<extra></extra>\",\"legendgroup\":\"Business Finance\",\"marker\":{\"color\":\"#636efa\",\"symbol\":\"circle\"},\"mode\":\"markers\",\"name\":\"Business Finance\",\"showlegend\":true,\"x\":[200,75,45,95,200,150,65,95,195,200,200,200,30,195,200,75,20,200,50,95,200,200,75,50,45,150,200,175,150,140,95,200,45,200,200,195,195,200,195,195,195,195,195,115,200,150,95,200,190,150,200,95,125,30,200,60,200,145,20,200,105,60,155,200,185,150,180,125,200,185,125,95,200,20,60,200,200,120,150,25,200,160,20,95,50,200,20,200,195,200,20,20,95,150,40,0,20,100,75,20,40,20,25,0,50,200,0,195,0,20,150,95,0,20,150,20,25,150,50,0,50,180,50,100,25,200,20,90,0,20,35,50,100,50,20,200,200,60,150,20,105,20,150,0,100,60,200,200,20,30,95,95,60,20,20,200,125,200,200,35,200,200,120,195,125,200,25,200,20,195,20,50,200,120,200,200,45,50,80,0,200,20,50,200,120,145,195,200,45,20,200,75,20,0,20,20,150,20,200,45,60,20,20,50,50,50,0,50,60,0,60,40,45,0,200,95,20,50,200,95,40,20,20,200,20,20,60,75,20,20,20,200,20,20,20,30,95,50,65,95,50,95,50,105,120,40,35,20,0,0,50,20,200,0,125,35,20,75,50,30,50,100,150,20,200,95,200,95,30,25,125,35,30,50,200,35,25,50,20,20,20,20,125,0,20,20,60,60,0,50,0,0,60,60,115,25,120,0,150,0,50,0,35,20,200,20,20,80,70,50,20,75,90,40,30,200,20,75,25,20,20,50,20,20,25,20,50,200,200,60,180,50,200,30,50,40,50,20,150,95,0,20,200,20,60,195,0,0,0,45,100,20,20,200,0,0,180,75,25,50,0,95,40,100,145,30,50,20,20,20,95,90,20,75,0,50,20,145,100,60,45,200,200,150,200,25,20,25,125,50,20,20,200,150,200,20,160,200,30,20,40,50,200,200,100,50,20,50,200,50,30,20,20,25,45,200,50,40,25,20,60,20,20,20,20,0,20,40,30,30,35,20,0,0,30,200,50,190,95,35,30,195,60,195,200,0,20,20,20,50,50,80,25,20,20,20,50,50,50,20,50,95,100,40,40,50,55,0,20,95,200,55,50,25,20,20,50,95,40,55,50,50,20,20,0,125,50,50,120,200,20,0,0,95,0,20,165,200,25,195,200,20,0,20,40,95,195,95,20,35,195,200,105,20,30,20,20,20,30,20,20,40,105,20,100,20,200,95,180,100,150,50,200,60,20,25,95,20,200,50,50,20,20,50,0,50,75,50,50,75,20,195,50,55,20,50,100,40,40,30,50,190,195,50,40,100,20,20,200,60,0,95,0,20,50,25,95,50,50,50,20,20,20,55,20,20,20,200,20,0,50,40,20,20,20,200,100,20,25,80,20,95,70,20,25,40,20,20,45,20,20,25,20,20,50,20,200,20,20,150,20,195,20,0,200,0,50,95,50,0,200,60,50,30,200,20,25,20,200,145,30,45,40,20,20,145,30,50,200,95,45,45,95,95,200,180,50,100,40,50,20,50,50,20,20,0,40,30,60,200,0,130,35,95,20,90,50,35,20,145,40,150,20,20,20,20,20,35,180,50,40,0,20,125,20,0,50,75,95,50,95,80,195,25,200,50,20,95,40,50,20,50,25,25,30,200,50,20,20,40,0,50,30,50,50,0,50,0,30,35,25,20,60,50,20,20,40,20,45,100,50,90,0,100,20,20,50,0,40,20,200,40,30,195,95,0,0,20,50,20,20,50,50,200,0,50,40,20,20,0,20,20,95,40,50,85,0,20,25,50,50,20,35,20,100,50,75,20,20,60,200,145,60,20,50,200,200,60,20,20,140,120,200,50,170,50,200,150,150,60,20,50,20,200,20,20,100,45,50,0,50,50,0,50,25,150,0,0,25,50,0,0,50,0,20,0,25,20,50,25,0,125,200,120,20,50,195,20,60,20,50,20,50,95,150,20,20,50,20,50,50,40,30,50,0,35,0,20,20,30,150,75,50,100,20,0,90,20,0,25,20,50,60,20,90,20,20,50,200,100,160,20,20,25,25,50,60,60,150,20,20,25,200,30,50,20,200,0,20,20,0,20,75,30,20,20,20,145,200,30,20,30,25,45,35,20,20,20,20,20,95,20,35,30,35,50,60,30,20,20,20,20,50,0,25,20,180,95,20,20,20,200,0,30,20,50,50,50,20,50,20,95,100,20,20,20,0,45,200,40,30,50,20,20,40,20,50,50,0,20,50,50,20,35,20,95,20,35,40,110,20,20,95,135,50,30,70,200,20,40,195,50,50,115,20,20,50,0,25,50,150,20,20,20,200,35,40,50,20,20,45,25,20,50,50,35,30,170,20,20,30,30,20,35,195,150,0,20,0,85,75,45,25,20,80,200,150,20,85,20,45,25,30,200,115,30,45,130,140,30,20,140,20,85,20,20,25,40,20,100,175,40,20,25,20,195,200,20,50,50,35,25,20,30,30,55,200,20,30,125,25,35,0,20,20,85,25,0,70,100,40,50,75,0,0,0,0,0,0,25,20,195,45,65,20,95,30,0,40,50,40,200,195,200,50,20,25,195,200,200,0,100,20,200,115,200,200,50,150,20,50,20,50,35,40,20,20,35,180,50,40,50,95,40,40,50,20,200,20,20,25,20,200,20,50,65,50,50,195,20,0,20,30,50,20,20,40,100,85,90,25,55,40,0,35,20,25,180,20,50,20,20,25,50,20],\"xaxis\":\"x\",\"y\":[1.5,39.0,2.5,3.0,2.0,3.0,1.0,2.5,2.5,1.0,5.0,1.0,1.5,2.0,7.0,1.5,1.5,4.0,1.5,0.5833333333333334,2.0,4.0,2.0,1.0,2.0,5.0,4.5,2.0,4.5,3.0,2.5,1.5,6.5,2.0,1.5,10.0,5.5,4.5,7.5,5.5,10.0,6.5,11.5,1.0,16.0,3.0,5.0,5.5,5.0,2.0,2.0,3.0,2.0,1.0,1.5,4.0,5.5,1.0,1.5,1.0,3.5,9.0,4.5,8.5,6.5,5.5,11.0,1.5,3.5,3.0,5.0,2.5,1.0,1.0,3.0,2.0,4.0,1.0,5.0,4.0,1.5,2.0,11.5,1.5,1.0,1.5,1.0,4.5,1.0,1.5,2.5,0.7,9.5,5.0,1.0,0.55,3.0,1.5,5.5,2.0,1.5,1.5,1.5,1.5,1.5,1.0,1.0,1.0,2.0,4.5,5.0,1.5,2.0,1.0,62.0,1.5,0.1333333333333333,0.6833333333333333,2.5,1.5,3.0,4.5,31.5,3.5,2.5,3.0,0.55,1.0,1.5,2.0,1.0,2.5,1.0,1.0,1.5,9.5,1.0,20.0,2.5,1.0,6.0,1.5,4.0,1.5,5.0,2.5,2.5,3.0,1.5,1.0,1.5,1.5,1.0,3.0,3.0,3.5,1.0,2.0,4.5,1.0,46.5,5.0,4.0,2.5,3.0,1.0,1.5,2.0,1.5,4.5,2.0,1.5,2.0,3.0,1.5,5.5,1.5,5.5,10.0,2.0,3.0,0.7,1.0,6.0,1.0,1.5,1.5,2.0,5.0,1.5,4.5,4.5,3.5,1.5,1.0,1.5,0.55,9.0,2.0,1.0,1.0,1.5,1.5,5.5,6.0,2.0,2.0,7.0,1.0,2.0,0.7166666666666667,1.5,10.0,1.5,1.0,2.0,1.5,17.5,1.0,1.0,4.5,1.0,2.0,2.0,1.5,12.0,2.0,3.5,1.0,1.5,1.5,1.5,2.0,2.0,0.6833333333333333,3.0,1.5,4.0,2.5,2.0,4.0,2.0,2.5,2.0,2.5,5.0,3.5,1.0,1.0,0.5333333333333333,4.0,1.0,1.0,4.5,2.5,1.0,2.5,4.5,3.0,2.0,24.0,19.5,3.0,1.5,1.5,2.0,3.5,2.5,4.0,20.5,3.0,1.0,4.0,3.0,3.0,2.0,2.5,3.0,0.5,0.7166666666666667,2.0,10.0,20.5,2.0,1.5,10.5,1.0,1.5,3.0,5.5,0.5166666666666666,1.5,2.0,5.0,4.5,1.0,6.5,1.5,2.5,2.0,6.0,0.6,1.5,2.0,1.5,1.0,1.0,0.7,1.5,4.0,3.0,5.5,7.0,1.0,2.0,5.5,1.5,2.5,0.6833333333333333,2.0,0.5,2.0,2.0,0.6833333333333333,3.5,5.5,8.0,2.5,2.0,2.0,29.0,4.0,1.5,3.0,8.0,3.0,2.5,1.0,26.0,1.5,1.5,2.5,1.5,3.0,0.7,6.0,1.0,2.5,1.0,1.0,10.0,1.0,1.0,11.0,3.5,0.5333333333333333,24.5,3.0,1.5,2.0,1.0,2.5,2.0,2.5,6.0,0.7166666666666667,6.0,1.0,2.0,2.5,2.5,1.5,8.0,1.0,1.0,1.5,1.0,1.5,10.0,1.0,3.0,4.0,1.0,5.5,3.5,5.0,1.5,0.5833333333333334,1.0,13.0,1.0,1.0,2.5,1.5,0.7333333333333333,1.0,3.5,1.0,2.5,1.5,1.5,7.5,6.0,2.0,1.5,2.0,0.6,7.5,1.5,4.0,1.0,1.0,3.5,1.0,0.7166666666666667,0.5666666666666667,2.0,3.5,1.5,1.0,1.5,1.0,1.5,1.5,1.5,1.0,2.5,2.0,1.5,3.0,2.0,1.0,2.0,4.5,1.0,1.5,5.5,12.5,1.0,2.0,1.0,3.5,1.0,12.5,2.0,6.5,1.0,5.5,0.3166666666666666,5.5,11.5,8.0,1.0,0.6166666666666667,1.5,2.5,2.0,2.0,2.0,3.5,2.0,1.0,1.0,5.5,2.0,4.0,1.0,0.6666666666666666,2.5,4.5,3.0,4.5,2.0,1.5,1.5,0.6666666666666666,2.0,2.0,6.5,3.5,1.0,2.0,6.0,1.5,4.0,1.5,8.0,4.5,0.6,2.0,2.0,1.5,8.0,3.5,3.5,1.5,2.5,18.0,3.5,1.5,19.5,0.5666666666666667,0.6166666666666667,1.0,1.0,1.0,24.5,1.5,1.5,1.0,6.5,5.5,7.5,1.5,1.5,1.0,0.5666666666666667,2.0,2.5,2.5,1.0,1.0,1.5,0.5666666666666667,0.7166666666666667,1.0,2.0,0.5333333333333333,33.0,3.0,24.5,7.5,3.0,1.0,3.5,1.5,5.0,1.0,0.5333333333333333,1.0,5.0,10.5,2.0,7.0,1.0,3.5,9.0,2.5,3.0,1.5,2.0,1.0,4.5,1.5,1.0,2.5,2.5,1.5,2.5,1.5,2.5,71.5,7.0,3.5,1.0,6.5,1.0,3.0,2.0,0.5833333333333334,1.0,7.0,1.5,3.5,1.5,1.0,2.0,1.0,2.0,3.0,0.6166666666666667,1.5,2.5,1.0,3.0,1.5,1.0,0.5166666666666666,1.5,20.5,47.0,3.0,2.0,1.0,1.0,4.0,14.5,1.5,1.5,3.5,1.5,2.5,2.0,1.5,5.0,1.5,2.0,0.6166666666666667,3.5,3.0,1.0,1.5,2.0,3.0,3.5,0.5666666666666667,0.6833333333333333,1.0,1.0,0.65,1.0,2.5,4.0,2.0,4.0,1.0,5.5,6.0,6.0,1.5,5.5,1.0,14.5,2.0,1.5,2.0,3.0,1.5,2.5,1.0,0.55,1.5,2.0,1.0,2.0,1.5,2.0,2.5,1.0,1.0,3.5,7.0,18.5,2.0,2.5,43.5,0.6,10.0,2.5,5.5,1.5,0.6333333333333333,1.5,2.0,1.0,2.0,4.5,3.5,0.6666666666666666,5.5,1.0,5.0,4.0,1.5,1.5,2.0,5.0,1.0,4.0,14.0,5.0,6.5,1.0,1.5,1.0,1.0,1.5,3.5,14.5,1.0,1.5,1.0,1.0,7.0,5.0,1.0,2.0,3.0,3.0,4.0,2.0,3.0,1.0,0.6333333333333333,3.5,6.0,2.0,1.5,2.5,4.5,5.5,1.0,2.5,2.5,4.0,2.0,4.0,7.5,0.4666666666666667,1.5,2.5,10.0,2.0,5.0,24.0,1.0,9.0,1.0,14.5,1.0,0.6166666666666667,1.5,1.0,1.0,1.0,2.5,0.5333333333333333,1.0,1.0,1.0,1.5,3.5,0.7333333333333333,1.5,0.5166666666666666,1.0,12.5,1.0,1.5,0.5833333333333334,4.5,2.0,1.5,3.5,2.0,1.5,9.0,1.5,0.6833333333333333,2.0,2.0,6.0,5.5,2.5,4.0,3.5,2.0,1.0,3.5,2.0,1.0,1.5,5.0,1.0,2.5,6.0,8.5,0.5166666666666666,1.0,2.0,2.0,0.5333333333333333,0.7333333333333333,2.5,1.0,2.0,2.5,0.6166666666666667,1.5,2.0,4.0,6.0,1.0,1.0,0.6166666666666667,2.5,2.0,1.5,3.0,1.5,1.5,2.5,0.5666666666666667,6.5,1.5,0.7166666666666667,4.5,5.0,3.0,3.0,1.0,1.0,0.5333333333333333,1.5,1.0,1.5,1.0,3.0,4.0,3.0,3.5,0.7,0.6166666666666667,3.5,3.5,1.5,1.0,3.0,4.0,6.0,1.0,2.0,7.0,5.0,2.5,2.5,1.0,7.5,7.5,5.5,1.0,2.0,2.0,2.0,5.0,3.0,3.0,7.0,1.0,1.0,1.0,4.5,2.5,1.0,3.0,1.0,2.5,5.5,3.0,2.0,3.0,1.0,12.0,7.0,2.0,1.0,1.0,1.0,0.5333333333333333,1.0,45.0,1.5,1.5,2.5,70.0,1.5,4.0,6.0,2.0,4.5,0.6,1.0,6.0,8.0,1.0,0.6333333333333333,0.6166666666666667,0.5333333333333333,2.0,1.5,1.0,1.0,0.0,1.0,1.0,1.5,3.0,3.0,2.0,0.7166666666666667,1.5,1.0,2.5,2.0,3.5,2.5,2.5,2.0,1.5,4.5,1.0,1.0,6.0,2.0,2.5,2.0,1.5,1.5,3.5,3.0,7.5,3.0,1.0,1.0,31.5,0.5333333333333333,1.5,1.5,2.0,3.0,4.5,1.5,1.5,4.0,1.0,10.0,1.5,1.0,2.5,0.6333333333333333,1.5,1.0,0.5166666666666666,2.0,3.0,3.0,29.5,2.5,2.0,6.5,1.0,2.0,1.0,2.0,2.5,2.0,1.0,3.0,1.0,1.0,1.0,1.0,1.0,6.0,5.0,3.0,2.0,13.0,1.5,3.0,2.0,3.5,1.0,4.0,2.5,5.0,13.5,2.5,1.0,2.5,0.6833333333333333,3.5,2.5,0.6666666666666666,0.45,3.0,4.5,1.5,1.5,4.0,6.5,5.5,0.5166666666666666,2.5,0.6833333333333333,1.5,1.0,3.0,1.0,0.5666666666666667,1.0,4.5,3.0,2.5,1.5,1.5,5.0,0.6,4.0,2.5,2.0,7.0,1.0,1.0,2.5,31.5,5.5,0.5333333333333333,1.0,5.5,2.0,2.5,2.0,3.5,2.0,1.0,1.5,6.5,1.0,1.0,1.0,3.5,2.0,2.0,5.0,1.5,4.5,2.5,1.5,10.5,6.0,1.0,2.0,8.5,0.7333333333333333,8.5,2.0,3.0,0.65,1.5,3.5,2.0,0.6166666666666667,5.5,4.5,5.5,2.0,1.5,3.0,1.5,1.0,5.0,1.0,2.0,1.0,1.0,7.5,4.5,1.0,11.0,1.0,3.5,1.0,1.5,2.0,4.5,2.0,4.0,1.5,0.6666666666666666,1.0,1.0,1.0,5.0,8.5,1.0,2.0,1.0,4.0,1.5,8.5,3.0,2.0,1.5,4.5,5.0,2.0,1.5,7.0,3.5,5.5,1.5,2.5,3.0,1.0,3.0,1.0,0.6666666666666666,1.5,1.5,1.0,3.5,1.0,3.5,2.0,8.5,10.5,1.0,2.0,5.5,2.0,2.5,1.5,1.0,12.5,0.6,7.0,14.0,1.0,1.5,1.5,1.5,2.0,2.5,1.5,3.0,2.5,5.5,17.5,3.5,2.5,4.5,8.5,1.0,6.5,2.0,8.0,5.0,17.5,1.5,8.5,2.0,1.5,4.0,1.0,4.5,4.0,2.5,2.0,1.0,3.0,3.0,1.5,0.5666666666666667,8.0,4.0,3.0,1.0,3.5,1.5,0.6333333333333333,2.5,2.5,1.5,0.7166666666666667,1.0,2.0,5.5,2.5,2.5,0.65,3.0,3.0,1.5,1.5,0.6333333333333333,1.5,13.0,0.6166666666666667,6.0,4.0,1.0,0.5666666666666667,5.0,2.0],\"yaxis\":\"y\",\"type\":\"scattergl\"},{\"customdata\":[[\"Anatomy and Figure Drawing for Beginners\"],[\"Illustrator CC MasterClass\"],[\"Typographic Logo Design in Illustrator - Beginners & Beyond\"],[\"Adobe Illustrator T-Shirt Design for Merch by Amazon\"],[\"Logo Design in Adobe Illustrator - for Beginners & Beyond\"],[\"Learn Adobe Illustrator: Semi-Automatic Mandalas Drawing\"],[\"Create Professional Looking Infographics With No Experience\"],[\"Discover How to Draw and paint Comics\"],[\"Typographic Logos: Typography and Lettering for Logo Design\"],[\"Photoshop in Ease: Create World Amazing  Graphic Designs\"],[\"Canva Graphics Design Essential Training For Everyone\"],[\"Triangulated Bird: Origami Styled Bird in Adobe Illustrator\"],[\"Illustrator Quick Tip\\uff1a10\\u5206\\u3067Kawaii\\u30ab\\u30e1\\u30ec\\u30aa\\u30f3\\u3092\\u63cf\\u3053\\u3046\"],[\"Deinen Roman setzen mit PagePlus in 10 einfachen Schritten\"],[\"\\u753b\\u50cf\\u52a0\\u5de5\\u306e\\u521d\\u5fc3\\u8005\\u3067\\u3082\\u300c\\uff11\\u65e5\\u300d\\u3067\\u521d\\u6b69\\u3092\\u899a\\u3048\\u3089\\u308c\\u308b\\u7121\\u6599\\u8b1b\\u5ea7\"],[\"Graphic Design Bootcamp\"],[\"The Ultimate Drawing Course - Beginner to Advanced\"],[\"Ultimate Photoshop Training: From Beginner to Pro\"],[\"Photoshop for Entrepreneurs - Design 11 Practical Projects\"],[\"Anatomy for Figure Drawing: Mastering the Human Figure\"],[\"Sketch 3 from A to Z: Become an App Designer\"],[\"How to Design a Logo - a Beginners Course\"],[\"Logo Design Masterclass: Learn Logo Design + Illustrator\"],[\"How to Draw and Sketch for Beginners\"],[\"Graphic Design Masterclass: Learn Graphic Design in Projects\"],[\"Canva Graphics Design for Entrepreneurs - Design 11 Projects\"],[\"Vector Logo Design in Affinity Designer\"],[\"How To Create A Low Poly Portrait With The Pen Tool\"],[\"Photo Editing in Photoshop - Beginner to Advanced in 1 Hour\"],[\"How to Create Kindle & Ebook Covers with Canva\"],[\"How To Make Professional eBook Covers For FREE\"],[\"Design Business Card in Photoshop: Earn Money by Doing It\"],[\"Learn to create beautiful web interfaces and logos\"],[\"Illustrated Logo Design\"],[\"Color Basics for Print Designers\"],[\"Digital Photo Manipulation Art And Cover Design In PhotoShop\"],[\"Drawing Perspective For Beginners\"],[\"Adobe InDesign CC Advanced\"],[\"Intro to Photoshop for Merch by Amazon\"],[\"MicroStation - C\\u00e9lulas\"],[\"Photoshop - Creaci\\u00f3n de Efectos 2\"],[\"Como Criar Logos de Sucesso - Start Designer\"],[\"Super Textos con Photoshop\"],[\"Photoshop - Aprende a Transformar Im\\u00e1genes\"],[\"In\\u00edciate en Microstation\"],[\"Adobe Photoshop pentru Social Media\"],[\"Photoshop - Creaci\\u00f3n de Efectos\"],[\"C\\u00f3mo crear maquetas con Adobe XD\"],[\"Aprenda Modelagem 3D com o 123D Design\"],[\"Ferramentas Visuais\"],[\"Adobe Indesign CC Ba\\u015flang\\u0131\\u00e7\"],[\"How to Doodle: Basics and Lettering\"],[\"Mastering Photoshop CC 2017 - The Art of Design & Technology\"],[\"Design a logo for FREE in Inkscape\"],[\"Foundation Skills on Adobe Illustrator: Learn Fast!\"],[\"How To Create Amazing Cinemagraphs with Microsoft PowerPoint\"],[\"Canva : Graphic Design Theory Volume1\"],[\"Master App Icon Design for iPhone (IOS) & Android Devices\"],[\"Photoshop: How to create stunning collages\"],[\"Mastering advance Photoshop\"],[\"Logo Designing for Your Business in an Hour\"],[\"DIY Design Professional Web Banners in Photoshop 4 Beginners\"],[\"Photoshop CC for Beginners - A Comprehensive Crash Course\"],[\"Teoria Basica del Arte. Como Pintar Ilustraciones Digitales\"],[\"Illustrator CC para novatos: \\u00a1desde cero hasta experto! \"],[\"Photoshop para novatos:  \\u00a1desde cero hasta experto!\"],[\"Diventa un professionista del Graphic Design\"],[\"Forma\\u00e7\\u00e3o em Design Gr\\u00e1fico com Corel Draw Vers\\u00f5es X8 / 2017.\"],[\"ABC do Photoshop CC\"],[\"Photoshop para iniciante - o b\\u00e1sico\"],[\"Curso Online de Adobe Illustrator CC e CS6\"],[\"Photoshop & Illustrator CC Essentials in Arabic\"],[\"Photoshop from Zero to Hero ( Arabic )\"],[\"Photoshop Essentials - Uma Introdu\\u00e7\\u00e3o Detalhada\"],[\"Photoshop CC 2015 Top New Features\"],[\"Expert Guide : Mastering Types feature in illustrator !\"],[\"Cartoon Game Logo Design using Photoshop\"],[\"Most Wanted Flat Design Techniques #2: Hipster Businessman\"],[\"All-in-One Premium Design Course - Scratch to Pro+ Edition\"],[\"Typography 101: Picking the Right Fonts for Business Success\"],[\"Editorial Illustration Tutorial: From Drawing to Photoshop\"],[\"Kindle eBook Cover Design and Book Illustration Guide\"],[\"Removing Backgrounds From Images using Adobe Photoshop\"],[\"Graphic Design Secrets Revealed\"],[\"Drawing in Perspective\"],[\"Digital Art in Adobe Illustrator CC: Angry Bird, Tom & Jerry\"],[\"Adobe Illustrator For Beginners: Design A Typographic Logo\"],[\"Surface Pattern Design : Create Scandinavian Patterns\"],[\"Draw a realistic Fantail using pencil\"],[\"How to design a business card on Photoshop (for beginners)\"],[\"Make Flat Design Space Ships in 30 Minutes in Illustrator!\"],[\"Figure Drawing From Life Using The Reilly Technique.\"],[\"Drawing Cartoony Characters\"],[\"Learn Blender 3D  - The introduction course\"],[\"Inkscape For Beginners 2016/2017\"],[\"Make yourself a Santa Claus: Photoshop Manipulation\"],[\"Become an InDesign Pro in 10 Skills\"],[\"Digital Illustration: Make A Custom Character Illustration\"],[\"Learn Basics Of Adobe Illustrator\"],[\"Discover the 7 Secrets to Figure Drawing: Draw Awesome ...\"],[\"LOGO DESIGN IN POWERPOINT\"],[\"Photoshop CC MasterClass\"],[\"Become A Logo Designer \"],[\"Learn Illustrator By Recreating Top 3 Logos - Beginner Guide\"],[\"Illustrative Surface Patterns Design : From Life To Products\"],[\"Effective iOS & Android App Icon Design\"],[\"Creating an animated greeting card via Google Slides\"],[\"Photoshop: Learn Digital Painting Basics in Photoshop\"],[\"Learning Photoshop CC 2014 in Egyptian Arabic \"],[\"Make tech circles in Photoshop in 30 minutes!\"],[\"Graphic design - The Quick Guide\"],[\"Learn Corel x7 Like a Pro\"],[\"Make tech circles in Adobe Illustrator in 30 minutes\"],[\"Easy Illustration and 2D Animation\"],[\"Make Tech circles in Adobe Photoshop and Illustrator\"],[\"Turn Your Photos Into Professional And Modern Artworks\"],[\"Calligraphy for Beginners: Creating Strong Lines\"],[\"Canva: Design Album Cover Artwork in Minutes - No More Fees!\"],[\"Getting Started With Photoshop CC\"],[\"Learn Adobe Photoshop in 1 Hour\"],[\"Learn Comic Book Color Flatting! (Coloring Assistant role)\"],[\"Illustrator - Creating stylised images from a photo\"],[\"Gimp In-Depth Essential Training Course: Free Photoshop Alt.\"],[\"Convi\\u00e9rtete en un experto de photoshop cc naked series\"],[\"CORSO COMPLETO DI E-ON VUE X-STREAM PER TUTTI\"],[\"\\u5546\\u696d\\u597d\\u8a2d\\u8a08-Illustrator\\u500b\\u6027\\u5546\\u54c1\\u8a2d\\u8a08\"],[\"Ilustraci\\u00f3n de la A a la Z\"],[\"Dise\\u00f1o Gr\\u00e1fico f\\u00e1cil y r\\u00e1pido.\"],[\"\\u8d85\\u57fa\\u790e\\uff01\\u8d85\\u5165\\u9580\\uff01\\u301c\\u4f5c\\u308a\\u306a\\u304c\\u3089\\u5b66\\u3076\\u3002\\u5b8c\\u5168\\u7121\\u65993DCG\\u30bd\\u30d5\\u30c8Blender\\u301c\"],[\"\\u8c03\\u8272\\u9ad8\\u7ea7\\u8bb2\\u89e3\"],[\"Curso de Corel Draw: Como Hacer Todo para tu Fiesta Tem\\u00e1tica\"],[\"Infodesign\"],[\"\\u062a\\u0635\\u0645\\u064a\\u0645 \\u0627\\u0644\\u0642\\u0648\\u0627\\u0644\\u0628 \\u0627\\u0644\\u062f\\u0627\\u0626\\u0631\\u064a\\u0629 \\u0628\\u0627\\u0644\\u0641\\u064a\\u063a\\u0627\\u0633 | Circular Templates Vegas\"],[\"Affinity Designer - tworzenie wzork\\u00f3w\"],[\"Photoshop: Creando efectos de luz\"],[\"Learning Photoshop CC 2015\"],[\"Create Awesome Ebook Covers Using Microsoft Word\"],[\"Photoshop Essentials: Designing FaceBook Graphics\"],[\"Advance Learning Tools Corel Draw Graphics Design\"],[\"Creating an animated greeting card via Google Slides\"],[\"Logo Design for Entrepreneurs \"],[\"Sketch 3: Design a mobile application from scratch\"],[\"Draw a Kitten\"],[\"Adobe Photoshop Essentials: Master Adobe Photoshop CS6\"],[\"Learn GIMP\"],[\"Texturing For Designers - Bring Life to Design With Textures\"],[\"Learn Advanced Photoshop Selections\"],[\"InDesign: Dise\\u00f1o de proyectos paso a paso\"],[\"Domina el Dise\\u00f1o Gr\\u00e1fico para Web con Photoshop CC\"],[\"Graphicriver Autor \\u2013 Verkaufe deine Designs online\"],[\"Adobe Illustrator CC\"],[\"\\uce94\\ubc14(Canva)\\ub85c SNS \\ucf58\\ud150\\uce20 \\ub9cc\\ub4e4\\uae30\"],[\"Illustrator para cria\\u00e7\\u00e3o de pe\\u00e7as gr\\u00e1ficas, Design Gr\\u00e1fico\"],[\"Photoshop Workflow - Manipula\\u00e7\\u00e3o de imagem para Publicidade\"],[\"Como Produzir Ebook e Livros com Adobe Indesign CC e CS6\"],[\"Curso b\\u00e1sico de Gimp; software gratis de dise\\u00f1o gr\\u00e1fico\"],[\"Curso Completo de SolidWorks 2016.\"],[\"\\u306a\\u305e\\u308b\\u3060\\u3051\\u3067\\u3059\\u3050\\u3067\\u304d\\u308b! \\u7c21\\u5358\\u624b\\u63cf\\u304d\\u30a4\\u30e9\\u30b9\\u30c8\\u8b1b\\u5ea7\"],[\"D\\u00e9couvrez InDesign en 1 heure\"],[\"Convert Image to Vector in Adobe illustrator\"],[\"Design & Create Vector Graphics With Inkscape 2016\"],[\"GIMP for Beginners. Make Your Own Professional Book Covers\"],[\"Learn Photoshop Quickly (For Bloggers & Web Images)\"],[\"Photoshop CC 2017 for Beginners: Master Photoshop Essentials\"],[\"Voxel 3D Model Creation Course\"],[\"Logo Design: Mastering the Wordmark\"],[\"The Complete Canva Course\"],[\"Learn Photoshop for Design: 100% Practical Projects\"],[\"Logo Design Theory & Application Bootcamp\"],[\"LaTeX for Professional Publications\"],[\"The Design Theory Blitz\"],[\"Book Design With MS Word And Canva \"],[\"Learn to Design a Letterhead - A Beginners Course\"],[\"Creating Icons with Adobe Illustrator\"],[\"Create Stunning Infographics to Share your Ideas\"],[\"How to stylize your photos in Photoshop with color overlays\"],[\"Business Card and Letterhead Design in Adobe Illustrator\"],[\"A Complete Guide to Successful Freelance Logo Design Career\"],[\"The Logo Design Process From Start To Finish\"],[\"Creative logo design with Inkscape for free\"],[\"Typography Fundamentals - Feel confident with type!\"],[\"How To Sell Your Art Online With ETSY\"],[\"Ultimate Guide on Freelancing Career in Photoshop Design\"],[\"Photoshop - Como criar Fus\\u00e3o de forma profissional\"],[\"Photoshop, Illustrator, InDesign & Graphic Design Principles\"],[\"Photoshop - Tratamento de pele profissional\"],[\"Indesign - Para quem quer trabalhar com Design Gr\\u00e1fico\"],[\"Primeros Pasos con Photoshop CC\"],[\"C\\u00f3mo Dise\\u00f1ar Logos\"],[\"Photoshop para principiantes: \\u00a1De cero a experto!\"],[\"Photoshop Avan\\u00e7ado - P\\u00f3s Produ\\u00e7\\u00e3o e fus\\u00e3o com 3D\"],[\"ABC do Adobe Illustrator\"],[\"\\u062e\\u0637\\u0648\\u062a\\u0643 \\u0627\\u0644\\u0623\\u0648\\u0644\\u0649 \\u0644\\u062a\\u0639\\u0644\\u0645 \\u0627\\u0644\\u0641\\u0648\\u062a\\u0648\\u0634\\u0648\\u0628Photoshop\"],[\"master course - realistisch zeichnen lernen\"],[\"Photoshop\\u30de\\u30b9\\u30bf\\u30fc\\u30b3\\u30fc\\u30b9\\u3000\\u57fa\\u790e\\u304b\\u3089\\u4e0a\\u7d1a\\u307e\\u3067\\u3000\\u30b9\\u30c6\\u30c3\\u30d7\\u30d0\\u30a4\\u30b9\\u30c6\\u30c3\\u30d7\\u3067Photoshop\\u306e\\u3059\\u3079\\u3066\\u3092\\u5b66\\u307c\\u3046\"],[\"Professional Logo Design in Adobe Illustrator\"],[\"Learn UI/UX and Mobile App Design in Photoshop from Scratch\"],[\"Mastering Photoshop: From Beginner to Industry Professional\"],[\"Expert Retina / HiDPI Graphics in Photoshop & Illustrator\"],[\"Start Making Comics with Manga Studio 5 / Clip Studio Paint\"],[\"Most Wanted Flat Design Techniques #1: Desert Island\"],[\"Photoshop Quickstart Guide to Digital Sketching\"],[\"Gestalt Principles & Pattern Design : Create Festive Pattern\"],[\"Logo Design - Design a Logo in Photoshop for beginners\"],[\"Advanced Features in Adobe Illustrator\"],[\"YOU can Draw, Shade and Paint a Mixed Media Girl...today!\"],[\"Photoshop | GIMP: Quick & Easy Image Hacks for Beginners\"],[\"Learn Photoshop CC Essentials\"],[\"Mobile App Design: From Beginner to Intermediate\"],[\"Text based Logo Design for Business Using Adobe Photoshop\"],[\"Graphic Design for Entrepreneurs...Who Can't Draw\"],[\"BUSINESS CARD DESIGN IN POWERPOINT\"],[\"Adobe - How to create a professional Video Title/ Web Banner\"],[\"How to Design an Awesome Letterhead in Adobe Illustrator\"],[\"Graphic Design - An Overview of the Field\"],[\"\\u2714\\ufe0f Illustrator CC : Be a Graphic Designer in Illustrator CC\"],[\"FLAT ICON DESIGN IN POWERPOINT\"],[\"Logo Design By Example : Design 5 Famous Logos\"],[\"Bring your sketch to life - learn digital illustration\"],[\"Learn Cinema 4D: Create an Abstract Background\"],[\"The Art of Icon Design: Create Custom Flat Icon Designs\"],[\"Design Tickets and Vouchers in Photoshop and Illustrator\"],[\"Blender Modelling Series - Volume Two\"],[\"Master Adobe Photoshop Lightroom CC - From Beginner to Advan\"],[\"Design bestselling T-shirts from Beginner to Expert.\"],[\"Digital Painting for Cartoon Characters\"],[\"Create Animated Gif Advertising Banners in Photoshop CC\"],[\"The Play-Doh Technique: Fun Hand-made Vectors In Illustrator\"],[\"Photo Manipulation: Master Photo Editing\"],[\"How to create flat design icons in 15 minutes in Illustrator\"],[\"Adobe - Create a professional logo step-by-step (Beauty)\"],[\"Essential Skills for Designers - Mastering the Pen Tool\"],[\"Morphing  with After Effect : Everything you need to know\"],[\"Learn  After Effects and master 3d layers in after effects\"],[\"Learn Adobe Illustrator CC - All Essentials In 1 Hour!\"],[\"History of Art and Design from XV to XXI century\"],[\"App Design + Web Design + Photoshop = Combined Course\"],[\"Adobe Illustrator CC for beginners\"],[\"Complete Portrait and Figure Drawing (step-by-step)\"],[\"Adobe Illustrator: Learn Easy Logo Design.\"],[\"Create Beautiful Compelling Social Media Banners With Canva\"],[\"Become a Professional Logo Designer\"],[\"Learn Photoshop Actions - Save time with repetitive tasks\"],[\"Essential Skills for Designers - Masking\"],[\"Mastering Photoshop Elements 13 Made Easy Training Tutorial\"],[\"Become a Graphic Designer, and earn a living from it\"],[\"Learn 2D Cell Shading in Photoshop\"],[\"Adobe Illustrator For Everyone: Create Detailed Vector Image\"],[\"Learn Digital Drawing in Photoshop\"],[\"Quickly Batch Export & Package Logo Files for Clients\"],[\"Logo Design for Everybody\"],[\"Pixelmator - Create Vector Graphics From Scratch\"],[\"Creating an animated greeting card via Google Slides\"],[\"Most Wanted Flat Design Techniques #3: Office Space\"],[\"Flat Design - Create Beautiful Flat Graphics In Photoshop\"],[\"T-Shirt Design Workshop 01: Foundation\"],[\"Expert Guide : Mastering Shapes Creation with Illustrator\"],[\"Logo Portfolio in 1 Hour in Wordpress\"],[\"Complete Digital Painting Training with Corel Painter\"],[\"How to Design Simple Promotional Materials in Photoshop\"],[\"Design and Animate a Gamer UI\"],[\"Learn Blender 3D - The materials and texture course\"],[\"FACEBOOK COVERS IN POWERPOINT\"],[\"Quote Images for Pinterest, Facebook, & Instagram\"],[\"Adobe Illustrator: Create a Quick & Easy Unique Illustration\"],[\"Learn to Design a Logo in Adobe Illustrator\"],[\"Photoshop In-Depth: Master all of Photoshop's Tools Easily\"],[\"Dise\\u00f1o de logo para principiantes\"],[\"After Effects - Alles rund um das Tracking\"],[\"Introducci\\u00f3n al retrato realista con Photoshop\"],[\"Uso B\\u00e1sico de Adobe Photoshop\"],[\"T\\u00e9cnicas Photoshop: Reformar Campo de golf\"],[\"\\u8ab0\\u3067\\u3082\\u308f\\u304b\\u308b Adobe Illustrator CS5\"],[\"\\u8ab0\\u3067\\u3082\\u308f\\u304b\\u308b Adobe Photoshop CS5\"],[\"MicroStation - Niveles\"],[\"Crea personajes fant\\u00e1sticos con Photoshop\"],[\"Letras en Adobe Illustrator\"],[\"Photoshop: Creando elemental de aire\"],[\"MicroStation - C\\u00e9lulas\"],[\"Nuke X: Aprende composici\\u00f3n digital\"],[\"\\u0e2a\\u0e23\\u0e49\\u0e32\\u0e07\\u0e07\\u0e32\\u0e19\\u0e01\\u0e23\\u0e32\\u0e1f\\u0e1f\\u0e34\\u0e04\\u0e41\\u0e2d\\u0e1e\\u0e1e\\u0e25\\u0e34\\u0e40\\u0e04\\u0e0a\\u0e31\\u0e48\\u0e19\\u0e21\\u0e37\\u0e2d\\u0e16\\u0e37\\u0e2d\\u0e14\\u0e49\\u0e27\\u0e22 Adobe Illustrator\"],[\"Photoshop: Creando elemental de agua\"],[\"\\uff17\\u65e5\\u3067\\u30de\\u30b9\\u30bf\\u30fc  \\u30d3\\u30ae\\u30ca\\u30fc\\u5411\\u3051 Adobe Illustrator\\u3000\\u3069\\u304d\\u3069\\u304d\\u30bb\\u30df\\u30ca\\u30fc\"],[\"Si eres nuevo en Photoshop...Este es tu curso N\\u00ba1\"],[\"Intro to Illustrator\"],[\"\\u753b\\u50cf\\u52a0\\u5de5\\u306e\\u521d\\u5fc3\\u8005\\u3060\\u3068\\u3057\\u3066\\u3082\\u3001\\uff11\\u9031\\u9593\\u3067\\u30db\\u30fc\\u30e0\\u30da\\u30fc\\u30b8\\u306e\\u30c8\\u30c3\\u30d7\\u753b\\u50cf\\u3092\\u88fd\\u4f5c\\u3067\\u304d\\u308b\\u3088\\u3046\\u306b\\u306a\\u308b\\u753b\\u50cf\\u88fd\\u4f5c\\u8b1b\\u5ea7\"],[\"Photoshop - Automatiza\\u00e7\\u00e3o com Adobe Script\"],[\"\\u062f\\u0648\\u0631\\u0629 \\u0634\\u0627\\u0645\\u0644 \\u0644\\u0628\\u0631\\u0646\\u0627\\u0645\\u062c \\u0625\\u0644\\u0633\\u062a\\u0631\\u064a\\u062a\\u0648\\u0631 \\u0644\\u0644\\u0645\\u0628\\u062a\\u062f\\u0626\\u064a\\u0646 - Adobe illustrator CC\"],[\"Corel Draw X8 Ba\\u015flang\\u0131\\u00e7 E\\u011fitimi (YEN\\u0130)\"],[\"Formation Photoshop\"],[\"8 Stunden professionelles Cinema 4D Training\"],[\"Clipping Masks & Shaped images in Adobe Photoshop CC\"],[\"Expert Guide : Mastering Photoshop Smart Objects in depth !\"],[\"Portrait Typography in Photoshop - Anyone can do Typography\"],[\"Mastering Retouching and Restoration (15 projects Included)\"],[\"Make flat design trees in Adobe Illustrator in 30 minutes!\"],[\"Photoshop Fantastic! - The Comprehensive Guide to Photoshop\"],[\"Drawing in PowerPoint: Block diagram + Experiments + Cartoon\"],[\"Graphic Design: Double Your Sales With Canva\"],[\"Easy Typography Tips to Beautify and Strengthen Your Work\"],[\"Adobe Illustrator Advanced Vector Artwork\"],[\"Web Elements Design With Photoshop\"],[\"Logo Design Made Easy: Create your own logo in PowerPoint\"],[\"Typografie - Die besten Schriftarten im Gesch\\u00e4ftsalltag\"],[\"Lettering\"],[\"Corel Draw x7\"],[\"Adobe Photoshop CC - Fundamentos\"],[\"Curso de Dise\\u00f1o e Ilustracion de Armas para Videojuegos\"],[\"Photoshop - Composi\\u00e7\\u00e3o vintage\"],[\"Photoshop: Automatiza invitaciones con bloc de notas y Excel\"],[\"Illustrator CC 2016 Power Workshops (Deutsch)\"],[\"Curso Blender 3D  do B\\u00e1sico ao Avan\\u00e7ado \"],[\"Dise\\u00f1o impreso - Preimpresi\\u00f3n para offset en Illustrator\"],[\"Fundamentos de la Tipograf\\u00eda - Para un dise\\u00f1o eficaz\"],[\"\\u0627\\u0644\\u062f\\u0648\\u0631\\u0629 \\u0627\\u0644\\u0634\\u0627\\u0645\\u0644\\u0629 illustrator from zero to hero\"],[\"Designing an eBook Cover that Sells\"],[\"Master Terrazzo: Creating Vector Tiles with Adobe Illustrati\"],[\"Paint atmospheric sunset with soft pastel!\"],[\"Earn and Learn to create Logo designs in Illustrator quickly\"],[\"Create your own Photoshop brush preset!\"],[\"Quick and Quirky Caricatures - Learn in an Hour!\"],[\"Finalize Production Files | Photoshop Illustrator InDesign\"],[\"How to illustrate in Flash \"],[\"OpenCV Computer Vision Application Programming \"],[\"Turn your animated greeting card carousel into a music video\"],[\"Mastering Photoshop Elements 15 Made Easy Training Tutorial\"],[\"Manipulate Photos with GIMP\"],[\"Learn to Draw Pretty Faces for Comic Books\"],[\"The Business Graphic Design with Photoshop & Illustrator\"],[\"Bestseller!! Learn Illustrator CC in 1 Hour\"],[\"Learn Professional Book-Cover Designing Photoshop 4 Beginner\"],[\"How To Make Graphics For A Website\"],[\"Adobe Illustrator: How to Draw Squared Animals Icons\"],[\"Book Covers and Graphic Design with PowerPoint 2013/2016/365\"],[\"Getting Started With Digital Painting Using Krita\"],[\"Logo Design - Guide to Logo Design in Photoshop\"],[\"Logo Design Essentials \"],[\"Fundamentals of Character Design: From Concept to Vector\"],[\"Whiteboard Animation, Beginner To Expert - In 1 Hour!\"],[\"Drawing Fun Caricatures! :) -The Best Method!\"],[\"Advanced Graphic Design-Photoshop CC 2014 for Photographers\"],[\"Design Beautiful & Professional Ebooks Using FREE Software\"],[\"Desktop Publishing 101: Simplified Editing\"],[\"Create Professional Character Designs in Photoshop\"],[\"How to Make a Custom Graphic From Sketches \"],[\"Getting Started with Illustrator CC\"],[\"Photoshop From Scratch to Logos, Digital Drawing & Projects\"],[\"How to Make Your Own Children's Interactive eBook!\"],[\"InDesign Basics for Beginners: Learn InDesign Quickly\"],[\"Create an Accelerated Learning Flowchart with Watercolors\"],[\"How to Create Vector Characters in Illustrator or Photoshop\"],[\"Photoshop Learn Concept Art Manipulation\"],[\"Make Logo design pay with illustrator in less than a day\"],[\"Create a Majestic Bear on Adobe Illustrator\"],[\"Adobe Illustrator CC Beginner\"],[\"Create Beveled Lettering in Adobe Illustrator\"],[\"Learn Adobe Illustrator and Premiere Pro in 1 hour\"],[\"Adobe photoshop The  Flying Land compositing\"],[\"Learn Mobile App Design in Photoshop\"],[\"Photoshop: Real World Learning\"],[\"Adobe Illustrator Fast Track\"],[\"Mastering Text Animation in After Effect\"],[\"How to Design A 2D Character in Illustrator\"],[\"Design Efficiency Intensive\"],[\"Adobe Photoshop CC for Photographers Advanced\"],[\"Adobe InDesign Tips and Tricks\"],[\"Photoshop CC Training - Creating Fantastic Album Cover Art\"],[\"Beginner's Guide to Book Cover Designing.\"],[\"Low Poly Portrait Illustration\"],[\"Events Promotion Design\"],[\"Adobe Photoshop CC Introduction\"],[\"Ecover Mastery in 30 Minutes with NO photoshop skills needed\"],[\"Adobe Illustrator in Under 10: Fast info at your Fingertips!\"],[\"An Easy Introduction to Adobe Photoshop\"],[\"Create Beautiful Image Maps for Your Website\"],[\"T-Shirt Design Workshop 02: Mixed Media Design\"],[\"Design a unique bookstore-quality Photo Book with Blurb\"],[\"Learn to Create Deliverable Brand Identity Package\"],[\"How to Draw Pinups and Sexy Women\"],[\"Design & Create Text Logos in Adobe Photoshop CS5\"],[\"Freelancing A-Z: How To Start A Successful Freelance Career\"],[\"Character Concept Design for Beginners\"],[\"Icon & Logo Symbol Design in Adobe Illustrator\"],[\"How to Draw Majestic Animals: Cats\"],[\"Sketchbook Pro for Beginners\"],[\"Photoshop CC 2017 Full Course\"],[\"Mobile App Design in Photoshop from Scratch - UI & UX DESIGN\"],[\"Affinity Designer - making seamless patterns\"],[\"Typography: Learn the Foundation and Designs\"],[\"Sketch 3 - New Guide To iOS 8 Mobile App Design (2015)\"],[\"How To Become An Etsy Wholesale Seller\"],[\"How to make Business Cards like a Pro\"],[\"Creating animation puzzles with Google Slides\"],[\"iPhone icons gone awesome\"],[\"Adobe After Effect: Create 15 Advance Motion Graphic Element\"],[\"Learn Sketch 3 Mobile App Design From Scratch\"],[\"Learn Real Graphic Design\"],[\"Designing With Halftones: Create a Dot Pattern Portrait!\"],[\"A Beginners Guide to creating Vector Graphics With Photoshop\"],[\"Adobe Photoshop CS6 para Iniciantes\"],[\"PHOTOSHOP: Dessiner l'affiche du film Rogue One en style BD\"],[\"Doble exposici\\u00f3n con Photoshop\"],[\"D\\u00e9buter avec KRITA\"],[\"\\u4f1a\\u58f0\\u4f1a\\u5f71\\u6df1\\u5ea6\\u6559\\u5b66\"],[\"Criando um poster com foto colagem digital\"],[\"Adobe InDesign CC 2017 Quick Start\"],[\"\\u521d\\u3081\\u3066\\u306eiDraw\\u5165\\u9580\"],[\"Interiores Sostenibles 101\"],[\"Wordpress: Comment utiliser le th\\u00e8me FABLE\"],[\"Adobe InDesign CS6\"],[\"Aprende Photoshop con Ejercicios Pr\\u00e1cticos.\"],[\"Typography Design: Learn Web Typography The Practical Way\"],[\"Toon Boom Studio Tutorial - Cartoon Animation Made Simple\"],[\"Learn Logo Designing: 5 Types of Logo Designs in Illustrator\"],[\"Practical Font Design\"],[\"Smashing Photoshop CC/CS\"],[\"Sketching: How to Draw People, Hands, Eyes, Buildings & Cars\"],[\"Converting Type to Outlines in Adobe InDesign\"],[\"Siemens NX Unigraphics (UG) Basic to Advance 3D Modelling\"],[\"Typography From A to Z\"],[\"Digital Asset Designer: Creating and Selling Mockups\"],[\"Adobe Illustrator CC - From scratch \"],[\"Photoshop: 5 Practical Techniques to Improve Your Skills\"],[\"Easy Coloring Book Design\"],[\"Make Patterns in Illustrator\"],[\"Learn to create Text fire effect in Adobe Photoshop \"],[\"Professional Business Logo Design Using Free Online Tools\"],[\"Beginners Guide to Kindle Ebook Covers Design With Fireworks\"],[\"Photoshop isn't like what you imagine A to Z .\"],[\"The Complete Adobe Spark Course\"],[\"The Art of Logo Design : Everything You Need to Know\"],[\"Hand Lettering para Iniciantes\"],[\"Aprende a utilizar Canva\"],[\"photoshop - CURSO DE PHOTOSHOP DO B\\u00c1SICO AO AVAN\\u00c7ADO\"],[\"Photoshop - Revelando os segredos das Fus\\u00f5es\"],[\"Create Mobile App Design from Scratch in Photoshop\"],[\"Apple Watch Design\"],[\"Word Swag : Create Stunning Images with the Word Swag App\"],[\"How to Draw Majestic Animals: Dogs\"],[\"Photoshop Course: Design an eBook Cover in Photoshop\"],[\"Digital Art for Beginners\"],[\"Learn How To Design a Logo in Adobe Illustrator in 30 Mins\"],[\"The most popular techniques in Photoshop\"],[\"Become a Professional Graphic Designer\"],[\"Adobe Illustrator CC 2017 for beginners\"],[\"How to Draw Cute Cartoon Characters\"],[\"How to Create awesome Cinema-graph With Adobe Photoshop?\"],[\"Learn to Create a Mandala with Adobe Illustrator\"],[\"15  Motion Graphic Elements in After Effect (Series 2)\"],[\"Fantasy map design\"],[\"Creating 2D Game Assets\"],[\"create 9 professional logo design full version\"],[\"Stencil - Simple Graphic Design For Entrepreneurs\"],[\"Learn Adobe InDesign from Scratch\"],[\"Getting the Life of an Instructional Designer\"],[\"Drawing for All Levels: How to Design Cartoon Women\"],[\"Photoshop Tools 101\"],[\"How to create gif animation in photoshop\"],[\"How to Color Comic Books... with a Mouse\"],[\"Bestseller! Learn Photoshop in 1 Hour (No Experience Needed)\"],[\"How To Design A Fortune 500 Logo in Illustrator\"],[\"Canva : Graphic Design Theory Volume2\"],[\"Canva : Book Cover Design\"],[\"The Complete Figure Drawing Course HD\"],[\"Mastering Logo Design - 20 Projects step-by-step\"],[\"Graphic Design: Create Animated GIF Ad Banners in Photoshop\"],[\"Learn Inkscape : Design Logos and Game Arts\"],[\"Typography: Learn the Basics to Build a Solid Foundation\"],[\"Master Manga Studio 5: Bonus Drawing and Painting\"],[\"Learn Adobe Photoshop from scratch to professional\"],[\"7 Secrets To Designing In Black and White\"],[\"Photoshop CS 6 ile Foto\\u011fraf \\u0130\\u015flemenin Temelleri\"],[\"\\u8ab0\\u3067\\u3082\\u308f\\u304b\\u308b Adobe Illustrator CS6\"],[\"Devenez le king de l'illustration automobile\"],[\"Corel Draw X7 E\\u011fitimi (Temelden \\u0130leri Seviyeye)\"],[\"\\u8c03\\u8272\\u4e2d\\u7ea7\\u8bfe\\u7a0b\"],[\"Drawing and paint  hot girl with photoshop\"],[\"Photoshop CC E\\u011fitim Seti (YEN\\u0130)\"],[\"\\u0645\\u062f\\u062e\\u0644 \\u0641\\u064a \\u0623\\u0633\\u0627\\u0633\\u064a\\u0627\\u062a \\u0627\\u0644\\u0641\\u0648\\u0637\\u0648\\u0634\\u0648\\u0628 \\u0644\\u0644\\u0645\\u0628\\u062a\\u062f\\u0626\\u064a\\u0646 \\u0641\\u0642\\u0637\"],[\"Creaci\\u00f3n de iconos con Illustrator\"],[\"Adobe Illustrator Course in Urdu Basics Level Training\"],[\"GraphicDesign Studio\"],[\"Aula de Photoshop - Aprenda como recortar imagens\"],[\"Make your own great designs in PowerPoint: Quick & Easy\"],[\"Create Kindle eBook Covers with PowerPoint\"],[\"Magazine Design: Start your own magazine in less than 24hrs\"],[\"Essential Skills for Designers - Adobe Bridge\"],[\"Learn to code in Python and learn Adobe Photoshop today!\"],[\"How to draw Caricatures\"],[\"Essential Skills for Designers - Working with Type\"],[\"Affinity Designer for beginners\"],[\"How to Create Top Ranking Mobile App Icons - iOS Edition\"],[\"Canva - Making Design Simple\"],[\"Ribbon Lettering: From Sketch to Wordmark\"],[\"How to Make a Custom Graphic \"],[\"Create Flat Designs with Inkscape \"],[\":::Beginners Guide To Creating Amazing Images with Canva:::\"],[\"Learn To Draw - The COMIC BOOK STYLE\"],[\"Adobe Illustrator Vectors For Hand Letterers\"],[\"How To Create Amazing YouTube Custom Thumbnail Images\"],[\"Graphic Design Bootcamp: Professional Workflow & Layout Tips\"],[\"Promotional Design Master Class\"],[\"Introduction to GIMP 2.8: Tutorials for Beginners\"],[\"48 Logo Designs and Techniques\"],[\"Photoshop JumpStart\"],[\"How To Sell Practically Anything: Professional Design Mockup\"],[\"Learn Calligraphy, Handwriting animation wz After Effects\"],[\"LaTeX A-Z: from beginner to advance in less than 3 hour\"],[\"Course Bundle | Exploring Art : Silhouette & Linear Line Art\"],[\"How To Build Your Own Web Banner Design Business\"],[\"Canva: Design and Sell Your Own Professional Canva Designs\"],[\"How to Design a Logo in Adobe Illustrator\"],[\"Illustrator CC: Design and drawing from scratch to expert!\"],[\"Logo design: How To Design an Awesome Logo in Illustrator\"],[\"Photoshop: Real World Hands-on Freelance Mastery\"],[\"Graphic Design: Beginner's Graphic Design Guide to Photoshop\"],[\"Most Wanted Flat Design Techniques\"],[\"3DS MAX - Learn 3Ds MAX tutorial for Beginners in Urdu Hindi\"],[\"Design your own Social Media Logo Icons in Adobe Illustrator\"],[\"Mashup - Transform a scanned sketch into a digital painting\"],[\"Motion Graphic With After Effect From Scratch in 5 Hours\"],[\"Introduction to Photoshop CC: Tutorials for Beginners\"],[\"Making Killer Images in Photoshop that WOW Clients!\"],[\"Simple Photoshop CC: Smart Objects\"],[\"Learn Photo Manipulation - Build 3 projects\"],[\"Zombie Apocalypse Photoshop Actions\"],[\"Creative Perspective Illustration with GIMP\"],[\"iPhone icons in iOS7 - learn flat design\"],[\"How to draw professional manga artwork by Punix\"],[\"How do I Create a Stylized Graphics from Images in Photoshop\"],[\"Advance Design of Logos and Brand Identity   \"],[\"Como utilizar o Corel Draw por completo!\"],[\"Photoshop\\u3000\\u4e2d\\u7d1a\\u8005\\u3001\\u4e0a\\u7d1a\\u8005\\u304c\\u30d7\\u30ed\\u306b\\u306a\\u308b\\u305f\\u3081\\u306b\\u6700\\u5f8c\\u306b\\u5b66\\u3076\\u300c\\u8d85\\u7d76\\u6280\\u5de7\\u300d\\u30c6\\u30af\\u30cb\\u30c3\\u30af\"],[\"Corel Draw X7: M\\u00e3o na Massa\"],[\"Dibujo digital b\\u00e1sico: c\\u00f3mo ilustrar en Photoshop\"],[\"Adobe Illustrator CS6 \\u0628\\u0627\\u0644\\u0644\\u063a\\u0629 \\u0627\\u0644\\u0639\\u0631\\u0628\\u064a\\u0629\"],[\"Creare un logo con Adobe Illustrator\"],[\"Mestres do Photoshop\"],[\"illustrator CC 2015.3 - Curso b\\u00e1sico de ferramentas\"],[\"Plantillas Powerpoint para Publicar en Mercadolibre y Ebay\"],[\"Crie seu Cart\\u00e3o de Visita no CorelDRAW X8\"],[\"Curso de Maya 3D\"],[\"Photoshop: Organizaci\\u00f3n de eventos y decoraci\\u00f3n de fiestas\"],[\"Podcast Cover Art | Design Like the Best\"],[\"Learn Drawing and Painting a Landscape with Oil Colours\"],[\"Enhance your chroma key with an animated Slides background\"],[\"The Complete Motion Graphic Course\"],[\"Making Corporate Flyers in Photoshop\"],[\"Rock-Solid Brands\"],[\"Typographic Poster Design - From Sketch to Vector\"],[\"Make Money With Photoshop: Logos, Business Cards & Brochures\"],[\"Photoshop the Art of Clipart\"],[\"Adobe Illustrator Creative Cloud:  Mastering the Upgrades\"],[\"Illustrator 101: Learn Quickly and Easily to create Artwork\"],[\"Design Your Own Fonts. Plus A Bunch Of Typography Secrets.\"],[\"Easy Steps To Become A Photoshop Expert\"],[\"Intro to Adobe Illustrator\"],[\"Beginners Guide: Photoshop Poster/Artwork\"],[\"Basic Graphic Design for PowerPoint\"],[\"Master Graphic Design Using Photoshop with Rachael\"],[\"Adobe Illustrator CC - Print Design for Beginners\"],[\"Adobe Illustrator | Master in 3D\"],[\"From Drawing to Illustration\"],[\"Adobe Suite : Unleash your creativity & benefit from it !\"],[\"Become a Logo Designer: Guide to Complimentary Logo Software\"],[\"DIY Beautiful Social Graphics That Don't Require Photoshop\"],[\"Design while you learn InDesign CC\"],[\"R Graph Essentials\"],[\"Car Sketching with Simple Analog Tools\"],[\"Drawing Anime & Manga Style\"],[\"Inkscape 101 for Beginners - Design Vector Graphics\"],[\"How to Fix Common Branding Mistakes, for Graphic Designers\"],[\"AutoCAD Course - Learn Online AutoCAD in Urdu Hindi\"],[\"Mind-Blowing Photoshop: Master Skills Season 1\"],[\"Architectural Drawing For Creatives\"],[\"Adobe Photoshop (Complete Beginner)\"],[\"Character Design\"],[\"Icon Design Masterclass: Learn Icon Design Principles\"],[\"create stunning Photoshop compositions in minutes\"],[\"Marvelous Logo Design\"],[\"Canva Complete Course For Graphics Design | 20 Projects\"],[\"The Complete Video Production Guide - Learn Top Video Tools\"],[\"Drawing With Confidence\"],[\"Add realistic car paint to your pencil drawing in Photoshop!\"],[\"T-Shirt Sales - Merch By Amazon Profit Formula With Canva\"],[\"Learn print production from start to finish\"],[\"Step by Step Gif animation in Photoshop\"],[\"Adobe - Create a professional logo step-by-step (Farming)\"],[\"Adobe Illustrator CC Advanced\"],[\"Mastering Realistic Real Life Drawing with Pencil\"],[\"Silhouettes that Sells\"],[\"FullPage: The Complete Guide to Flat Websites\"],[\"How to design professional PowerPoint business presentation\"],[\"Pic Monkey for Beginners - Graphic Design and Photo Editing\"],[\"Corel Painter 2016\"],[\"eBook Cover Design\"],[\"Photoshop tips and tricks, how to change clothes\"],[\"How to make Better Compositions: Take your art to new height\"],[\"Adobe Photoshop CC | The Essential Guide\"],[\"Learn to Composite a 2D Action Shot in Photoshop\"],[\"Infographic Design: How To Create Your Own Infographic\"],[\"Autodesk Inventor 2016 : Complete Guide \"],[\"Amazing Graphic Design for Beginners\"]],\"hovertemplate\":\"subject=Graphic Design<br>price=%{x}<br>content_duration=%{y}<br>course_title=%{customdata[0]}<extra></extra>\",\"legendgroup\":\"Graphic Design\",\"marker\":{\"color\":\"#EF553B\",\"symbol\":\"circle\"},\"mode\":\"markers\",\"name\":\"Graphic Design\",\"showlegend\":true,\"x\":[150,95,150,20,200,200,180,65,25,20,200,195,0,0,0,200,150,200,200,95,75,30,200,150,95,200,150,195,20,30,20,50,20,25,20,50,150,30,25,20,30,25,20,20,20,20,20,0,0,0,0,185,20,100,50,30,200,25,20,20,20,200,200,20,150,150,200,45,45,30,80,0,60,0,0,190,20,95,200,75,45,120,20,95,25,0,30,40,0,0,50,0,20,100,40,0,105,30,25,40,95,95,95,0,40,20,20,20,70,50,30,20,200,65,200,20,40,0,75,50,0,50,20,30,70,20,20,20,80,200,125,50,20,20,20,50,45,20,40,20,20,45,0,100,20,60,25,150,70,30,20,30,100,135,80,60,30,30,20,0,200,20,80,195,0,20,200,20,50,25,35,95,0,30,0,0,200,145,95,40,20,100,165,30,30,100,100,0,25,120,135,35,20,20,70,0,145,25,195,0,0,20,50,30,30,30,135,75,140,20,20,95,20,0,0,25,95,50,70,20,90,45,100,50,95,30,85,20,75,195,20,45,20,20,55,20,115,20,20,20,50,150,25,45,20,35,20,185,20,20,30,20,20,95,20,25,200,100,30,55,20,200,95,0,95,20,0,25,20,20,20,40,20,20,20,20,40,20,20,35,20,20,20,20,20,65,195,30,65,200,50,90,195,95,100,50,20,155,20,45,90,45,20,75,40,20,40,40,30,30,150,20,100,20,150,20,20,20,50,20,20,50,20,85,20,30,20,40,200,200,200,200,180,195,20,25,20,50,20,25,20,20,20,20,20,100,20,95,35,200,25,25,50,55,30,20,20,70,20,20,40,20,20,20,30,80,50,25,20,45,30,20,30,20,20,25,180,20,75,95,195,175,100,35,125,90,195,20,135,20,100,20,20,20,30,60,20,20,20,40,50,20,25,200,25,35,20,30,20,50,20,20,50,30,50,20,20,20,50,100,50,45,20,25,20,20,20,20,35,150,20,40,20,100,20,125,20,100,35,50,150,50,20,35,195,55,20,50,30,30,25,35,95,40,40,20,50,20,30,200,195,200,100,50,200,20,20,35,165,20,100,20,20,50,105,200,35,100,120,20,0,95,65,20,30,20,20,50,20,45,20,35,20,40,20,30,25,55,100,25,20,50,20,20,20,50,40,95,80,20,200,100,150,195,105,25,195,20,50,20,30,20,95,20,40,50,50,20,35,50,20,30,85,25,20,35,0,30,20,35,20,20,120,20,20,25,65,20,20,45,100,20,20,40,40,20,20,20,20,25,50,25,20,200,35,20,20,85,40,25,195,35,0,20,195,200,75,40,20,20,20,195,25,25,20,35,20,20,30,20,25,20,20,20,40,20,20,30,20,20,20,20,20],\"xaxis\":\"x\",\"y\":[21.0,12.0,1.5,1.0,7.5,1.0,2.0,62.0,1.5,3.0,2.5,0.5,0.6,3.5,1.0,8.0,11.0,11.5,5.0,68.5,3.5,2.5,6.5,9.0,3.5,3.5,3.0,1.0,1.0,1.5,3.0,3.5,1.0,1.0,0.6,5.0,7.5,3.5,1.0,0.6166666666666667,1.0,6.0,2.0,1.0,1.0,0.5666666666666667,1.0,3.0,1.0,5.0,2.5,1.0,6.5,2.0,2.0,1.0,2.5,2.0,1.5,2.0,1.0,1.0,2.5,1.0,11.0,12.0,17.5,11.0,7.5,3.0,13.0,3.5,12.5,2.5,0.65,2.5,2.5,1.5,5.5,1.5,2.5,1.0,0.6833333333333333,6.0,3.0,2.5,1.5,0.7,1.0,1.0,0.55,2.5,2.0,1.5,4.0,0.5666666666666667,5.0,1.5,0.7,10.0,1.0,11.5,2.5,1.0,1.0,1.0,1.5,2.0,3.5,0.5666666666666667,0.6333333333333333,0.5166666666666666,0.5333333333333333,0.5666666666666667,1.0,1.5,0.6833333333333333,0.6666666666666666,4.5,1.0,0.6666666666666666,0.6833333333333333,2.0,12.0,3.5,0.6833333333333333,3.0,13.5,5.5,1.0,2.5,1.5,0.6,1.5,1.5,10.5,3.5,1.5,14.0,1.0,3.5,2.5,1.5,2.5,6.5,1.0,1.5,4.5,6.5,1.5,9.5,2.0,1.5,12.5,12.5,2.0,9.0,3.0,1.0,0.5166666666666666,2.5,6.5,2.5,3.0,0.65,2.0,4.5,0.6666666666666666,7.0,3.0,0.7,2.5,0.7333333333333333,1.0,0.5,1.5,2.0,8.5,5.5,4.0,1.0,3.0,6.5,4.0,12.0,1.5,2.5,2.5,3.5,7.5,1.0,5.5,2.0,5.0,13.0,7.5,3.0,12.5,1.5,6.5,1.0,1.0,1.0,0.5833333333333334,1.0,3.0,3.5,4.5,10.0,1.0,1.5,1.0,0.7333333333333333,0.5666666666666667,1.0,6.5,1.5,1.0,3.5,0.5666666666666667,1.5,2.5,2.0,8.0,0.6666666666666666,4.0,1.0,0.6333333333333333,1.0,4.5,1.5,2.0,1.0,1.5,1.0,2.0,2.0,8.0,1.5,3.5,1.5,8.0,0.6166666666666667,2.0,10.5,3.0,1.5,1.5,2.0,0.6833333333333333,5.5,3.0,1.0,2.0,2.0,1.0,5.0,1.0,3.5,2.5,1.5,12.5,0.6333333333333333,1.0,1.5,4.5,4.5,0.6666666666666666,1.5,1.0,1.0,1.5,3.5,3.5,0.5666666666666667,1.0,2.5,1.0,0.6166666666666667,2.5,9.5,0.6166666666666667,5.5,2.0,7.0,4.0,8.5,4.5,6.5,1.0,8.5,0.7333333333333333,2.0,2.5,2.5,0.6333333333333333,6.0,2.0,2.5,1.0,7.5,5.0,1.0,1.5,1.5,12.0,7.5,2.5,1.0,1.5,4.5,14.5,1.5,1.0,30.0,2.0,1.0,0.6166666666666667,1.0,0.6166666666666667,1.5,1.0,2.0,2.5,1.0,6.5,2.0,5.0,17.0,1.5,3.0,1.5,0.5333333333333333,4.0,0.6,2.0,0.7,1.0,1.0,0.5833333333333334,1.5,4.0,1.0,4.0,0.7333333333333333,5.5,1.5,1.5,1.5,2.5,3.5,1.5,4.0,1.0,4.0,0.5833333333333334,1.0,2.5,1.5,5.0,2.5,1.0,1.0,0.55,2.5,1.0,1.0,1.0,0.6833333333333333,2.0,4.5,0.6333333333333333,3.5,1.0,0.6166666666666667,2.5,2.5,1.0,20.0,1.5,5.0,16.5,2.0,1.0,4.0,3.5,2.5,1.0,2.5,5.5,2.5,0.7,1.0,3.5,2.5,1.5,1.5,1.0,2.0,7.0,4.5,0.5666666666666667,2.0,0.6,0.6833333333333333,2.5,1.5,1.0,0.65,5.0,4.0,2.0,5.0,3.0,7.5,5.0,2.0,0.6333333333333333,10.5,6.0,3.0,5.5,0.7166666666666667,0.5833333333333334,3.5,0.6,0.6166666666666667,1.5,3.5,2.0,1.0,0.7166666666666667,0.6666666666666666,10.0,3.5,2.5,4.0,1.0,1.0,3.0,15.0,0.5,1.0,20.5,1.5,2.0,1.0,4.5,3.0,2.5,2.0,2.0,1.0,4.5,1.5,1.5,3.0,1.0,2.0,6.5,5.0,2.0,2.0,78.5,7.5,1.0,1.0,1.0,8.0,3.5,1.5,6.0,3.0,4.5,12.0,1.0,1.5,16.0,1.0,3.0,1.0,2.5,2.0,1.0,2.0,2.0,1.0,2.0,4.0,2.0,4.5,1.0,0.5333333333333333,0.7166666666666667,1.0,1.5,1.0,2.0,0.6166666666666667,1.5,1.5,2.0,3.0,9.0,2.0,2.5,2.5,3.0,1.0,1.0,3.0,1.0,11.0,5.5,2.5,1.0,4.5,4.5,1.5,2.0,4.0,1.0,5.0,0.5,2.5,1.5,6.5,3.0,1.5,1.0,2.0,7.0,4.5,4.0,5.0,8.0,1.0,5.5,1.0,2.0,4.0,4.0,8.5,1.0,2.0,1.0,9.5,0.5166666666666666,0.5166666666666666,1.5,5.0,1.0,2.0,1.0,1.0,8.0,6.0,1.0,1.0,1.5,6.0,0.5333333333333333,6.0,9.5,2.5,2.5,2.5,2.0,0.6166666666666667,8.0,1.0,1.5,2.0,3.0,24.0,2.0,2.0,2.5,2.0,1.5,2.5,7.5,2.0,1.0,1.0,1.0,1.0,1.0,1.5,0.65,1.0,0.6333333333333333,1.0,3.0,8.0,1.5,2.0,0.5333333333333333,4.5,1.5,2.0,7.5,0.7],\"yaxis\":\"y\",\"type\":\"scattergl\"},{\"customdata\":[[\"7 Ways A Beginner Guitarist Can Sound Better, Instantly!\"],[\"Instant Harmonica - Christmas. Play Jingle Bells Part 1 now\"],[\"Playing Piano:  Popular Pieces Vol. II\"],[\"Ninja Chord Changes - Master your guitar chord changes\"],[\"Your First 10 Guitar Lessons - Learn how to play guitar\"],[\"Pentatonic Scale Crash Course for Bass Guitar\"],[\"Modal Theory for Guitar (Guitar Lessons from Lutz Academy)\"],[\"Learn Fun Dreamy Piano Techniques #1 -  Play White Christmas\"],[\"Learn Jazz Piano Today\"],[\"Learn To Play The Drums Without A Drum Kit\"],[\"Learn Travis Picking From Scratch\"],[\"Instant Harmonica - how to get single notes in 5 easy steps\"],[\"Piano Runs & Fills #3:  Jazzy Chromatic Chord Song Endings\"],[\"Teaching Music : Start teaching an instrument successfully.\"],[\"Strumming from scratch - Rhythm guitar lesson for Beginners\"],[\"Blues Guitar Lessons - From Texas To Carolina\"],[\"Instant Harmonica - play the groovy Beatles Yesterday today!\"],[\"Beginner Guitar Quick-Start Course\"],[\"Mike G's Beginner Drum Course: Part 1\"],[\"Guitar for Beginners - Learn the Basics\"],[\"How To Play The Djembe: For Beginners\"],[\"Blues Guitar Lessons - Volume 1 - Blues Shuffle Essentials\"],[\"Beginner Guitar - 38 Easy Lessons You Needs to Get Started\"],[\"Bass Guitar Lessons For Beginners\"],[\"Pure Pentatonic Power: Rock and Blues Guitar Soloing\"],[\"Rock Drumset Grooves: Level 1\"],[\"Guitar: The Next Level\"],[\"Learn to Play Euphonium: Beginner to Pro in Under Five Hours\"],[\"Learn Oud 1 (No Prior Music Knowledge Required!)\"],[\"Instant Harmonica - play Dylan's Blowing in the Wind today!\"],[\"Improvise On The Piano In 30 Minutes\"],[\"Cajon Step-by-Step: Beginner > Intermediate > Advanced\"],[\"Blues Guitar Lessons - Volume 2 - Slow Blues Essentials\"],[\"Instant Harmonica - play the gorgeous Skye Boat Song now!\"],[\"Learn to Play Trombone: Go From Beginner to Pro in No Time!\"],[\"FingerstyleGuitar by Jacques Stotzem - Basic Level\"],[\"Instant Harmonica - play two Star Wars themes in 30 minutes \"],[\"Play Piano To-day! - Beginner Piano Lessons For Busy People!\"],[\"Learn to Play the Flute: Beginner to Pro in Under Five Hours\"],[\"Play Piano 7: Improvise on For All We Know in F Key by Ear\"],[\"World's Fastest Piano Method - The Piano Revolution!\"],[\"Learn to Play the Trumpet: Beginner to Pro Made the Easy Way\"],[\"Learn to Play Clarinet: Beginner to Pro in Under Five Hours\"],[\"Learn To Play The Piano Using Pop, R&B and Gospel Chords\"],[\"Play By Ear #4: Play Song By Ear with 3 Chords Using Any Key\"],[\"Worship Piano: From Beginner to Pro\"],[\"Easy to play Christmas Songs for Guitar\"],[\"Ultimate Blues Guitar Beginner Lessons\"],[\"How to Play Piano - Your First Lesson!\"],[\"Playing Piano : Reading and Playing Classical Tunes Vol.I\"],[\"Blues School! A Course For Beginners in Blues Piano & Improv\"],[\"Learn Fun Dreamy Piano Techniques # 2 - Play Silver Bells\"],[\"31 Day Guitar Challenge\"],[\"Percussive Fingerstyle Guitar\"],[\"Learn to Play Saxophone: Beginner to Pro in Under Four Hours\"],[\"Learn BASS GUITAR- Have Fun, Amaze Your Friends- It's Easy! \"],[\"Guitar Insanity Workout - Eatmystrings!\"],[\"Playing Piano:  Play Chords and Popular Pieces Vol.I\"],[\"Guitar Chord Riot! Learn to Play Guitar Like a Guitar Jedi\"],[\"Guitar: Learn 12 Must Know Beginner Rock Guitar Riffs\"],[\"Guitar Fretboard Mastery for the Blues Guitarist\"],[\"Quick & Easy Piano Chords: Play more songs with more chords\"],[\"Instant Harmonica - play Scarborough Fair in 8 easy lectures\"],[\"Piano With Willie: Blues n' Boogie Vol. 2\"],[\"Have Fun with Beginner Blues Piano\"],[\"Learn to Play Harp: Beginners Course\"],[\"Instant Harmonica - play this classic 8 bar blues tune!\"],[\"Guitar Lessons - Learning The Neck - Fretboard Mastery\"],[\"Take your double bass drum technique to the next level\"],[\"How To Play The Cajon: For Beginners\"],[\"Slide Guitar- Slide Soloing Essentials\"],[\"Learn Piano #8:  Use Augmented Chord Sub & Whole Tone Scales\"],[\"Learn Acoustic Guitar for Worship\"],[\"Learn 3 - All Time A R Rahman Hits on Carnatic Flute!\"],[\"Guitar Lessons: The Essential Beginner & Intermediate Course\"],[\"Instant Harmonica - play the groovy Irish Washerwoman now!\"],[\"Music Fundamentals: Learn Beatmaking with Pen Tapping\"],[\"Learn to Play Fernando Sor's 'Study in B minor\\\",https://www.udemy.com/study-in-b-minor/,true,115,1403,5,9,Intermediate Level,43 mins,2014-01-27T20:58:16Z\\n398746,Piano: The Chord Based System - Learn To Play As The Pros Do\\\"\"],[\"Beginner Guitar Lessons by Paul Gronow\"],[\"Guitar Fretboard Secrets\"],[\"Learn to Play French Horn: Beginner to Pro Made the Easy Way\"],[\"150 Rock Guitar Licks You MUST Know\"],[\"Didgeridoo - from zero to HERO! Part One - beginning\"],[\"Learn Piano Scales: Play any song in any key! Like Pro's do\"],[\"Instant Harmonica - play the groovy Valens La Bamba now!\"],[\"Blues Master - Beginner's Techniques Piano Course\"],[\"How to play Djembe, Drums & Rhythm. Level 2\"],[\"Instant Harmonica - play Amazing Grace with grace and ease!\"],[\"Instant Harmonica - play Amazing Grace + Ode to Joy now!\"],[\"Play Thousands of Songs On The Guitar | Cheater Chords\"],[\"Piano Improvisation from Day One\"],[\"Classical Guitar Essentials - The Basics Part 1\"],[\"Learn Piano #7- Learn Chromatic Chords & Chromatic Scale Run\"],[\"Play all major scales by ear - no notation required!\"],[\"How to play in a local Irish music session with confidence\"],[\"The Total Beginner's Guitar Course\"],[\"Virtual Piano Lessons - A New Way To Learn Piano\"],[\"16 Guitar Chords to Jam With - (Beginner - Intermediate)\"],[\"Free Beginner Electric Guitar Lessons\"],[\"101 Awesome Rockabilly Guitar Licks\"],[\"A beginner`s guide to fingerpicking and strumming guitar'\"],[\"Instant Harmonica - Basic 12 Bar Blues course, easy and fun!\"],[\"Your First Course on Piano\"],[\"Acoustic Guitar Basics\"],[\"Cracking the Violin Code!\"],[\"Instant Bodhran - part one; learn the basics of drumming now\"],[\"Play The Piano By Ear | Master Class, Learn By Doing\"],[\"Discover Classical Guitar Level 2   \"],[\"Fingerpicking Classics - Great songs played fingerstyle!\"],[\"6 Must Know Tricks to Successful Solos\"],[\"CAGED System for Guitar (Guitar Lessons from Lutz Academy)\"],[\"Learn the Violin - No Music Experience Necessary!\"],[\"Your Second Course on Piano: Two Handed Playing\"],[\"How to Design Your Own Guitar\"],[\"How To Play Blues Guitar - Broonzy & McGhee Blues Lessons\"],[\"Play Sonny Terry style on Harmonica and dazzle your friends!\"],[\"Blues and Advanced Guitar Lessons\"],[\"Learn basics of South Indian Carnatic Flute Step by Step \"],[\"Basic Piano Hymn Playing\"],[\"#1 Piano Hand Coordination: Play 10th Ballad in Eb Key songs\"],[\"Piano Music Theory (Back To Basics) by JFilt\"],[\"Guitar - 12  Strumming Patterns You Must Know For Guitar\"],[\"Guitar Lessons for complete beginners - super simple and fun\"],[\"CAGED Pentatonic System for Guitar - Level 3\"],[\"Classical Guitar Essentials - The Basics Part 2\"],[\"Introduction to Piano - By PGN Piano!\"],[\"Keyboard Instruments - Read Sheet Music for Piano Fast!\"],[\"How to Play the Guitar: Your 30-Day Guide to Learn Guitar\"],[\"Drumming Accelerator: How To Get The Best Start Possible\"],[\"Play Piano 4: Improvise on popular song Yesterday chords\"],[\"Beginner's Guitar Lessons - Crash Course for Busy Adults\"],[\"Getting Started with the Guitar in 5 Days\"],[\"Guitar Lessons - String Bending And Vibrato Essentials\"],[\"Piano With Willie: Blues n' Boogie Vol. 1\"],[\"Piano Runs & Fills #4: C6 Rolling Waves & Waterfall Runs\"],[\"Chugging - it don't mean a thing if it ain't got that swing!\"],[\"Make Your Own Ukulele\"],[\"Beginner Violin 101: Care, Maintenance, and the Right Gear\"],[\"Learn How To Play 25 Classic Hip Hop Songs\"],[\"Learn Beethoven's Fur Elise on Piano\"],[\"Play Violin and Fiddle for beginners - it's fun  - Course 1\"],[\"Piano With Willie Building Technique with Scales Vol. 1\"],[\"Christmas Piano Songs For The Very Beginner Vol. I\"],[\"Introduction to Gypsy Jazz Guitar\"],[\"Learn How to Play Blues, Rock, & Boogie Woogie Piano Today\"],[\"The Piano Chord Ladder | Learn to Play Thousands of Songs\"],[\"Play Piano 5: Improvise on Misty Eb Key Runs & 2-5 Chords\"],[\"Playing Piano: Scales and Arpeggios Vol.I : Major keys\"],[\"Drumming for Beginners - Simple Way To Learn How To Drum\"],[\"Get great playing HARMONICA - a fun new leisure time hobby !\"],[\"Fingerstyle Guitar Mastery: 3 Techniques You Need To Know\"],[\"Play Piano 3: Improvise Chords to Enchanted Evening by Ear\"],[\"Jazz Guitar Tips, Tricks and Licks\"],[\"Piano From Zero To Pro - Beginner Essentials To The Piano\"],[\"Piano: Learn 48 chords in 1 hour,  and always remember how\"],[\"Walking Bass - Quick Start Guide\"],[\"Beginner Guitar Lessons: Learn To Play Guitar Today (WAVE 1)\"],[\"Blues Bass - Quick Start Guide\"],[\"How to speak Pianish (beginner level)\"],[\"Gospel Piano Essentials\"],[\"Instant Harmonica - play Leonard Cohen's Hallelujah now!\"],[\"Guitar Crash Course (No Experience Necessary)\"],[\"Beginner Guitar Lessons - Your Complete Foundation Course\"],[\"Piano Building Blocks: Learn the 24 Most Common Chords\"],[\"Learn to Play the Oboe: Beginner to Pro in Under Four Hours\"],[\"Playing Piano By Ear: Complete Guide for Aspiring Musicians\"],[\"Discover the fun of Spoon playing, a beginners course\"],[\"Country Guitar Fundamentals\"],[\"Discover Classical Guitar Level 1\"],[\"PI-101 Top 10 Classical Piano Pieces for Beginners\"],[\"Get started playing blues harmonica\"],[\"Rockabilly Guitar For Beginners\"],[\"Beginner Piano\"],[\"Step by Step Tabla Course- Indian Drums\"],[\"Play Piano 6 -Improvise on The Way We Were with Power Chords\"],[\"101 Blues riffs - learn how the harmonica superstars do it\"],[\"Learn To Play The Drums\"],[\"Guitar: Master The Guitar Fretboard In 6 Easy Steps\"],[\"Play Piano in 30 Days! - Start Playing NOW!\"],[\"Curso de Didgeridoo nivel principiante\"],[\"\\u30d6\\u30eb\\u30fc\\u30b9\\u30ae\\u30bf\\u30fc\\u5165\\u9580\"],[\"Pianoforall - Incredible New Way To Learn Piano & Keyboard\"],[\"The Professional Guitar Masterclass\"],[\"Modern Rock Guitar Techniques\"],[\"Complete Guitar System - Beginner to Advanced\"],[\"Guitar Super System Level 1\"],[\"How to play Piano - Go from a Beginner/Intermediate to a Pro\"],[\"Guitar Super System Level 2\"],[\"LEARN HARMONICA, amaze your friends and have fun - it's easy\"],[\"The Complete Piano & Music Theory Beginners Course\"],[\"Ultimate Beginner Guitar Masterclass\"],[\"Quicklessons Piano Course - Learn to Play Piano by Ear!\"],[\"Learn guitar the Right way! Complete 'KickStarter course\\\"\"],[\"CAGED Pentatonic System for Guitar - Level 1\"],[\"CAGED Pentatonic System for Guitar - Level 2\"],[\"Learn to Play Piano From a Concert Pianist - For Beginners\"],[\"#12 Hand Coordination: Let your Hands dance with Ballad 9\"],[\"How To Make Money With A Cover Band\"],[\"How To Play Guitar - For Absolute Beginners\"],[\"Learn How to Improvise on Guitar in 30 Days\"],[\"Play Piano 8 - Play Over the Rainbow by Ear & Free Improvise\"],[\"The Best Beginner Guitar Course Ever\"],[\"Piano For Singer/Songwriters 2: Pop/Rock Rhythm Immersion\"],[\"Guitar: Learn 10 CCR Guitar Chord Progressions\"],[\"Play Piano 2:  Play 'Love Me Tender By Ear with 2-5 Chords\\\"\"],[\"Learn Piano #10 Tritone Chord Substitution with Jazzy Sounds\"],[\"Getting Started with Playing Guitar\"],[\"Piano Playing: Reading and Playing Classical Tunes Vol.II\"],[\"Harmonica Jamz: The Only Course on Jammin' with Friends\"],[\"Guitar - Learn 10 Legendary Chord Progressions for Guitar\"],[\"Guitar - Blues Guitar for Beginners\"],[\"Electric Guitar for Beginners - RockStarter Level 1\"],[\"The Circle of Fifths for Guitarists\"],[\"Piano Runs & Fills #2: Play Rolling Cascading Runs for Intro\"],[\"Piano - Circle of 5ths to Play A Song in 12 Keys in 12 Days\"],[\"Essential Theory and Technique for Guitar\"],[\"Piano for Complete Beginners: Learn your first song today!\"],[\"Master Class Piano Techniques: Tips To EZ Coordinate 2 Hands\"],[\"Master Class # 11:  Play Piano Techniques Learn Piano 1 to10\"],[\"Learn all Piano Chords in all Piano Scales with logic\"],[\"Learn to play the piano or keyboard from scratch\"],[\"5 Exotic Guitar Scales and How to Use Them Effectively\"],[\"Learn 4 Chords and Play Thousands of Songs!\"],[\"#10 Hand Coordination - Transfer Chord Ballad 9 - C & Bb Key\"],[\"Acoustic Fingerstyle Guitar Course: Beginner to Advanced\"],[\"Guitar Chord Mastery!Turn Your Brain Into A Chord Encyclopia\"],[\"Play Piano 1 Master Class Intro:  Standards 2-5 Power Chords\"],[\"Best Beginner Guitar Lessons by Sam Lyons\"],[\"A new approach to piano and playing songs for beginners\"],[\"Learn Guitar: Zero to Guitar Fingerpicking in 30 days\"],[\"How to play Contemporary Piano\"],[\"Piano Technique Exercises Vol.1\"],[\"Instant Harmonica - Learning the Basic 12 Bar Blues Bassline\"],[\"#5  Piano Hand Coordination:  Piano Runs in 2 Beats Eb Key\"],[\"Modern Country Guitar: Technique Booster\"],[\"Blues Guitar Lessons for Beginners: Chords, Rhythm and Lead\"],[\"#4 Piano Hand Coordination: Fun Piano Runs in 2 Beats C Key\"],[\"3 step formula for playing guitar by ear\"],[\"How to play 'Electric Guitar\\\",https://www.udemy.com/electric-guitar-beginners-method/,true,50,1105,5,20,Beginner Level,2 hours,2016-12-29T00:24:06Z\\n42038,Learn Piano Today: How to Play Piano Course in Quick Lessons\\\"\"],[\"Play Piano by Ear Today! SuperCourse\"],[\"Learn to Read & Write Music to play Piano & more instruments\"],[\"The Complete Piano Course - Master The Piano\"],[\"Learn to play your favorite guitar songs by ear\"],[\"Piano for Singer/Songwriters | Write Songs and Perform Live!\"],[\"Fun Beginner Ukulele Course\"],[\"Learn Guitar in 21 Days\"],[\"Fun Ukulele Strumming Course\"],[\"The Professional Bass Masterclass\"],[\"The Allman Brothers Guitar Roots And Techniques\"],[\"Blues Guitar Fundamentals\"],[\"#6 Piano Hand Coordination: Play Open 10 Ballad to 9/4 Song\"],[\"#7 Piano Hand Coordination: Play Piano Runs in 3 Beats 9/4\"],[\"Beginner Level Popular Piano Program - Month 1\"],[\"Piano Lessons for the R&B Fan\"],[\"Guitar Lessons - Blind Blake - King Of Ragtime Blues Guitar\"],[\"Darbuka Drumming: Learn how to play the Darbuka Dounbek\"],[\"Awesome Lead Guitar 1\"],[\"The art of piano improvisation\"],[\"How To Build A Professional Djembe: Create Music Beauty &Biz\"],[\"Advanced Euphonium Studies - Learn to Master the Euphonium!\\u200b\"],[\"Didgeridoo - from zero to HERO! Part Two. Intermediate.\"],[\"Fingerstyle Guitar by Jacques Stotzem - Advanced Level\"],[\"Trumpet Pro Series - You're going to love practicing Trumpet\"],[\"A Guide to Analog Synths: For the modern EDM enthusiast.\"],[\"Acoustic Blues Guitar Lessons\"],[\"Accelerate Your Guitar Learning With Metal Techniques\"],[\"Beginner Step by Step Keharwa Theka Tabla Course\"],[\"Just chords Piano: Learn to Play Piano Quickly - No Music\"],[\"Play Ukulele Now\"],[\"Acoustic Blues Guitar Lessons\"],[\"Piano Runs & Fills #1: Play Dreamy Whole Tone Scale Runs\"],[\"Play Piano Today - Easy Festive Favorites & Piano Party Hits\"],[\"The 80/20 Beginner Guitar Course\"],[\"Drums for Beginners\"],[\"Digital Pianist Course-Learn Piano & Keyboard Fast & Easy\"],[\"Learn to play guitar and sing at the same time\"],[\"Introduction to Ukulele 1\"],[\"Learn Flute FAST!\"],[\"Guitar Lessons - Soloing With Arpeggios - Essential Guide \"],[\"Piano With Willie: Blues n' Boogie Vol. 3\"],[\"Instant Harmonica - play The Kesh (pt 1) it's easy and fun!\"],[\"Piano Lessons For Beginners: Learn Piano Quickly And Easily\"],[\"The Easy Beginner Drum Course\"],[\"Instant Harmonica - play Somewhere Over the Rainbow now!\"],[\"Instant Harmonica - play The Kesh (part 2) - easy and fun!\"],[\"The 80/20 Guitar: Write Music and Play Guitar in 30 Days\"],[\"Ukulele 2 : Level 1 KEY OF C AND STRUMS\"],[\"Guitar for Music Educators: Learning How to Teach Guitar\"],[\"Piano Tutorial : Ludovico Einaudi - Una Mattina\"],[\"Guitar Solo - Theory and Improvisation Lessons\"],[\"Bluegrass Guitar Essentials: Webisodes 3 & 4\"],[\"Instant Harmonica - play Christmas + Birthday songs now!\"],[\"Blues Master - Advanced Techniques Piano Course\"],[\"Bluegrass Guitar Essentials: Webisodes 5 & 6\"],[\"Trombone Lessons For Beginners\"],[\"Rhythm to Rock Drum Lesson 6\"],[\"Flute Pro Series - You're about to love practicing the flute\"],[\"How To Play Guitar - Everything You Need To Know To Start\"],[\"Trombone Pro Series - Fall in love with the Trombone\"],[\"Learn How To Play 25 Classic Hip Hop Songs Ch.2\"],[\"Learn to play tunes by ear on harmonica - no written music\"],[\"Fingerpicking for Guitar\"],[\"Music Theory, Guitar and Ear Training\"],[\"Piano Unbound. Piano learning method, a course for beginners\"],[\"Advanced Trombone Studies - Learn to Master the Trombone!\"],[\"Euphonium Solos: Learn to Perform Three Fun, Unique Pieces!\"],[\"Piano With Willie: Tritones & Phat Chords\"],[\"Piano for Kids: Developing Your Child's Creative Abilities\"],[\"Piano Lessons For The Hip Hop Fan\"],[\"French Horn Solos: Learn how to Perform Three Fun Pieces!\"],[\"Bluegrass Guitar Essentials: Webisodes 9 & 10\"],[\"Clarinet Lessons For Beginners\"],[\"Play music on Harmonica using 8 notes - learn easy tunes!\"],[\"Learn Piano Online-A Quiet Solace Piano Solo\"],[\"Bluegrass Guitar Essentials: Webisodes 7 & 8\"],[\"The Art of the Blues Shuffle - A Guitarist's Guide\"],[\"Learn Piano Online-Ambiance Piano Solo\"],[\"Piano Lessons For Beginners\"],[\"The Theory & Practice of Modes on the Guitar\"],[\"Learn How To Play The Trumpet\"],[\"Violin for Beginners\"],[\"Beginner Acoustic Guitar Lessons\"],[\"Aprendiendo Piano: Tocando piezas populares Vol.I\"],[\"Curso de Bateria - Explorando Diferentes Divis\\u00f5es\"],[\"Escalas Pentat\\u00f3nicas para guitarristas\"],[\"Brass Master Class\"],[\"Ense\\u00f1ando m\\u00fasica: mejora tus clases de instrumento \"],[\"Ukelele expr\\u00e9s: aprende a tocar en menos de un mes\"],[\"Curso de Guitarra para Principiantes\"],[\"Mundharmonika spielen - mein sch\\u00f6nstes Hobby\"],[\"Aprende el acorde\\u00f3n de o\\u00eddo y con t\\u00e9cnica \\u2013Nivel Intermedio\\u2013\"],[\"Pr\\u00e9sentation du Banjo T\\u00e9nor\"],[\"Aprende a tocar el acorde\\u00f3n de botones\"],[\"Aprendiendo piano: Lectura de piezas cl\\u00e1sicas Vol.I\"],[\"Pedais de efeito para Contrabaixo\"],[\"Mantenimiento y octavaci\\u00f3n para guitarras el\\u00e9ctricas\"],[\"Aprende a tocar el viol\\u00edn desde cero\"],[\"Aprende a tocar el teclado como los expertos\"],[\"Aprende a tocar el saxof\\u00f3n como siempre has querido\"],[\"Guitarra para principiantes\"],[\"Aprende a tocar flauta transversal sin complicaciones\"],[\"Aprende a tocar las escalas en el acorde\\u00f3n de botones.\"],[\"Curso de Viol\\u00e3o Pr\\u00e1tico\"],[\"Aprende a tocar percusiones: congas, bong\\u00f3s, maracas y m\\u00e1s\"],[\"Gitarre spielen - mein sch\\u00f6nstes Hobby\"],[\"Aprende a tocar la guitarra ac\\u00fastica como un profesional\"],[\"Guitar Lesson - Five Steps to Learn Barre Chords\"],[\"Easy Piano Basics\\u2122 - Learn Piano, No Prior Experience Needed\"],[\"Guitar Technique Mastery: The Ultimate Chop Building Workout\"],[\"Inside Drum Technique\"],[\"Learn to Play Tarrega, Bach, and Sor on Classical Guitar\"],[\"Create Beautiful Music On The Piano Like a Pro In Minutes\"],[\"Instant Harmonica - play the great Irish tune Molly Malone!\"],[\"Instant Harmonica - play 'Can't Help Falling in Love' now!\"],[\"Arpeggios for Guitar made Easy! Dominate the Fretboard\"],[\"Guitar Lessons - The Modal System - Modes Essentials\"],[\"Learn to Play Percussion: Beginner to Pro made the Easy Way!\"],[\"Modern Piano Lessons For Beginners\"],[\"World Percussion: Complete Lessons for Everyone\"],[\"Learn Lion (Saroo) Soundtrack On The Piano By Ear\"],[\"Acoustic Blues Guitar Lessons\"],[\"Play Guitar and Understand Music Quick & Easy in 28 Days!\"],[\"Learn How to Play the Violin - Violin Basics\"],[\"Swing Low - The 101 Authentic Nashville Piano Style Course\"],[\"Guitar:Play 5 Easy Christmas Chord Progressions On Guitar\"],[\"Get Piano Skills TODAY!!! \"],[\"Learn the Violin - Scales and Fundamentals\"],[\"Piano With Willie Building Technique with Scales Vol. 2\"],[\"Master Flute Playing: Intermediate Instruction Made Simple!\"],[\"How to Sing and Play the Guitar (at the same time)\"],[\"Super Beginner Guitar - start right, start awesome\"],[\"Introduction to Guitar 'A Course for Beginners\\\",https://www.udemy.com/introduction-to-guitar/,true,25,163,11,56,Beginner Level,2.5 hours,2014-10-30T15:59:39Z\\n650804,Guitar  Master Class Learning How to Play Guitar from A to Z\\\"\"],[\"Rhythm to Rock Drum Lesson 5\"],[\"Gibson's Learn & Master Guitar\"],[\"Master the Trombone: Intermediate Instruction Made Simple!\"],[\"Walking Bass Fundamentals\"],[\"Circular Breathing for musicians - practical skills\"],[\"Electric Bass for Busy Beginners Course 1\"],[\"Guitar for Absolute Beginners (Class 1)\"],[\"Tenor Banjo for Absolute Beginners\"],[\"Guitar Lessons - 50 Essential Fast Legato Licks\"],[\"Aprenda a tocar Pandeiro - Curso Iniciante - Samba/Choro\"],[\"Aprende bater\\u00eda con el nuevo m\\u00e9todo IDT\"],[\"5 lecciones que todo guitarrista debe tomar\"],[\"Los 7 Acordes para Tocarlo Todo en un fin de semana\"],[\"Curso de Viol\\u00e3o Popular\"],[\"Aprendiendo Piano: Ejercicios de calentamiento\"],[\"Aprendiendo piano: Lectura de piezas cl\\u00e1sicas Vol.II\"],[\"Aprende a tocar el Acorde\\u00f3n 'de o\\u00eddo y con t\\u00e9cnica\\\",https://www.udemy.com/aprende-a-tocar-el-acordeon-de-oido-y-con-tecnica/,true,25,93,21,34,Beginner Level,4 hours,2014-09-16T19:51:45Z\\n263432,Aprende los Secretos de la Arm\\u00f3nica con HARP&SOUL\\\"\"],[\"Guitarra Desde Cero - PARTE 1\"],[\"Super-Curso de Guitarra Pr\\u00e1ctico Para Principiantes\"],[\"Explos\\u00e3o Pentat\\u00f4nica\"],[\"Complete Beginners Introduction to Guitar\"],[\"Learn 10 Scottish Tunes Piano Easy Level\"],[\"Fingerpicking Fundamentals\"],[\"Piano With A Pro\"],[\"Piano Lessons for Beginners: Play the Piano AND Read Music!\"],[\"Master the Tuba - Intermediate Instruction Made Simple!\"],[\"The Fun and Effective Piano Course\"],[\"Advanced Flute Studies - Learn to Master the Flute!\\u200b\"],[\"Alternate Picking Speed & Accuracy\"],[\"Master the Euphonium with Simple, Intermediate Instruction!\"],[\"Master the Clarinet: Intermediate Instruction Made Simple!\"],[\"Advanced Clarinet Studies - Learn to Master the Clarinet!\"],[\"Aprende a tocar ritmo pop en el piano y teclado\"],[\"Aprendiendo Piano: Tocando piezas populares Vol.II\"],[\"Comment jouer du Pianoforte\"],[\"Aprende a tocar blues en el piano y teclado\"],[\"ABC DO VIOL\\u00c3O E GUITARRA\"],[\"Suonare la Chitarra\"],[\"Aprende todos los secretos de la guitarra flamenca\"],[\"\\u3053\\u3069\\u3082\\u30ae\\u30bf\\u30fc\\u30ec\\u30c3\\u30b9\\u30f3\\u3000\\u30ea\\u30c8\\u30eb\\u30ae\\u30bf\\u30ea\\u30b9\\u30c8\\u2160\"],[\"Aprende c\\u00f3mo tocar el Bajo Sexto\"],[\"Coach Guitar - Apprendre la GUITARE facile avec des COULEURS\"],[\"Sistema Completo De Guitarra R\\u00edtmica Para Principiantes\"],[\"Curso de bater\\u00eda online de Patricio Iglesias (Santa Sabina)\"],[\"Learn Piano with Beyer, 15 Minutes Challenge\"],[\"Classical Guitar Master Class: 'Alman  \\\"\"],[\"Blues Accelerator - 21 Days to Blues Guitar Mastery\"],[\"Alto Saxophone Lessons For Beginners\"],[\"Instant Harmonica - Christmas; play Jingle Bells part 2 now!\"],[\"Piano With Willie: Jazz & Gospel Exercises\"],[\"Bending the blue notes to give you killer sound on harmonica\"],[\"Beginner's Guitar: Tuning, Strumming, and Chords!\"],[\"Instant Harmonica - play The Lion Sleeps Tonight - today!\"],[\"Piano With Willie Building Technique with Scales Vol. 3\"],[\"Instant Bodhran - part two; learning further drumming skills\"],[\"Guitar Essentials\"],[\"Rhythm to Rock Drum Lessons\"],[\"Learn to play and improve 12 bar blues harmonica solos\"],[\"Learn to improvise on your harmonica - in nice easy steps\"],[\"Learning Electric Guitar for Absolute Beginners\"],[\"Advanced Bassoon Studies - Learn to Master the Bassoon!\\u200b\"],[\"Blues Guitar Lessons: Play Like the Greats - All Levels\"],[\"Instant Harmonica - play Whiskey in the Jar + Molly Malone!\"],[\"Learn To Play Trumpet Fast Using The Passive Trumpet Tutor\"],[\"Electric Bass Right From The Start\"],[\"Beginner Guitar Essentials\"],[\"Advanced Tuba Studies - Become a Master of the Tuba!\\u200b\"],[\"'Greensleeves' Creative Piano Lessons Course\"],[\"Rhythm to Rock Drum Lesson 4\"],[\"Hands On Guitar: Beyond Beginner\"],[\"Instant harmonica - play Auld Lang Syne the neet (tonight)!\"],[\"Piano The Hard Way -  Fast Way To Life Long Piano Enjoyment\"],[\"The Ultimate Method for Learning Modern Piano & Keyboards\"],[\"Master the Bassoon - Intermediate Instruction Made Simple!\"],[\"Oboe Pro Series - You're going to love practicing the Oboe\"],[\"Instant Harmonica - play this classic GAME OF THRONES theme!\"],[\"Trumpet Solos: Learn how to Perform Three Fun, Unique Pieces\"],[\"Learn 4 Vital things that will make your DRUM PLAYING EASIER\"],[\"Sax Solos: Learn how to Perform Three Fun and Unique Pieces!\"],[\"Traditional-Style Electric Blues Guitar For Beginners\"],[\"Aprende a tocar los mejores solos en la guitarra el\\u00e9ctrica\"],[\"Aprende a tocar la guitarra\"],[\"Aprende a tocar el piano desde cero\"],[\"Aprende a tocar el clarinete.  \"],[\"Ahora aprende a tocar jazz en el piano\"],[\"\\u3053\\u3069\\u3082\\u30ae\\u30bf\\u30fc\\u30ec\\u30c3\\u30b9\\u30f3\\u3000\\u30ea\\u30c8\\u30eb\\u30ae\\u30bf\\u30ea\\u30b9\\u30c8\\u2161\"],[\"Aprende a tocar el contrabajo sin complicaciones\"],[\"Aprende a tocar la guitarra el\\u00e9ctrica\"],[\"Aprende a improvisar en la guitarra el\\u00e9ctrica\"],[\"Curso de Teclado\"],[\"Guitarra Ac\\u00fastica en Siete D\\u00edas\"],[\"improvisaci\\u00f3n de Guitarra\"],[\"Step by Step Classical Guitar Course\"],[\"Piano With Willie Building Technique with Scales Vol. 4\"],[\"Back In Black the AC/DC Classic Rock Track\"],[\"Keyboard Basics\"],[\"Beginner Guitar Lessons\"],[\"Guitar Fundamentals for Beginners\"],[\"Easy Piano - learn and play along\"],[\"Learn Piano: The Basics of Keyboards\"],[\"Bassoon Pro Series - You're going to love practicing Bassoon\"],[\"Acoustic Guitar Lessons For Beginners\"],[\"Coach Guitar - Amazing New Way To Learn Guitar With Colors\"],[\"Mastering the Art of Guitar Chords\"],[\"30 Day Guitar Jump Start for Success\"],[\"Learn to Play Bassoon: Beginner to Pro in Under Four Hours!\"],[\"The 7 Day Guitar Method\"],[\"Instant Harmonica - play Star Wars + the Lion Sleeps now!\"],[\"Instant harmonica - play Adele's wonderful 'Hello' today!\"],[\"Guitar Strumming 101 - Have More Fun Playing Songs You Love\"],[\"Master Oboe Playing: Intermediate Instruction Made Simple!\"],[\"Drum Set for Beginners\"],[\"Guitar Lessons - Economy Picking Essentials\"],[\"Blues Guitar Lessons - Blues Guitar - Robert Johnson\"],[\"TAKE NOTE BEGINNER CLARINET!  \\u2013  Fun with Fundamental Skills\"],[\"Learn to Play Irish Fiddle\"],[\"Hands-On Guitar: The Beginner's Guide\"],[\"Slap Bass For Beginners\"],[\"Piano Lessons for Beginners Made Easy\"],[\"Horn Pro Series - You're going to love playing French Horn\"],[\"Instant Harmonica - play the Irish tune Whiskey in the Jar!\"],[\"Didgeridoo - from zero to HERO! Part Three. Advanced level.\"],[\"Saxophone Pro Series - You're going to love practicing Sax\"],[\"Easy Piano for Kids - Complete Beginner Piano Course\"],[\"Guitar Lessons - Two Handed Tapping Essentials\"],[\"Clarinet Pro Series - Fall in love with the Clarinet\"],[\"Advanced Trumpet Studies - Learn to Master the Trumpet!\\u200b\"],[\"Poldark TV series Soundtracks for Piano-Quicklessons\"],[\"Master the Saxophone: Intermediate Instruction Made Simple!\"],[\"You Can Play Jazz Saxophone\"],[\"Improvise Puccini\\u00b4s 'E Lucevan le Stelle on Piano\\\"\"],[\"Building Up To Barre Chords\"],[\"Learn the Violin - Bowing Techniques\"],[\"Blues Guitar Lessons - Volume 3 - Minor Blues Essentials\"],[\"Back 2 The Basics\"],[\"Play the Jews Harp - instant skills for non musicians.\"],[\"Master Trumpet Playing: Intermediate Instruction Made Simple\"],[\"Practical Guitar Theory: Level 1\"],[\"Instant harmonica - enjoy playing Silent Night tonight!\"],[\"HARP&SOUL  |  Learn the Secrets of the Harmonica\"],[\"Play Leyenda, Canarios, and Bach on Classical Guitar\"],[\"Instant Harmonica - play the cool tune Dirty Old Town now!\"],[\"Ultimate Beginner Guitar Guide - Both Acoustic & Electric \"],[\"Guitar Lessons : Rock Guitar in 1 Day!\"],[\"Tenor Banjo\"],[\"Introduction to Lead Guitar\"],[\"Piano With Willie: Basics of Improvisation\"],[\"Euphonium Pro Series - Fall in love with the Euphonium\"],[\"Pure Rock Guitar : Play Like the Gods of Rock!\"],[\"Master the French Horn: Intermediate Instruction Made Simple\"],[\"Classical Guitar Technique: 80/20\"],[\"Total beginner to intermediate guitar - Learn to play by ear\"],[\"Aprende escalas y arpegios  Vol. I: Modo mayor\"],[\"Aprende a tocar Guitarra RAPIDO y FACIL con Guitarsimple\"],[\"Ukulele lernen f\\u00fcr Papas mit Bruder Jakob\"],[\"Tin Whistle B\\u00e1sico\"],[\"Leve a sua t\\u00e9cnica de pedal duplo para um novo patamar\"],[\"Sevillanas con Casta\\u00f1uelas - Baile y toque al mismo tiempo\"],[\"\\u898b\\u3066\\u308f\\u304b\\u308b\\uff01\\u3084\\u3055\\u3057\\u304f\\u72ec\\u7fd2\\u30a2\\u30b3\\u30ae\\uff08\\u5165\\u9580\\u7de8\\uff09TAKA\\u5148\\u751f\\u306e\\u30a2\\u30b3\\u30fc\\u30b9\\u30c6\\u30a3\\u30c3\\u30af\\u30ae\\u30bf\\u30fc\\u30ec\\u30c3\\u30b9\\u30f3\\u2160\"],[\"\\u3010\\u3059\\u3050\\u306b\\u899a\\u3048\\u308b\\uff01\\u3011ASALATO-\\u30a2\\u30b5\\u30e9\\u30c8(\\u6253\\u697d\\u5668)\\u521d\\u5fc3\\u8005\\u5411\\u3051\\u5165\\u9580\\u8b1b\\u5ea7\"],[\"Aprende a Tocar Teclado - Piano\"],[\"Casta\\u00f1uelas por Sevillanas - Curso del toque de casta\\u00f1uelas\"],[\"Aprende a tocar el acorde\\u00f3n de botones\"],[\"Aprende a tocar M\\u00fasica Cristiana en el piano y teclado\"],[\"Easy Guitar Songwriting And Harmony\"],[\"How to play easy tunes on the harmonica - just the basics\"],[\"Rhythm to Rock Drum Lessons 2\"],[\"Instant Harmonica - play Over the Rainbow + Skye Boat now!\"],[\"Bagpipe Instruction For Beginners\"],[\"Flute Solos: Learn how to Perform Three Fun, Unique Pieces\"],[\"Rhythm to Rock Drum Lessons 3\"],[\"Guitar Lessons - Sweep Picking Arpeggio Essentials\"],[\"Painless Piano!\"],[\"Beginning Flute Lessons\"],[\"Piano Lesson Variety\"],[\"Pop and Jazz Keyboards and Harmony (beginner level)\"],[\"Starting to play the blues on your harmonica in easy steps \"],[\"Learn the Viola - Scales and Fundamentals\"],[\"Learn to Play 'Let It Snow on Piano\\\"\"],[\"Instant Harmonica - play the Irish anthem Danny Boy today!\"],[\"Piano Building Blocks: Learn Chord Additions & Variations\"],[\"Advanced Saxophone Studies - Learn to Master the Saxophone!\"],[\"Killer Harmonica sounds using the tongue and bending notes \"],[\"Instant Harmonica - play When the Saints on harmonica now!\"],[\"Strumming the Guitar - 5 Lessons on Strum Patterns\"],[\"Learn Piano Online-Keys to the Keyboard\"],[\"Ukulele Lessons For Beginners - Fast Track Your Learning\"],[\"Blues Guitar Lessons - Ragtime Blues Guitar\"],[\"Getting Started with Power Chords\"],[\"Blues Master - Professional Techniques Piano Course\"],[\"Drumming 101: The Essential Elements\"],[\"Flute Lessons For Beginners\"],[\"Guitar for Christmas!\"],[\"Learn Piano Online-Nocturnal Piano Solo\"],[\"Guitar Chords and Basic Strumming\"],[\"Getting Started on the Acoustic Guitar\"],[\"Learn Piano Online-In the Garden Piano Solo\"],[\"Saxophone Essentials: Beginners Course\"],[\"Learn To Play The Guitar In A Day\"],[\"88 Logic - The Essential Guide To Learning Piano\"],[\"Tuba Solos: Learn how to Perform Three Fun and Unique Pieces\"],[\"Instant Harmonica - play Dylan's Like a Rolling Stone now!\"],[\"Advanced Oboe Studies - Become a Master Oboist!\\u200b\"],[\"Instant Harmonica - play 'I just called to say I love you'\"],[\"Jazz piano improvisation: The girl form Ipanema. Bossa nova\"],[\"Drum Lessons For Beginners\"],[\"Piano With Willie: Jazz Kids - Vol 3\"],[\"Quick Piano Lessons - Tutorials for Drake's Greatest Hits\"],[\"Bluegrass Guitar Essentials: Webisodes 13, 14, & 15\"],[\"Guitar - Rock - Beginner with Marc Seal\"],[\"Oboe Solos: Learn to Perform Three Fun, Unique Pieces!\"],[\"Bluegrass Guitar Essentials: Webisodes 11 & 12\"],[\"Advanced Horn Studies - Learn to Master the French Horn!\\u200b\"],[\"Learn To Play Guitar Complete Beginners Quick Start\"],[\"Piano With Willie: Jazz Kids - Vol 4\"],[\"Instant Harmonica - play the old Popeye Spinach song now !\"],[\"Piano With Willie: Jazz Kids - Vol 2\"],[\"Practice guitar with no previous experience and become a pro\"],[\"The Music Coach Online Spirit Drum Course\"],[\"Make Electronic Music with the iPad\"],[\"Learn Loreena McKennitt Songs-Quicklessons Piano Course\"],[\"Guitar 201: Breakthroughs\"],[\"Major Scales and Modes for Chromatic Harmonica\"],[\"Play Guitar with Rhythm - 5 Easy Lessons\"],[\"Coaching Bundle: Guitar for Music Educators: Part 1\"],[\"Coaching Bundle: Guitar for Music Educators: Part 2\"],[\"Ukulele 3:  Intermediate\"],[\"Beginners Guitar Course - 'Try it and love it method\\\"\"],[\"Coaching Course: Rhythm Instruction for Music Educators P1\"],[\"Learn Pirates of the Caribbean by Ear on the Piano\"],[\"Coaching Course: Rhythm Instruction for Music Educators P2\"],[\"4 Week Rhythm Mastery\"],[\"Tune that Sour Note on Your Piano\"],[\"Learn Vikings Soundtracks on the Piano by Ear\"],[\"Learn to Play Piano Like a Pro - Easy Piano Course 1\"],[\"ABRSM Grade III Piano Class - Handel Sonatina in G 2017-2018\"],[\"Instant Harmonica - play 12 bar blues Big Walter style now!\"],[\"Fingerpicking Blues Guitar Lessons - Bottleneck Guitar\"],[\"Spice up your playing with some easy Flamenco techniques! \"],[\"Beginners Guide to Playing Guitar - Step-by-step System\"],[\"Guitar Kick Start\"],[\"Instant Harmonica \\u2013 play Beethoven\\u2019s Ode to Joy right now!\"],[\"Funk Rhythm Guitar Techniques\"],[\"Flamenco Guitar\"],[\"Learn to play the Bouzouki - Greek Bouzouki Lessons\"],[\"Guitar Looper Basic Training\"],[\"Piano With Willie: Jazz Kids - Vol 1\"],[\"Instant Harmonica - play the Drunken Sailor sea shanty now! \"],[\"Learn to Play Sweet Child of Mine\"],[\"Bluegrass Guitar Essentials: Webisodes 1 & 2\"],[\"Learn Monster GODJ\"],[\"What you can learn before Piano Lessons\"],[\"Learn to Play Tabla - The Indian drums\"],[\"Gitarre spielen wie die Profis\"],[\"Curso de piano 101 - Tocando partituras y acordes -\"],[\"Sintetizadores e S\\u00edntese Subtrativa\"],[\"Spielend Klavier lernen mit Freude und Erfolg\"],[\"Curso de ejercicios t\\u00e9cnicos al piano Vol.2\"],[\"Curso de ejercicios t\\u00e9cnicos al piano Vol.1\"],[\"Aprende escalas y arpegios Vol.2 : Modo menor\"],[\"Instant Harmonica - play Blowing in the Wind + Popeye theme!\"],[\"Instant Harmonica - play jazzy Autumn Leaves now (part one)\"],[\"Trumpet Lessons For Beginners\"],[\"Guitar - Rock - Beginner/Intermediate with Marc Seal\"],[\"Learn to play in the Key of G on any Bluegrass Instrument\"],[\"Beginner Guitar Method\"],[\"How to Play Dan Fogelberg Songs on Guitar\"],[\"Jews Harp - Advanced course\"],[\"Instant Harmonica - play jazzy Autumn Leaves now (part two)\"],[\"Jazz Guitar Reharmonization for Autumn Leaves\"],[\"Tenor Saxophone Lessons For Beginners\"],[\"Mike G's Beginner Drum Course: Part 2\"],[\"Instant Harmonica - play Summertime + Drunken Sailor now!\"],[\"Add Slide To Your Guitar Playing\"],[\"Piano With Willie: Piano Chords Vol. 2\"],[\"Drum Lessons For Beginners\"],[\"Classical Guitar Finger-Picking: Right Hand Arpeggios\"],[\"Rapidly Learn & Master Acoustic Guitar, Classic Fingerstyle\"],[\"Play tunes on harmonica and learn how to bend some notes\"],[\"Instant Harmonica - play Yesterday + Scarborough Fair today!\"],[\"Violin lessons for beginners\"],[\"Old-Time Banjo for the Absolute Beginner\"],[\"Learn Guitar The Easy Way, It's Faster\"],[\"Learn Oud 2\"],[\"The Essentials of Acoustic Guitar Strumming Patterns\"],[\"Acoustic Guitar After The Basics\"],[\"Bossa Nova - Guitar for Beginners\"],[\"Piano With Willie: Piano Chords Vol. 1\"],[\"Instant Harmonica - play Summertime in 8 fun & easy lessons\"],[\"Learn to Play the Tuba: Beginner to Pro in Under Five Hours!\"],[\"Play Autumn Leaves' falling notes on piano with no reading!\"],[\"Learn Basics of South Indian Carnatic Flute - Level 2\"],[\"A Year's Worth of Piano Lessons in One Weekend\"],[\"Bones of the Blues - learn 4 cool tunes to expert level now!\"],[\"GUITAR #1: Beginner Basics and Beyond\"],[\"Pure Modal Magic: The Complete Guitar Modes Solution\"],[\"Aprende diferentes ritmos con la guitarra r\\u00edtmica\"],[\"Aprender a tocar la bater\\u00eda sin salir de casa\"],[\"Aprende a tocar el bajo el\\u00e9ctrico \"],[\"Aprende todos los secretos de la salsa para piano\"],[\"Aprende a tocar ritmos latinos en el teclado\"],[\"Ukulele lernen f\\u00fcr Papas mit Aram sam sam\"],[\"Aprende a tocar la trompeta\"],[\"Curso de guitarra para principiantes.\"],[\"Aprende a tocar Jazz y Ritmos Latinos en la guitarra\"],[\"\\u3053\\u3069\\u3082\\u30ae\\u30bf\\u30fc\\u30ec\\u30c3\\u30b9\\u30f3\\u3000\\u30ea\\u30c8\\u30eb\\u30ae\\u30bf\\u30ea\\u30b9\\u30c8\\u2162\\uff08\\u5b8c\\u7d50\\u7de8\\uff09\"],[\"Aprende a tocar la flauta dulce de forma sencilla y gradual\"],[\"Aprende a tocar jazz, salsa y blues en el piano\"]],\"hovertemplate\":\"subject=Musical Instruments<br>price=%{x}<br>content_duration=%{y}<br>course_title=%{customdata[0]}<extra></extra>\",\"legendgroup\":\"Musical Instruments\",\"marker\":{\"color\":\"#00cc96\",\"symbol\":\"circle\"},\"mode\":\"markers\",\"name\":\"Musical Instruments\",\"showlegend\":true,\"x\":[0,20,150,30,0,0,50,80,50,25,40,20,70,30,0,20,40,0,35,20,30,45,40,95,50,20,55,50,20,20,40,35,45,20,50,30,20,100,50,50,95,50,50,50,95,80,100,20,0,50,120,80,40,50,50,100,50,100,75,50,20,55,40,40,75,0,40,45,40,30,50,60,40,70,0,40,200,115,50,55,50,45,35,50,20,0,40,40,40,100,20,65,60,40,40,0,50,20,0,40,0,40,70,0,120,30,175,75,20,35,50,120,70,50,0,200,85,150,20,35,0,50,20,45,95,0,50,20,200,50,50,0,0,40,70,200,85,0,25,20,20,40,40,95,45,100,50,50,20,35,0,50,0,70,120,50,45,50,30,30,40,0,60,50,50,150,65,50,25,0,0,40,20,20,50,200,25,55,0,50,0,200,200,50,145,50,200,50,200,50,200,200,150,45,45,200,75,50,35,200,50,50,100,50,50,60,0,40,60,55,45,40,50,70,95,0,40,95,95,45,145,50,20,75,200,200,50,20,50,50,25,50,40,75,30,95,75,25,100,60,115,95,50,100,55,20,45,200,75,50,65,65,30,20,20,0,25,20,40,50,35,30,50,20,0,20,20,85,30,125,70,75,50,0,150,45,20,45,45,40,40,75,25,40,20,0,20,20,0,60,30,40,75,30,95,20,50,50,50,25,35,20,60,195,50,50,40,65,20,50,30,95,35,50,30,20,50,95,35,75,50,25,100,55,25,20,30,0,20,20,25,20,50,50,50,35,50,50,20,20,50,20,70,50,20,50,35,20,20,50,195,95,20,40,65,45,50,20,40,20,75,20,20,20,50,100,80,40,50,20,30,40,20,50,50,50,25,50,20,0,35,90,20,0,20,25,0,40,75,35,85,55,40,45,20,25,70,50,30,50,20,50,50,50,20,100,100,50,85,200,50,20,50,50,55,35,65,195,50,95,20,40,35,0,20,40,40,20,20,40,35,35,50,20,40,50,100,95,50,20,20,20,40,25,25,50,50,40,50,35,50,25,30,50,50,50,30,20,50,50,50,40,20,20,100,40,20,25,20,25,20,20,50,95,50,20,105,50,20,40,20,50,50,20,35,20,30,60,20,50,25,50,20,35,50,115,35,50,50,20,50,20,20,20,80,45,50,25,50,60,40,35,195,40,45,50,40,20,40,50,45,50,175,45,50,40,55,20,40,40,20,20,35,40,50,20,20,35,20,40,30,50,20,35,40,20,40,180,35,80,40,40,0,50,35,20,20,50,20,20,20,75,50,95,20,60,20,20,60,40,20,25,50,40,50,40,30,95,40,35,30,20,50,30,50,20,40,20,40,30,95,20,20,20,20,20,135,135,25,25,130,20,125,20,20,20,35,20,40,20,40,85,0,20,35,25,50,45,40,20,20,0,0,0,0,20,170,85,100,50,60,50,40,20,95,20,0,200,25,30,20,20,95,40,40,20,40,50,195,30,35,40,20,25,25,20,0,45,20,40,40,50,30,180,20,200,20,50,20,50,50,50,50,55,50,20,50,20,50,20],\"xaxis\":\"x\",\"y\":[0.6,0.7,1.5,1.5,1.0,1.0,1.5,2.0,3.0,2.0,1.5,0.6333333333333333,1.0,1.5,2.0,2.5,1.0,1.0,3.0,0.5166666666666666,1.0,2.5,3.0,2.5,2.0,2.0,1.0,7.0,3.5,1.0,1.5,3.0,2.0,0.6333333333333333,7.5,1.5,0.7,4.0,7.0,1.5,2.0,7.5,6.0,0.6833333333333333,2.5,3.0,0.5,10.5,0.5166666666666666,2.0,3.0,2.0,3.5,1.5,5.0,2.0,2.5,3.0,0.5,2.0,1.0,2.5,1.0,2.5,2.5,0.6833333333333333,1.0,6.0,5.5,1.5,3.0,1.0,2.0,2.5,2.0,1.0,2.0,2.0,3.5,2.0,8.0,4.5,3.0,2.5,0.7333333333333333,1.5,2.0,1.0,1.5,1.0,3.0,4.5,2.0,3.5,1.0,1.5,1.0,1.0,4.5,2.5,2.0,1.0,4.0,2.0,5.5,1.0,2.5,11.5,2.0,4.0,1.5,3.0,5.0,5.0,1.5,5.5,7.5,4.0,1.5,1.5,0.5,1.0,0.6666666666666666,1.5,4.5,0.6666666666666666,1.5,6.0,1.5,1.5,2.0,1.5,1.0,2.5,1.0,2.5,4.5,4.0,2.5,0.4833333333333333,1.0,1.5,1.5,2.5,0.65,1.0,1.5,1.0,2.0,2.0,0.5666666666666667,1.5,2.0,3.5,1.5,1.0,10.0,1.5,1.0,11.5,1.5,1.0,18.5,1.5,5.0,4.5,1.0,1.5,1.5,1.0,0.6166666666666667,2.0,4.0,1.0,1.5,6.5,8.5,1.0,3.0,1.0,3.5,30.0,9.5,3.0,34.0,5.0,31.0,1.5,15.5,1.5,11.5,8.5,9.0,1.5,1.5,1.0,1.5,3.5,1.0,6.0,1.5,1.0,1.5,2.0,1.5,0.6333333333333333,4.0,1.5,5.0,1.5,1.0,2.5,1.5,1.0,2.5,2.0,1.0,2.5,2.0,1.0,14.0,1.0,1.5,1.0,4.0,28.5,1.0,2.0,1.5,2.5,0.6,1.0,1.0,0.6166666666666667,2.5,3.0,1.0,1.5,5.0,5.5,10.5,23.0,1.5,3.0,1.5,2.5,1.0,7.0,1.5,1.5,0.7333333333333333,1.0,1.0,8.0,4.0,1.0,4.5,0.6666666666666666,1.5,6.0,2.0,2.0,6.0,3.5,1.0,6.5,0.6666666666666666,5.0,5.0,12.5,1.0,4.0,3.0,3.0,3.0,1.0,1.0,4.0,5.0,2.5,0.5833333333333334,3.0,0.5,1.0,0.5833333333333334,3.5,1.0,1.5,0.7333333333333333,1.5,2.0,1.5,1.0,3.0,3.0,1.5,6.5,1.0,7.0,3.5,2.0,3.0,3.0,2.5,8.0,2.5,2.0,4.0,5.5,3.0,2.0,3.0,1.0,1.0,2.0,1.5,1.0,4.0,1.5,1.5,0.7333333333333333,1.0,3.5,2.0,0.6,2.0,1.5,1.5,3.0,2.5,4.5,1.5,3.5,1.5,2.5,1.0,2.5,2.5,3.5,2.0,3.0,1.0,1.5,3.5,2.0,3.0,0.55,1.5,1.5,2.0,4.0,1.5,1.0,1.0,3.0,2.0,6.0,5.0,4.0,0.5333333333333333,4.5,9.5,0.5333333333333333,1.0,1.0,3.5,3.0,1.5,6.0,1.5,2.0,4.0,1.0,38.0,9.0,2.0,1.5,1.5,1.5,0.6166666666666667,3.0,2.0,2.0,1.0,2.0,6.0,0.55,1.5,2.5,7.0,10.5,1.5,1.5,3.5,1.5,2.5,4.0,8.5,3.5,5.0,3.5,8.0,7.0,4.5,0.7166666666666667,1.5,3.0,2.5,2.5,1.0,3.5,3.0,3.0,3.5,6.0,4.0,3.0,2.0,7.0,3.0,0.7333333333333333,2.0,2.0,0.6166666666666667,1.0,1.5,1.0,1.5,1.0,1.0,2.0,1.5,6.5,2.5,2.0,1.5,0.6666666666666666,4.5,5.0,2.0,1.5,3.0,1.0,1.0,2.5,7.5,7.0,1.0,2.5,0.6166666666666667,1.0,3.0,2.0,1.5,4.0,3.0,1.5,3.5,3.0,5.5,3.0,1.5,2.5,1.0,4.5,1.5,2.0,2.0,1.0,2.0,1.0,1.5,6.5,3.0,3.5,1.5,4.0,5.0,2.5,1.5,1.0,1.0,5.5,3.5,1.5,2.5,4.5,5.5,4.0,1.5,3.0,8.0,1.0,1.5,5.5,5.5,1.5,6.0,4.0,1.0,5.5,1.5,2.0,0.7166666666666667,0.6666666666666666,2.0,3.0,2.5,7.0,1.5,0.6333333333333333,2.0,7.5,1.5,2.0,1.5,1.0,1.5,3.5,7.5,4.5,7.5,2.5,3.0,1.5,4.0,1.0,1.5,5.5,1.5,2.0,0.5833333333333334,3.5,0.7166666666666667,2.0,1.0,3.5,1.5,1.0,1.5,1.0,3.0,1.0,1.5,3.5,2.5,4.0,3.0,2.0,2.5,1.0,1.0,1.0,4.0,2.0,1.0,0.6333333333333333,2.0,1.0,2.0,1.0,1.0,1.5,2.5,0.5333333333333333,1.5,2.5,1.0,1.0,1.5,1.0,0.5333333333333333,2.0,1.5,4.0,1.0,0.55,2.5,3.0,0.55,1.5,1.0,2.0,2.0,7.0,1.0,3.5,0.6,3.0,1.0,5.5,1.5,0.5666666666666667,2.5,1.5,1.0,0.5,0.5,0.65,2.0,0.5333333333333333,0.5333333333333333,0.6333333333333333,2.5,0.55,0.5833333333333334,0.5166666666666666,0.5166666666666666,1.0,1.5,0.7333333333333333,10.5,1.0,1.0,1.5,4.0,1.0,1.5,4.5,0.6166666666666667,1.5,1.0,1.0,1.5,1.5,2.0,4.5,5.0,4.0,1.0,1.5,2.5,1.5,0.65,2.5,1.5,2.5,4.0,4.5,3.5,0.5333333333333333,0.6166666666666667,3.0,2.5,1.5,0.7333333333333333,1.5,1.5,2.0,0.7,2.0,2.0,1.0,1.5,4.5,3.0,1.0,2.5,1.0,2.0,1.0,6.0,0.5666666666666667,4.5,6.0,2.0,3.0,2.0,1.0,4.0,3.5,3.0,3.5,0.7,3.0,1.0,3.0,1.0,3.0,3.0],\"yaxis\":\"y\",\"type\":\"scattergl\"},{\"customdata\":[[\"Learn Web Designing & HTML5/CSS3 Essentials in 4-Hours\"],[\"Learning Dynamic Website Design - PHP MySQL and JavaScript\"],[\"ChatBots: Messenger ChatBot with API.AI and Node.JS\"],[\"Projects in HTML5\"],[\"Programming Foundations: HTML5 + CSS3 for Entrepreneurs 2015\"],[\"How To Make A Wordpress Website 2017 | Divi Theme Tutorial\"],[\"Build Your Own Backend REST API using Django REST Framework\"],[\"Angular and Firebase - Build a Web App with Typescript\"],[\"Web Development Masterclass - Complete Certificate Course\"],[\"Spring Boot Tutorial For Beginners\"],[\"The Complete Bootstrap Masterclass Course - Build 4 Projects\"],[\"Scaling Docker on AWS\"],[\"Learn JavaScript for beginners\"],[\"HTML Tutorial: HTML & CSS for Beginners\"],[\"Learn by Doing: Vue JS 2.0 the Right Way\"],[\"Learn Complete Web Development From Scratch\"],[\"Introduction to Web Development: HTML\"],[\"Web Site for Beginners - Learn Web Building like knitting\"],[\"How To Make A Wordpress Website 2017 - Divi Theme Tutorial\"],[\"Web Programming with Python\"],[\"PHP Login and Registration System - Email Confirm Activation\"],[\"PSD to Responsive HTML5: Beginner to Advanced\"],[\"Ultimate Web Developer Course Build 10 Websites from Scratch\"],[\"Rapid Website Design with Bootstrap\"],[\"Build Enterprise Applications with Angular 2 (and Angular 4)\"],[\"Angular 4 (2+) Crash Course for Beginners\"],[\"Accelerated JavaScript Training\"],[\"Beginner API development in Node, Express, ES6, & MongoDB\"],[\"React JS and Redux - Mastering Web Apps\"],[\"Web Development w/ Google\\u2019s Go (golang) Programming Language\"],[\"Git a Web Developer Job: Mastering the Modern Workflow\"],[\"The Complete WordPress Website Business Course\"],[\"The Complete HTML and CSS Course For Beginners\"],[\"Learn  Bootstrap Development By Building 10 Projects\"],[\"Advanced Javascript\"],[\"Dissecting Ruby on Rails 5 - Become a Professional Developer\"],[\"The Complete Wordpress Course - Build Your Own Website Today\"],[\"JQuery Essentials core training for Dynamic Interactive web\"],[\"Node.js: The Essentials + API Frameworks Express KOA Sails\"],[\"The Complete PHP Bootcamp Course With Video Sharing Project\"],[\"Build a Single Page Application with jQuery & AJAX\"],[\"Practical CSS Website Development: Crash Course \"],[\"Successful website creation - everything you need to know\"],[\"Start Writing JavaScript Today - Beginner JavaScript Course\"],[\"HTML5 Essentials for Beginners\"],[\"Code a personal splash page in 1 hour\"],[\"Step-by-step HTML and CSS for Absolute Beginners\"],[\"Angular 4 Development Decoded\"],[\"Javascript ES6! A Complete Reference Guide to Javascript ES6\"],[\"Reactive JS:  Are you ready for the next big paradigm shift?\"],[\"Learn Python and Django: Payment Processing\"],[\"Code your first Website using HTML & CSS: Project Learning\"],[\"React.js: Building Production Ready Apps, Start to Finish\"],[\"Learn Object Oriented Programming PHP fundamentals bootcamp\"],[\"Javascript Intermediate level 2 - Mastering Functions\"],[\"1 Hour CSS\"],[\"Become a Full Stack Developer with Spring, AWS and Stripe\"],[\"Complete JQuery And JQuery UI Course For Beginner\"],[\"Learn JavaScript for Web Development\"],[\"Complete AJAX Using Bootstrap, PHP From Basic To Advanced.\"],[\"Complete Wordpress Theme Development Course\"],[\"How to Optimise Your WordPress Website's Speed & Security to Improve SEO & User Experience\"],[\"Build A Web App With Spring Framework and Angular 2\"],[\"Projects in Laravel: Learn Laravel Building 10 Projects\"],[\"Javascript Intermediate level 3 - JSON\"],[\"Develop Your First App in an Hour\"],[\"PHP: Ultimate guide to PHP for everyone\"],[\"JavaScript DOM Dynamic Web interactive content Boot Camp\"],[\"Master JavaScript Programming, 3 Projects Included !!\"],[\"HTML CSS Learn to create a website from scratch\"],[\"Complete Codeigniter: From Beginner to Advanced\"],[\"HTML 5: How I made websites in HTML5\"],[\"Build Responsive Website Using HTML5, CSS3, JS And Bootstrap\"],[\"Complete React JS web developer with ES6 - Build 10 projects\"],[\"Complete WordPress Theme Developer Course With Bootstrap\"],[\"The Complete Ethical Hacking Course 2.0: Python & Kali Linux\"],[\"Dynamic JavaScript Master Class AJAX JSON Simple APIs\"],[\"Vue JS - Mastering Web Apps\"],[\"Angular NgRx Store Masterclass - Covers Angular 4\"],[\"JavaScript the Basics - JavaScript for Beginners\"],[\"Complete E-Commerce Course - Java,Spring,Hibernate and MySQL\"],[\"Learn SVG Animation - With HTML, CSS & Javascript\"],[\"Build a Responsive Website with HTML5, CSS3 and Bootstrap 4\"],[\"Learn Web Designing & HTML5/CSS3 Essentials in 4-Hours\"],[\"CSS Development (with CSS3!)\"],[\"Angular 2 & TypeScript Beginner Web Development\"],[\"The Docker for DevOps course: From development to production\"],[\"Beginner Full Stack Web Development: HTML, CSS, React & Node\"],[\"Learn Angular 2 Development By Building 12 Apps\"],[\"Server API Development in Swift, Kitura, & Bluemix\"],[\"React VR - Creating Virtual Reality Apps\"],[\"RxJs & Reactive Programming Angular Masterclass - Angular 4\"],[\"Coding for Entrepreneurs: Learn Python, Django, and More.\"],[\"React and Flux Web Development for Beginners\"],[\"The Full Stack Web Development\"],[\"Learn Nodejs by building 12 projects\"],[\"How to Make an Online Portfolio Website from Scratch \"],[\"How To Make A Web Page With No Code\"],[\"Spring Framework 4 And Dependency Injection For Beginners\"],[\"Joomla 3 - The Basics\"],[\"jQuery in Action: Build 8 jQuery Projects\"],[\"Master WordPress Plugins: Shortcodes Ultimate - The Basics\"],[\"ASP.NET C# - Enterprise Web Systems From Novice to Expert\"],[\"Wordpress - Create an Outstanding Website in 2 hours\"],[\"Complete Website & CMS in PHP & MySQL From Scratch!\"],[\"The Complete Web Development Tutorial Using React and Redux\"],[\"Create and Deploy a Web App in 3 Hours\"],[\"HTML & CSS From Scratch in 30 Days\"],[\"Getting Started with Craft CMS\"],[\"JavaScript For Absolute Beginners - Level One\"],[\"Effective Personal Website Building and Hosting\"],[\"Web Design for Web Developers: Build Beautiful Websites!\"],[\"Learn Rails: Quickly Code, Style and Launch 4 Web Apps\"],[\"Getting Started with NodeJS for Beginners\"],[\"Quickstart AngularJS\"],[\"Byte-Sized-Chunks: Cascading Style Sheets (CSS) with HTML\"],[\"Learn Building Your Own Website Without Coding\"],[\"Practical Guide to Web Development\"],[\"The Complete HTML5 and CSS3 Course\"],[\"HTML & CSS for beginners: Build 3 projects from scratch\"],[\"Code a 'Coming Soon' Landing Page in Bootstrap 4\"],[\"Introduction to Bootstrap 3\"],[\"Master ExpressJS to Build Web Apps with NodeJS&JavaScript\"],[\"Learn XML Crash Course: Discover Essential XML Fundamentals \"],[\"HTML5 CSS3 JQUERY Single Page Website Project from Scratch\"],[\"Scrape Websites using PhantomJS and CasperJS\"],[\"Amazon s3 Mastery - THE How-To' Guides For Amazon S3\"],[\"HTML and CSS Crash Course for Beginners\"],[\"EMMET Faster HTML & CSS workflow - Best Tool For Developers \"],[\"Introduction to Web Development\"],[\"AngularJS For ASP.NET MVC Developers\"],[\"Serverless Workflow Management with AWS Step Functions\"],[\"How to set up a Web Server From Scratch to One Fully Managed\"],[\"The Complete PHP MySQL Professional Course with 5 Projects\"],[\"Angular Masterclass\"],[\"Become a Professional Web Developer | Version 3.0\"],[\"Build Incredible Chatbots\"],[\"Try Django 1.10 | Create a URL Shortening Service\"],[\"Projects in CSS\"],[\"Ruby on Rails: Training and Skills to Build Web Applications\"],[\"Learn and Understand React\"],[\"Learn Javascript & JQuery From Scratch\"],[\"Learn to use JSON\"],[\"The Ultimate Web Developer How To Guide\"],[\"Build A Complete CRUD Application With PHP, MYSQL & JQUERY\"],[\"jQuery Crash Course: Learn the Essentials of jQuery Fast\"],[\"Drupal Tutorial : Drupal 8 Beginner to Expert in 8 PROJECTS\"],[\"The Complete PHP CodeIgniter Course: Beginner To Advanced\"],[\"JavaScript For Beginners : Learn JavaScript From Scratch\"],[\"Mastering 'Native CSS Shapes To Build Modern Web Pages\\\"\"],[\"WordPress Development For Beginners\"],[\"WordPress local server setup and site migration online\"],[\"PHP Fundamentals - Start Earning The Top Dollars You Deserve\"],[\"Interactive Dynamic JavaScript for beginners DOM\"],[\"Javascript Intermediate level 1 - Mastering the DOM\"],[\"Sublime Text for Rapid Web Development\"],[\"Servlets and JSPs Tutorial: Learn Web Applications With Java\"],[\"Projects in PHP and MySQL\"],[\"PHP OOP: Object Oriented Programming for beginners + Project\"],[\"React Redux React-Router: From Beginner to Paid Professional\"],[\"Django Core | A Reference Guide to Core Django Concepts\"],[\"Angular 2 Complete E-Commerce App Course - Java,Spring,MySQL\"],[\"Build An Online Bank With Java, Angular 2, Spring and More\"],[\"The Complete jQuery Course: From Beginner To Advanced!\"],[\"Projects in AngularJS - Learn by building 10 Projects\"],[\"The Ultimate Vue JS 2 Developers Course\"],[\"React JS - Build real world JS apps & deploy on cloud\"],[\"Angular 4 Front To Back\"],[\"Modern Web Development with SASS, Gulp, NPM & Web Workflows\"],[\"HTML5, CSS3 And JavaScript Fundamentals 2016\"],[\"Angular 4 - Concepts, Code and Collective Wisdom\"],[\"Learn E-Commerce Website in PHP & MySQL From Scratch!\"],[\"JavaScript Game Development: Create Your Own Breakout Game\"],[\"HTML and HTML5 For Beginners 2016\"],[\"A Very Complete Introduction To Laravel\"],[\"Learn to code, Become a Web Developer and Master JavaScript!\"],[\"Serverless Architecture on Amazon Web Services\"],[\"jQuery Essentials: Learn the Fundamental of jQuery\"],[\"Expert Guide : Mastering Functions in JavaScript !\"],[\"Learn Angular 4 from Scratch\"],[\"Discover HTML Essential guide to HTML how to create webpages\"],[\"HTML5 and CSS3 for beginners: Create a Website from Scratch\"],[\"Introduction to Web Development\"],[\"jQuery Fundamentals Powerful Bootcamp for beginners\"],[\"The Complete HTML & CSS Course - From Novice To Professional\"],[\"JavaScript Basics Web Development Building Blocks\"],[\"Bootstrap unleash the power faster & easier web development\"],[\"JavaScript Design Patterns: 20 Patterns for Expert Code\"],[\"Fix Google's New 'Not Secure' Warning with Let's Encrypt!\"],[\"JavaScript for Beginners Welcome to learning JavaScript\"],[\"Benefits of Thinking Mobile First Future of Website Design\"],[\"Javascript from Beginner to Advanced Level\"],[\"AJAX Development\"],[\"Interaction Design Specialist For Web Developers\"],[\"PHP Security\"],[\"The Bubble Course - Create Complete Web Apps without Coding\"],[\"The Complete HTML5 & CSS3 Course Build Professional Websites\"],[\"CSS Web Development Crash Course\"],[\"Mastering DevOps\"],[\"Building Websites Create a fully functional Web contact form\"],[\"Create a Dynamic User Registration Form from scratch\"],[\"A 13 Hour SQL Server 2014 /ASP.NET/CSS/C#/jQuery Course\"],[\"HTML Workshop\"],[\"Python for Beginners: Python Programming Language | Tutorial\"],[\"Creating Animations using HTML5 Canvas\"],[\"Bootstrap 4: Exploring New Features\"],[\"Bootstrap 3 -> Profitable WordPress Theme Development!\"],[\"Intro to Git\"],[\"WordPress Domination #2: Leads & Scarcity\"],[\"Learn How to Manage & Customize  Web Sites By Drupal CMS\"],[\"Using Modern JavaScript Today\"],[\"Up and Running with jQuery\"],[\"Learn How To Build A Professional Web Site By Using Joomla\"],[\"Power up HTML5 with JavaScript\"],[\"Node Package Manager Course: Build and Publish NPM Modules\"],[\"WordPress Look and Feel with Themes\"],[\"PHP with Laravel for beginners - Become a Master in Laravel\"],[\"JavaScript 2017: Become Top Rated Web Developer\"],[\"The Complete Web Developer Bootcamp - Beginner to Expert\"],[\"Full-Stack Web Apps with Meteor and React\"],[\"Angular 4: From Theory to Practice & FREE E-Book\"],[\"The Complete Sass & SCSS Course: From Beginner to Advanced\"],[\"Become a Certified Web Developer\"],[\"Become a Web Developer from Scratch\"],[\"Ultimate Angular 4 (previously Angular 2) with Bootstrap 4\"],[\"The Ultimate Beginner's Guide to Django\"],[\"React JS - Mastering Redux\"],[\"Professional Ruby on Rails Developer with Rails 5\"],[\"Ruby on Rails 5 - BDD, RSpec and Capybara\"],[\"Back to School Web Development and Programming Bundle\"],[\"Complete ASP NET MVC Web Development - Newbie to Ninja!\"],[\"The Complete DevOps Engineer Course 2.0 - Java & Kubernetes\"],[\"All about NodeJS\"],[\"How To Create A Wordpress Website 2016 | NEW Divi Theme 3.0!\"],[\"The Complete jQuery Course - From Beginner to Professional!\"],[\"Build a complete Fiverr clone with Node + Algolia + Paypal\"],[\"The Ultimate Web Development Course\"],[\"React From The Ground Up\"],[\"Javascript for Beginners Learn by Doing Practical Exercises\"],[\"8 Beautiful Ruby on Rails Apps in 30 Days & TDD - Immersive \"],[\"Wordpress Website Mastery 2017\"],[\"How To Make an eCommerce Website With Wordpress 2017\"],[\"Mastering ASP.NET MVC 5 From Scratch Using C#\"],[\"Start Web Development with GIS Map in JavaScript\"],[\"Learn to Build Websites using Twitter Bootstrap\"],[\"Web Development Tools the Pros Use: Code Productivity Hacks\"],[\"WordPress : An Overview\"],[\"Create Startup Landing Page with Viral Marketing Strategies\"],[\"JavaScript : JavaScript Awesomeness\"],[\"Mastering CSS 3.0 Selectors\"],[\"WordPress Backup And Restore Fundamentals\"],[\"Learn HTML and CSS to make a Website\"],[\"1 Hour HTML\"],[\"Angular 2 Crash Course with TypeScript\"],[\"Boost your website speed without any coding!\"],[\"Professional Rails Code Along\"],[\"ASP.NET Web API 2 Hands-On\"],[\"Create a MEAN App by Example - Full Stack Course\"],[\"The Original Complete Web Developer Course.\"],[\"Angular 2 From The Ground Up\"],[\"Complete Web Development Course + Building 5 Websites!\"],[\"WP Plugin Development - Build your own plugin!\"],[\"Sass: From Beginner to Advanced\"],[\"Build Flat Responsive Website from Scratch - Complete Course\"],[\"Wordpress for Beginners - Build a Live Website from Scratch\"],[\"Essential JavaScript, jQuery and AngularJS Training\"],[\"The Pro Ruby on Rails Starter\"],[\"Unit Testing AngularJS: Build Bugfree Apps That Always Work!\"],[\"WordPress Blog : Create a WordPress Website for Beginners\"],[\"Introduction to HTML5 Canvas basics of drawing\"],[\"Thoughtful Web Development Course: HTML, Vue.js, PHP, MySQL\"],[\"Kids Coding - Beginners CSS\"],[\"PHP & MySQL - Learn The Easy Way. Master PHP & MySQL Quickly\"],[\"Learning Path: Magento: Master and Test Magento 2 with Ease\"],[\"The Complete hapiJS Course - Go From Beginner To Advanced!\"],[\"Ruby On Rails For Web Development\"],[\"Create eye-catching WordPress website from scratch\"],[\"Become A Web Developer And Seller - Build Websites With HTML\"],[\"WordPress Tips and Tricks\"],[\"HTML Tutorials : HTML Code for Website Creating\"],[\"Complete HTML5 and CSS3 Course +1 Start to Finish Project\"],[\"Web Development With HTML CSS BOOTSTRAP JQUERY for Beginners\"],[\"HTML5 Specialist: Comprehensive HTML5 Training\"],[\"CSS and CSS3 For Absolute Beginners\"],[\"Build a Complete JQuery Plugin (Image Pop-up Dialog)\"],[\"How to create HTML Forms\"],[\"ReactJS and Flux: Learn By Building 10 Projects\"],[\"How To Make A Business Website In 1 Day With Wix FAST & EASY\"],[\"PHP Date and Time Course by Edwin Diaz\"],[\"Start Your Own Forum Website in 15 Minutes \"],[\"Hit the ground running with AngularJS with Dion Yang\"],[\"Learn CSS Transition and Animation \"],[\"Learn JavaScript from scratch\"],[\"WordPress for Beginners - Tutorial - From Novice to Know-How\"],[\"RESTful API with Laravel\"],[\"Learn Ruby on Rails for Absolute Beginners\"],[\"JavaScript Tutorial\"],[\"Shopping Cart Website from Scratch Ecommerce\"],[\"Learn By Example: Angular JS\"],[\"The Complete front end web developer Bootcamp - 14 projects\"],[\"WordPress LMS: E-Learning Website Made Easy\"],[\"Create An HTML5 Video Player From Scratch\"],[\"In Depth Web Development Made Easy\"],[\"Jquery :basics for beginners\"],[\"Web Development By Doing: HTML / CSS From Scratch\"],[\"Build Your First Website in 1 Week with HTML5 and CSS3\"],[\"ASP.NET Core MVC, Quick and Practical\"],[\"Better way towards CSS using Less and Sass\"],[\"JavaScript Complete for beginners with real world Apps\"],[\"Creating a Responsive HTML Email\"],[\"Angular 2 Demystified\"],[\"Learn HTML Fast and Easy!\"],[\"How To Setup a Micro-Blog in 3 Easy Steps\"],[\"Ruby on Rails for Complete Beginners\"],[\"Wordpress for Non-Technical People\"],[\"ASP NET CORE - ANGULAR 2 E-Commerce App\"],[\"Introductory JavaScript Made Easy Training Tutorial\"],[\"Become a Heroku Rails Ninja: Expert Level Deployment Tools\"],[\"Complete RESPONSIVE Website Design with HTML5 & CSS3\"],[\"Pimcore Developer: Implement a Blog from a Bootstrap Theme\"],[\"Inspirational Web Development - A Beginner Approach -\"],[\"Learn HTML, A practical guide from scratch to HTML 5\"],[\"JavaScript Tutorial: Learn JavaScript Code for Beginners\"],[\"Website Secrets: Get a Gorgeous Website on the Cheap\"],[\"Ultimate WordPress Plugin Course\"],[\"PHP for Beginners: How to Build an E-Commerce Store\"],[\"Build Realtime Apps | React Js, Golang & RethinkDB\"],[\"Master Electron: Desktop Apps using HTML, JavaScript & CSS\"],[\"The Complete Web Developer Masterclass: Beginner To Advanced\"],[\"Mastering Micro Services Using Java Spring Boot\"],[\"How to Create A Website: An HTML Tutorial and CSS Tutorial\"],[\"The Advanced Web Developer Course\"],[\"Projects in MongoDB - Learn MongoDB Building Projects\"],[\"Learning JavaScript Programming Tutorial. A Definitive Guide\"],[\"The Complete JavaScript, HTML and CSS Tutorial For Beginners\"],[\"Build Modern Responsive Website With HTML5, CSS3 & Bootstrap\"],[\"The Complete JavaScript Course For Web Development Beginners\"],[\"Email Marketing: Send Unlimited Emails via Own Mail Server\"],[\"Getting started with JavaScript\"],[\"Learn the basics of the Web development: Coding Tactics\"],[\"RESTful API with Laravel 5.4: Definitive Guide\"],[\"Learn AngularJS Step By Step\"],[\"Learn React : The World's Most Lucrative JavaScript Library\"],[\"Master Regular Expressions from scratch - All languages\"],[\"Try AngularJS: Beginner's Guide to Front End Web Development\"],[\"JavaScript Step by Step how to apply it to your web pages\"],[\"Explore JavaScript Beginners Guide to Coding JavaScript\"],[\"Learn Web Scraping with Node.js\"],[\"Getting Started with WordPress 2016\"],[\"Learn HTML5 Programming From Scratch\"],[\"Getting Started with LESS - Beginner Crash Course\"],[\"Master ECMAScript 2015 (ES6)\"],[\"Learn to Setup Websites from Scratch\"],[\"Create Fast RESTful APIs with Lumen and Homestead by Laravel\"],[\"Build Modern Websites Quick With HTML,CSS and Bootstrap\"],[\"Twitter Integration customize Tweets with developer API\"],[\"Build a Responsive Website with a Modern Flat Design\"],[\"The Ultimate WordPress Boot Camp: Build 7 Websites\"],[\"Master the Basics of HTML5 & CSS3: Beginner Web Development\"],[\"Become A Full Stack Web Developer in 14 Days\"],[\"Projects In ReactJS - The Complete React Learning Course\"],[\"Beginning Web development Learn the basics of HTML\"],[\"Step by Step Build Your Template by Bootstrap 4 from scratch\"],[\"Hosting your static website on Amazon AWS S3 service\"],[\"JavaScript Rockstar How to create Incredible Useful code\"],[\"Spring Core DevOps on AWS\"],[\"How to Create a Website Without Coding - WordPress 2016\"],[\"PHP Graphic Techniques: CAPTCHA/ Create a verification code\"],[\"Introductory To HTML and CSS\"],[\"Learn how to convert PSD to HTML and CSS responsive\"],[\"PHP User Login Registration Script With All Features\"],[\"AJAX : Let's build a COOL project\"],[\"Advanced WordPress Topics: Post Types Taxonomies & Metaboxes\"],[\"Laravel Homestead\"],[\"The Complete TypeScript Programming Guide for Web Developers\"],[\"JavaScript with BackboneJS and Bootstrap CSS - Advanced\"],[\"Ruby on Rails Tutorial: Learn 6 Ruby on Rails SEO Techniques\"],[\"XML DOM :basics for beginners\"],[\"Learn HTML Basics From Scratch\"],[\"Byte-Sized-Chunks: Dynamic Prototypes in Javascript\"],[\"Build Websites from Scratch with Squarespace\"],[\"Introduction to web programming for GIS applications\"],[\"Java Spring Security\"],[\"Responsive Html5 Theme Development\"],[\"What\\u2019s New in Bootstrap 4\"],[\"ReactJS Course: Learn JavaScript Library Used by Facebook&IG\"],[\"Building a Ruby on Rails Application with Neo4j\"],[\"Sara Learns to Code.  Making an App from Scratch\"],[\"Ajax  for Beginners: A Very Basic Introduction\"],[\"Wordpress Essentials: Useful Plugins\"],[\"Django by Example\"],[\"Build A Great Wordpress Website For Your Business in 2 Hours\"],[\"Wordpress on AWS: The Easy way to AWS for Free Fast hosting \"],[\"Mastering TypeScript\"],[\"Mastering AngularJS UI Development\"],[\"Custom Theme Creation for WordPress using HTML5 and CSS3\"],[\"Create a PHP Contact Form in Bootstrap\"],[\"Introduction To Data Analytics Using Microsoft Power BI\"],[\"HTML Made Simple For Beginners: Create a One Page Website\"],[\"The Complete Web Developer Masterclass: Beginner To Advanced\"],[\"Website Builder Software Previews\"],[\"Learn How to Create Your Own Social Network\"],[\"Learn By Example: The Foundations of HTML, CSS & Javascript\"],[\"JavaScript manipulation of the DOM Document Object Model\"],[\"Create Jekyll blog and host it on Github like a Ninja\"],[\"Learn React JS from scratch\"],[\"Web Security: Common Vulnerabilities And Their Mitigation\"],[\"PHP for Beginners\"],[\"Make a professional website - 30 Day Guarantee. Discounted!\"],[\"Symfony 3: Build a PHP Application with Symfony\"],[\"Learn ASP.Net Web API 2 for Absolute Beginner\"],[\"Build a Website in 30 Minutes\"],[\"Google Blogger : How to Create a Blog\"],[\"How to Make a Website Without Coding- WordPress & Web Skills\"],[\"Learn WCF And Web APIs From Scratch\"],[\"How To Build A Website From Scratch + Blogging Blueprint\"],[\"Learn To Create Different Website Layouts & Media Queries \"],[\"Build Sign Up and Login Forms With Bootstrap Modal\"],[\"Build a Real Time web app in node.js , Angular.js, mongoDB\"],[\"Superb jQuery Course - Become Certified jQuery Developer\"],[\"How To Build A Facebook Messenger Chat Bot From Scratch\"],[\"Build Your Own Calculator App with Javascript, HTML5 & CSS\"],[\"The Complete WordPress Development & Customization Course\"],[\"HTML CSS Easy steps to create a web template from scratch\"],[\"Learn jQuery AJAX in 1 hour\"],[\"Develop Competitive Plugins for WordPress and WooCommerce\"],[\"Get Results - Core Principles of Web Development Tricks Tips\"],[\"JSON Faster Sleeker & Easier Discover the benefits learn it\"],[\"Get to know HTML Learn HTML Basics\"],[\"Ultimate Css & JQuery Form Designing From Beginner to Expert\"],[\"PHP: Complete Registration and Login with Email Verification\"],[\"JavaScript from Beginner to Expert\"],[\"Build a website HTML5 CSS3 Beginner Course\"],[\"Learn Ruby on Rails: Stripe Payment Processing\"],[\"WordPress For Beginners | No Coding Required\"],[\"jQuery For Beginners : A Basic Introduction\"],[\"WordPress Plugins and Widgets\"],[\"PHP Essential How to create build Amazing websites with PHP\"],[\"HTML CSS JavaScript: Most popular ways to code HTML CSS JS\"],[\"Bootstrap 3 Beginners: Create a Professional Landing Page\"],[\"Introduction to Node.js for Beginners\"],[\"Introduction to Coding with Ruby\"],[\"Complete PHP and MySql Course: From Beginner to Professional\"],[\"Angular JS Essentials\"],[\"How To Setup Web Hosting\"],[\"Web Application Development using Redis, Express, and Socket\"],[\"How to Start a WordPress Blog - Complete Beginners Guide!\"],[\"CSS3 Gradients for Web Designers\"],[\"Learn ASP NET MVC 5 step by step\"],[\"Tumult Hype Pro Basics: HTML5 Animations Made Easier\"],[\"Web Hosting Set Up and WordPress Installation For Beginners\"],[\"Ruby on Rails 4---A Test-Driven Approach\"],[\"AJAX :basics for beginners\"],[\"Let's JavaScript!  Code a calculator\"],[\"JavaScript from Beginner to Advanced\"],[\"WordPress Theme Academy with Bootstrap\"],[\"Building a eCommerce Startup in 4 Hours [Livestream]\"],[\"Responsive PHP Registration Form: From Scratch\"],[\"A-Frame WebVR Programming Tutorial Series (Virtual Reality)\"],[\"Learn Bootstrap And Make Responsive Websites\"],[\"HTML Web Development Crash Course\"],[\"Bootstrap Basics: Program Responsive Websites\"],[\"Projects with JSON and APIs\"],[\"Web Design HTML CSS How to Create a Website from Scratch\"],[\"Create Complete Sign up System using PHP, jQuery and Ajax\"],[\"Adobe Flash for Beginners - Build Flash Website From Scratch\"],[\"Learn Complete WordPress for Building a Professional Sites\"],[\"Devtools 2017: Beginner to Expert w/ Chrome Developer Tools\"],[\"Bootstrap Essential Training - Create Your Very Own Website\"],[\"Angular 2 Jump Start With Typescript\"],[\"Learn Plugin Development in WordPress By Building  Projects\"],[\"Build Your Startup with No Coding (Design, Develop & Ship)\"],[\"The Web Developers Guide: Learn HTML & CSS Fundamentals\"],[\"Learn PHP Programming for Absolute Beginners - Lite\"],[\"Learn Drupal 8 - With a Live Project\"],[\"Supreme NodeJS Course - For Beginners\"],[\"CSS3 for beginners\"],[\"Javascript for beginners\"],[\"Become a Bootstrap Expert: Build 20 Layouts!\"],[\"PHP : Learn to upload files to Amazon S3 and use CloudFront\"],[\"PHP MySQL: Learn PHP MySQL with Project\"],[\"How to Set Up a Self-Hosted Wordpress Website in 30 Minutes\"],[\"Projects in Django and Python\"],[\"Create, Update and Manage Your Own Website Using Drupal 7\"],[\"Learn HTML - The programming language to build a webpage!\"],[\"Learn To Program JavaScript (in ten easy steps)\"],[\"Bootstrap :basics for beginners\"],[\"Introduction to CSS Development\"],[\"PHP :basics for beginners\"],[\"Beginning Oracle WebLogic for Administrators\"],[\"Build an HTML5 and CSS3 Website in 35 Minutes\"],[\"Angular 2 Routing: Up And Running\"],[\"Advanced Prezi: Make Amazing Presentations \"],[\"1 hour jQuery\"],[\"The WpFASTER WordPress Speed Optimization Master Course\"],[\"How to Build Your Own Website with WordPress: A Step-by-Step Guide \"],[\"Build Apps with ReactJS: The Complete Course\"],[\"Learn SASS: from beginner to expert\"],[\"The complete HTML5 course\"],[\"Create a Responsive Website with Bootstrap 3\"],[\"Lerning PHP by building website\"],[\"Learn PHP Object Oriented Features with Simple Examples\"],[\"Crash Course - Learn to Create a PHP MVC Framework\"],[\"JSON :basics for beginners\"],[\"CSSCasts; CSS libraries Plugins Tips & Tricks for Developers\"],[\"Complete Guide to Front-End Web Development and Design\"],[\"Build Ajax Web Apps with Laravel 5.2, Bootstrap and jQuery\"],[\"Javascript for Beginners\"],[\"MongooseJS Essentials - Learn MongoDB for Node.js\"],[\"Regular Expressions for Beginners - Universal\"],[\"Learn Redis from Scratch\"],[\"WordPress Plugin Development -> Deep dive discovery!\"],[\"Learn Ajax and jquery with PHP\"],[\"Create a business website with WordPress\"],[\"DesktopServer : Install WordPress Locally  - Work Anywhere!\"],[\"Understand PHP Arrays and HTTP Request in a Better Way\"],[\"Mastering CSS\"],[\"The Complete Wordpress Theme Development Guide\"],[\"The Complete HMTL5 Course - Go From Beginner To Advanced!\"],[\"Learn Jquery from Scratch 2-Hour Training \"],[\"How to Create a Wordpress Website from Scratch - No Coding\"],[\"Learn PHP CodeIgniter Framework with AJAX and Bootstrap\"],[\"The Complete Guide to JavaScript Development\"],[\"Basic HTML CSS and Web Design\"],[\"Build Professional WordPress Website\"],[\"Ultimate CSS3 Course - From Beginners To Professional\"],[\"Code & Grow Rich:  Earn More As An Entrepreneur Or Developer\"],[\"Learn by Example : ReactJS\"],[\"React.js Quickly: Developing Scalable Web User Interfaces\"],[\"JavaScript - Tricks and Workarounds\"],[\"Kids Coding - Beginner HTML\"],[\"Learn PHP from scratch!!\"],[\"PHP with PDO - ULTIMATE Crash Course\"],[\"JavaScript for beginners with live examples\"],[\"Bootstrap 3 Introduction : Create RESPONSIVE Websites Fast\"],[\"Laravel(5.2) PHP Framework  Jump Start for beginners\"],[\"Professional WordPress Theme Development For 2017\"],[\"Learn Laravel PHP Framework Building Multi User SEO Blog APP\"],[\"Javascript Specialist\"],[\"Write PHP Like a Pro: Build a PHP MVC Framework From Scratch\"],[\"JavaScript Intro to learning JavaScript web programming\"],[\"Crash Course: Fundamentals Of HTML & CSS From Scratch.\"],[\"Laravel, the complete guide with real world projects\"],[\"VueJS V1 Introduction to VueJS JavaScript Framework\"],[\"HTML CSS: Essential steps to learn HTML CSS\"],[\"Learn HTML 5 in 1 hour\"],[\"Learn Html5 & CSS3 from scratch\"],[\"Responsive Web Design: Made Easy\"],[\"Parse Server: From Front End to Full Stack\"],[\"Codeigniter: How to use Codeigniter that drives knowledge\"],[\"jQuery for Beginners - Create Website Animations Easily\"],[\"How to Build Chat Bots: From Beginner to Intermediate\"],[\"Web Development with BootStrap - 16 Instant Themes Included!\"],[\"Install a Wordpress Theme the Correct Way & Charge Others\"],[\"Coding for Entrepreneurs Basic\"],[\"The CSS and CSS3 Crash Course\"],[\"Build a Business or Personal Website Using Wordpress\"],[\"Learn By Example: PHP For Dynamic Websites\"],[\"Learn ReactJS: Code Like A Facebook Developer\"],[\"Learn to Build Web Apps using D3JS\"],[\"How to create awesome website and e-commerce in 1 hour\"],[\"Joomla for Beginners - Learn how to build a website with CMS\"],[\"Learning Drupal 8\"],[\"Learn How To Build a Web Application Without Coding\"],[\"Rock Solid Wordpress Security - Secure Web Development\"],[\"Mastering JavaScript\"],[\"PHP Laravel 5:Creating a CRUD application\"],[\"XQUERY :basics for beginners\"],[\"PHP Development with the Laravel Framework\"],[\"WordPress Development - Themes and Plugins Complete Guide\"],[\"Basic JavaScript: Build 4 Basic JavaScript Projects\"],[\"HTML and CSS for Beginning Web Developers\"],[\"Popular JavaScript Framework:Learn The Language Of Angular 2\"],[\"The Ultimate Guide to the Best WordPress Plugins Part 1\"],[\"XSLT :basics for beginners\"],[\"The Complete Wordpress Plugin Development Course - 8 Plugins\"],[\"JSON Crash Course for Beginners\"],[\"You can create Incredible Websites with HTML CSS learn how\"],[\"JavaScript Tricks how to create code projects from scratch\"],[\"The Sass Course! Learn Sass for Real-World Websites\"],[\"Web Design How to Create a Website HTML CSS Bootstrap\"],[\"Master Angular 4 by Example - Build 7 Awesome Apps!\"],[\"Create A Custom Responsive WordPress Website For A Client\"],[\"Mastering HTML5 Programming - The Easier Way\"],[\"How to Launch Your Own Website Builder Service\"],[\"Getting Started with HTML\"],[\"Spring Framework 4 (Java Enterprise JEE) with AngularJS\"],[\"Build A Weather App With Ajax Using Open Weather Map API\"],[\"Essentials of JavaScript Practice Coding Exercises Tips\"],[\"Learn and Earn with HTML & CSS\"],[\"Get started Creating Websites Everything you need provided\"],[\"JavaScript in Action JavaScript Projects\"],[\"Modern Web Development with Laravel 5.2 (PHP Framework)\"],[\"Programming for Entrepreneurs - JavaScript\"],[\"Create a Website from Scratch using HTML CSS step by step\"],[\"Complete AJAX Course: Learn AJAX Techniques Using Bootstrap\"],[\"Learn jQuery by Example Course\"],[\"Bootstrap 4 Theme Development Masterclass\"],[\"Wordpress Theme Development for Beginners\"],[\"Web Design Creating websites from scratch\"],[\"HTML Learning the Basics Intro to HTML website coding\"],[\"Learn how to use Javascript Components with PHP and Symfony\"],[\"So you think you know JavaScript?\"],[\"Learn Node.js by building Udemy: Stripe + MailChimp + Wistia\"],[\"Learn jQuery: An In-depth Course For Beginners\"],[\"JavaScript for Beginning Web Developers\"],[\"JQuery Create Overlay Popups from scratch using Jquery\"],[\"Vue JS 2: From Beginner to Professional\"],[\"Ultimate AngularJS: Build a Real-World App from Scratch\"],[\"Wordpress Site Migration\"],[\"introduction to HTML Course\"],[\"Create Single Page Website using Twitter Bootstrap 3\"],[\"The All-In-One Web Development Course\"],[\"Code a Responsive Website Using HTML5 and CSS for Beginners\"],[\"AngularJS for the Real World - Learn by creating a WebApp\"],[\"Wordpress Tutorial   \"],[\"Create a REAL Social Network like Facebook in PHP + MySQL\"],[\"Advanced Node.js Development\"],[\"ASP.NET MVC 5 Project - Facebook Clone\"],[\"Bootstrap For Beginners: A  Basic Introduction\"],[\"jQuery for Beginners\"],[\"JavaScript Basics For Web Developers\"],[\"Learn PHP from Scratch\"],[\"Learn Express\"],[\"Build A Web App with VueJS, Spring Framework and MongoDB\"],[\"Zend Framework 2: Learn the PHP framework ZF2 from scratch\"],[\"Improved SEO with Rich Snippets and MicroData\"],[\"X theme for WordPress: Responsive web design without code!\"],[\"Become a HTML and CSS Developer - Build a Responsive Site\"],[\"How to Make a Wordpress Website 2017\"],[\"Install Wordpress\"],[\"CSS Specialist: Comprehensive CSS Training\"],[\"Introduction to Laravel 4\"],[\"Introduction to Elm\"],[\"Learn to Freelance with People Per hour  (URDU)\"],[\"Learn Wordpress 4 from Scratch : Create Awesome Websites\"],[\"Amazon Alexa Development: From Beginner to Intermediate\"],[\"The Build a SAAS App with Flask Course\"],[\"Learn JSON with JavaScript Objects and APIs in 1 hour\"],[\"1 Hour JavaScript\"],[\"Building An E-Commerce Store Using Java Spring Framework\"],[\"Typescript Masterclass & FREE E-Book\"],[\"PHP MVC Framework CodeIgniter Tutorial for Beginners Project\"],[\"JavaScript - Become Higly Paid Front End Developer\"],[\"Object Oriented Programming (OOP) in PHP - Build An OOP Site\"],[\"Beginners Introduction to Web Development\"],[\"Django + AngularJS for a Powerful Web Application\"],[\"WordPress Academy: Learn WordPress step by step\"],[\"Web Development Essential Skills - Complete HTML and CSS\"],[\"Byte-Sized-Chunks: Closures in Javascript\"],[\"Laravel Account Activation Project\"],[\"WordPress: Create an Amazing Website With Ease\"],[\"Mastering the Google Chrome Developer Tools\"],[\"Kali Linux Web App Testing\"],[\"Learn Ruby Programming The Easy Way - Lite\"],[\"Web Scraping with Python, Ruby & import. io\"],[\"Sending email with PHP: from Basic to Advanced\"],[\"WordPress 2016 for Beginners : Build awesome websites!\"],[\"Learn to make websites with Google's Material Design Lite\"],[\"Joomla 3 : Develop a Professional Website in 3 Simple Steps!\"],[\"Complete Python Web Course: Build 8 Python Web Apps\"],[\"Web Design for Beginners: Real World Coding in HTML & CSS\"],[\"Ethereum Developer: Build A Decentralised Blockchain App\"],[\"The Complete Web Development Course -  Build 15 Projects\"],[\"Angular 2 + Rails 5 Bootcamp\"],[\"Javascript - From Beginner to Pro-Build real world JS apps\"],[\"Redux in Angular (2 and 4+)\"],[\"The complete JavaScript developer: MEAN stack zero-to-hero\"],[\"Running a Web Development Business: The Complete Guide\"],[\"Projects In JavaScript & JQuery\"],[\"Learn To Build Beautiful HTML5 And CSS3 Websites In 1 Month\"],[\"Full stack Universal React with Redux, Node js and MongoDB\"],[\"Creating an MP3 Player with HTML5\"],[\"Be a Bootstrap Developer from scratch\"],[\"Create Your First Wordpress Site in Under an Hour\"],[\"Learn Coding as RF or Telecom Engineer - Build Real Program\"],[\"Creating FaceBook Design Using Bootstrap - Handson Project\"],[\"Building HTML5 Canvas projects from scratch\"],[\"Learn How To Become a Web Developer From Scratch\"],[\"Earn Big Profits With Web Development, Simple and Easy!\"],[\"BDD with Ruby on Rails using RSpec 3 and Capybara\"],[\"Learn By Example: jQuery\"],[\"Professional Python Web Development Using Flask\"],[\"JavaScript HTML CSS Project make a Quiz Tutorial\"],[\"Voiceover Audio Secrets - Your Way to Top Audio Quality\"],[\"jQuery UI In Depth\"],[\"Codeless Website Development with Adobe Muse\"],[\"Learn To Build A Google Map App Using Angular 2\"],[\"Learn Reactivex From Ground Up\"],[\"Learn HTML in 59 Minutes - Your intro to front-end dev\"],[\"WordPress Theme Customization 101 (for beginners)\"],[\"Supercharging Development With Atom Text Editor\"],[\"Master WCF 4.0 From Scratch Using C#\"],[\"Drupal 7 for Beginners\"],[\"Critical Web Dev Skills & Tools for the Non-Tech Hustler\"],[\"Install WordPress on Computer using XAMPP\"],[\"Java Web Services Part 2\"],[\"Complete PHP Course With Bootstrap3 CMS System & Admin Panel\"],[\"Learn To Create WordPress Themes By Building 10 Projects\"],[\"The Complete NodeJS Course: Build a Full Business Rating App\"],[\"Master the MEAN Stack - Learn By Example\"],[\"First Web Application with Spring Boot\"],[\"HTML5 and CSS3: Learn Web Design with HTML + CSS + Bootstrap\"],[\"Backbone Tutorial: Learn Backbonejs from Scratch\"],[\"AngularJS Custom Directives with Dan Wahlin\"],[\"Angular 2+ with Typescript - Essential Training\"],[\"Learn Angular 2 from Beginner to Advanced\"],[\"Create an eCommerce Wordpress Website 2016 - New Divi Theme!\"],[\"HTML5 and CSS3 : Landing Pages for Entrepreneurs 2016\"],[\"Learning Docker and Kubernetes by Lab\"],[\"Projects in ExpressJS - Learn ExpressJs building 10 projects\"],[\"PHP For Beginners : Learn PHP From Scratch!\"],[\"Bootstrap 4.0 New Features: Build Responsive Website\"],[\"ASP.NET MVC 5 Project - CMS and Shopping Cart with Paypal\"],[\"Professional RESTful API Design using Python Flask\"],[\"HTML5 APIs For JavaScript - A Course For Web Developers \"],[\"Learn Python Django - A Hands-On Course\"],[\"Comprehensive JavaScript Programming\"],[\"Security for your WordPress site\"],[\"Try Django 1.9 | Build a Blog and Learn Python's #1 Library\"],[\"Accelerated ES6 JavaScript Training\"],[\"AWS Serverless APIs & Apps - A Complete Introduction\"],[\"Python and Django Full Stack Web Developer Bootcamp\"],[\"The Complete Elixir and Phoenix Bootcamp\"],[\"Build a Real-world App with ASP.NET Core and Angular 2 (4+)\"],[\"REST APIs with Flask and Python\"],[\"Angular 4 (formerly Angular 2) - The Complete Guide\"],[\"Build Websites from Scratch with HTML & CSS\"],[\"PHP for Beginners -Become a PHP Master - Project Included\"],[\"The Professional Ruby on Rails Developer\"],[\"The Complete Ruby on Rails Developer Course\"],[\"Docker Technologies for DevOps and Developers\"],[\"JavaScript programming: JavaScript for beginners\"],[\"JSON in Action: Build JSON-Based Applications\"],[\"Learn Ruby Programming The Easy Way\"],[\"Learn OAuth 2.0 - Get started as an API Security Expert\"],[\"AngularJS For .Net Developers From Scratch\"],[\"Jekyll: make fast, secure static sites and blogs with Jekyll\"],[\"HTML and CSS BootCamp for Beginners\"],[\"Hosting Django: Amazon Web Services (AWS) Fundamentals\"],[\"Angular Advanced MasterClass & FREE E-Book\"],[\"Learn Responsive Web Development from Scratch\"],[\"Build WordPress Plugin to extend Beaver Builder\"],[\"Coding Made Easy: A Beginners Guide To JavaScript\"],[\"The Complete Developers Guide to MongoDB\"],[\"Electron for Desktop Apps: The Complete Developer's Guide\"],[\"Vue JS 2 - The Complete Guide (incl. Vue Router & Vuex)\"],[\"React JS, Angular & Vue JS - Quickstart & Comparison\"],[\"The Complete JavaScript Course: Build a Real-World Project\"],[\"Angular (Angular 2 or 4) & NodeJS - The MEAN Stack Guide\"],[\"Angular 2 with TypeScript for Beginners: The Pragmatic Guide\"],[\"Meteor and React for Realtime Apps\"],[\"The Web Developer Bootcamp\"],[\"AngularJS JumpStart with Dan Wahlin\"],[\"The Complete Web Developer Course 2.0\"],[\"Ultimate Web Designer & Developer Course: Build 23 Projects!\"],[\"ExpressJS Fundamentals\"],[\"REST WCF Service in ASP.NET\"],[\"Projects in Node.js - Learn by Example\"],[\"Building Data Visualizations with D3 and Angular 2\"],[\"Learn Object Oriented PHP By Building a Complete Website\"],[\"Web Programming Course : Asp.Net MVC\"],[\"Learn Spring Framework Practically - Hands On Recipies\"],[\"One-stop Ruby on Rails: Build Web Applications from Scratch\"],[\"Learn what's new in PHP 7\"],[\"Dive Into Docker: The Docker Course for Developers\"],[\"Basic Concepts of Web Development, HTTP and Java Servlets\"],[\"The Most Comprehensive Web Development Course\"],[\"Learn and Understand AngularJS\"],[\"JavaScript: Understanding the Weird Parts\"],[\"Webpack 2: The Complete Developer's Guide\"],[\"Build Responsive Real World Websites with HTML5 and CSS3\"],[\"ES6 Javascript: The Complete Developer's Guide\"],[\"Learn and Understand NodeJS\"],[\"Understanding TypeScript\"],[\"Advanced React and Redux\"],[\"Modern React with Redux\"],[\"Angular Styling & Animations (for Angular 2 and Angular 4)\"],[\"The Complete ASP.NET MVC 5 Course\"],[\"GraphQL with React: The Complete Developers Guide\"],[\"Create a Simple Photo Gallery with Dropzonejs, Slick and PHP\"],[\"WordPress in under an hour - Create/manage your own website!\"],[\"Twitter Bootstrap 2 for Beginners\"],[\"Bootstrap Tutorial - Essentials From Basic to Advanced\"],[\"Create an Engaging Website with Twitter Bootstrap 2.x\"],[\"Javascript :basics for beginners\"],[\"CSS Tutorial For Beginners: Style Your Wordpress Templates\"],[\"HTML5 And CSS3 - Build Modern Responsive Websites\"],[\"PSD to HTML5/CSS3 using Twitter Bootstrap 3! \"],[\"Web Development: Make A Website That Will Sell For Thousands\"],[\"WordPress Basics to Business: Share and Sell your Expertise\"],[\"PHP Zend Framework 2:Creating a CRUD Application\"],[\"JavaScript Fundamentals\"],[\"Building a Website With Jekyll\"],[\"Big Data and Apache Hadoop for Developers - Fundamentals\"],[\"Wordpress Development : Create a Custom Wordpress Website\"],[\"How to Make a Wordpress Website 2017\"],[\"RESTful Services with ASP.NET Web API\"],[\"Web Hosting Fundamentals\"],[\"Learning Path: React: Make Stunning React Websites\"],[\"Administering Microsoft SQL Server 2012 Databases - 70-462\"],[\"PHP CodeIgniter:CRUD concepts in MVC\"],[\"Adobe Experience Manager CMS Basics\"],[\"Introduction to Frontend Web Development For  Beginners\"],[\"PHP: Complete Login and Registration System with PHP & MYSQL\"],[\"JavaScript Complete Guide to learning JavaScript\"],[\"Advanced Scalable Python Web Development Using Flask\"],[\"jQuery for Absolute Beginners - Lite\"],[\"HTML Complete Course - Beginner to Expert\"],[\"Cross-Platform Development with ASP.NET Core 1.0 MVC\"],[\"Build a Photo Blog with Ruby on Rails\"],[\"Practical PHP: Master the Basics and Code Dynamic Websites\"],[\"Sass Workflow\"],[\"Learn PHP Fundamentals From Scratch\"],[\"XML For Absolute Beginners: Learn to create your own tags\"],[\"Joomla: Create a Joomla Website This Weekend With NO CODING!\"],[\"JavaScript for beginners - A Complete Guide\"],[\"Laravel Deployment - Launch your Laravel Application Online\"],[\"WordPress Development Crash Course: From Zero To Hero\"],[\"Learn how to create a WordPress theme using Pinegrow\"],[\"Learn to Build Web Apps using Laravel Framework\"],[\"Flexbox: The complete guide\"],[\"How to Safely Copy and Move Your WordPress Website\"],[\"AngularJs :basics for beginners\"],[\"JSON For Beginners: A Very Basic Introduction\"],[\"Learn SASS and improve your CSS\"],[\"Angular Tutorial For Beginners\"],[\"HTML and CSS for Absolute Beginners\"],[\"JavaScript, jQuery and Ajax\"],[\"Laravel Blog Development Starter\"],[\"React: Learn ReactJS Fundamentals for Front-End Developers\"],[\"JavaScript For Absolute Beginners - Level Two\"],[\"How To Create A Real Estate Website With Wordpress 2017\"],[\"The Complete HTML5 and CSS3 Course - with 8 Websites Design\"],[\"Introduction to Modern Programming with PHP\"],[\"HTML Introduction Course: Learn HTML in 2 hours!!!\"],[\"Learn HTML & CSS: How To Start Your Web Development Career\"],[\"React vs Angular vs Vue.js by Example\"],[\"Create WordPress Plugins\"],[\"Build and Deploy a LAMP server on AWS\"],[\"Build your own Beautiful Blog in WordPress + SEO\"],[\"AngularJS Authentication: Secure Your App with Auth0\"],[\"Learn Bootstrap 4 by Example\"],[\"Complete WooCommerce Plugin Tutorial For Wordpress 2017\"],[\"How To Build And Make A Wordpress Website From Scratch 2017\"],[\"Docker for Developers - Newest Version 1.12 with Swarm Mode\"],[\"Angular Material - Quickstart\"],[\"HTML and CSS for Beginners - Build a Website & Launch ONLINE\"],[\"Core: A Web App Reference Guide for Django, Python, and More\"],[\"JSON with Java APIs, jQuery and JSON REST Web Services\"],[\"Bootstrap 4 Quick Start: Code Modern Responsive Websites\"],[\"Learn Symfony 3 framework by practical examples\"],[\"Complete Web Development with HTML, CSS and Javascript\"],[\"Web Hosting Introduction: How to Publish Your Website Online\"],[\"Django For Beginners\"],[\"Introduction to QGIS Python Programming\"],[\"Learning Object-Oriented JavaScript\"],[\"Bootstrap Tutorial for Beginners\"],[\"Learn Bootstrap3 With Multi Purposes Single Page Layout\"],[\"HTML for Beginners\"],[\"How to Build WordPress Themes: A Web Designer's Guide\"],[\"XML DTD :basics for beginners\"],[\"Learn to make an HTML 5 website with a video background\"],[\"Learn Authentication With ASP.NET Identity Security 2017\"],[\"HTML and CSS Foundations\"],[\"Python Web Programming\"],[\"Build a Complete Registration and Login System using PHP MVC\"],[\"ES6 / EcmaScript 6 for beginners an introduction\"],[\"React for visual learners\"],[\"Learn to Create Advance Responsive Websites With Bootstrap\"],[\"Master the Art of Web Design with HTML & CSS\"],[\"Sell Courses On Your Own Website - No Coding Required!\"],[\"Implementing a Data Warehouse with SQL Server 2012 \"],[\"Learning 200 jQuery Functions with 800 Examples\"],[\"Create Complete Web Applications easily with APEX 5\"],[\"Learn Gulp, The Streaming Build System\"],[\"Perfect React JS Course - Understand Relevant Details\"],[\"Create a classified website in 2 hours - guaranteed\"],[\"Learn HTML And CSS From Scratch\"],[\"Become a Certified Web Developer - Beginner to Expert\"],[\"Complete Bootstrap 4 course - build 3 projects\"],[\"Up and Running with Phalcon\"],[\"HTML : HTML Awesomeness\"],[\"Build CRUD Application - PHP & Mysql\"],[\"All You Need To Know About AngularJS - Training On AngularJS\"],[\"PSD To a Creative Landing Page Using Twitter Bootstrap 3\"],[\"Ready for Production with Spring Boot Actuator\"],[\"AngularJS For Beginners\"],[\"Learning Path: Akka: Building Applications and Microservices\"],[\"Set up a localhost Web Server for Faster Website Development\"],[\"Mastering Meteor: Reactive Full Stack JavaScript\"],[\"Build A Professional Wordpress Website In An Hour\"],[\"Build a file hosting/sharing site in less than 2 hours \"],[\"Introduction to Java Programming for Online Learners\"],[\"Create full featured Landing Page in Ruby on Rails in 3 hour\"],[\"How to create a  video blog with WordPress\"],[\"PHP For WordPress Development\"],[\"Create a Professional Website Without Programming/Coding\"],[\"How to Build an Autocomplete System Like Google\"],[\"Master EmberJS : Learn Ember JS From Scratch\"],[\"How To Make A Modern Wordpress BLOG 2017! Create Your Blog!\"],[\"Learn Top Ten PHP FrameWorks By Building Projects\"],[\"How to Make a Video Blog Website From Scratch w/ Wordpress \"],[\"Build Websites And Apps By Outsourcing\"],[\"Learning Path: Web Applications with Spring and Angular\"],[\"Learn Ruby on Rails By Building Projects\"],[\"Canvas image Creator HTML5 JavaScript project from Scratch\"],[\"Javascript Essentials\"],[\"Devtools 2017: The Basics of Chrome Developer Tools\"],[\"Chrome Extensions : Develop 5 chrome extensions from scratch\"],[\"Learn how to quickly build websites using Wordpress\"],[\"Advance Unix : File Processing: AWK | SED | GREP | CUT | VIM\"],[\"Develop a Professional OnePage WordPress site With No Coding\"],[\"PHP Specialist (2017 Edition)\"],[\"Python Programming: Create an Digital Marketplace in Django\"],[\"Create Ajax Chat App with PHP & Mysql\"],[\"Mastering Thymeleaf with Spring\"],[\"Learn Rails Programming in Less than 2 Hours\"],[\"Wordpress Backup & Restore\"],[\"Learn JavaScript Dynamic Interactive Projects for Beginners\"],[\"Build Modern Websites Super Fast\"],[\"SAP - Learn SAPUI5 Professional Development\"],[\"Wordpress Security\"],[\"Learn HTML5 At Your Own Pace. Ideal for Beginners\"],[\"Build an Amazon clone: Nodejs + MongoDB + Stripe Payment\"],[\"Build Real World Websites from Scratch using HTML5 and CSS3\"],[\"How to become an App Developer\"],[\"Modern JavaScript: Building Real-World, Real-Time Apps\"],[\"JavaScript Introduction to Object Oriented JavaScript\"],[\"Core HTML How to get online quickly HTML to HTML5 \"],[\"Building Websites JavaScript and the DOM\"],[\"Complete Login and Registration System in PHP and MYSQL\"],[\"The Complete E-Commerce Web Developer Course 5.0\"],[\"HTML5 canvas Bootcamp for beginners 25 easy steps\"],[\"Advanced HTML5 Tutorial for Web Developers\"],[\"Learn the Basics of Programming for Marketers\"],[\"Css For Beginners\"],[\"GRUNT js: Automate web development tasks and save your time\"],[\"Mastering Web and Mobile Debugging Using Chrome Dev Tools\"],[\"HTML : Beginner Guide to HTML writing\"],[\"Build Web Apps Using EmberJS: The Complete Course\"],[\"SharePoint 2013 Development using C# - Part I\"],[\"SAP Crystal Reports with ASP.Net (Step by step)\"],[\"Building Responsive Data Visualizations with D3 JS\"],[\"Learn Rails Programming in Less than 30 Minute - Lite\"],[\"SASS - Beginner Crash Course\"],[\"Angular 2 Fundamentals for Web Developers\"],[\"Easily Learn Web Development With Drop & Drag: OptimizePress\"],[\"XML XSLT - Crash Course for Beginners\"],[\"Create Your Own Successful Online School To Sell Courses\"],[\"Flask Tutorial Step by Step\"],[\"Ruby on Rails a Beginners Guide \"],[\"Mastering Basic CSS Selectors.\"],[\"Create a Website Similar to Facebook from Scratch!\"],[\"Comprehensive TypeScript\"],[\"Essential HTML, CSS & HTML5 Training\"],[\"HTML 5 and CSS 3 - tricks and workarounds\"],[\"How to Register a Domain, Set Up Hosting, and Edit Web Pages\"],[\"WordPress Plugins Treasure Chest\"],[\"Practical Understanding of PHP and MySQL\"],[\"AngularJS for Beginners, Single-Page Applications Made Easy\"],[\"Building a Social Network in PHP & MySQL From Scratch\"],[\"XML DOM - Crash Course for Beginners\"],[\"Create a Powerful Website with the Cool Bootstrap Framework\"],[\"HTML5 and CSS3 -Start building beautiful websites\"],[\"Getting Started as a Web Developer\"],[\"Learn Laravel: Create Your Web App Step-By-Step\"],[\"Professional Web Scraping with Java\"],[\"3D Programming with WebGL and Babylon.js for Beginners\"],[\"Learn to make a colorful one page website\"],[\"WordPress Plugin Tutorial\"],[\"Introduction to HTML\"],[\"Learn JavaScript From Scratch:Become Top Rated Web Developer\"],[\"Installing Wordpress 4 - Installation, Registrars & Hosting\"],[\"Learn PHP Programming for Absolute Beginners\"],[\"WordPress for Beginners 2017 + Google AdSense Implementation\"],[\"JavaScript for beginners in 1 hour\"],[\"HTML5 and CSS for Beginner To Expert\"],[\"Become a Kick-Ass Web Developer: From Newbie to Pro\"],[\"Django Tutorial: Build Your First App Fast & Free! \"],[\"Create a social network using PHP Mysqli HTML Css and JQuery\"],[\"PHP - Send and Receive Mobile Text Messages (SMS)\"],[\"Complete PHP Course with OOP Start to Finish!\"],[\"Coding Made Easy: HTML & CSS For Beginners\"],[\"WordPress Security - The Ultimate Security Guide\"],[\"How to Make a Single Page Website for Freelancers & Agencies\"],[\"Learn to Use jQuery UI Widgets\"],[\"Learn to Create Responsive Layouts in 30 Minutes\"],[\"Web Building Starter Pack. Html Css and JQuery Animations\"],[\"Getting Started with Angular 2+\"],[\"Intro to PHP Web Application Development with Symfony\"],[\"Learn OAuth 2.0 - Theory and Hands On\"],[\"Learning CSS3 - A Comprehensive Tutorial For Web Developers\"],[\"Professional WordPress Theme Development from Scratch\"],[\"PHP Zend Framework 1.11:Creating a CRUD Application\"],[\"Write quicker HTML5 and CSS 3; productivity hacks with emmet\"],[\"The Ultimate jQuery Course\"],[\"Build an Advanced Single Page with Bootstrap & WordPress\"],[\"Master all PHP ideas 2017 to build any project\"],[\"A Beginner's Guide to the Meteor JavaScript Framework\"],[\"Create an E-commerce website without any coding\"],[\"Learn To Build Apps Using Play Framework\"],[\"Introducing Ionic 2\"],[\"Learn Laravel with Database Migration & Seeding & Faker\"],[\"Create a Client Network by Hosting WordPress Sites\"],[\"Introduction to PHP Slim Microframework\"],[\"ASP :basics for beginners\"],[\"WordPress Development With NodeJS, Gulp, Composer & More\"],[\"Become PHP Facebook Developer: Password-Less Authentication\"],[\"How To Create Your Very First Website With HTML and CSS\"],[\"Learn JSON for beginners with JavaScript\"],[\"Ultimate guide to Social Media Web development integration \"],[\"A Complete Laravel basics from beginner to expert\"],[\"JQuery Basics - Learn JQuery From Scratch\"],[\"Learn MeteorJS By Building 10 Real World Projects\"],[\"JavaScript Basics for Beginners Introduction to coding\"],[\"AngularJS Masterclass - Deep Dive & Understand AngularJS\"],[\"HTML5 for beginners\"],[\"All in one HTML CSS and JQuery\"],[\"Responsive Design with NEW Materialize\"],[\"Create a Responsive Business Website with WordPress\"],[\"PHP webservices\"],[\"JavaScript Promises: Applications in ES6 and AngularJS\"],[\"Learn to build 20 websites and build 14 iOS9 apps with swift\"],[\"Professional CSS Flexbox\"],[\"XML :basics for beginners\"],[\"How to create Paypal and Credit card Payment Buttons\"],[\"Customizr - Learn WordPress with the ultimate creative theme\"],[\"How To Create a Local Wordpress Environment\"],[\"Fun and creative web engineering with Python and Web2py\"],[\"WordPress for Beginners - Build Your First Website in 2017\"],[\"Learn to Make an Animated Image Gallery using HTML5\"],[\"Projects in Foundation Framework - Learn By Building 10 Apps\"],[\"Drupal for Beginners\"],[\"Laravel : CRUD Application Using AJAX In Laravel 5.3\"],[\"Foundations of Front-End Web Development\"],[\"Angular 2 - Superheroic Framework\"],[\"Social Network Web Development\"],[\"For Free - Deploy Quickly Spring Boot on Heroku With MySQL\"],[\"Building Web Applications with Spring MVC\"],[\"HTML5, CSS3 & Bootstrap - How to Create a Responsive Website\"],[\"HTML & CSS - Learn to build sleek websites \"],[\"Master Angular 2 - The No Nonsense Course\"],[\"Master ASP . NET 4 from scratch\"],[\"CoffeeScript: The Good Parts\\u2014Write Better javaScript\"],[\"Mastering Magento\"],[\"Ultimate JavaScript Strings\"],[\"Your Own Site in 45 Min: The Complete Wordpress Course\"],[\"Redirect Your Visitors By Country Easily -Wordpress Tutorial\"],[\"Learn Knockout JS Framework from GroundUp\"],[\"Build Responsive Websites  in an Hour using Portalfin\"],[\"Master Riot: Learn Riot.js from Scratch\"],[\"Learn W3.CSS\"],[\"Learning Axure RP\"],[\"Complete guide to install Wordpress, PHP on Cloud,AWS or VPS\"],[\"Kids Coding -Introduction to HTML, CSS and JavaScript\"],[\"Introduction to Voice Design with Amazon's Alexa\"],[\"How to Create a Social Network For a Niche-Related Community\"],[\"Webpack 1 & 2 - The Complete Guide\"],[\"Star Rating Project AJAX with JSON response from PHP MySQL\"],[\"Wordpress for beginners :Build Websites Fast without Coding \"],[\"ASP.Net MVC Quick Start\"],[\"Build a Chatbot integrated Website using Bootstrap 4\"],[\"How To Create A WordPress Website Without Paying A Developer\"],[\"PSD to Bootstrap 3 for Beginners using HTML & CSS\"],[\"Build Advanced Responsive Websites with Foundation 6 & SASS\"],[\"Learn Essential Javascript Fundamentals - Lite\"],[\"Learn HTML in 2 hours!\"],[\"Laravel 4 try and enjoy php coding\"],[\"Wordpress Beginner Tutorial: Build Your First Website\"],[\"Build Complex Express Sites with Redis and Socket IO\"],[\"Building a ASP.NET MVC 5 Membership Website\"],[\"Drupal Views: Introduction to Enhancing Your Drupal Website\"],[\"Bootstrap Bootcamp - Responsive web development- 8 projects\"],[\"Self Advertise Using PowerPoint Twitter and Facebook on ios\"],[\"Learning Bootstrap 3 - Tutorial From Infinite Skills\"],[\"Practical Web Development: Make Websites Quickly And Easily\"],[\"Learn animation using CSS3, Javascript and HTML5\"],[\"Creating Interactive HTML5 Video\"],[\"Optimizing Wordpress for More Speed and Revenue\"],[\"JavaScript project Learn to create a memory Game and more\"],[\"The Complete JavaScript Bootcamp\"],[\"JavaScript for Absolute Beginners\"],[\"Complete JavaScript Course for Beginners with Easy Examples\"],[\"Angular 2 Master Class with Alejandro Rangel\"],[\"Quick learning jQuery web development\"],[\"Google Blogger Course\"],[\"Ajax in JavaScript and JQuery, with PHP - Creating Chat App\"],[\"PHP Tutorial: Learn PHP Basic Programming for Beginners\"],[\"Mastering Modern Web Development Using React\"],[\"Full Stack JavaScript: Learn Backbone.js, Node.js & MongoDB\"],[\"The Essential Web Developer Course - Build 12 Websites\"],[\"Build Powerful Websites & Blogs using WordPress - No Coding\"],[\"Learn to Build Web Apps using UnderscoreJS : Code Like a Pro\"],[\"Building Web Apps Using Flask and Neo4j\"],[\"Learn Web Animation the Easy Way: An Intro to SVG and GSAP\"],[\"Build Your Own Membership Website With Joomla\"],[\"Learn Spring Security 4 Basics - Hands On\"],[\"Display and analyze GIS data on the web with Leaflet.js\"],[\"How to Build a CMS with PHP\"],[\"Responsive Web Design with HTML5 and CSS3 - Introduction\"],[\"Master Typescript : Learn Typescript from scratch\"],[\"XSD :basics for beginners\"],[\"Angularjs-WebApi2-EFCodeFirst Web App On 3-Tier Architecture\"],[\"Css Positioning For Absolute Beginners: A Basic Introduction\"],[\"Creating User Authentication System in CodeIgniter\"],[\"How to easily Manage your WordPress Website\"],[\"Wordpress For Beginners: Create a Professional Website\"],[\"Building a Portfolio in 90 minutes ( HTML, CSS, Js ) \"],[\"Automate Web Development With Gulp JS\"],[\"Bootstrap 4 Responsive Web Design and Development\"],[\"Intro To HTML & CSS: Web Development For Beginners\"],[\"Become Exceptional in HTML and HTML5\"],[\"Become a Rockstar Web Developer - Learn By Coding\"],[\"Spring 4 Mastercourse: Covers Annotation & XML Configuration\"],[\"WordPress Plugin Development for 2017 - Build 14 Plugins\"],[\"Single Page Application of MVC 5 Using AngularJS\"],[\"Learn to Code in HTML5, CSS3, and JavaScript\"],[\"Web Application Development - Learn by Building 3 Web Apps\"],[\"Rails Ecommerce App with HTML Template from Themeforest\"],[\"Writing CSS with {LESS} - Tutorial From Infinite Skills\"],[\"Login and Registration from Scratch with PHP and MySQL\"],[\"Getting Started with Magento\"],[\"Ruby on Rails Foundations\"],[\"Core Concepts in HTML 5\"],[\"Learn Azure Cloud Step by Step\"],[\"Learn Facebook Flux Architecture for Web Applications\"],[\"Create free, fast and secure static website\"],[\"Object Orientation in PHP\"],[\"Creating Custom Web Maps\"],[\"Build A YouTube Downloader With C# And GitHub\"],[\"Querying Microsoft SQL Server 2012 - (Exam No. 70-461)\"],[\"HTTP Clients with Laravel: Use and Consume Services and APIs\"],[\"Modern E-Commerce Store In php & mysqli With Bootstrap\"],[\"Simple And Easy: Wordpress For Beginners\"],[\"Create Website from scratch in Urdu & Hindi\"],[\"Advance Unix : File Processing: AWK | GREP | VIM\"],[\"Introduction to Node.js Development\"],[\"Advance JavaScript for Coders: Learn OOP in JavaScript\"],[\"Web Development With Google Maps\"],[\"jQuery UI Ultimate:Design Amazing Interfaces Using jQuery UI\"],[\"Learn Spring Security 4 Intermediate - Hands On\"],[\"Learning Path: The Road to Elasticsearch\"],[\"HTML/CSS Bootcamp\"],[\"JavaScript High Performance\"],[\"Node:js : Building Rest Apis with Sails.js\"],[\"Fundamentals of Angular 2 Full Stack Design\"],[\"Create Newsletter Subscription Form with PHP/AJAX in 40 Min\"],[\"AppML :basics for beginners\"],[\"How to manage your own VPS and create websites\"],[\"Learn BuddyPress: Build A Social Network with WordPress\"],[\"HTML FOR BEGINNERS\"],[\"XML XQuery - Crash Course for Beginners\"],[\"Simplified Cross Browser Web Testing Using VirtualBox\"],[\"JavaScript and jQuery Basics: Start The Journey\"],[\"How to Install WordPress From Scratch\"],[\"CSS :basics for beginners\"],[\"WordPress Development - Themes, Plugins & Single Page Apps\"],[\"Learn Effective HTML in No Time!\"],[\"HTML5 Geolocation in Depth:Build 7 HTML5 Geolocation Apps\"],[\"Building a Search Engine in PHP & MySQL\"],[\"create a search engine for your website!\"],[\"Learn basics of HTML in 30 Minutes\"],[\"JavaScript from Scratch for Very Beginners\"],[\"Learn Web Development by Creating a Social Network\"],[\"CSS Image filters - The modern web images color manipulation\"],[\"Building Responsive Websites with Bootstrap 3 Framework\"],[\"Create a Membership Site with Wishlist Member & Wordpress\"],[\"Convert HTML Websites into PHP: Learn by Doing in 40 Minutes\"],[\"17 Complete JavaScript   projects explained step by step\"],[\"Mastering Unix : AWK Commands\"],[\"Cakephp:Creating a CRUD application\"],[\"HTML and CSS: A Guide to Web Design\"],[\"Drupal 8 Site Building\"],[\"Learn Bootstrap 4 The Most Popular HTML5 CSS3 & JS Framework\"],[\"Essentials of Spring 5.0 for Developers\"],[\"The Extreme Web Development Course - For Beginners\"],[\"JQuery DOM and Ajax Concept Explained for Beginners\"],[\"HTML Forms For Beginners: A Basic Introduction  \"],[\"Ultimate JavaScript Objects\"],[\"The Complete Web Developer Course - Build 20 Websites\"],[\"Simple Javascript: Learn by Doing, Beginners Welcome!\"],[\"Learn HTML, CSS, and Ruby on Rails: Build Your First Blog\"],[\"Learn HTML5 Canvas for beginners\"],[\"Bootstrap 4 Beginners: Code a Responsive Landing Page\"],[\"Build Wordpress CMS Clone with Laravel 5\"],[\"XML DTD - Crash Course for Beginners\"],[\"Beginner Photoshop to HTML5 and CSS3\"],[\"XPATH :basics for beginners\"],[\"The Fastest Way to Create a Website Using Godaddy\"],[\"A how to guide in HTML\"],[\"Building Better APIs with GraphQL\"],[\"Learn Grunt with Examples: Automate Your Front End Workflow\"],[\"Build A Stock Downloader With Visual Studio 2015 And C#\"],[\"jQuery UI in Action: Build 5 jQuery UI Projects\"],[\"Learn jQuery from Scratch - Master of JavaScript library\"],[\"How To Design A WordPress Website With No Coding At All\"],[\"Learn and Build using Polymer\"],[\"CSS Animations: Create Amazing Effects on Your Website\"],[\"Using MODX CMS to Build Websites: A Beginner's Guide\"]],\"hovertemplate\":\"subject=Web Development<br>price=%{x}<br>content_duration=%{y}<br>course_title=%{customdata[0]}<extra></extra>\",\"legendgroup\":\"Web Development\",\"marker\":{\"color\":\"#ab63fa\",\"symbol\":\"circle\"},\"mode\":\"markers\",\"name\":\"Web Development\",\"showlegend\":true,\"x\":[75,50,50,60,20,40,50,150,200,40,195,25,200,20,95,40,20,20,40,50,100,40,200,200,190,120,110,165,60,65,200,150,85,60,200,195,195,100,20,195,60,95,150,100,20,20,120,20,175,60,70,20,50,100,100,100,75,80,75,195,150,125,145,50,100,20,115,75,20,50,200,135,95,200,150,195,200,80,150,120,195,65,20,75,20,200,25,200,50,200,80,150,195,100,60,50,0,0,0,0,100,0,20,30,20,40,50,75,20,65,20,0,200,195,0,20,50,20,40,40,0,20,50,50,120,195,95,50,0,50,50,0,200,200,150,200,100,50,60,95,30,30,150,200,20,50,200,195,195,195,95,55,195,200,100,20,35,60,200,20,195,195,195,195,40,195,175,40,95,115,50,0,0,200,20,200,0,20,195,0,85,200,20,150,195,95,150,95,95,50,75,195,20,95,50,30,195,20,100,200,100,35,20,150,25,75,40,20,95,140,50,0,70,100,30,25,150,115,190,85,200,195,100,120,50,200,100,200,200,200,195,195,50,40,200,30,50,150,100,100,0,0,50,60,0,30,45,0,25,0,0,20,200,100,50,40,20,50,20,30,200,200,40,35,20,30,45,25,20,200,200,100,50,200,195,195,30,200,200,20,200,35,100,75,20,30,60,20,40,40,100,100,20,20,45,195,180,200,50,200,20,0,25,50,0,0,20,20,120,20,20,20,25,35,150,200,20,50,20,95,20,100,20,50,100,100,60,165,195,195,65,100,50,50,35,195,195,35,200,40,145,20,50,70,50,100,200,75,20,0,25,0,0,60,20,115,0,125,0,195,50,95,80,20,75,100,195,20,50,30,200,70,95,0,40,25,200,35,0,20,50,100,40,20,20,50,0,60,65,25,125,35,40,95,95,35,20,45,65,20,25,50,50,20,20,115,50,40,20,20,30,95,20,30,50,20,195,20,20,95,120,50,100,200,195,150,75,200,200,115,20,125,150,40,20,65,40,75,170,20,125,45,200,195,0,200,0,20,20,50,0,100,35,35,195,20,50,95,40,25,20,75,20,50,200,200,80,125,20,20,60,30,20,20,55,200,195,75,35,50,20,0,60,120,25,75,40,0,45,0,20,0,30,100,175,95,40,20,20,50,185,20,50,45,200,200,100,20,0,100,40,40,20,50,65,35,95,25,95,20,20,75,110,30,145,95,200,50,50,100,20,25,50,195,50,20,20,100,200,70,20,20,200,200,145,100,20,195,200,150,100,140,40,20,0,150,200,50,20,40,20,95,50,0,0,95,45,40,50,200,40,100,200,50,35,200,45,100,75,95,75,195,95,75,20,40,95,20,80,20,100,150,120,200,75,195,170,150,20,75,20,90,50,110,50,75,50,145,100,20,20,20,85,50,115,200,45,55,30,55,20,20,50,25,145,40,0,20,0,0,20,100,0,0,20,75,140,40,95,200,95,150,100,105,20,200,95,150,95,20,50,200,20,75,20,75,40,20,20,35,110,100,195,200,150,195,70,75,150,60,50,195,20,100,20,25,80,100,200,90,175,50,120,95,195,25,50,30,40,35,40,20,50,35,0,0,20,195,60,195,195,40,200,90,75,195,195,30,195,30,50,100,40,30,120,50,50,20,85,50,110,145,200,50,190,110,190,145,200,100,195,30,55,50,35,95,50,45,30,45,150,0,50,40,150,50,190,160,195,150,150,140,200,75,200,200,0,0,195,125,0,100,145,145,0,0,35,200,175,175,75,195,80,195,110,140,180,120,190,150,0,0,20,195,20,30,35,175,95,50,50,40,0,20,30,120,0,85,20,200,60,40,35,145,200,200,120,20,0,35,20,0,0,0,75,0,100,0,60,0,30,35,60,45,65,55,0,0,20,0,55,30,0,30,20,0,0,0,50,0,200,0,0,0,0,95,0,0,195,95,0,125,0,0,175,85,75,20,0,0,165,35,80,50,0,100,80,0,20,20,145,100,85,195,30,25,200,50,0,200,0,20,25,0,50,0,55,0,200,30,95,20,20,200,30,25,35,0,30,120,0,60,0,20,200,60,100,0,0,0,0,75,20,100,195,45,75,35,95,100,25,195,95,50,20,195,200,50,90,90,120,200,195,120,50,55,85,55,195,20,40,50,0,85,20,25,40,20,45,95,0,0,0,25,125,50,80,45,25,0,200,50,45,0,150,0,45,50,200,200,40,0,65,45,35,195,95,20,200,20,40,50,200,40,60,0,0,0,30,0,200,145,50,200,40,0,20,95,50,50,20,40,50,20,35,20,35,25,195,100,200,200,25,100,50,150,100,195,20,75,95,30,75,40,35,40,65,0,0,0,100,0,50,30,20,0,20,200,95,85,20,55,25,50,50,85,0,120,20,40,0,125,50,75,50,200,0,100,40,120,50,0,50,20,20,200,20,0,20,0,125,95,105,100,20,50,20,40,25,0,95,195,20,200,30,150,60,200,20,195,50,200,20,40,50,50,95,95,100,50,35,95,35,60,65,200,20,200,20,20,20,20,20,200,200,50,20,20,30,25,50,20,85,20,75,20,40,50,20,50,20,85,65,50,0,0,20,55,40,50,145,95,200,40,95,100,95,50,30,120,20,20,45,20,25,0,30,150,40,90,0,20,20,30,200,0,75,95,50,185,20,40,25,0,200,125,200,35,45,20,20,25,20,100,30,150,45,0,40,30,0,50,20,20,150,100,25,40,50,45],\"xaxis\":\"x\",\"y\":[4.0,12.5,4.5,15.5,5.5,4.0,5.5,5.0,19.5,5.5,7.0,6.0,1.5,4.0,3.5,12.0,3.0,1.5,3.0,4.0,5.0,6.0,32.5,1.0,9.5,9.0,7.5,18.5,5.0,19.0,15.0,20.5,3.0,13.5,3.5,37.5,3.5,4.0,1.0,14.5,2.0,2.5,1.5,3.0,1.5,1.0,4.0,1.0,7.0,5.5,3.5,1.5,17.5,1.0,2.5,1.0,10.0,1.0,8.5,2.5,6.5,3.5,8.0,10.5,2.5,1.0,1.5,2.5,10.5,2.0,3.0,1.5,8.0,12.0,25.0,11.0,4.5,4.5,8.5,9.0,20.0,1.5,7.0,4.0,5.0,19.5,7.5,25.5,12.0,20.5,3.0,7.5,45.0,11.0,33.0,16.0,1.0,2.0,1.5,3.0,11.0,1.0,3.5,2.5,12.5,4.0,3.5,11.5,2.0,1.5,1.0,3.0,3.0,1.0,1.5,4.0,2.0,2.0,15.0,4.0,1.5,2.5,3.5,2.0,2.5,2.0,3.5,4.5,1.0,4.5,1.0,1.0,3.0,19.5,6.5,60.0,11.5,5.5,10.0,7.0,16.5,2.0,1.5,22.5,13.5,2.0,7.0,4.0,5.5,3.5,2.0,1.0,1.5,2.0,3.0,1.0,10.0,23.0,18.0,6.5,18.5,20.5,6.5,6.0,14.5,13.0,8.5,8.5,5.0,1.0,4.5,17.5,1.5,3.0,6.0,10.0,0.55,3.5,2.5,1.5,1.5,2.0,2.0,3.0,7.5,1.5,5.5,3.5,1.0,2.0,1.5,6.5,3.0,2.0,2.5,4.5,4.5,2.5,6.0,1.5,3.0,14.0,2.0,5.0,1.0,1.0,3.5,1.0,1.0,2.5,16.5,5.0,4.0,2.0,6.5,1.0,29.5,3.0,21.5,31.5,15.5,4.0,12.0,27.5,5.5,9.0,5.0,20.5,14.5,44.5,9.0,14.0,15.5,5.5,22.5,9.0,12.0,12.5,3.5,16.0,2.5,4.5,13.0,3.0,2.5,4.0,0.6,1.0,1.0,2.0,1.0,6.0,1.0,4.0,1.0,19.0,1.5,3.5,18.0,11.5,24.5,4.0,2.0,7.5,1.5,7.0,2.5,2.5,2.0,1.0,25.0,1.0,15.5,6.0,6.0,5.0,4.5,2.5,2.5,3.0,8.5,5.0,5.0,5.0,1.0,0.6666666666666666,11.0,4.0,1.5,1.0,1.5,1.0,2.5,4.0,6.0,4.5,4.5,4.0,7.0,18.5,1.5,1.5,6.5,0.6666666666666666,1.0,3.0,2.5,1.5,3.5,1.5,3.5,1.5,1.0,4.0,4.5,13.0,11.0,8.5,9.0,4.5,3.5,3.0,1.5,2.0,9.0,14.5,3.0,5.5,51.0,2.0,32.5,10.5,12.0,9.5,3.0,13.0,4.0,1.0,1.5,2.0,12.5,1.5,9.5,2.0,4.5,1.5,2.5,1.0,1.0,10.5,1.5,2.5,3.5,3.0,4.5,1.0,2.0,11.0,3.0,13.5,8.0,2.0,3.0,1.5,2.5,6.5,1.5,0.7166666666666667,1.0,2.5,4.0,3.5,7.5,1.0,4.0,3.5,2.0,0.7,3.0,3.0,3.5,13.5,2.5,1.0,0.6166666666666667,3.0,0.5333333333333333,4.0,2.0,1.0,9.0,2.0,1.0,3.0,1.5,1.5,1.0,1.5,2.0,2.5,1.0,2.0,13.0,1.5,2.0,4.0,8.0,6.0,2.0,2.0,3.5,0.5333333333333333,2.0,9.0,10.5,3.5,2.0,4.0,4.0,1.5,1.5,1.0,12.5,1.0,1.0,1.0,1.5,1.5,2.0,1.0,2.5,12.5,2.0,1.5,1.0,1.0,1.0,3.5,3.5,2.5,6.0,3.5,6.5,4.0,1.0,6.0,2.0,1.5,3.0,4.0,0.5666666666666667,19.0,0.5666666666666667,2.0,17.0,7.5,3.0,4.0,1.5,3.5,1.5,3.0,2.0,2.0,3.0,1.5,9.0,2.5,9.0,4.0,11.0,8.0,7.0,0.6833333333333333,3.5,3.5,1.5,1.5,17.5,3.0,2.0,0.5333333333333333,6.5,7.0,1.0,5.5,1.0,2.0,1.5,0.7,0.7,0.6166666666666667,1.0,1.0,7.0,6.0,5.5,1.0,1.5,3.0,8.0,1.0,1.0,0.55,44.5,16.5,5.0,3.0,0.7333333333333333,3.0,3.0,2.0,1.5,4.0,2.0,0.5833333333333334,5.0,2.0,2.0,1.5,3.0,2.5,14.0,9.0,3.5,2.0,57.0,7.5,4.0,5.0,1.0,1.5,1.5,4.0,2.5,3.0,8.0,9.5,8.0,3.0,1.5,2.0,14.0,2.0,2.5,1.0,2.5,6.5,6.0,3.0,3.0,2.0,3.5,1.0,3.5,13.0,4.5,13.0,5.0,3.5,1.0,3.5,9.5,0.5333333333333333,1.5,4.0,0.55,0.6333333333333333,3.5,5.5,4.5,9.0,11.0,10.5,0.5333333333333333,2.5,0.6333333333333333,2.5,1.5,3.5,2.0,8.0,4.5,7.0,1.5,1.5,13.5,4.0,2.0,4.0,3.0,1.5,12.0,2.5,1.5,3.5,5.0,0.65,8.0,2.0,0.65,2.0,6.0,5.5,4.5,4.5,2.5,15.5,5.5,1.5,2.0,1.0,18.5,7.5,7.0,1.5,16.5,3.0,5.0,0.6666666666666666,4.0,1.0,1.5,1.5,3.5,6.5,1.0,7.0,2.0,3.0,0.6666666666666666,6.0,2.5,1.0,0.6,2.0,2.5,10.0,1.0,1.0,14.5,7.5,10.5,3.5,2.0,1.5,5.5,7.5,7.0,2.0,2.5,2.5,0.6666666666666666,3.0,0.5666666666666667,4.5,2.0,4.0,5.5,5.0,16.0,9.0,3.5,76.5,9.0,11.5,1.5,11.5,19.5,9.0,11.0,5.0,1.5,3.5,1.0,2.0,2.0,2.0,11.0,1.5,13.0,7.0,14.5,2.0,2.5,10.5,3.5,1.0,5.0,1.0,2.0,1.5,7.0,2.5,1.5,0.6166666666666667,3.0,20.0,16.5,12.5,4.5,4.0,8.5,5.5,6.0,3.0,10.0,4.0,4.0,5.0,15.5,3.5,1.5,9.0,4.5,5.0,2.0,3.0,0.6333333333333333,20.0,6.0,8.0,31.5,14.5,10.5,12.5,22.0,8.0,30.5,17.0,31.5,3.0,5.0,3.5,2.0,3.5,4.5,2.5,6.5,5.5,6.5,4.5,2.0,1.0,13.5,8.0,18.0,8.0,17.5,8.5,9.5,9.0,43.0,10.0,30.5,32.5,1.0,0.6833333333333333,5.0,3.5,4.5,3.5,5.5,18.5,3.5,1.5,1.0,42.0,7.0,11.5,5.5,12.0,6.5,13.0,7.0,12.0,26.5,6.0,7.5,13.0,0.7333333333333333,1.0,1.0,7.5,1.0,0.6166666666666667,3.5,9.5,2.0,7.5,3.5,0.6333333333333333,5.0,3.0,3.0,1.5,0.5666666666666667,2.0,0.6166666666666667,6.5,5.5,0.5833333333333334,1.0,4.5,7.5,5.5,14.0,0.5833333333333334,1.5,5.5,1.5,6.5,3.0,2.0,1.0,2.0,10.5,1.0,2.0,2.0,6.5,1.0,1.5,1.0,1.0,3.0,2.5,3.0,4.0,2.0,4.0,1.0,1.5,7.5,16.0,2.0,4.5,3.5,2.5,1.0,3.0,1.0,1.0,1.5,2.0,5.5,0.7,6.0,26.0,6.0,3.0,4.0,2.0,1.0,4.0,3.5,3.0,2.0,21.0,2.5,5.5,0.55,0.5,2.0,1.0,6.0,5.0,2.0,3.5,2.0,3.0,1.0,5.0,18.5,7.0,1.5,1.0,1.0,2.0,8.0,5.0,1.5,0.6333333333333333,1.5,5.0,4.0,2.5,3.0,4.5,1.5,3.0,1.0,1.5,22.0,3.0,4.5,1.0,1.5,1.0,6.5,2.0,17.5,1.0,2.0,4.0,13.0,3.5,8.5,1.0,2.0,3.5,5.5,1.5,3.5,26.0,1.0,4.5,2.5,1.5,3.0,1.5,7.0,2.5,7.0,8.5,7.5,1.0,13.5,1.5,3.5,3.0,4.0,12.5,2.0,7.5,3.5,2.5,1.5,2.0,0.6166666666666667,4.5,8.5,1.0,2.0,0.6333333333333333,1.0,6.0,2.0,1.0,2.0,2.0,6.5,3.0,1.5,4.5,5.5,5.5,3.0,3.0,5.5,1.5,14.0,0.5666666666666667,4.0,2.5,1.0,4.0,1.0,2.0,0.5666666666666667,0.5666666666666667,1.5,5.0,2.5,2.0,6.5,1.0,4.5,48.5,2.5,6.0,1.5,2.0,1.5,1.5,1.5,1.0,0.5,7.5,2.0,1.5,3.0,8.0,25.5,0.5833333333333334,1.5,2.5,6.0,3.0,2.0,0.5166666666666666,5.5,1.5,1.0,1.0,1.0,1.0,4.0,4.0,2.0,1.5,2.5,1.5,1.0,15.0,1.5,6.0,5.0,3.0,1.5,5.5,0.5666666666666667,2.5,22.5,0.7166666666666667,0.65,1.0,5.0,0.5166666666666666,2.0,7.0,1.0,10.0,5.0,1.0,20.5,3.0,8.0,1.0,3.0,3.5,3.5,2.5,16.0,2.5,3.5,0.6166666666666667,4.0,1.0,5.0,0.7333333333333333,3.5,0.5666666666666667,4.5,3.0,7.0,0.6833333333333333,2.0,6.5,1.5,5.0,5.5,3.0,1.0,2.5,22.5,0.65,1.5,2.0,1.5,3.5,25.5,2.5,7.0,0.6,3.0,2.0,2.5,2.0,0.5833333333333334,1.5,5.0,2.0,4.0,9.5,3.0,3.5,1.5,1.5,2.5,2.0,16.5,3.0,3.5,2.5,3.0,1.5,2.0,12.5,1.0,8.0,3.5,0.7,6.5,1.0,1.5,2.0,1.5,2.0,3.5,7.5,4.0,6.5,11.0,23.5,7.0,1.5,2.5,1.5,2.0,2.0,2.0,3.5,6.5,2.0,2.5,6.5,0.5166666666666666,5.0,2.0,2.5,6.5,3.5,66.5,3.0,1.0,1.0,1.0,11.5,8.5,12.5,2.0,5.0,10.0,4.5,2.0,6.5,0.6333333333333333,0.6333333333333333,1.5,1.0,1.0,1.0,1.0,5.0,1.0,0.5333333333333333,19.5,1.0,6.5,2.5,1.5,0.55,5.0,6.5,1.5,3.0,2.5,0.6,9.5,2.0,0.5166666666666666,14.0,4.5,10.0,1.5,5.5,0.6166666666666667,1.0,2.5,15.5,2.0,1.5,3.5,3.5,8.5,1.0,2.0,0.6166666666666667,0.5,0.5833333333333334,2.5,1.0,1.5,15.5,2.0,3.5,3.5,3.0,2.0],\"yaxis\":\"y\",\"type\":\"scattergl\"}],                        {\"template\":{\"data\":{\"histogram2dcontour\":[{\"type\":\"histogram2dcontour\",\"colorbar\":{\"outlinewidth\":0,\"ticks\":\"\"},\"colorscale\":[[0.0,\"#0d0887\"],[0.1111111111111111,\"#46039f\"],[0.2222222222222222,\"#7201a8\"],[0.3333333333333333,\"#9c179e\"],[0.4444444444444444,\"#bd3786\"],[0.5555555555555556,\"#d8576b\"],[0.6666666666666666,\"#ed7953\"],[0.7777777777777778,\"#fb9f3a\"],[0.8888888888888888,\"#fdca26\"],[1.0,\"#f0f921\"]]}],\"choropleth\":[{\"type\":\"choropleth\",\"colorbar\":{\"outlinewidth\":0,\"ticks\":\"\"}}],\"histogram2d\":[{\"type\":\"histogram2d\",\"colorbar\":{\"outlinewidth\":0,\"ticks\":\"\"},\"colorscale\":[[0.0,\"#0d0887\"],[0.1111111111111111,\"#46039f\"],[0.2222222222222222,\"#7201a8\"],[0.3333333333333333,\"#9c179e\"],[0.4444444444444444,\"#bd3786\"],[0.5555555555555556,\"#d8576b\"],[0.6666666666666666,\"#ed7953\"],[0.7777777777777778,\"#fb9f3a\"],[0.8888888888888888,\"#fdca26\"],[1.0,\"#f0f921\"]]}],\"heatmap\":[{\"type\":\"heatmap\",\"colorbar\":{\"outlinewidth\":0,\"ticks\":\"\"},\"colorscale\":[[0.0,\"#0d0887\"],[0.1111111111111111,\"#46039f\"],[0.2222222222222222,\"#7201a8\"],[0.3333333333333333,\"#9c179e\"],[0.4444444444444444,\"#bd3786\"],[0.5555555555555556,\"#d8576b\"],[0.6666666666666666,\"#ed7953\"],[0.7777777777777778,\"#fb9f3a\"],[0.8888888888888888,\"#fdca26\"],[1.0,\"#f0f921\"]]}],\"heatmapgl\":[{\"type\":\"heatmapgl\",\"colorbar\":{\"outlinewidth\":0,\"ticks\":\"\"},\"colorscale\":[[0.0,\"#0d0887\"],[0.1111111111111111,\"#46039f\"],[0.2222222222222222,\"#7201a8\"],[0.3333333333333333,\"#9c179e\"],[0.4444444444444444,\"#bd3786\"],[0.5555555555555556,\"#d8576b\"],[0.6666666666666666,\"#ed7953\"],[0.7777777777777778,\"#fb9f3a\"],[0.8888888888888888,\"#fdca26\"],[1.0,\"#f0f921\"]]}],\"contourcarpet\":[{\"type\":\"contourcarpet\",\"colorbar\":{\"outlinewidth\":0,\"ticks\":\"\"}}],\"contour\":[{\"type\":\"contour\",\"colorbar\":{\"outlinewidth\":0,\"ticks\":\"\"},\"colorscale\":[[0.0,\"#0d0887\"],[0.1111111111111111,\"#46039f\"],[0.2222222222222222,\"#7201a8\"],[0.3333333333333333,\"#9c179e\"],[0.4444444444444444,\"#bd3786\"],[0.5555555555555556,\"#d8576b\"],[0.6666666666666666,\"#ed7953\"],[0.7777777777777778,\"#fb9f3a\"],[0.8888888888888888,\"#fdca26\"],[1.0,\"#f0f921\"]]}],\"surface\":[{\"type\":\"surface\",\"colorbar\":{\"outlinewidth\":0,\"ticks\":\"\"},\"colorscale\":[[0.0,\"#0d0887\"],[0.1111111111111111,\"#46039f\"],[0.2222222222222222,\"#7201a8\"],[0.3333333333333333,\"#9c179e\"],[0.4444444444444444,\"#bd3786\"],[0.5555555555555556,\"#d8576b\"],[0.6666666666666666,\"#ed7953\"],[0.7777777777777778,\"#fb9f3a\"],[0.8888888888888888,\"#fdca26\"],[1.0,\"#f0f921\"]]}],\"mesh3d\":[{\"type\":\"mesh3d\",\"colorbar\":{\"outlinewidth\":0,\"ticks\":\"\"}}],\"scatter\":[{\"fillpattern\":{\"fillmode\":\"overlay\",\"size\":10,\"solidity\":0.2},\"type\":\"scatter\"}],\"parcoords\":[{\"type\":\"parcoords\",\"line\":{\"colorbar\":{\"outlinewidth\":0,\"ticks\":\"\"}}}],\"scatterpolargl\":[{\"type\":\"scatterpolargl\",\"marker\":{\"colorbar\":{\"outlinewidth\":0,\"ticks\":\"\"}}}],\"bar\":[{\"error_x\":{\"color\":\"#2a3f5f\"},\"error_y\":{\"color\":\"#2a3f5f\"},\"marker\":{\"line\":{\"color\":\"#E5ECF6\",\"width\":0.5},\"pattern\":{\"fillmode\":\"overlay\",\"size\":10,\"solidity\":0.2}},\"type\":\"bar\"}],\"scattergeo\":[{\"type\":\"scattergeo\",\"marker\":{\"colorbar\":{\"outlinewidth\":0,\"ticks\":\"\"}}}],\"scatterpolar\":[{\"type\":\"scatterpolar\",\"marker\":{\"colorbar\":{\"outlinewidth\":0,\"ticks\":\"\"}}}],\"histogram\":[{\"marker\":{\"pattern\":{\"fillmode\":\"overlay\",\"size\":10,\"solidity\":0.2}},\"type\":\"histogram\"}],\"scattergl\":[{\"type\":\"scattergl\",\"marker\":{\"colorbar\":{\"outlinewidth\":0,\"ticks\":\"\"}}}],\"scatter3d\":[{\"type\":\"scatter3d\",\"line\":{\"colorbar\":{\"outlinewidth\":0,\"ticks\":\"\"}},\"marker\":{\"colorbar\":{\"outlinewidth\":0,\"ticks\":\"\"}}}],\"scattermapbox\":[{\"type\":\"scattermapbox\",\"marker\":{\"colorbar\":{\"outlinewidth\":0,\"ticks\":\"\"}}}],\"scatterternary\":[{\"type\":\"scatterternary\",\"marker\":{\"colorbar\":{\"outlinewidth\":0,\"ticks\":\"\"}}}],\"scattercarpet\":[{\"type\":\"scattercarpet\",\"marker\":{\"colorbar\":{\"outlinewidth\":0,\"ticks\":\"\"}}}],\"carpet\":[{\"aaxis\":{\"endlinecolor\":\"#2a3f5f\",\"gridcolor\":\"white\",\"linecolor\":\"white\",\"minorgridcolor\":\"white\",\"startlinecolor\":\"#2a3f5f\"},\"baxis\":{\"endlinecolor\":\"#2a3f5f\",\"gridcolor\":\"white\",\"linecolor\":\"white\",\"minorgridcolor\":\"white\",\"startlinecolor\":\"#2a3f5f\"},\"type\":\"carpet\"}],\"table\":[{\"cells\":{\"fill\":{\"color\":\"#EBF0F8\"},\"line\":{\"color\":\"white\"}},\"header\":{\"fill\":{\"color\":\"#C8D4E3\"},\"line\":{\"color\":\"white\"}},\"type\":\"table\"}],\"barpolar\":[{\"marker\":{\"line\":{\"color\":\"#E5ECF6\",\"width\":0.5},\"pattern\":{\"fillmode\":\"overlay\",\"size\":10,\"solidity\":0.2}},\"type\":\"barpolar\"}],\"pie\":[{\"automargin\":true,\"type\":\"pie\"}]},\"layout\":{\"autotypenumbers\":\"strict\",\"colorway\":[\"#636efa\",\"#EF553B\",\"#00cc96\",\"#ab63fa\",\"#FFA15A\",\"#19d3f3\",\"#FF6692\",\"#B6E880\",\"#FF97FF\",\"#FECB52\"],\"font\":{\"color\":\"#2a3f5f\"},\"hovermode\":\"closest\",\"hoverlabel\":{\"align\":\"left\"},\"paper_bgcolor\":\"white\",\"plot_bgcolor\":\"#E5ECF6\",\"polar\":{\"bgcolor\":\"#E5ECF6\",\"angularaxis\":{\"gridcolor\":\"white\",\"linecolor\":\"white\",\"ticks\":\"\"},\"radialaxis\":{\"gridcolor\":\"white\",\"linecolor\":\"white\",\"ticks\":\"\"}},\"ternary\":{\"bgcolor\":\"#E5ECF6\",\"aaxis\":{\"gridcolor\":\"white\",\"linecolor\":\"white\",\"ticks\":\"\"},\"baxis\":{\"gridcolor\":\"white\",\"linecolor\":\"white\",\"ticks\":\"\"},\"caxis\":{\"gridcolor\":\"white\",\"linecolor\":\"white\",\"ticks\":\"\"}},\"coloraxis\":{\"colorbar\":{\"outlinewidth\":0,\"ticks\":\"\"}},\"colorscale\":{\"sequential\":[[0.0,\"#0d0887\"],[0.1111111111111111,\"#46039f\"],[0.2222222222222222,\"#7201a8\"],[0.3333333333333333,\"#9c179e\"],[0.4444444444444444,\"#bd3786\"],[0.5555555555555556,\"#d8576b\"],[0.6666666666666666,\"#ed7953\"],[0.7777777777777778,\"#fb9f3a\"],[0.8888888888888888,\"#fdca26\"],[1.0,\"#f0f921\"]],\"sequentialminus\":[[0.0,\"#0d0887\"],[0.1111111111111111,\"#46039f\"],[0.2222222222222222,\"#7201a8\"],[0.3333333333333333,\"#9c179e\"],[0.4444444444444444,\"#bd3786\"],[0.5555555555555556,\"#d8576b\"],[0.6666666666666666,\"#ed7953\"],[0.7777777777777778,\"#fb9f3a\"],[0.8888888888888888,\"#fdca26\"],[1.0,\"#f0f921\"]],\"diverging\":[[0,\"#8e0152\"],[0.1,\"#c51b7d\"],[0.2,\"#de77ae\"],[0.3,\"#f1b6da\"],[0.4,\"#fde0ef\"],[0.5,\"#f7f7f7\"],[0.6,\"#e6f5d0\"],[0.7,\"#b8e186\"],[0.8,\"#7fbc41\"],[0.9,\"#4d9221\"],[1,\"#276419\"]]},\"xaxis\":{\"gridcolor\":\"white\",\"linecolor\":\"white\",\"ticks\":\"\",\"title\":{\"standoff\":15},\"zerolinecolor\":\"white\",\"automargin\":true,\"zerolinewidth\":2},\"yaxis\":{\"gridcolor\":\"white\",\"linecolor\":\"white\",\"ticks\":\"\",\"title\":{\"standoff\":15},\"zerolinecolor\":\"white\",\"automargin\":true,\"zerolinewidth\":2},\"scene\":{\"xaxis\":{\"backgroundcolor\":\"#E5ECF6\",\"gridcolor\":\"white\",\"linecolor\":\"white\",\"showbackground\":true,\"ticks\":\"\",\"zerolinecolor\":\"white\",\"gridwidth\":2},\"yaxis\":{\"backgroundcolor\":\"#E5ECF6\",\"gridcolor\":\"white\",\"linecolor\":\"white\",\"showbackground\":true,\"ticks\":\"\",\"zerolinecolor\":\"white\",\"gridwidth\":2},\"zaxis\":{\"backgroundcolor\":\"#E5ECF6\",\"gridcolor\":\"white\",\"linecolor\":\"white\",\"showbackground\":true,\"ticks\":\"\",\"zerolinecolor\":\"white\",\"gridwidth\":2}},\"shapedefaults\":{\"line\":{\"color\":\"#2a3f5f\"}},\"annotationdefaults\":{\"arrowcolor\":\"#2a3f5f\",\"arrowhead\":0,\"arrowwidth\":1},\"geo\":{\"bgcolor\":\"white\",\"landcolor\":\"#E5ECF6\",\"subunitcolor\":\"white\",\"showland\":true,\"showlakes\":true,\"lakecolor\":\"white\"},\"title\":{\"x\":0.05},\"mapbox\":{\"style\":\"light\"}}},\"xaxis\":{\"anchor\":\"y\",\"domain\":[0.0,1.0],\"title\":{\"text\":\"Price\"}},\"yaxis\":{\"anchor\":\"x\",\"domain\":[0.0,1.0],\"title\":{\"text\":\"Content Duration\"},\"showticklabels\":false},\"legend\":{\"title\":{\"text\":\"subject\"},\"tracegroupgap\":0},\"margin\":{\"t\":60}},                        {\"responsive\": true}                    ).then(function(){\n",
       "                            \n",
       "var gd = document.getElementById('782a4c4b-64c4-49f8-8ef7-e14885cf32a2');\n",
       "var x = new MutationObserver(function (mutations, observer) {{\n",
       "        var display = window.getComputedStyle(gd).display;\n",
       "        if (!display || display === 'none') {{\n",
       "            console.log([gd, 'removed!']);\n",
       "            Plotly.purge(gd);\n",
       "            observer.disconnect();\n",
       "        }}\n",
       "}});\n",
       "\n",
       "// Listen for the removal of the full notebook cells\n",
       "var notebookContainer = gd.closest('#notebook-container');\n",
       "if (notebookContainer) {{\n",
       "    x.observe(notebookContainer, {childList: true});\n",
       "}}\n",
       "\n",
       "// Listen for the clearing of the current output cell\n",
       "var outputEl = gd.closest('.output');\n",
       "if (outputEl) {{\n",
       "    x.observe(outputEl, {childList: true});\n",
       "}}\n",
       "\n",
       "                        })                };                });            </script>        </div>"
      ]
     },
     "metadata": {},
     "output_type": "display_data"
    }
   ],
   "source": [
    "fig = px.scatter(df,x = df['price'], y = df['content_duration'],\n",
    "           hover_data = ['course_title'],color=df[\"subject\"])\n",
    "\n",
    "fig.update_xaxes(title='Price')\n",
    "fig.update_yaxes(title='Content Duration',showticklabels=False)\n",
    "fig.show()"
   ]
  },
  {
   "cell_type": "markdown",
   "id": "52db5e9a",
   "metadata": {},
   "source": [
    "# To do"
   ]
  },
  {
   "cell_type": "markdown",
   "id": "8964dbc5",
   "metadata": {},
   "source": [
    "## Model"
   ]
  },
  {
   "cell_type": "code",
   "execution_count": null,
   "id": "a8a13ba6",
   "metadata": {},
   "outputs": [],
   "source": [
    "# Build a random Forest Classifer to predict which course will be Paid for or Not"
   ]
  },
  {
   "cell_type": "code",
   "execution_count": 25,
   "id": "331d99f0",
   "metadata": {},
   "outputs": [],
   "source": [
    "# Measure performance using a confusion matrix "
   ]
  }
 ],
 "metadata": {
  "hide_input": false,
  "kernelspec": {
   "display_name": "Python 3 (ipykernel)",
   "language": "python",
   "name": "python3"
  },
  "language_info": {
   "codemirror_mode": {
    "name": "ipython",
    "version": 3
   },
   "file_extension": ".py",
   "mimetype": "text/x-python",
   "name": "python",
   "nbconvert_exporter": "python",
   "pygments_lexer": "ipython3",
   "version": "3.9.12"
  },
  "toc": {
   "base_numbering": 1,
   "nav_menu": {},
   "number_sections": true,
   "sideBar": true,
   "skip_h1_title": false,
   "title_cell": "Table of Contents",
   "title_sidebar": "Contents",
   "toc_cell": false,
   "toc_position": {},
   "toc_section_display": true,
   "toc_window_display": false
  }
 },
 "nbformat": 4,
 "nbformat_minor": 5
}
